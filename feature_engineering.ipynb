{
 "cells": [
  {
   "cell_type": "markdown",
   "id": "fossil-worship",
   "metadata": {},
   "source": [
    "# Feature Engineering\n",
    "\n",
    "In this notebook, I will focus on feature engineering and seeing how that may improve the performance of the LightGBM model I am currently working on.\n",
    "\n",
    "## Potential Models to Submit\n",
    "\n",
    "1. LGBM, all features, OHE of cat variables, on X scores: 0.7994213376003929. Submission score: 0.7306\n",
    "2. LGBM, all features, OHE of cat variables + geo_level_1_id, on X scores: 0.7989033042850949. Submission score: 0.7319\n",
    "\n",
    "Well this isn't good... now my model evaluation technique is no longer reliable. Model 2 scored lower on my evaluation but actually higher in real-life... "
   ]
  },
  {
   "cell_type": "code",
   "execution_count": 34,
   "id": "broadband-corner",
   "metadata": {
    "ExecuteTime": {
     "end_time": "2021-02-10T14:14:40.543237Z",
     "start_time": "2021-02-10T14:14:39.380816Z"
    }
   },
   "outputs": [],
   "source": [
    "import matplotlib.pyplot as plt\n",
    "import seaborn as sns\n",
    "import numpy as np\n",
    "import pandas as pd\n",
    "import pickle\n",
    "import lightgbm as lgb\n",
    "\n",
    "from pathlib import Path\n",
    "from lightgbm import LGBMClassifier\n",
    "from pprint import pprint\n",
    "\n",
    "from sklearn.compose import ColumnTransformer\n",
    "from sklearn.feature_selection import SelectFromModel\n",
    "from sklearn.metrics import mean_squared_error, f1_score\n",
    "from sklearn.pipeline import Pipeline\n",
    "from sklearn.preprocessing import StandardScaler, OneHotEncoder\n",
    "from sklearn.model_selection import KFold, train_test_split, RandomizedSearchCV \n",
    "from sklearn.model_selection import cross_val_score, StratifiedKFold, GridSearchCV\n",
    "\n",
    "############ USE FOR GOOGLE COLAB ############\n",
    "# DATA_DIR = Path('/content/drive/MyDrive/Work/Delivery/Current/Earthquake_damage/data')\n",
    "# SUBMISSIONS_DIR = Path('drive/MyDrive/Work/Delivery/Current/Earthquake_damage/submissions')\n",
    "# MODEL_DIR = Path('/content/drive/MyDrive/Work/Delivery/Current/Earthquake_damage/models')\n",
    "# MY_DATA_DIR = PATH('/content/drive/MyDrive/Work/Delivery/Current/Earthquake_damage/my_data')\n",
    "\n",
    "# from google.colab import drive\n",
    "# drive.mount('/content/drive')\n",
    "#############################################\n",
    "\n",
    "\n",
    "### USE FOR LOCAL JUPYTER NOTEBOOKS ###\n",
    "DATA_DIR = Path('data')\n",
    "SUBMISSIONS_DIR = Path('submissions')\n",
    "MODEL_DIR = Path('models')\n",
    "MY_DATA_DIR = Path('my_data')\n",
    "#######################################\n",
    "\n",
    "# The code runs the same if working on Jupyter or Colab, just need to change the \n",
    "# dirs above\n",
    "\n",
    "X = pd.read_csv(DATA_DIR / 'train_values.csv', index_col='building_id')\n",
    "\n",
    "categorical_columns = X.select_dtypes(include='object').columns\n",
    "bool_columns = [col for col in X.columns if col.startswith('has')]\n",
    "X[categorical_columns] = X[categorical_columns].astype('category')\n",
    "X[bool_columns] = X[bool_columns].astype('bool')\n",
    "\n",
    "# X = pd.get_dummies(X)\n",
    "y = pd.read_csv(DATA_DIR / 'train_labels.csv', index_col='building_id')\n",
    "\n",
    "lgbm_hyperparams = {'num_leaves': 120,\n",
    "                    'n_estimators': 240,\n",
    "                    'min_child_samples': 40,\n",
    "                    'learning_rate': 0.2,\n",
    "                    'boosting_type': 'goss'}"
   ]
  },
  {
   "cell_type": "code",
   "execution_count": 3,
   "id": "hired-people",
   "metadata": {
    "ExecuteTime": {
     "end_time": "2021-02-10T13:10:02.223758Z",
     "start_time": "2021-02-10T13:10:02.221256Z"
    }
   },
   "outputs": [],
   "source": [
    "sns.set()"
   ]
  },
  {
   "cell_type": "code",
   "execution_count": 4,
   "id": "fourth-national",
   "metadata": {
    "ExecuteTime": {
     "end_time": "2021-02-10T13:10:03.553730Z",
     "start_time": "2021-02-10T13:10:03.547091Z"
    }
   },
   "outputs": [],
   "source": [
    "def make_submission(pipeline, title):\n",
    "    \"\"\"\n",
    "    Given a trained pipeline object, use it to make predictions on the \n",
    "    submission test set 'test_values.csv' and write them a csv in the submissions\n",
    "    folder.\n",
    "    \"\"\"\n",
    "    # Read in test_values csv and apply data preprocessing\n",
    "    # note: will create a data preprocessing pipeline or function in future\n",
    "    test_values = pd.read_csv(DATA_DIR / 'test_values.csv', index_col='building_id')\n",
    "    test_values[categorical_columns] = test_values[categorical_columns].astype('category')\n",
    "    test_values[bool_columns] = test_values[bool_columns].astype('bool')\n",
    "\n",
    "    # Generate predictions using pipeline we pass in\n",
    "    predictions = pipeline.predict(test_values)\n",
    "\n",
    "    submission_format = pd.read_csv(DATA_DIR / 'submission_format.csv',\n",
    "                                    index_col='building_id')\n",
    "\n",
    "    my_submission = pd.DataFrame(data=predictions,\n",
    "                                columns=submission_format.columns,\n",
    "                                index=submission_format.index)\n",
    "    \n",
    "    my_submission.to_csv(SUBMISSIONS_DIR / f'{title}.csv')"
   ]
  },
  {
   "cell_type": "code",
   "execution_count": 5,
   "id": "historic-omega",
   "metadata": {
    "ExecuteTime": {
     "end_time": "2021-02-10T13:10:07.025223Z",
     "start_time": "2021-02-10T13:10:06.079843Z"
    }
   },
   "outputs": [],
   "source": [
    "X_train, X_val, y_train, y_val = train_test_split(X, y, test_size=0.33,\n",
    "                                                  random_state=42, stratify=y,\n",
    "                                                  shuffle=True)"
   ]
  },
  {
   "cell_type": "code",
   "execution_count": 3,
   "id": "flying-miller",
   "metadata": {
    "ExecuteTime": {
     "end_time": "2021-02-09T13:15:35.381386Z",
     "start_time": "2021-02-09T13:15:35.339812Z"
    }
   },
   "outputs": [
    {
     "data": {
      "text/html": [
       "<div>\n",
       "<style scoped>\n",
       "    .dataframe tbody tr th:only-of-type {\n",
       "        vertical-align: middle;\n",
       "    }\n",
       "\n",
       "    .dataframe tbody tr th {\n",
       "        vertical-align: top;\n",
       "    }\n",
       "\n",
       "    .dataframe thead th {\n",
       "        text-align: right;\n",
       "    }\n",
       "</style>\n",
       "<table border=\"1\" class=\"dataframe\">\n",
       "  <thead>\n",
       "    <tr style=\"text-align: right;\">\n",
       "      <th></th>\n",
       "      <th>geo_level_1_id</th>\n",
       "      <th>geo_level_2_id</th>\n",
       "      <th>geo_level_3_id</th>\n",
       "      <th>count_floors_pre_eq</th>\n",
       "      <th>age</th>\n",
       "      <th>area_percentage</th>\n",
       "      <th>height_percentage</th>\n",
       "      <th>land_surface_condition</th>\n",
       "      <th>foundation_type</th>\n",
       "      <th>roof_type</th>\n",
       "      <th>...</th>\n",
       "      <th>has_secondary_use_agriculture</th>\n",
       "      <th>has_secondary_use_hotel</th>\n",
       "      <th>has_secondary_use_rental</th>\n",
       "      <th>has_secondary_use_institution</th>\n",
       "      <th>has_secondary_use_school</th>\n",
       "      <th>has_secondary_use_industry</th>\n",
       "      <th>has_secondary_use_health_post</th>\n",
       "      <th>has_secondary_use_gov_office</th>\n",
       "      <th>has_secondary_use_use_police</th>\n",
       "      <th>has_secondary_use_other</th>\n",
       "    </tr>\n",
       "    <tr>\n",
       "      <th>building_id</th>\n",
       "      <th></th>\n",
       "      <th></th>\n",
       "      <th></th>\n",
       "      <th></th>\n",
       "      <th></th>\n",
       "      <th></th>\n",
       "      <th></th>\n",
       "      <th></th>\n",
       "      <th></th>\n",
       "      <th></th>\n",
       "      <th></th>\n",
       "      <th></th>\n",
       "      <th></th>\n",
       "      <th></th>\n",
       "      <th></th>\n",
       "      <th></th>\n",
       "      <th></th>\n",
       "      <th></th>\n",
       "      <th></th>\n",
       "      <th></th>\n",
       "      <th></th>\n",
       "    </tr>\n",
       "  </thead>\n",
       "  <tbody>\n",
       "    <tr>\n",
       "      <th>802906</th>\n",
       "      <td>6</td>\n",
       "      <td>487</td>\n",
       "      <td>12198</td>\n",
       "      <td>2</td>\n",
       "      <td>30</td>\n",
       "      <td>6</td>\n",
       "      <td>5</td>\n",
       "      <td>t</td>\n",
       "      <td>r</td>\n",
       "      <td>n</td>\n",
       "      <td>...</td>\n",
       "      <td>False</td>\n",
       "      <td>False</td>\n",
       "      <td>False</td>\n",
       "      <td>False</td>\n",
       "      <td>False</td>\n",
       "      <td>False</td>\n",
       "      <td>False</td>\n",
       "      <td>False</td>\n",
       "      <td>False</td>\n",
       "      <td>False</td>\n",
       "    </tr>\n",
       "    <tr>\n",
       "      <th>28830</th>\n",
       "      <td>8</td>\n",
       "      <td>900</td>\n",
       "      <td>2812</td>\n",
       "      <td>2</td>\n",
       "      <td>10</td>\n",
       "      <td>8</td>\n",
       "      <td>7</td>\n",
       "      <td>o</td>\n",
       "      <td>r</td>\n",
       "      <td>n</td>\n",
       "      <td>...</td>\n",
       "      <td>False</td>\n",
       "      <td>False</td>\n",
       "      <td>False</td>\n",
       "      <td>False</td>\n",
       "      <td>False</td>\n",
       "      <td>False</td>\n",
       "      <td>False</td>\n",
       "      <td>False</td>\n",
       "      <td>False</td>\n",
       "      <td>False</td>\n",
       "    </tr>\n",
       "    <tr>\n",
       "      <th>94947</th>\n",
       "      <td>21</td>\n",
       "      <td>363</td>\n",
       "      <td>8973</td>\n",
       "      <td>2</td>\n",
       "      <td>10</td>\n",
       "      <td>5</td>\n",
       "      <td>5</td>\n",
       "      <td>t</td>\n",
       "      <td>r</td>\n",
       "      <td>n</td>\n",
       "      <td>...</td>\n",
       "      <td>False</td>\n",
       "      <td>False</td>\n",
       "      <td>False</td>\n",
       "      <td>False</td>\n",
       "      <td>False</td>\n",
       "      <td>False</td>\n",
       "      <td>False</td>\n",
       "      <td>False</td>\n",
       "      <td>False</td>\n",
       "      <td>False</td>\n",
       "    </tr>\n",
       "    <tr>\n",
       "      <th>590882</th>\n",
       "      <td>22</td>\n",
       "      <td>418</td>\n",
       "      <td>10694</td>\n",
       "      <td>2</td>\n",
       "      <td>10</td>\n",
       "      <td>6</td>\n",
       "      <td>5</td>\n",
       "      <td>t</td>\n",
       "      <td>r</td>\n",
       "      <td>n</td>\n",
       "      <td>...</td>\n",
       "      <td>False</td>\n",
       "      <td>False</td>\n",
       "      <td>False</td>\n",
       "      <td>False</td>\n",
       "      <td>False</td>\n",
       "      <td>False</td>\n",
       "      <td>False</td>\n",
       "      <td>False</td>\n",
       "      <td>False</td>\n",
       "      <td>False</td>\n",
       "    </tr>\n",
       "    <tr>\n",
       "      <th>201944</th>\n",
       "      <td>11</td>\n",
       "      <td>131</td>\n",
       "      <td>1488</td>\n",
       "      <td>3</td>\n",
       "      <td>30</td>\n",
       "      <td>8</td>\n",
       "      <td>9</td>\n",
       "      <td>t</td>\n",
       "      <td>r</td>\n",
       "      <td>n</td>\n",
       "      <td>...</td>\n",
       "      <td>False</td>\n",
       "      <td>False</td>\n",
       "      <td>False</td>\n",
       "      <td>False</td>\n",
       "      <td>False</td>\n",
       "      <td>False</td>\n",
       "      <td>False</td>\n",
       "      <td>False</td>\n",
       "      <td>False</td>\n",
       "      <td>False</td>\n",
       "    </tr>\n",
       "  </tbody>\n",
       "</table>\n",
       "<p>5 rows × 38 columns</p>\n",
       "</div>"
      ],
      "text/plain": [
       "             geo_level_1_id  geo_level_2_id  geo_level_3_id  \\\n",
       "building_id                                                   \n",
       "802906                    6             487           12198   \n",
       "28830                     8             900            2812   \n",
       "94947                    21             363            8973   \n",
       "590882                   22             418           10694   \n",
       "201944                   11             131            1488   \n",
       "\n",
       "             count_floors_pre_eq  age  area_percentage  height_percentage  \\\n",
       "building_id                                                                 \n",
       "802906                         2   30                6                  5   \n",
       "28830                          2   10                8                  7   \n",
       "94947                          2   10                5                  5   \n",
       "590882                         2   10                6                  5   \n",
       "201944                         3   30                8                  9   \n",
       "\n",
       "            land_surface_condition foundation_type roof_type  ...  \\\n",
       "building_id                                                   ...   \n",
       "802906                           t               r         n  ...   \n",
       "28830                            o               r         n  ...   \n",
       "94947                            t               r         n  ...   \n",
       "590882                           t               r         n  ...   \n",
       "201944                           t               r         n  ...   \n",
       "\n",
       "            has_secondary_use_agriculture has_secondary_use_hotel  \\\n",
       "building_id                                                         \n",
       "802906                              False                   False   \n",
       "28830                               False                   False   \n",
       "94947                               False                   False   \n",
       "590882                              False                   False   \n",
       "201944                              False                   False   \n",
       "\n",
       "            has_secondary_use_rental has_secondary_use_institution  \\\n",
       "building_id                                                          \n",
       "802906                         False                         False   \n",
       "28830                          False                         False   \n",
       "94947                          False                         False   \n",
       "590882                         False                         False   \n",
       "201944                         False                         False   \n",
       "\n",
       "             has_secondary_use_school  has_secondary_use_industry  \\\n",
       "building_id                                                         \n",
       "802906                          False                       False   \n",
       "28830                           False                       False   \n",
       "94947                           False                       False   \n",
       "590882                          False                       False   \n",
       "201944                          False                       False   \n",
       "\n",
       "             has_secondary_use_health_post  has_secondary_use_gov_office  \\\n",
       "building_id                                                                \n",
       "802906                               False                         False   \n",
       "28830                                False                         False   \n",
       "94947                                False                         False   \n",
       "590882                               False                         False   \n",
       "201944                               False                         False   \n",
       "\n",
       "             has_secondary_use_use_police  has_secondary_use_other  \n",
       "building_id                                                         \n",
       "802906                              False                    False  \n",
       "28830                               False                    False  \n",
       "94947                               False                    False  \n",
       "590882                              False                    False  \n",
       "201944                              False                    False  \n",
       "\n",
       "[5 rows x 38 columns]"
      ]
     },
     "execution_count": 3,
     "metadata": {},
     "output_type": "execute_result"
    }
   ],
   "source": [
    "X.head()"
   ]
  },
  {
   "cell_type": "markdown",
   "id": "anonymous-somalia",
   "metadata": {},
   "source": [
    "## Function to test which categorical variables to encode"
   ]
  },
  {
   "cell_type": "code",
   "execution_count": 42,
   "id": "irish-pierre",
   "metadata": {
    "ExecuteTime": {
     "end_time": "2021-02-09T15:45:25.380665Z",
     "start_time": "2021-02-09T15:45:25.374180Z"
    }
   },
   "outputs": [],
   "source": [
    "def lgbm_vary_categorical_variables(categorical_columns):\n",
    "    \"\"\"\n",
    "    Build a LGBM model using the best hyperparameters we have (as of 09/02/21)\n",
    "    and vary which columns are one-hot encoded.\n",
    "    \n",
    "    Pass the columns you wish to OHE as cat_variables.\n",
    "    \"\"\"\n",
    "    t = [('ohe', OneHotEncoder(), categorical_columns)]\n",
    "    ct = ColumnTransformer(transformers=t, remainder='passthrough')\n",
    "\n",
    "    lgbm_hyperparams = {'num_leaves': 120,\n",
    "                        'n_estimators': 240,\n",
    "                        'min_child_samples': 40,\n",
    "                        'learning_rate': 0.2,\n",
    "                        'boosting_type': 'goss'}\n",
    "\n",
    "    steps = [('ct', ct),\n",
    "             ('lgbm', LGBMClassifier(**lgbm_hyperparams))]\n",
    "\n",
    "    pipe = Pipeline(steps)\n",
    "    pipe.fit(X, np.ravel(y))\n",
    "    \n",
    "    y_pred_X = pipe.predict(X)\n",
    "    y_pred_X_val = pipe.predict(X_val)\n",
    "    \n",
    "    f1_score_X = f1_score(y, y_pred_X, average='micro')\n",
    "    f1_score_X_val = f1_score(y_val, y_pred_X_val, average='micro')\n",
    "    \n",
    "    print('F1 score on X:    ', f1_score_X)\n",
    "    print('F1 score on X_val:', f1_score_X_val)\n",
    "    \n",
    "    return pipe"
   ]
  },
  {
   "cell_type": "markdown",
   "id": "completed-collector",
   "metadata": {},
   "source": [
    "## Encode all categorical features as categorical and make Pipeline"
   ]
  },
  {
   "cell_type": "code",
   "execution_count": 18,
   "id": "proper-sense",
   "metadata": {
    "ExecuteTime": {
     "end_time": "2021-02-09T13:53:24.577657Z",
     "start_time": "2021-02-09T13:53:01.561356Z"
    }
   },
   "outputs": [
    {
     "name": "stdout",
     "output_type": "stream",
     "text": [
      "F1 score on X:     0.7994213376003929\n",
      "F1 score on X_val: 0.8013930394539471\n"
     ]
    }
   ],
   "source": [
    "lgbm_cat_cols = lgbm_vary_categorical_variables(categorical_columns)"
   ]
  },
  {
   "cell_type": "code",
   "execution_count": 59,
   "id": "vulnerable-rainbow",
   "metadata": {
    "ExecuteTime": {
     "end_time": "2021-02-09T16:11:02.123906Z",
     "start_time": "2021-02-09T16:10:59.522964Z"
    }
   },
   "outputs": [],
   "source": [
    "make_submission(lgbm_cat_cols, '09-02 LGBM all features, lgbm_02_02 hyperparameters')"
   ]
  },
  {
   "cell_type": "markdown",
   "id": "worth-staff",
   "metadata": {},
   "source": [
    "## Encode geo_level_1_id as categorical"
   ]
  },
  {
   "cell_type": "code",
   "execution_count": 13,
   "id": "average-consumer",
   "metadata": {
    "ExecuteTime": {
     "end_time": "2021-02-09T13:42:36.365874Z",
     "start_time": "2021-02-09T13:42:36.348257Z"
    }
   },
   "outputs": [
    {
     "data": {
      "text/plain": [
       "Index(['geo_level_1_id', 'land_surface_condition', 'foundation_type',\n",
       "       'roof_type', 'ground_floor_type', 'other_floor_type', 'position',\n",
       "       'plan_configuration', 'legal_ownership_status'],\n",
       "      dtype='object')"
      ]
     },
     "execution_count": 13,
     "metadata": {},
     "output_type": "execute_result"
    }
   ],
   "source": [
    "cat_cols_plus_geo_1 = categorical_columns.insert(0, 'geo_level_1_id')\n",
    "cat_cols_plus_geo_1"
   ]
  },
  {
   "cell_type": "code",
   "execution_count": 19,
   "id": "victorian-durham",
   "metadata": {
    "ExecuteTime": {
     "end_time": "2021-02-09T13:54:30.511670Z",
     "start_time": "2021-02-09T13:54:04.226873Z"
    }
   },
   "outputs": [
    {
     "name": "stdout",
     "output_type": "stream",
     "text": [
      "F1 score on X:     0.7989033042850949\n",
      "F1 score on X_val: 0.7994046442400493\n"
     ]
    }
   ],
   "source": [
    "lgbm_plus_geo_1 = lgbm_vary_categorical_variables(cat_cols_plus_geo_1)"
   ]
  },
  {
   "cell_type": "code",
   "execution_count": 61,
   "id": "czech-pendant",
   "metadata": {
    "ExecuteTime": {
     "end_time": "2021-02-09T16:12:03.240333Z",
     "start_time": "2021-02-09T16:12:00.055707Z"
    }
   },
   "outputs": [],
   "source": [
    "make_submission(lgbm_plus_geo_1, '09-02 LGBM all features, geo_level_1_id OHE, lgbm_02_02 hyperparameters')"
   ]
  },
  {
   "cell_type": "markdown",
   "id": "canadian-complaint",
   "metadata": {},
   "source": [
    "## Encode first two geo_levels as categorical"
   ]
  },
  {
   "cell_type": "code",
   "execution_count": 55,
   "id": "solid-munich",
   "metadata": {
    "ExecuteTime": {
     "end_time": "2021-02-09T16:05:10.446238Z",
     "start_time": "2021-02-09T16:05:10.443901Z"
    }
   },
   "outputs": [],
   "source": [
    "cat_cols_plus_2_geos = ['geo_level_1_id', 'geo_level_2_id',\n",
    "                          'land_surface_condition', 'foundation_type',\n",
    "                           'roof_type', 'ground_floor_type', 'other_floor_type', \n",
    "                          'position','plan_configuration', 'legal_ownership_status']"
   ]
  },
  {
   "cell_type": "code",
   "execution_count": 56,
   "id": "changing-private",
   "metadata": {
    "ExecuteTime": {
     "end_time": "2021-02-09T16:06:01.762228Z",
     "start_time": "2021-02-09T16:05:23.891116Z"
    }
   },
   "outputs": [
    {
     "name": "stdout",
     "output_type": "stream",
     "text": [
      "F1 score on X:     0.789739870530044\n",
      "F1 score on X_val: 0.7910440819079292\n"
     ]
    }
   ],
   "source": [
    "lgbm_plus_2_geos = lgbm_vary_categorical_variables(cat_cols_plus_2_geos)"
   ]
  },
  {
   "cell_type": "markdown",
   "id": "defined-prisoner",
   "metadata": {},
   "source": [
    "## Encode all geo_levels as categorical\n",
    "\n",
    "This doesn't help, actually makes it worse. Perhaps because we are splitting it into THOUSANDS of different features?"
   ]
  },
  {
   "cell_type": "code",
   "execution_count": 33,
   "id": "twelve-alcohol",
   "metadata": {
    "ExecuteTime": {
     "end_time": "2021-02-09T14:15:58.502484Z",
     "start_time": "2021-02-09T14:15:58.499287Z"
    }
   },
   "outputs": [],
   "source": [
    "cat_cols_plus_all_geos = ['geo_level_1_id', 'geo_level_2_id', 'geo_level_3_id',\n",
    "                          'land_surface_condition', 'foundation_type',\n",
    "                           'roof_type', 'ground_floor_type', 'other_floor_type', \n",
    "                          'position','plan_configuration', 'legal_ownership_status']"
   ]
  },
  {
   "cell_type": "code",
   "execution_count": 34,
   "id": "buried-latino",
   "metadata": {
    "ExecuteTime": {
     "end_time": "2021-02-09T14:17:46.237283Z",
     "start_time": "2021-02-09T14:16:14.885204Z"
    }
   },
   "outputs": [
    {
     "name": "stdout",
     "output_type": "stream",
     "text": [
      "F1 score on X:     0.7771497423263917\n",
      "F1 score on X_val: 0.7790555704136095\n"
     ]
    }
   ],
   "source": [
    "lgbm_plus_all_geos = lgbm_vary_categorical_variables(cat_cols_plus_all_geos)"
   ]
  },
  {
   "cell_type": "markdown",
   "id": "northern-comment",
   "metadata": {},
   "source": [
    "## Geo level 1 with top 14 features"
   ]
  },
  {
   "cell_type": "code",
   "execution_count": 44,
   "id": "studied-aquatic",
   "metadata": {
    "ExecuteTime": {
     "end_time": "2021-02-09T15:46:43.611533Z",
     "start_time": "2021-02-09T15:46:43.533434Z"
    }
   },
   "outputs": [],
   "source": [
    "X_dummies = pd.get_dummies(X)"
   ]
  },
  {
   "cell_type": "code",
   "execution_count": 48,
   "id": "competitive-dominican",
   "metadata": {
    "ExecuteTime": {
     "end_time": "2021-02-09T15:49:37.053704Z",
     "start_time": "2021-02-09T15:49:37.044939Z"
    }
   },
   "outputs": [
    {
     "data": {
      "text/plain": [
       "False"
      ]
     },
     "execution_count": 48,
     "metadata": {},
     "output_type": "execute_result"
    }
   ],
   "source": [
    "any(elem in categorical_columns for elem in top_14_features)"
   ]
  },
  {
   "cell_type": "code",
   "execution_count": 46,
   "id": "appropriate-ethernet",
   "metadata": {
    "ExecuteTime": {
     "end_time": "2021-02-09T15:46:53.370200Z",
     "start_time": "2021-02-09T15:46:53.327677Z"
    }
   },
   "outputs": [
    {
     "name": "stdout",
     "output_type": "stream",
     "text": [
      "<class 'pandas.core.frame.DataFrame'>\n",
      "Int64Index: 260601 entries, 802906 to 747594\n",
      "Data columns (total 14 columns):\n",
      " #   Column                                  Non-Null Count   Dtype\n",
      "---  ------                                  --------------   -----\n",
      " 0   geo_level_1_id                          260601 non-null  int64\n",
      " 1   geo_level_2_id                          260601 non-null  int64\n",
      " 2   geo_level_3_id                          260601 non-null  int64\n",
      " 3   count_floors_pre_eq                     260601 non-null  int64\n",
      " 4   age                                     260601 non-null  int64\n",
      " 5   area_percentage                         260601 non-null  int64\n",
      " 6   height_percentage                       260601 non-null  int64\n",
      " 7   has_superstructure_mud_mortar_stone     260601 non-null  bool \n",
      " 8   has_superstructure_stone_flag           260601 non-null  bool \n",
      " 9   has_superstructure_mud_mortar_brick     260601 non-null  bool \n",
      " 10  has_superstructure_cement_mortar_brick  260601 non-null  bool \n",
      " 11  has_superstructure_timber               260601 non-null  bool \n",
      " 12  count_families                          260601 non-null  int64\n",
      " 13  other_floor_type_q                      260601 non-null  uint8\n",
      "dtypes: bool(5), int64(8), uint8(1)\n",
      "memory usage: 27.4 MB\n"
     ]
    }
   ],
   "source": [
    "X_dummies[top_14_features]"
   ]
  },
  {
   "cell_type": "code",
   "execution_count": 35,
   "id": "boolean-baptist",
   "metadata": {
    "ExecuteTime": {
     "end_time": "2021-02-09T14:17:46.548510Z",
     "start_time": "2021-02-09T14:17:46.545709Z"
    }
   },
   "outputs": [],
   "source": [
    "top_14_features = ['geo_level_1_id', 'geo_level_2_id', 'geo_level_3_id', \n",
    "                    'count_floors_pre_eq', 'age'\t, 'area_percentage'\t, \n",
    "                    'height_percentage', \n",
    "                    'has_superstructure_mud_mortar_stone',\n",
    "                    'has_superstructure_stone_flag', \n",
    "                    'has_superstructure_mud_mortar_brick',\n",
    "                    'has_superstructure_cement_mortar_brick',\n",
    "                    'has_superstructure_timber', 'count_families',\n",
    "                    'other_floor_type_q']"
   ]
  },
  {
   "cell_type": "code",
   "execution_count": 49,
   "id": "following-introduction",
   "metadata": {
    "ExecuteTime": {
     "end_time": "2021-02-09T15:59:24.901523Z",
     "start_time": "2021-02-09T15:59:24.894542Z"
    }
   },
   "outputs": [],
   "source": [
    "def lgbm_encoded_geo_level_variables_with_top_14_features(geo_level_id_cols, X, y):\n",
    "    \"\"\"\n",
    "    Build LGBM classifier using the top_14_features subset and a custom\n",
    "    number of columns you want to make categorical. The only columns to choose\n",
    "    from are the geo_level_i_id columns (since all other categorical cols are\n",
    "    not included in the top_14_features list).\n",
    "    \n",
    "    This is to test how many of the geo_level_i_id columns should be one hot encoded\n",
    "    \"\"\"\n",
    "    X = pd.get_dummies(X)\n",
    "    X = X[top_14_features]\n",
    "    \n",
    "    X_train, X_val, y_train, y_val = train_test_split(X, y, test_size=0.33,\n",
    "                                                      random_state=42, stratify=y,\n",
    "                                                      shuffle=True)\n",
    "\n",
    "    lgbm_hyperparams = {'num_leaves': 120,\n",
    "                        'n_estimators': 240,\n",
    "                        'min_child_samples': 40,\n",
    "                        'learning_rate': 0.2,\n",
    "                        'boosting_type': 'goss'}\n",
    "    \n",
    "    t = [('ohe', OneHotEncoder(), geo_level_id_cols)]\n",
    "\n",
    "    steps = [('ct', ColumnTransformer(transformers=t, remainder='passthrough')),\n",
    "             ('lgbm', LGBMClassifier(**lgbm_hyperparams))]\n",
    "\n",
    "    pipe = Pipeline(steps)\n",
    "    pipe.fit(X, np.ravel(y))\n",
    "    \n",
    "    y_pred_X = pipe.predict(X)\n",
    "    y_pred_X_val = pipe.predict(X_val)\n",
    "    \n",
    "    f1_score_X = f1_score(y, y_pred_X, average='micro')\n",
    "    f1_score_X_val = f1_score(y_val, y_pred_X_val, average='micro')\n",
    "    \n",
    "    print('F1 score on X:    ', f1_score_X)\n",
    "    print('F1 score on X_val:', f1_score_X_val)\n",
    "    \n",
    "    return pipe"
   ]
  },
  {
   "cell_type": "code",
   "execution_count": 51,
   "id": "swedish-manhattan",
   "metadata": {
    "ExecuteTime": {
     "end_time": "2021-02-09T16:00:47.939147Z",
     "start_time": "2021-02-09T16:00:31.049817Z"
    }
   },
   "outputs": [
    {
     "name": "stdout",
     "output_type": "stream",
     "text": [
      "F1 score on X:     0.7875104086323538\n",
      "F1 score on X_val: 0.7891952232002698\n"
     ]
    },
    {
     "data": {
      "text/plain": [
       "Pipeline(steps=[('ct',\n",
       "                 ColumnTransformer(remainder='passthrough',\n",
       "                                   transformers=[('ohe', OneHotEncoder(),\n",
       "                                                  [])])),\n",
       "                ('lgbm',\n",
       "                 LGBMClassifier(boosting_type='goss', learning_rate=0.2,\n",
       "                                min_child_samples=40, n_estimators=240,\n",
       "                                num_leaves=120))])"
      ]
     },
     "execution_count": 51,
     "metadata": {},
     "output_type": "execute_result"
    }
   ],
   "source": [
    "lgbm_encoded_geo_level_variables_with_top_14_features([], X, y)"
   ]
  },
  {
   "cell_type": "code",
   "execution_count": 50,
   "id": "associate-ferry",
   "metadata": {
    "ExecuteTime": {
     "end_time": "2021-02-09T16:00:10.874064Z",
     "start_time": "2021-02-09T15:59:50.823644Z"
    }
   },
   "outputs": [
    {
     "name": "stdout",
     "output_type": "stream",
     "text": [
      "F1 score on X:     0.786236430405102\n",
      "F1 score on X_val: 0.7876835777160199\n"
     ]
    },
    {
     "data": {
      "text/plain": [
       "Pipeline(steps=[('ct',\n",
       "                 ColumnTransformer(remainder='passthrough',\n",
       "                                   transformers=[('ohe', OneHotEncoder(),\n",
       "                                                  ['geo_level_1_id'])])),\n",
       "                ('lgbm',\n",
       "                 LGBMClassifier(boosting_type='goss', learning_rate=0.2,\n",
       "                                min_child_samples=40, n_estimators=240,\n",
       "                                num_leaves=120))])"
      ]
     },
     "execution_count": 50,
     "metadata": {},
     "output_type": "execute_result"
    }
   ],
   "source": [
    "lgbm_encoded_geo_level_variables_with_top_14_features(['geo_level_1_id'], X, y)"
   ]
  },
  {
   "cell_type": "code",
   "execution_count": 53,
   "id": "enabling-delight",
   "metadata": {
    "ExecuteTime": {
     "end_time": "2021-02-09T16:02:54.230799Z",
     "start_time": "2021-02-09T16:02:16.623003Z"
    }
   },
   "outputs": [
    {
     "name": "stdout",
     "output_type": "stream",
     "text": [
      "F1 score on X:     0.7754306391763655\n",
      "F1 score on X_val: 0.7773927603809345\n"
     ]
    },
    {
     "data": {
      "text/plain": [
       "Pipeline(steps=[('ct',\n",
       "                 ColumnTransformer(remainder='passthrough',\n",
       "                                   transformers=[('ohe', OneHotEncoder(),\n",
       "                                                  ['geo_level_1_id',\n",
       "                                                   'geo_level_2_id'])])),\n",
       "                ('lgbm',\n",
       "                 LGBMClassifier(boosting_type='goss', learning_rate=0.2,\n",
       "                                min_child_samples=40, n_estimators=240,\n",
       "                                num_leaves=120))])"
      ]
     },
     "execution_count": 53,
     "metadata": {},
     "output_type": "execute_result"
    }
   ],
   "source": [
    "geo_level_id_cols = ['geo_level_1_id', 'geo_level_2_id']\n",
    "lgbm_encoded_geo_level_variables_with_top_14_features(geo_level_id_cols, X, y)"
   ]
  },
  {
   "cell_type": "code",
   "execution_count": 52,
   "id": "enhanced-gentleman",
   "metadata": {
    "ExecuteTime": {
     "end_time": "2021-02-09T16:02:16.005384Z",
     "start_time": "2021-02-09T16:01:22.748108Z"
    }
   },
   "outputs": [
    {
     "name": "stdout",
     "output_type": "stream",
     "text": [
      "F1 score on X:     0.7621804981561852\n",
      "F1 score on X_val: 0.7637530668961267\n"
     ]
    },
    {
     "data": {
      "text/plain": [
       "Pipeline(steps=[('ct',\n",
       "                 ColumnTransformer(remainder='passthrough',\n",
       "                                   transformers=[('ohe', OneHotEncoder(),\n",
       "                                                  ['geo_level_1_id',\n",
       "                                                   'geo_level_2_id',\n",
       "                                                   'geo_level_3_id'])])),\n",
       "                ('lgbm',\n",
       "                 LGBMClassifier(boosting_type='goss', learning_rate=0.2,\n",
       "                                min_child_samples=40, n_estimators=240,\n",
       "                                num_leaves=120))])"
      ]
     },
     "execution_count": 52,
     "metadata": {},
     "output_type": "execute_result"
    }
   ],
   "source": [
    "geo_level_id_cols = ['geo_level_1_id', 'geo_level_2_id', 'geo_level_3_id']\n",
    "lgbm_encoded_geo_level_variables_with_top_14_features(geo_level_id_cols, X, y)"
   ]
  },
  {
   "cell_type": "markdown",
   "id": "polyphonic-noise",
   "metadata": {},
   "source": [
    "## Boxplots"
   ]
  },
  {
   "cell_type": "code",
   "execution_count": 32,
   "id": "technical-insider",
   "metadata": {
    "ExecuteTime": {
     "end_time": "2021-02-09T14:06:34.403407Z",
     "start_time": "2021-02-09T14:06:34.345130Z"
    }
   },
   "outputs": [],
   "source": [
    "df = X.join(y)"
   ]
  },
  {
   "cell_type": "code",
   "execution_count": 28,
   "id": "saved-terminology",
   "metadata": {
    "ExecuteTime": {
     "end_time": "2021-02-09T13:59:23.365961Z",
     "start_time": "2021-02-09T13:59:22.190429Z"
    },
    "scrolled": true
   },
   "outputs": [
    {
     "data": {
      "image/png": "[encoded data removed]",
      "text/plain": [
       "<Figure size 432x288 with 1 Axes>"
      ]
     },
     "metadata": {},
     "output_type": "display_data"
    },
    {
     "data": {
      "image/png": "[encoded data removed]",
      "text/plain": [
       "<Figure size 432x288 with 1 Axes>"
      ]
     },
     "metadata": {},
     "output_type": "display_data"
    },
    {
     "data": {
      "image/png": "[encoded data removed]",
      "text/plain": [
       "<Figure size 432x288 with 1 Axes>"
      ]
     },
     "metadata": {},
     "output_type": "display_data"
    },
    {
     "data": {
      "image/png": "[encoded data removed]",
      "text/plain": [
       "<Figure size 432x288 with 1 Axes>"
      ]
     },
     "metadata": {},
     "output_type": "display_data"
    },
    {
     "data": {
      "image/png": "[encoded data removed]",
      "text/plain": [
       "<Figure size 432x288 with 1 Axes>"
      ]
     },
     "metadata": {},
     "output_type": "display_data"
    },
    {
     "data": {
      "image/png": "[encoded data removed]",
      "text/plain": [
       "<Figure size 432x288 with 1 Axes>"
      ]
     },
     "metadata": {},
     "output_type": "display_data"
    },
    {
     "data": {
      "image/png": "[encoded data removed]",
      "text/plain": [
       "<Figure size 432x288 with 1 Axes>"
      ]
     },
     "metadata": {},
     "output_type": "display_data"
    },
    {
     "data": {
      "image/png": "[encoded data removed]",
      "text/plain": [
       "<Figure size 432x288 with 1 Axes>"
      ]
     },
     "metadata": {},
     "output_type": "display_data"
    },
    {
     "data": {
      "image/png": "[encoded data removed]",
      "text/plain": [
       "<Figure size 432x288 with 1 Axes>"
      ]
     },
     "metadata": {},
     "output_type": "display_data"
    }
   ],
   "source": [
    "for col in df.select_dtypes('number'):\n",
    "    sns.boxplot(x=df[col])\n",
    "    plt.show()"
   ]
  },
  {
   "cell_type": "code",
   "execution_count": 31,
   "id": "express-rates",
   "metadata": {
    "ExecuteTime": {
     "end_time": "2021-02-09T14:05:16.714715Z",
     "start_time": "2021-02-09T14:05:15.390978Z"
    },
    "scrolled": true
   },
   "outputs": [
    {
     "data": {
      "image/png": "[encoded data removed]",
      "text/plain": [
       "<Figure size 432x288 with 1 Axes>"
      ]
     },
     "metadata": {},
     "output_type": "display_data"
    },
    {
     "data": {
      "image/png": "[encoded data removed]",
      "text/plain": [
       "<Figure size 432x288 with 1 Axes>"
      ]
     },
     "metadata": {},
     "output_type": "display_data"
    },
    {
     "data": {
      "image/png": "[encoded data removed]",
      "text/plain": [
       "<Figure size 432x288 with 1 Axes>"
      ]
     },
     "metadata": {},
     "output_type": "display_data"
    },
    {
     "data": {
      "image/png": "[encoded data removed]",
      "text/plain": [
       "<Figure size 432x288 with 1 Axes>"
      ]
     },
     "metadata": {},
     "output_type": "display_data"
    },
    {
     "data": {
      "image/png": "[encoded data removed]",
      "text/plain": [
       "<Figure size 432x288 with 1 Axes>"
      ]
     },
     "metadata": {},
     "output_type": "display_data"
    },
    {
     "data": {
      "image/png": "[encoded data removed]",
      "text/plain": [
       "<Figure size 432x288 with 1 Axes>"
      ]
     },
     "metadata": {},
     "output_type": "display_data"
    },
    {
     "data": {
      "image/png": "[encoded data removed]",
      "text/plain": [
       "<Figure size 432x288 with 1 Axes>"
      ]
     },
     "metadata": {},
     "output_type": "display_data"
    },
    {
     "data": {
      "image/png": "[encoded data removed]",
      "text/plain": [
       "<Figure size 432x288 with 1 Axes>"
      ]
     },
     "metadata": {},
     "output_type": "display_data"
    }
   ],
   "source": [
    "for col in df.select_dtypes('number').columns[:-1]:\n",
    "    sns.boxplot(x='damage_grade', y=col, data=df)\n",
    "    plt.show()"
   ]
  },
  {
   "cell_type": "markdown",
   "id": "patient-midnight",
   "metadata": {},
   "source": [
    "## Checking FIs without OHE geo_level_1_id"
   ]
  },
  {
   "cell_type": "code",
   "execution_count": 42,
   "id": "metropolitan-pipeline",
   "metadata": {
    "ExecuteTime": {
     "end_time": "2021-02-10T12:58:00.478257Z",
     "start_time": "2021-02-10T12:57:45.980097Z"
    }
   },
   "outputs": [],
   "source": [
    "X_dummies = pd.get_dummies(X)\n",
    "model = LGBMClassifier(**lgbm_hyperparams)\n",
    "model.fit(X_dummies, np.ravel(y))\n",
    "s_fi_dummies = pd.Series(data=model.feature_importances_,\n",
    "                         index=X_dummies.columns,\n",
    "                         name='FI')\n",
    "s_fi_dummies.sort_values(ascending=False).to_csv(MY_DATA_DIR / 'FIs_ohe_just_categorical_vars.csv')"
   ]
  },
  {
   "cell_type": "markdown",
   "id": "lonely-kruger",
   "metadata": {},
   "source": [
    "## Checking Feature Importances After geo_level_1_id is encoded\n",
    "\n",
    "TL;DR\n",
    "Encoding `geo_level_1_id` and `geo_level_2_id` produce some useful features (some as high as 600 feature importance!). Now it's time to explore how many of those we should keep.\n",
    "\n",
    "From EDA we can see that some of the geo_level_1_id locations have a LOT of predictive power. Perhaps one reason for a lack of lift in the models is that we have introduced loads of unhelpful features. \n",
    "\n",
    "So,\n",
    "1. Build a model with geo_level_1_id encoded and check all the feature importances\n",
    "2. What happens to the features when we apply OHE? How can I accurately select the most important ones afterwards? How do I know which features are which? One easier way would be to use the pd.get_dummies() function.\n",
    "2. Remove all the features with 0 importance, then iteratively remove more and more features until I find an optimal amount (based on the feature importances).\n",
    "\n"
   ]
  },
  {
   "cell_type": "code",
   "execution_count": 5,
   "id": "existing-north",
   "metadata": {
    "ExecuteTime": {
     "end_time": "2021-02-10T12:33:36.194757Z",
     "start_time": "2021-02-10T12:33:36.188011Z"
    }
   },
   "outputs": [
    {
     "data": {
      "text/plain": [
       "Index(['geo_level_1_id', 'land_surface_condition', 'foundation_type',\n",
       "       'roof_type', 'ground_floor_type', 'other_floor_type', 'position',\n",
       "       'plan_configuration', 'legal_ownership_status'],\n",
       "      dtype='object')"
      ]
     },
     "execution_count": 5,
     "metadata": {},
     "output_type": "execute_result"
    }
   ],
   "source": [
    "cat_cols_plus_geo_1 = categorical_columns.insert(0, 'geo_level_1_id')\n",
    "cat_cols_plus_geo_1"
   ]
  },
  {
   "cell_type": "code",
   "execution_count": 10,
   "id": "adopted-communication",
   "metadata": {
    "ExecuteTime": {
     "end_time": "2021-02-10T12:41:11.432012Z",
     "start_time": "2021-02-10T12:41:11.419235Z"
    }
   },
   "outputs": [],
   "source": [
    "X.loc[:, 'geo_level_1_id'] = X.loc[:, 'geo_level_1_id'].astype('category')"
   ]
  },
  {
   "cell_type": "code",
   "execution_count": 16,
   "id": "level-hands",
   "metadata": {
    "ExecuteTime": {
     "end_time": "2021-02-10T12:42:10.060970Z",
     "start_time": "2021-02-10T12:42:09.977026Z"
    }
   },
   "outputs": [],
   "source": [
    "X_ohe = pd.get_dummies(X)"
   ]
  },
  {
   "cell_type": "code",
   "execution_count": 17,
   "id": "conventional-opera",
   "metadata": {
    "ExecuteTime": {
     "end_time": "2021-02-10T12:42:19.254856Z",
     "start_time": "2021-02-10T12:42:19.251940Z"
    }
   },
   "outputs": [],
   "source": [
    "lgbm_hyperparams = {'num_leaves': 120,\n",
    "                    'n_estimators': 240,\n",
    "                    'min_child_samples': 40,\n",
    "                    'learning_rate': 0.2,\n",
    "                    'boosting_type': 'goss'}"
   ]
  },
  {
   "cell_type": "code",
   "execution_count": 20,
   "id": "varied-respect",
   "metadata": {
    "ExecuteTime": {
     "end_time": "2021-02-10T12:43:55.435313Z",
     "start_time": "2021-02-10T12:43:41.066532Z"
    }
   },
   "outputs": [
    {
     "data": {
      "text/plain": [
       "LGBMClassifier(boosting_type='goss', learning_rate=0.2, min_child_samples=40,\n",
       "               n_estimators=240, num_leaves=120)"
      ]
     },
     "execution_count": 20,
     "metadata": {},
     "output_type": "execute_result"
    }
   ],
   "source": [
    "model = LGBMClassifier(**lgbm_hyperparams)\n",
    "model.fit(X_ohe, np.ravel(y))"
   ]
  },
  {
   "cell_type": "code",
   "execution_count": 21,
   "id": "comprehensive-indian",
   "metadata": {
    "ExecuteTime": {
     "end_time": "2021-02-10T12:43:55.553823Z",
     "start_time": "2021-02-10T12:43:55.549407Z"
    }
   },
   "outputs": [
    {
     "data": {
      "text/plain": [
       "array([16004, 17268,  1418,  7355,  8344,  4844,   558,   869,   388,\n",
       "         312,   463,   607,  1144,   627,   439,   196,   247,  1378,\n",
       "         635,   386,   320,   153,    34,     2,    48,     1,     0,\n",
       "           0,   132,   243,   217,   102,   263,   467,   260,   604,\n",
       "         546,   513,   233,   543,   308,   191,   417,   143,   132,\n",
       "         239,   563,   202,    37,   461,   426,   350,    95,   113,\n",
       "         354,   545,   407,    22,    90,   248,   591,   276,   619,\n",
       "          99,   249,   551,   399,   338,   865,   621,   295,   646,\n",
       "          58,   381,   574,    70,   235,   950,   275,   698,   390,\n",
       "         141,   710,   597,    32,    40,   307,     0,     0,     0,\n",
       "          12,   209,    51,   186,   207,    91,   254,   157],\n",
       "      dtype=int32)"
      ]
     },
     "execution_count": 21,
     "metadata": {},
     "output_type": "execute_result"
    }
   ],
   "source": [
    "model.feature_importances_"
   ]
  },
  {
   "cell_type": "code",
   "execution_count": 28,
   "id": "saved-comparison",
   "metadata": {
    "ExecuteTime": {
     "end_time": "2021-02-10T12:45:54.379435Z",
     "start_time": "2021-02-10T12:45:54.376129Z"
    }
   },
   "outputs": [],
   "source": [
    "s_fi = pd.Series(data=model.feature_importances_,\n",
    "                  index=X_ohe.columns,\n",
    "                  name='FI')"
   ]
  },
  {
   "cell_type": "code",
   "execution_count": 38,
   "id": "composed-factory",
   "metadata": {
    "ExecuteTime": {
     "end_time": "2021-02-10T12:50:47.900625Z",
     "start_time": "2021-02-10T12:50:47.895459Z"
    },
    "scrolled": true
   },
   "outputs": [],
   "source": [
    "s_fi.sort_values(ascending=False).to_csv(MY_DATA_DIR / 'feature_importances_geo_level_1_id_ohe.csv')"
   ]
  },
  {
   "cell_type": "markdown",
   "id": "infinite-discipline",
   "metadata": {},
   "source": [
    "## FIs with first 2 geo_level_i_id columns OHE'd\n",
    "\n",
    "Probably too many"
   ]
  },
  {
   "cell_type": "code",
   "execution_count": 10,
   "id": "mechanical-colon",
   "metadata": {
    "ExecuteTime": {
     "end_time": "2021-02-10T13:13:21.901359Z",
     "start_time": "2021-02-10T13:13:21.810967Z"
    }
   },
   "outputs": [],
   "source": [
    "X_geo_categorical = X.copy()\n",
    "X_geo_categorical.iloc[:, [0, 1]] = X_geo_categorical.iloc[:, [0, 1]].astype('category')"
   ]
  },
  {
   "cell_type": "code",
   "execution_count": 11,
   "id": "familiar-community",
   "metadata": {
    "ExecuteTime": {
     "end_time": "2021-02-10T13:13:27.224897Z",
     "start_time": "2021-02-10T13:13:22.617151Z"
    }
   },
   "outputs": [],
   "source": [
    "X_geo_categorical_dummies = pd.get_dummies(X_geo_categorical)"
   ]
  },
  {
   "cell_type": "code",
   "execution_count": 12,
   "id": "commercial-benchmark",
   "metadata": {
    "ExecuteTime": {
     "end_time": "2021-02-10T13:13:27.522611Z",
     "start_time": "2021-02-10T13:13:27.519737Z"
    }
   },
   "outputs": [
    {
     "data": {
      "text/plain": [
       "1511"
      ]
     },
     "execution_count": 12,
     "metadata": {},
     "output_type": "execute_result"
    }
   ],
   "source": [
    "len(X_geo_categorical_dummies.columns)"
   ]
  },
  {
   "cell_type": "code",
   "execution_count": 13,
   "id": "worldwide-chester",
   "metadata": {
    "ExecuteTime": {
     "end_time": "2021-02-10T13:13:32.097321Z",
     "start_time": "2021-02-10T13:13:32.093288Z"
    }
   },
   "outputs": [],
   "source": [
    "def fit_and_save_feature_importances(df, title):\n",
    "    model = LGBMClassifier(**lgbm_hyperparams)\n",
    "    model.fit(df, np.ravel(y))\n",
    "    s_fi = pd.Series(data=model.feature_importances_,\n",
    "                     index=df.columns,\n",
    "                     name='FI')\n",
    "    s_fi.sort_values(ascending=False).to_csv(MY_DATA_DIR / f'{title}.csv')"
   ]
  },
  {
   "cell_type": "code",
   "execution_count": 14,
   "id": "fiscal-ecology",
   "metadata": {
    "ExecuteTime": {
     "end_time": "2021-02-10T13:14:50.636315Z",
     "start_time": "2021-02-10T13:13:44.250042Z"
    }
   },
   "outputs": [],
   "source": [
    "fit_and_save_feature_importances(X_geo_categorical_dummies,\n",
    "                                'FIs_geo_levels_1+2_OHE')"
   ]
  },
  {
   "cell_type": "markdown",
   "id": "revised-juvenile",
   "metadata": {},
   "source": [
    "## Feature Selection using SelectFromModel\n",
    "\n",
    "We've seen that encoding geo_levels 1 and 2 into categorical variables leads to many valuable features being created. Let's build a suite of models now with both geo_level_1 and geo_levels 1+2 encoded and see which models give the best score when trained on X and evaluted on both X and X_val\n",
    "\n",
    "Let's see how we get on\n"
   ]
  },
  {
   "cell_type": "code",
   "execution_count": 22,
   "id": "instant-spouse",
   "metadata": {
    "ExecuteTime": {
     "end_time": "2021-02-10T13:46:47.127692Z",
     "start_time": "2021-02-10T13:46:41.838243Z"
    }
   },
   "outputs": [],
   "source": [
    "X_geo_level_1_ohe = X.copy()\n",
    "X_geo_level_1_ohe.iloc[:, 0] = X_geo_level_1_ohe.iloc[:, 0].astype('category')\n",
    "X_geo_level_1_ohe = pd.get_dummies(X_geo_level_1_ohe)\n",
    "\n",
    "X_geo_levels_1_and_2_ohe = X.copy()\n",
    "X_geo_levels_1_and_2_ohe.iloc[:, [0, 1]] = X_geo_levels_1_and_2_ohe.iloc[:, [0, 1]]\\\n",
    "                                            .astype('category')\n",
    "X_geo_levels_1_and_2_ohe = pd.get_dummies(X_geo_levels_1_and_2_ohe)"
   ]
  },
  {
   "cell_type": "code",
   "execution_count": 31,
   "id": "proper-direction",
   "metadata": {
    "ExecuteTime": {
     "end_time": "2021-02-10T13:57:58.188864Z",
     "start_time": "2021-02-10T13:57:58.184251Z"
    }
   },
   "outputs": [],
   "source": [
    "def feature_selection_with_FI(df, thresh='mean'):\n",
    "\n",
    "    lgbm_selector = LGBMClassifier(**lgbm_hyperparams)\n",
    "    lgbm = LGBMClassifier(**lgbm_hyperparams)\n",
    "\n",
    "    # Want to modify the threshold and see how it influences results\n",
    "    # can this be done with GridSearchCV?\n",
    "    selector = SelectFromModel(estimator=lgbm_selector, threshold=thresh)\n",
    "\n",
    "    steps = [('selector', selector),\n",
    "             ('lgbm', lgbm)]\n",
    "\n",
    "    pipe = Pipeline(steps)\n",
    "\n",
    "    pipe.fit(df, np.ravel(y))\n",
    "    \n",
    "    y_pred = pipe.predict(df)\n",
    "    score = f1_score(y, y_pred, average='micro')\n",
    "    print('Threshold:', thresh)\n",
    "    print('F1 score: ', score)"
   ]
  },
  {
   "cell_type": "code",
   "execution_count": 32,
   "id": "bibliographic-emphasis",
   "metadata": {
    "ExecuteTime": {
     "end_time": "2021-02-10T14:02:23.601608Z",
     "start_time": "2021-02-10T13:57:59.430739Z"
    }
   },
   "outputs": [
    {
     "name": "stdout",
     "output_type": "stream",
     "text": [
      "Threshold: 0\n",
      "F1 score:  0.7980936373997028\n",
      "Threshold: 100\n",
      "F1 score:  0.7993254055049673\n",
      "Threshold: 200\n",
      "F1 score:  0.7978096783972433\n",
      "Threshold: 300\n",
      "F1 score:  0.7969309404031449\n",
      "Threshold: 400\n",
      "F1 score:  0.7938342523628075\n",
      "Threshold: 500\n",
      "F1 score:  0.7894328878246821\n",
      "Threshold: 600\n",
      "F1 score:  0.7781858089569879\n",
      "Threshold: 1000\n",
      "F1 score:  0.7548244250789521\n"
     ]
    }
   ],
   "source": [
    "thresholds = [0, 100, 200, 300, 400, 500, 600, 1000]\n",
    "for thresh in thresholds:\n",
    "    feature_selection_with_FI(X_geo_level_1_ohe, thresh=thresh)"
   ]
  },
  {
   "cell_type": "markdown",
   "id": "interracial-overview",
   "metadata": {},
   "source": [
    "From this it looks like having more features is better but this could just be because it is learning the mapping. Let's try it with GridSearch and see what scores I get based on each."
   ]
  },
  {
   "cell_type": "code",
   "execution_count": 36,
   "id": "technological-exploration",
   "metadata": {
    "ExecuteTime": {
     "end_time": "2021-02-10T14:28:36.951342Z",
     "start_time": "2021-02-10T14:14:51.503391Z"
    }
   },
   "outputs": [
    {
     "name": "stdout",
     "output_type": "stream",
     "text": [
      "Fitting 5 folds for each of 9 candidates, totalling 45 fits\n"
     ]
    },
    {
     "name": "stderr",
     "output_type": "stream",
     "text": [
      "[Parallel(n_jobs=-1)]: Using backend LokyBackend with 8 concurrent workers.\n",
      "[Parallel(n_jobs=-1)]: Done   2 tasks      | elapsed:  2.6min\n",
      "[Parallel(n_jobs=-1)]: Done   9 tasks      | elapsed:  5.0min\n",
      "[Parallel(n_jobs=-1)]: Done  16 tasks      | elapsed:  5.1min\n",
      "[Parallel(n_jobs=-1)]: Done  25 tasks      | elapsed:  9.6min\n",
      "[Parallel(n_jobs=-1)]: Done  35 out of  45 | elapsed: 11.8min remaining:  3.4min\n",
      "[Parallel(n_jobs=-1)]: Done  40 out of  45 | elapsed: 11.8min remaining:  1.5min\n",
      "[Parallel(n_jobs=-1)]: Done  45 out of  45 | elapsed: 13.3min remaining:    0.0s\n",
      "[Parallel(n_jobs=-1)]: Done  45 out of  45 | elapsed: 13.3min finished\n"
     ]
    }
   ],
   "source": [
    "lgbm_selector = LGBMClassifier(**lgbm_hyperparams)\n",
    "lgbm = LGBMClassifier(**lgbm_hyperparams)\n",
    "\n",
    "# Want to modify the threshold and see how it influences results\n",
    "# can this be done with GridSearchCV?\n",
    "selector = SelectFromModel(estimator=lgbm_selector)\n",
    "\n",
    "steps = [('selector', selector),\n",
    "         ('lgbm', lgbm)]\n",
    "\n",
    "pipe = Pipeline(steps)\n",
    "\n",
    "thresholds = [0, 50, 100, 200, 300, 400, 500, 600, 1000]\n",
    "\n",
    "param_grid = {'selector__threshold': thresholds}\n",
    "\n",
    "gs = GridSearchCV(pipe, param_grid, scoring='f1_micro', n_jobs=-1,\n",
    "                 cv=5, verbose=10)\n",
    "\n",
    "lgbm_geo_level_1_feature_selected = gs.fit(X_geo_level_1_ohe, np.ravel(y))"
   ]
  },
  {
   "cell_type": "code",
   "execution_count": 37,
   "id": "killing-leeds",
   "metadata": {
    "ExecuteTime": {
     "end_time": "2021-02-10T14:31:42.755746Z",
     "start_time": "2021-02-10T14:31:42.748787Z"
    }
   },
   "outputs": [
    {
     "data": {
      "text/plain": [
       "0.7305497616142425"
      ]
     },
     "execution_count": 37,
     "metadata": {},
     "output_type": "execute_result"
    }
   ],
   "source": [
    "# It got 0.7303 upon submission (this is great that this score is trustworthy!)\n",
    "lgbm_geo_level_1_feature_selected.best_score_"
   ]
  },
  {
   "cell_type": "code",
   "execution_count": 39,
   "id": "compact-digit",
   "metadata": {
    "ExecuteTime": {
     "end_time": "2021-02-10T14:32:23.921145Z",
     "start_time": "2021-02-10T14:32:23.917270Z"
    }
   },
   "outputs": [
    {
     "data": {
      "text/plain": [
       "{'selector__threshold': 0}"
      ]
     },
     "execution_count": 39,
     "metadata": {},
     "output_type": "execute_result"
    }
   ],
   "source": [
    "lgbm_geo_level_1_feature_selected.best_params_"
   ]
  },
  {
   "cell_type": "code",
   "execution_count": 41,
   "id": "fantastic-southeast",
   "metadata": {
    "ExecuteTime": {
     "end_time": "2021-02-10T14:32:40.341872Z",
     "start_time": "2021-02-10T14:32:40.315754Z"
    }
   },
   "outputs": [
    {
     "data": {
      "text/html": [
       "<div>\n",
       "<style scoped>\n",
       "    .dataframe tbody tr th:only-of-type {\n",
       "        vertical-align: middle;\n",
       "    }\n",
       "\n",
       "    .dataframe tbody tr th {\n",
       "        vertical-align: top;\n",
       "    }\n",
       "\n",
       "    .dataframe thead th {\n",
       "        text-align: right;\n",
       "    }\n",
       "</style>\n",
       "<table border=\"1\" class=\"dataframe\">\n",
       "  <thead>\n",
       "    <tr style=\"text-align: right;\">\n",
       "      <th></th>\n",
       "      <th>mean_fit_time</th>\n",
       "      <th>std_fit_time</th>\n",
       "      <th>mean_score_time</th>\n",
       "      <th>std_score_time</th>\n",
       "      <th>param_selector__threshold</th>\n",
       "      <th>params</th>\n",
       "      <th>split0_test_score</th>\n",
       "      <th>split1_test_score</th>\n",
       "      <th>split2_test_score</th>\n",
       "      <th>split3_test_score</th>\n",
       "      <th>split4_test_score</th>\n",
       "      <th>mean_test_score</th>\n",
       "      <th>std_test_score</th>\n",
       "      <th>rank_test_score</th>\n",
       "    </tr>\n",
       "  </thead>\n",
       "  <tbody>\n",
       "    <tr>\n",
       "      <th>0</th>\n",
       "      <td>119.778302</td>\n",
       "      <td>0.288099</td>\n",
       "      <td>37.102774</td>\n",
       "      <td>0.352343</td>\n",
       "      <td>0</td>\n",
       "      <td>{'selector__threshold': 0}</td>\n",
       "      <td>0.732123</td>\n",
       "      <td>0.726497</td>\n",
       "      <td>0.734171</td>\n",
       "      <td>0.730602</td>\n",
       "      <td>0.729355</td>\n",
       "      <td>0.730550</td>\n",
       "      <td>0.002586</td>\n",
       "      <td>1</td>\n",
       "    </tr>\n",
       "    <tr>\n",
       "      <th>1</th>\n",
       "      <td>115.195775</td>\n",
       "      <td>3.476986</td>\n",
       "      <td>35.175505</td>\n",
       "      <td>1.100775</td>\n",
       "      <td>50</td>\n",
       "      <td>{'selector__threshold': 50}</td>\n",
       "      <td>0.729879</td>\n",
       "      <td>0.726209</td>\n",
       "      <td>0.732118</td>\n",
       "      <td>0.729720</td>\n",
       "      <td>0.731830</td>\n",
       "      <td>0.729951</td>\n",
       "      <td>0.002111</td>\n",
       "      <td>3</td>\n",
       "    </tr>\n",
       "    <tr>\n",
       "      <th>2</th>\n",
       "      <td>110.689862</td>\n",
       "      <td>0.432387</td>\n",
       "      <td>36.302597</td>\n",
       "      <td>0.308717</td>\n",
       "      <td>100</td>\n",
       "      <td>{'selector__threshold': 100}</td>\n",
       "      <td>0.730493</td>\n",
       "      <td>0.725384</td>\n",
       "      <td>0.732924</td>\n",
       "      <td>0.730564</td>\n",
       "      <td>0.729988</td>\n",
       "      <td>0.729871</td>\n",
       "      <td>0.002463</td>\n",
       "      <td>4</td>\n",
       "    </tr>\n",
       "    <tr>\n",
       "      <th>3</th>\n",
       "      <td>106.785542</td>\n",
       "      <td>2.395566</td>\n",
       "      <td>33.280596</td>\n",
       "      <td>1.420925</td>\n",
       "      <td>200</td>\n",
       "      <td>{'selector__threshold': 200}</td>\n",
       "      <td>0.730032</td>\n",
       "      <td>0.727552</td>\n",
       "      <td>0.731984</td>\n",
       "      <td>0.730986</td>\n",
       "      <td>0.730814</td>\n",
       "      <td>0.730273</td>\n",
       "      <td>0.001496</td>\n",
       "      <td>2</td>\n",
       "    </tr>\n",
       "    <tr>\n",
       "      <th>4</th>\n",
       "      <td>103.684138</td>\n",
       "      <td>1.110231</td>\n",
       "      <td>32.755417</td>\n",
       "      <td>1.333658</td>\n",
       "      <td>300</td>\n",
       "      <td>{'selector__threshold': 300}</td>\n",
       "      <td>0.726962</td>\n",
       "      <td>0.723734</td>\n",
       "      <td>0.728799</td>\n",
       "      <td>0.727763</td>\n",
       "      <td>0.726592</td>\n",
       "      <td>0.726770</td>\n",
       "      <td>0.001696</td>\n",
       "      <td>5</td>\n",
       "    </tr>\n",
       "    <tr>\n",
       "      <th>5</th>\n",
       "      <td>103.527036</td>\n",
       "      <td>0.337071</td>\n",
       "      <td>33.579008</td>\n",
       "      <td>0.504491</td>\n",
       "      <td>400</td>\n",
       "      <td>{'selector__threshold': 400}</td>\n",
       "      <td>0.725715</td>\n",
       "      <td>0.722371</td>\n",
       "      <td>0.725480</td>\n",
       "      <td>0.727168</td>\n",
       "      <td>0.725000</td>\n",
       "      <td>0.725147</td>\n",
       "      <td>0.001565</td>\n",
       "      <td>6</td>\n",
       "    </tr>\n",
       "    <tr>\n",
       "      <th>6</th>\n",
       "      <td>99.686676</td>\n",
       "      <td>2.579058</td>\n",
       "      <td>30.742865</td>\n",
       "      <td>1.891132</td>\n",
       "      <td>500</td>\n",
       "      <td>{'selector__threshold': 500}</td>\n",
       "      <td>0.718866</td>\n",
       "      <td>0.714236</td>\n",
       "      <td>0.722218</td>\n",
       "      <td>0.719321</td>\n",
       "      <td>0.719474</td>\n",
       "      <td>0.718823</td>\n",
       "      <td>0.002578</td>\n",
       "      <td>7</td>\n",
       "    </tr>\n",
       "    <tr>\n",
       "      <th>7</th>\n",
       "      <td>94.781123</td>\n",
       "      <td>1.591962</td>\n",
       "      <td>29.672820</td>\n",
       "      <td>0.959576</td>\n",
       "      <td>600</td>\n",
       "      <td>{'selector__threshold': 600}</td>\n",
       "      <td>0.705167</td>\n",
       "      <td>0.700729</td>\n",
       "      <td>0.702513</td>\n",
       "      <td>0.704298</td>\n",
       "      <td>0.707540</td>\n",
       "      <td>0.704049</td>\n",
       "      <td>0.002319</td>\n",
       "      <td>8</td>\n",
       "    </tr>\n",
       "    <tr>\n",
       "      <th>8</th>\n",
       "      <td>72.646262</td>\n",
       "      <td>1.717849</td>\n",
       "      <td>17.434321</td>\n",
       "      <td>0.500402</td>\n",
       "      <td>1000</td>\n",
       "      <td>{'selector__threshold': 1000}</td>\n",
       "      <td>0.689530</td>\n",
       "      <td>0.688162</td>\n",
       "      <td>0.692728</td>\n",
       "      <td>0.690925</td>\n",
       "      <td>0.691884</td>\n",
       "      <td>0.690646</td>\n",
       "      <td>0.001635</td>\n",
       "      <td>9</td>\n",
       "    </tr>\n",
       "  </tbody>\n",
       "</table>\n",
       "</div>"
      ],
      "text/plain": [
       "   mean_fit_time  std_fit_time  mean_score_time  std_score_time  \\\n",
       "0     119.778302      0.288099        37.102774        0.352343   \n",
       "1     115.195775      3.476986        35.175505        1.100775   \n",
       "2     110.689862      0.432387        36.302597        0.308717   \n",
       "3     106.785542      2.395566        33.280596        1.420925   \n",
       "4     103.684138      1.110231        32.755417        1.333658   \n",
       "5     103.527036      0.337071        33.579008        0.504491   \n",
       "6      99.686676      2.579058        30.742865        1.891132   \n",
       "7      94.781123      1.591962        29.672820        0.959576   \n",
       "8      72.646262      1.717849        17.434321        0.500402   \n",
       "\n",
       "  param_selector__threshold                         params  split0_test_score  \\\n",
       "0                         0     {'selector__threshold': 0}           0.732123   \n",
       "1                        50    {'selector__threshold': 50}           0.729879   \n",
       "2                       100   {'selector__threshold': 100}           0.730493   \n",
       "3                       200   {'selector__threshold': 200}           0.730032   \n",
       "4                       300   {'selector__threshold': 300}           0.726962   \n",
       "5                       400   {'selector__threshold': 400}           0.725715   \n",
       "6                       500   {'selector__threshold': 500}           0.718866   \n",
       "7                       600   {'selector__threshold': 600}           0.705167   \n",
       "8                      1000  {'selector__threshold': 1000}           0.689530   \n",
       "\n",
       "   split1_test_score  split2_test_score  split3_test_score  split4_test_score  \\\n",
       "0           0.726497           0.734171           0.730602           0.729355   \n",
       "1           0.726209           0.732118           0.729720           0.731830   \n",
       "2           0.725384           0.732924           0.730564           0.729988   \n",
       "3           0.727552           0.731984           0.730986           0.730814   \n",
       "4           0.723734           0.728799           0.727763           0.726592   \n",
       "5           0.722371           0.725480           0.727168           0.725000   \n",
       "6           0.714236           0.722218           0.719321           0.719474   \n",
       "7           0.700729           0.702513           0.704298           0.707540   \n",
       "8           0.688162           0.692728           0.690925           0.691884   \n",
       "\n",
       "   mean_test_score  std_test_score  rank_test_score  \n",
       "0         0.730550        0.002586                1  \n",
       "1         0.729951        0.002111                3  \n",
       "2         0.729871        0.002463                4  \n",
       "3         0.730273        0.001496                2  \n",
       "4         0.726770        0.001696                5  \n",
       "5         0.725147        0.001565                6  \n",
       "6         0.718823        0.002578                7  \n",
       "7         0.704049        0.002319                8  \n",
       "8         0.690646        0.001635                9  "
      ]
     },
     "execution_count": 41,
     "metadata": {},
     "output_type": "execute_result"
    }
   ],
   "source": [
    "pd.DataFrame(lgbm_geo_level_1_feature_selected.cv_results_)"
   ]
  },
  {
   "cell_type": "markdown",
   "id": "disciplinary-substance",
   "metadata": {},
   "source": [
    "Based off of these scores, lets select thresholds 200 and 0 and submit scores and see what we get."
   ]
  },
  {
   "cell_type": "code",
   "execution_count": null,
   "id": "suburban-judges",
   "metadata": {},
   "outputs": [],
   "source": [
    "def make_submission(pipeline, title):\n",
    "    \"\"\"\n",
    "    Given a trained pipeline object, use it to make predictions on the \n",
    "    submission test set 'test_values.csv' and write them a csv in the submissions\n",
    "    folder.\n",
    "    \"\"\"\n",
    "    # Read in test_values csv and apply data preprocessing\n",
    "    # note: will create a data preprocessing pipeline or function in future\n",
    "    test_values = pd.read_csv(DATA_DIR / 'test_values.csv', index_col='building_id')\n",
    "    test_values[categorical_columns] = test_values[categorical_columns].astype('category')\n",
    "    test_values[bool_columns] = test_values[bool_columns].astype('bool')\n",
    "\n",
    "    # Generate predictions using pipeline we pass in\n",
    "    predictions = pipeline.predict(test_values)\n",
    "\n",
    "    submission_format = pd.read_csv(DATA_DIR / 'submission_format.csv',\n",
    "                                    index_col='building_id')\n",
    "\n",
    "    my_submission = pd.DataFrame(data=predictions,\n",
    "                                columns=submission_format.columns,\n",
    "                                index=submission_format.index)\n",
    "    \n",
    "    my_submission.to_csv(SUBMISSIONS_DIR / f'{title}.csv')"
   ]
  },
  {
   "cell_type": "code",
   "execution_count": 42,
   "id": "awful-lover",
   "metadata": {
    "ExecuteTime": {
     "end_time": "2021-02-10T14:39:25.362537Z",
     "start_time": "2021-02-10T14:39:22.677634Z"
    }
   },
   "outputs": [],
   "source": [
    "test_values = pd.read_csv(DATA_DIR / 'test_values.csv', index_col='building_id')\n",
    "test_values[categorical_columns] = test_values[categorical_columns].astype('category')\n",
    "test_values[bool_columns] = test_values[bool_columns].astype('bool')\n",
    "# OHE geo_level_1_id column\n",
    "test_values.iloc[:, 0] = test_values.iloc[:, 0].astype('category')\n",
    "test_values = pd.get_dummies(test_values)\n",
    "\n",
    "# Add in custom model\n",
    "predictions = lgbm_geo_level_1_feature_selected.predict(test_values)\n",
    "\n",
    "submission_format = pd.read_csv(DATA_DIR / 'submission_format.csv',\n",
    "                                index_col='building_id')\n",
    "\n",
    "my_submission = pd.DataFrame(data=predictions,\n",
    "                            columns=submission_format.columns,\n",
    "                            index=submission_format.index)\n",
    "# Change title\n",
    "title = 'LGBM lgbm_02_02 hyperparams - geo_level_1_id OHE, feature importance threshold=0'\n",
    "my_submission.to_csv(SUBMISSIONS_DIR / f'{title}.csv')"
   ]
  },
  {
   "cell_type": "code",
   "execution_count": null,
   "id": "adjusted-playlist",
   "metadata": {},
   "outputs": [],
   "source": []
  }
 ],
 "metadata": {
  "kernelspec": {
   "display_name": "Python 3",
   "language": "python",
   "name": "python3"
  },
  "language_info": {
   "codemirror_mode": {
    "name": "ipython",
    "version": 3
   },
   "file_extension": ".py",
   "mimetype": "text/x-python",
   "name": "python",
   "nbconvert_exporter": "python",
   "pygments_lexer": "ipython3",
   "version": "3.7.9"
  },
  "toc": {
   "base_numbering": 1,
   "nav_menu": {},
   "number_sections": true,
   "sideBar": true,
   "skip_h1_title": false,
   "title_cell": "Table of Contents",
   "title_sidebar": "Contents",
   "toc_cell": false,
   "toc_position": {},
   "toc_section_display": true,
   "toc_window_display": false
  },
  "varInspector": {
   "cols": {
    "lenName": 16,
    "lenType": 16,
    "lenVar": 40
   },
   "kernels_config": {
    "python": {
     "delete_cmd_postfix": "",
     "delete_cmd_prefix": "del ",
     "library": "var_list.py",
     "varRefreshCmd": "print(var_dic_list())"
    },
    "r": {
     "delete_cmd_postfix": ") ",
     "delete_cmd_prefix": "rm(",
     "library": "var_list.r",
     "varRefreshCmd": "cat(var_dic_list()) "
    }
   },
   "types_to_exclude": [
    "module",
    "function",
    "builtin_function_or_method",
    "instance",
    "_Feature"
   ],
   "window_display": false
  }
 },
 "nbformat": 4,
 "nbformat_minor": 5
}
