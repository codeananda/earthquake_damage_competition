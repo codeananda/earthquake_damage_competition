{
 "cells": [
  {
   "cell_type": "markdown",
   "metadata": {
    "id": "6xm5ZaJ_qkvY"
   },
   "source": [
    "# Creating Validation Set\n",
    "\n",
    "It will be much faster to train the models if I can create a validation set that represents the test set. I want a validation set where if a model has a better score on it, the model will have a better score on the submissions.\n",
    "\n",
    "I will aim to create a simple hold-out validation set for maximum speed (this has a high chance of working given that all the folds in cross-validation seem to give the same results anyway)"
   ]
  },
  {
   "cell_type": "code",
   "execution_count": 1,
   "metadata": {
    "ExecuteTime": {
     "end_time": "2021-02-08T12:41:43.425206Z",
     "start_time": "2021-02-08T12:41:40.327251Z"
    },
    "colab": {
     "base_uri": "https://localhost:8080/"
    },
    "executionInfo": {
     "elapsed": 34805,
     "status": "ok",
     "timestamp": 1612368991534,
     "user": {
      "displayName": "Adam Murphy",
      "photoUrl": "https://lh3.googleusercontent.com/a-/AOh14GhrEUWR1gM_kMZc1JaOXZTsyHAIY7wGzIWe3pircVE=s64",
      "userId": "08787610892899884155"
     },
     "user_tz": 0
    },
    "id": "2qKb4IH1qiih",
    "outputId": "4f1b9920-8083-4694-e1ce-29ce24daba03"
   },
   "outputs": [],
   "source": [
    "import matplotlib.pyplot as plt\n",
    "import seaborn as sns\n",
    "import numpy as np\n",
    "import pandas as pd\n",
    "import pickle\n",
    "import lightgbm as lgb\n",
    "\n",
    "from pathlib import Path\n",
    "from lightgbm import LGBMClassifier\n",
    "from pprint import pprint\n",
    "\n",
    "from sklearn.metrics import mean_squared_error, f1_score\n",
    "from sklearn.pipeline import Pipeline\n",
    "from sklearn.preprocessing import StandardScaler\n",
    "from sklearn.model_selection import KFold, train_test_split, RandomizedSearchCV \n",
    "from sklearn.model_selection import cross_val_score, StratifiedKFold\n",
    "\n",
    "\n",
    "\n",
    "############ USE FOR GOOGLE COLAB ############\n",
    "# DATA_DIR = Path('/content/drive/MyDrive/Work/Delivery/Current/Earthquake_damage/data')\n",
    "# SUBMISSIONS_DIR = Path('drive/MyDrive/Work/Delivery/Current/Earthquake_damage/submissions')\n",
    "# MODEL_DIR = Path('/content/drive/MyDrive/Work/Delivery/Current/Earthquake_damage/models')\n",
    "\n",
    "# from google.colab import drive\n",
    "# drive.mount('/content/drive')\n",
    "#############################################\n",
    "\n",
    "\n",
    "### USE FOR LOCAL JUPYTER NOTEBOOKS ###\n",
    "DATA_DIR = Path('data')\n",
    "SUBMISSIONS_DIR = Path('submissions')\n",
    "MODEL_DIR = Path('models')\n",
    "#######################################\n",
    "\n",
    "# The code runs the same if working on Jupyter or Colab, just need to change the \n",
    "# dirs above\n",
    "\n",
    "X = pd.read_csv(DATA_DIR / 'train_values.csv', index_col='building_id')\n",
    "\n",
    "categorical_columns = X.select_dtypes(include='object').columns\n",
    "bool_columns = [col for col in X.columns if col.startswith('has')]\n",
    "X[categorical_columns] = X[categorical_columns].astype('category')\n",
    "X[bool_columns] = X[bool_columns].astype('bool')\n",
    "\n",
    "X = pd.get_dummies(X)\n",
    "y = pd.read_csv(DATA_DIR / 'train_labels.csv', index_col='building_id')"
   ]
  },
  {
   "cell_type": "code",
   "execution_count": 2,
   "metadata": {
    "ExecuteTime": {
     "end_time": "2021-02-08T12:41:43.429916Z",
     "start_time": "2021-02-08T12:41:43.426669Z"
    },
    "executionInfo": {
     "elapsed": 687,
     "status": "ok",
     "timestamp": 1612369011594,
     "user": {
      "displayName": "Adam Murphy",
      "photoUrl": "https://lh3.googleusercontent.com/a-/AOh14GhrEUWR1gM_kMZc1JaOXZTsyHAIY7wGzIWe3pircVE=s64",
      "userId": "08787610892899884155"
     },
     "user_tz": 0
    },
    "id": "Ixqzi1QxrV1H"
   },
   "outputs": [],
   "source": [
    "sns.set()"
   ]
  },
  {
   "cell_type": "code",
   "execution_count": 3,
   "metadata": {
    "ExecuteTime": {
     "end_time": "2021-02-08T12:41:44.422305Z",
     "start_time": "2021-02-08T12:41:43.432049Z"
    },
    "executionInfo": {
     "elapsed": 1977,
     "status": "ok",
     "timestamp": 1612369239753,
     "user": {
      "displayName": "Adam Murphy",
      "photoUrl": "https://lh3.googleusercontent.com/a-/AOh14GhrEUWR1gM_kMZc1JaOXZTsyHAIY7wGzIWe3pircVE=s64",
      "userId": "08787610892899884155"
     },
     "user_tz": 0
    },
    "id": "5HNp326nrqCQ"
   },
   "outputs": [],
   "source": [
    "X_train, X_val, y_train, y_val = train_test_split(X, y, test_size=0.33,\n",
    "                                                  random_state=42, stratify=y,\n",
    "                                                  shuffle=True)"
   ]
  },
  {
   "cell_type": "code",
   "execution_count": 4,
   "metadata": {
    "ExecuteTime": {
     "end_time": "2021-02-08T12:41:44.448954Z",
     "start_time": "2021-02-08T12:41:44.423859Z"
    },
    "colab": {
     "base_uri": "https://localhost:8080/"
    },
    "executionInfo": {
     "elapsed": 493,
     "status": "ok",
     "timestamp": 1612370467159,
     "user": {
      "displayName": "Adam Murphy",
      "photoUrl": "https://lh3.googleusercontent.com/a-/AOh14GhrEUWR1gM_kMZc1JaOXZTsyHAIY7wGzIWe3pircVE=s64",
      "userId": "08787610892899884155"
     },
     "user_tz": 0
    },
    "id": "jcLnSf11wevx",
    "outputId": "ee3435fa-c781-413e-d87a-ee02cc0739eb"
   },
   "outputs": [
    {
     "data": {
      "text/plain": [
       "damage_grade\n",
       "1               0.096408\n",
       "2               0.568914\n",
       "3               0.334678\n",
       "dtype: float64"
      ]
     },
     "execution_count": 4,
     "metadata": {},
     "output_type": "execute_result"
    }
   ],
   "source": [
    "y_val.value_counts(normalize=True, sort=False)"
   ]
  },
  {
   "cell_type": "code",
   "execution_count": 5,
   "metadata": {
    "ExecuteTime": {
     "end_time": "2021-02-08T12:41:44.459704Z",
     "start_time": "2021-02-08T12:41:44.451064Z"
    },
    "colab": {
     "base_uri": "https://localhost:8080/"
    },
    "executionInfo": {
     "elapsed": 1244,
     "status": "ok",
     "timestamp": 1612370481045,
     "user": {
      "displayName": "Adam Murphy",
      "photoUrl": "https://lh3.googleusercontent.com/a-/AOh14GhrEUWR1gM_kMZc1JaOXZTsyHAIY7wGzIWe3pircVE=s64",
      "userId": "08787610892899884155"
     },
     "user_tz": 0
    },
    "id": "MabJc7BzxOhp",
    "outputId": "c973f6e7-8013-47cc-cd79-26ad3a53d658"
   },
   "outputs": [
    {
     "data": {
      "text/plain": [
       "damage_grade\n",
       "1               0.096408\n",
       "2               0.568911\n",
       "3               0.334681\n",
       "dtype: float64"
      ]
     },
     "execution_count": 5,
     "metadata": {},
     "output_type": "execute_result"
    }
   ],
   "source": [
    "y_train.value_counts(normalize=True, sort=False)"
   ]
  },
  {
   "cell_type": "markdown",
   "metadata": {
    "id": "8p0bwjUvxTt_"
   },
   "source": [
    "Very similar distribution of data. Good."
   ]
  },
  {
   "cell_type": "code",
   "execution_count": 6,
   "metadata": {
    "ExecuteTime": {
     "end_time": "2021-02-08T12:41:44.464013Z",
     "start_time": "2021-02-08T12:41:44.461396Z"
    },
    "executionInfo": {
     "elapsed": 899,
     "status": "ok",
     "timestamp": 1612370227878,
     "user": {
      "displayName": "Adam Murphy",
      "photoUrl": "https://lh3.googleusercontent.com/a-/AOh14GhrEUWR1gM_kMZc1JaOXZTsyHAIY7wGzIWe3pircVE=s64",
      "userId": "08787610892899884155"
     },
     "user_tz": 0
    },
    "id": "8dc2Np0bwMF8"
   },
   "outputs": [],
   "source": [
    "top_14_features = ['geo_level_1_id', 'geo_level_2_id', 'geo_level_3_id', \n",
    "                    'count_floors_pre_eq', 'age'\t, 'area_percentage'\t, \n",
    "                    'height_percentage', \n",
    "                    'has_superstructure_mud_mortar_stone',\n",
    "                    'has_superstructure_stone_flag', \n",
    "                    'has_superstructure_mud_mortar_brick',\n",
    "                    'has_superstructure_cement_mortar_brick',\n",
    "                    'has_superstructure_timber', 'count_families',\n",
    "                    'other_floor_type_q']"
   ]
  },
  {
   "cell_type": "code",
   "execution_count": 7,
   "metadata": {
    "ExecuteTime": {
     "end_time": "2021-02-08T12:41:44.468668Z",
     "start_time": "2021-02-08T12:41:44.465673Z"
    },
    "executionInfo": {
     "elapsed": 1067,
     "status": "ok",
     "timestamp": 1612370255398,
     "user": {
      "displayName": "Adam Murphy",
      "photoUrl": "https://lh3.googleusercontent.com/a-/AOh14GhrEUWR1gM_kMZc1JaOXZTsyHAIY7wGzIWe3pircVE=s64",
      "userId": "08787610892899884155"
     },
     "user_tz": 0
    },
    "id": "JqDSbKIusXFm"
   },
   "outputs": [],
   "source": [
    "def calc_f1_score_X_val(model):\n",
    "    y_pred = model.predict(X_val[top_14_features])\n",
    "    return f1_score(y_val, y_pred, average='micro')\n",
    "\n",
    "def calc_f1_score_X(model):\n",
    "    y_pred = model.predict(X[top_14_features])\n",
    "    return f1_score(y, y_pred, average='micro')"
   ]
  },
  {
   "cell_type": "code",
   "execution_count": 8,
   "metadata": {
    "ExecuteTime": {
     "end_time": "2021-02-08T12:41:44.475204Z",
     "start_time": "2021-02-08T12:41:44.470959Z"
    }
   },
   "outputs": [],
   "source": [
    "def init_clfs_dict():\n",
    "    \"\"\"\n",
    "    Quickly initialize untrained versions of the classifiers (and their\n",
    "    submission scores) in dict form to aid in model evaluation\n",
    "    \"\"\"\n",
    "    LGBM_01_30_SUBMISSION_SCORE = 0.7397\n",
    "    LGBM_02_02_SUBMISSION_SCORE = 0.7407\n",
    "    LGBM_02_08_SUBMISSION_SCORE = 0.7335\n",
    "\n",
    "    lgbm_01_30 = LGBMClassifier(boosting_type='goss', \n",
    "                                learning_rate=0.2, \n",
    "                                min_child_samples=40, \n",
    "                                n_estimators=330, \n",
    "                                num_leaves=90,\n",
    "                               random_state=42)\n",
    "\n",
    "    lgbm_02_02 = LGBMClassifier(boosting_type='goss', \n",
    "                                learning_rate=0.2, \n",
    "                                min_child_samples=40, \n",
    "                                n_estimators=240, \n",
    "                                num_leaves=120,\n",
    "                                random_state=42)\n",
    "\n",
    "    lgbm_02_08 = LGBMClassifier(boosting_type='goss',\n",
    "                               learning_rate=0.1,\n",
    "                               min_child_samples=70,\n",
    "                               n_estimators=400,\n",
    "                               num_leaves=120,\n",
    "                               random_state=42)\n",
    "    \n",
    "    clf_dict = {'lgbm_01_30': [lgbm_01_30, LGBM_01_30_SUBMISSION_SCORE], \n",
    "                'lgbm_02_02': [lgbm_02_02, LGBM_02_02_SUBMISSION_SCORE],\n",
    "                'lgbm_02_08': [lgbm_02_08, LGBM_02_08_SUBMISSION_SCORE]}\n",
    "    \n",
    "    return clf_dict"
   ]
  },
  {
   "cell_type": "code",
   "execution_count": 9,
   "metadata": {
    "ExecuteTime": {
     "end_time": "2021-02-08T12:42:27.308709Z",
     "start_time": "2021-02-08T12:41:44.476861Z"
    }
   },
   "outputs": [
    {
     "name": "stdout",
     "output_type": "stream",
     "text": [
      "F1_SCORES - FIT_PREDICT USING X_TRAIN AND X_VAL\n",
      "lgbm_01_30 val score (on X_val): 0.7244502843056314\n",
      "lgbm_01_30 submission score:     0.7397 \n",
      "\n",
      "lgbm_02_02 val score (on X_val): 0.7247526134024814\n",
      "lgbm_02_02 submission score:     0.7407 \n",
      "\n",
      "lgbm_02_08 val score (on X_val): 0.7334736450423841\n",
      "lgbm_02_08 submission score:     0.7335 \n",
      "\n"
     ]
    }
   ],
   "source": [
    "clfs = init_clfs_dict()\n",
    "\n",
    "print('F1_SCORES - FIT_PREDICT USING X_TRAIN AND X_VAL')\n",
    "\n",
    "for clf_name, clf_and_submission_score in clfs.items():\n",
    "    clf = clf_and_submission_score[0]\n",
    "    submission_score = clf_and_submission_score[1]\n",
    "    \n",
    "    clf.fit(X_train[top_14_features], np.ravel(y_train), verbose=10)\n",
    "    y_pred = clf.predict(X_val[top_14_features])\n",
    "    val_score = f1_score(y_val, y_pred, average='micro')\n",
    "    \n",
    "    print(f'{clf_name} val score (on X_val):'  , val_score)\n",
    "    print(f'{clf_name} submission score:    ', submission_score, '\\n')"
   ]
  },
  {
   "cell_type": "markdown",
   "metadata": {},
   "source": [
    "Clearly `lgbm_02_08` is overfitting the data (we could tell this perhaps from the huge number of estimators it is using). "
   ]
  },
  {
   "cell_type": "code",
   "execution_count": 10,
   "metadata": {
    "ExecuteTime": {
     "end_time": "2021-02-08T12:42:55.259841Z",
     "start_time": "2021-02-08T12:42:27.310269Z"
    }
   },
   "outputs": [
    {
     "name": "stdout",
     "output_type": "stream",
     "text": [
      "F1_SCORES - PREDICT USING X\n",
      "lgbm_01_30 val score (on X): 0.7761942586559529\n",
      "lgbm_01_30 submission score: 0.7397 \n",
      "\n",
      "lgbm_02_02 val score (on X): 0.776355424576268\n",
      "lgbm_02_02 submission score: 0.7407 \n",
      "\n",
      "lgbm_02_08 val score (on X): 0.776186584088319\n",
      "lgbm_02_08 submission score: 0.7335 \n",
      "\n"
     ]
    }
   ],
   "source": [
    "print('F1_SCORES - PREDICT USING X')\n",
    "\n",
    "for clf_name, clf_and_submission_score in clfs.items():\n",
    "    clf = clf_and_submission_score[0]\n",
    "    submission_score = clf_and_submission_score[1]\n",
    "    \n",
    "    y_pred = clf.predict(X[top_14_features])\n",
    "    X_val_score = f1_score(y, y_pred, average='micro')\n",
    "\n",
    "    print(f'{clf_name} val score (on X):', X_val_score)\n",
    "    print(f'{clf_name} submission score:', submission_score, '\\n')"
   ]
  },
  {
   "cell_type": "markdown",
   "metadata": {
    "ExecuteTime": {
     "end_time": "2021-02-05T14:19:25.666414Z",
     "start_time": "2021-02-05T14:19:25.662355Z"
    }
   },
   "source": [
    "This is good! \n",
    "\n",
    "Now we see that if we make predictions on `X` as a whole, we see that the models now come out in the correct order. However, the difference between the models is slight and `lgbm_02_08` was only 0.00133 lower than `lgbm_02_02`. Moreover, `lgbm_02_02` is only 0.0001266 higher than `lgbm_01_30` which isn't ideal. What if we do cross-validation?"
   ]
  },
  {
   "cell_type": "code",
   "execution_count": 11,
   "metadata": {
    "ExecuteTime": {
     "end_time": "2021-02-08T12:49:19.509749Z",
     "start_time": "2021-02-08T12:42:55.262076Z"
    }
   },
   "outputs": [
    {
     "name": "stdout",
     "output_type": "stream",
     "text": [
      "F1_SCORES - 10 FOLD STRATIFIED CROSS-VALIDATION\n",
      "lgbm_01_30 f1_score        : 0.7269 (0.002)\n",
      "lgbm_01_30 submission score: 0.7397 \n",
      "\n",
      "lgbm_02_02 f1_score        : 0.7268 (0.003)\n",
      "lgbm_02_02 submission score: 0.7407 \n",
      "\n",
      "lgbm_02_08 f1_score        : 0.7355 (0.003)\n",
      "lgbm_02_08 submission score: 0.7335 \n",
      "\n"
     ]
    }
   ],
   "source": [
    "clfs = init_clfs_dict()\n",
    "\n",
    "print('F1_SCORES - 10 FOLD STRATIFIED CROSS-VALIDATION')\n",
    "\n",
    "for clf_name, clf_and_submission_score in clfs.items():\n",
    "    clf = clf_and_submission_score[0]\n",
    "    submission_score = clf_and_submission_score[1]\n",
    "    \n",
    "#     kfold = KFold(n_splits=10, random_state=7, shuffle=True)\n",
    "    results = cross_val_score(clf, X[top_14_features], np.ravel(y),\n",
    "                             cv=10, scoring='f1_micro', n_jobs=-1,\n",
    "                             verbose=0)\n",
    "\n",
    "    print(f'{clf_name} f1_score        : {results.mean():.4f} ({results.std():.3f})')\n",
    "    print(f'{clf_name} submission score:', submission_score, '\\n')"
   ]
  },
  {
   "cell_type": "code",
   "execution_count": 12,
   "metadata": {
    "ExecuteTime": {
     "end_time": "2021-02-08T12:49:19.894738Z",
     "start_time": "2021-02-08T12:49:19.513288Z"
    },
    "colab": {
     "base_uri": "https://localhost:8080/"
    },
    "executionInfo": {
     "elapsed": 3125,
     "status": "ok",
     "timestamp": 1612370259624,
     "user": {
      "displayName": "Adam Murphy",
      "photoUrl": "https://lh3.googleusercontent.com/a-/AOh14GhrEUWR1gM_kMZc1JaOXZTsyHAIY7wGzIWe3pircVE=s64",
      "userId": "08787610892899884155"
     },
     "user_tz": 0
    },
    "id": "JmwJtsYzvwVS",
    "outputId": "ac75e721-a476-4c49-d362-004e25896a2a"
   },
   "outputs": [
    {
     "ename": "NameError",
     "evalue": "name 'lgbm_01_30' is not defined",
     "output_type": "error",
     "traceback": [
      "\u001b[0;31m---------------------------------------------------------------------------\u001b[0m",
      "\u001b[0;31mNameError\u001b[0m                                 Traceback (most recent call last)",
      "\u001b[0;32m<ipython-input-12-fe4899ecfcc0>\u001b[0m in \u001b[0;36m<module>\u001b[0;34m\u001b[0m\n\u001b[0;32m----> 1\u001b[0;31m \u001b[0mcalc_f1_score_X\u001b[0m\u001b[0;34m(\u001b[0m\u001b[0mlgbm_01_30\u001b[0m\u001b[0;34m)\u001b[0m\u001b[0;34m\u001b[0m\u001b[0;34m\u001b[0m\u001b[0m\n\u001b[0m",
      "\u001b[0;31mNameError\u001b[0m: name 'lgbm_01_30' is not defined"
     ]
    }
   ],
   "source": [
    "calc_f1_score_X(lgbm_01_30)"
   ]
  },
  {
   "cell_type": "code",
   "execution_count": null,
   "metadata": {
    "ExecuteTime": {
     "end_time": "2021-02-08T12:49:19.897352Z",
     "start_time": "2021-02-08T12:41:40.350Z"
    },
    "colab": {
     "base_uri": "https://localhost:8080/"
    },
    "executionInfo": {
     "elapsed": 1983,
     "status": "ok",
     "timestamp": 1612370333771,
     "user": {
      "displayName": "Adam Murphy",
      "photoUrl": "https://lh3.googleusercontent.com/a-/AOh14GhrEUWR1gM_kMZc1JaOXZTsyHAIY7wGzIWe3pircVE=s64",
      "userId": "08787610892899884155"
     },
     "user_tz": 0
    },
    "id": "z6k8-Dbwv7_Q",
    "outputId": "f1817ca5-2b30-4b57-912c-1d13f7c91f59"
   },
   "outputs": [],
   "source": [
    "calc_f1_score_X(lgbm_02_02)"
   ]
  },
  {
   "cell_type": "code",
   "execution_count": null,
   "metadata": {
    "ExecuteTime": {
     "end_time": "2021-02-08T12:49:19.898610Z",
     "start_time": "2021-02-08T12:41:40.352Z"
    }
   },
   "outputs": [],
   "source": [
    "calc_f1_score_X(lgbm_02_08)"
   ]
  },
  {
   "cell_type": "markdown",
   "metadata": {
    "id": "i8sEciMzw0tA"
   },
   "source": [
    "The above scores are BAD representations. Probably because they have been trained on this data. Let's try LightGBM with the above parameters but just train on the training data above. "
   ]
  },
  {
   "cell_type": "code",
   "execution_count": null,
   "metadata": {
    "ExecuteTime": {
     "end_time": "2021-02-08T12:49:19.899581Z",
     "start_time": "2021-02-08T12:41:40.354Z"
    },
    "colab": {
     "base_uri": "https://localhost:8080/"
    },
    "executionInfo": {
     "elapsed": 65171,
     "status": "ok",
     "timestamp": 1612371061885,
     "user": {
      "displayName": "Adam Murphy",
      "photoUrl": "https://lh3.googleusercontent.com/a-/AOh14GhrEUWR1gM_kMZc1JaOXZTsyHAIY7wGzIWe3pircVE=s64",
      "userId": "08787610892899884155"
     },
     "user_tz": 0
    },
    "id": "WSinkmuZwsgr",
    "outputId": "6b9809d3-b37a-448a-9c76-e46568cdf262"
   },
   "outputs": [],
   "source": [
    "# clf_30 = LGBMClassifier(boosting_type='goss', learning_rate=0.2, \n",
    "#                         min_child_samples=40, n_estimators=330, num_leaves=90)\n",
    "\n",
    "# clf_02 = LGBMClassifier(boosting_type='goss', learning_rate=0.2, \n",
    "#                         min_child_samples=40, n_estimators=240, num_leaves=120)\n",
    "\n",
    "# clf_30.fit(X_train[top_14_features], np.ravel(y_train))\n",
    "# clf_02.fit(X_train[top_14_features], np.ravel(y_train))\n",
    "\n",
    "# print('30 F1 validation score:', calc_f1_score(clf_30))\n",
    "# print('02 F1 validation score', calc_f1_score(clf_02))"
   ]
  },
  {
   "cell_type": "markdown",
   "metadata": {
    "id": "-S8ZhoYuz8eW"
   },
   "source": [
    "Try doing KFold cross-val with 5 folds and seeing if this makes a difference."
   ]
  },
  {
   "cell_type": "code",
   "execution_count": null,
   "metadata": {
    "id": "D5kpwBuDzJMT"
   },
   "outputs": [],
   "source": []
  }
 ],
 "metadata": {
  "colab": {
   "authorship_tag": "ABX9TyPFeiygnSDGSZuGi70gjF2A",
   "collapsed_sections": [],
   "name": "Creating Validation Set.ipynb",
   "provenance": []
  },
  "kernelspec": {
   "display_name": "Python 3",
   "language": "python",
   "name": "python3"
  },
  "language_info": {
   "codemirror_mode": {
    "name": "ipython",
    "version": 3
   },
   "file_extension": ".py",
   "mimetype": "text/x-python",
   "name": "python",
   "nbconvert_exporter": "python",
   "pygments_lexer": "ipython3",
   "version": "3.7.9"
  },
  "toc": {
   "base_numbering": 1,
   "nav_menu": {},
   "number_sections": true,
   "sideBar": true,
   "skip_h1_title": false,
   "title_cell": "Table of Contents",
   "title_sidebar": "Contents",
   "toc_cell": false,
   "toc_position": {},
   "toc_section_display": true,
   "toc_window_display": false
  },
  "varInspector": {
   "cols": {
    "lenName": 16,
    "lenType": 16,
    "lenVar": 40
   },
   "kernels_config": {
    "python": {
     "delete_cmd_postfix": "",
     "delete_cmd_prefix": "del ",
     "library": "var_list.py",
     "varRefreshCmd": "print(var_dic_list())"
    },
    "r": {
     "delete_cmd_postfix": ") ",
     "delete_cmd_prefix": "rm(",
     "library": "var_list.r",
     "varRefreshCmd": "cat(var_dic_list()) "
    }
   },
   "types_to_exclude": [
    "module",
    "function",
    "builtin_function_or_method",
    "instance",
    "_Feature"
   ],
   "window_display": false
  }
 },
 "nbformat": 4,
 "nbformat_minor": 1
}
