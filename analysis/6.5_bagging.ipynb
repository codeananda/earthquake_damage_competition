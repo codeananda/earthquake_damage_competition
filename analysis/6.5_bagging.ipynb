{
 "cells": [
  {
   "cell_type": "markdown",
   "id": "developing-stable",
   "metadata": {
    "id": "tough-museum"
   },
   "source": [
    "# Bagging\n",
    "\n",
    "Let's implement some bagged LGBM models"
   ]
  },
  {
   "cell_type": "code",
   "execution_count": 1,
   "id": "universal-roommate",
   "metadata": {
    "ExecuteTime": {
     "end_time": "2021-03-16T17:13:31.986030Z",
     "start_time": "2021-03-16T17:13:27.789601Z"
    }
   },
   "outputs": [
    {
     "name": "stderr",
     "output_type": "stream",
     "text": [
      "\u001b[34m\u001b[1mwandb\u001b[0m: Currently logged in as: \u001b[33mtheadammurphy\u001b[0m (use `wandb login --relogin` to force relogin)\n"
     ]
    }
   ],
   "source": [
    "# from google.colab import drive\n",
    "# drive.mount('/content/drive')\n",
    "\n",
    "%load_ext autoreload\n",
    "%autoreload 2\n",
    "\n",
    "from helpers import preprocess_data_lgbm, lgb_f1_micro\n",
    "\n",
    "import lightgbm as lgb\n",
    "from lightgbm import LGBMClassifier\n",
    "import matplotlib.pyplot as plt\n",
    "import seaborn as sns\n",
    "import numpy as np\n",
    "import pandas as pd\n",
    "import pickle\n",
    "from pathlib import Path\n",
    "from tqdm.notebook import trange, tqdm\n",
    "from sklearn.model_selection import StratifiedKFold, train_test_split\n",
    "\n",
    "import wandb\n",
    "from wandb.lightgbm import wandb_callback\n",
    "wandb.login()\n",
    "\n",
    "sns.set()\n",
    "\n",
    "### USE FOR LOCAL JUPYTER NOTEBOOKS ###\n",
    "DOWNLOAD_DIR = Path('../download')\n",
    "DATA_DIR = Path('../data')\n",
    "SUBMISSIONS_DIR = Path('../submissions')\n",
    "MODEL_DIR = Path('../models')\n",
    "#######################################\n",
    "\n",
    "X, y, cat_cols, feature_names = preprocess_data_lgbm()"
   ]
  },
  {
   "cell_type": "code",
   "execution_count": null,
   "id": "according-preference",
   "metadata": {
    "id": "according-preference"
   },
   "outputs": [],
   "source": []
  },
  {
   "cell_type": "code",
   "execution_count": null,
   "id": "choice-system",
   "metadata": {
    "ExecuteTime": {
     "end_time": "2021-03-09T11:59:23.309994Z",
     "start_time": "2021-03-09T11:58:18.560412Z"
    },
    "id": "choice-system",
    "outputId": "63918a36-8caf-4649-a80f-14848c3241a4"
   },
   "outputs": [
    {
     "name": "stdout",
     "output_type": "stream",
     "text": [
      "Bag: 0\n",
      "Bag: 1\n",
      "Bag: 2\n",
      "Bag: 3\n",
      "Bag: 4\n",
      "Bag: 5\n",
      "Bag: 6\n",
      "Bag: 7\n",
      "Bag: 8\n",
      "Bag: 9\n"
     ]
    }
   ],
   "source": [
    "param = {'num_leaves': 120,\n",
    "         'min_child_samples': 40,\n",
    "         'learning_rate': 0.2,\n",
    "         'boosting_type': 'goss',\n",
    "         'objective': 'multiclass',\n",
    "         'num_class': 3,\n",
    "         'verbosity': -1,\n",
    "         'num_threads': 8,\n",
    "         'seed': 1}\n",
    "\n",
    "bags = 50\n",
    "bagged_prediction = np.zeros(X_test.shape[0])\n",
    "\n",
    "for n in range(bags):\n",
    "    print(f'Bag: {n}')\n",
    "    param['seed'] += n\n",
    "    booster = lgb.train(param,\n",
    "                        train_data,\n",
    "                        30,\n",
    "                        categorical_feature=list(cat_cols_plus_geo),\n",
    "                        feval=lgb_f1_micro)\n",
    "    \n",
    "    prob_preds = booster.predict(ct.transform(X_test))\n",
    "    preds = [np.argmax(p) + 1 for p in prob_preds]\n",
    "    bagged_prediction += preds"
   ]
  },
  {
   "cell_type": "markdown",
   "id": "silent-induction",
   "metadata": {
    "id": "silent-induction"
   },
   "source": [
    "How am I supposed to know if this model is better without testing it beforehand? Let's just make a model and submit it and see what the score is first and then worry about more submissions after. If I have a range of submissions I want to try, I can just build them up and submit new ones each day. I can even create a list of those I want to submit"
   ]
  },
  {
   "cell_type": "code",
   "execution_count": null,
   "id": "going-findings",
   "metadata": {
    "ExecuteTime": {
     "end_time": "2021-03-09T11:59:26.957587Z",
     "start_time": "2021-03-09T11:59:26.947620Z"
    },
    "id": "going-findings",
    "outputId": "aa9e4420-1b8e-4dfa-a2dc-974107ca9e23"
   },
   "outputs": [
    {
     "data": {
      "text/plain": [
       "array([1. , 1.1, 1.2, 1.3, 1.4, 1.5, 1.6, 1.7, 1.8, 1.9, 2. , 2.1, 2.2,\n",
       "       2.3, 2.4, 2.5, 2.6, 2.7, 2.8, 2.9, 3. ])"
      ]
     },
     "execution_count": 33,
     "metadata": {
      "tags": []
     },
     "output_type": "execute_result"
    }
   ],
   "source": [
    "np.unique(bagged_prediction / 10)"
   ]
  },
  {
   "cell_type": "code",
   "execution_count": null,
   "id": "sound-ecuador",
   "metadata": {
    "ExecuteTime": {
     "end_time": "2021-03-09T11:59:29.955054Z",
     "start_time": "2021-03-09T11:59:29.950773Z"
    },
    "id": "sound-ecuador"
   },
   "outputs": [],
   "source": [
    "bagged_prediction /= 10"
   ]
  },
  {
   "cell_type": "code",
   "execution_count": null,
   "id": "arabic-characterization",
   "metadata": {
    "ExecuteTime": {
     "end_time": "2021-03-09T11:59:32.219488Z",
     "start_time": "2021-03-09T11:59:32.106157Z"
    },
    "id": "arabic-characterization"
   },
   "outputs": [],
   "source": [
    "rounded_preds = [int(round(pred)) for pred in bagged_prediction]"
   ]
  },
  {
   "cell_type": "code",
   "execution_count": null,
   "id": "seeing-omega",
   "metadata": {
    "ExecuteTime": {
     "end_time": "2021-03-09T12:00:24.731322Z",
     "start_time": "2021-03-09T12:00:24.554073Z"
    },
    "id": "seeing-omega"
   },
   "outputs": [],
   "source": [
    "sub_format = pd.read_csv(DOWNLOAD_DIR / 'submission_format.csv',\n",
    "                         index_col='building_id')\n",
    "\n",
    "my_sub = pd.DataFrame(data=rounded_preds,\n",
    "                      columns=sub_format.columns,\n",
    "                      index=sub_format.index)\n",
    "\n",
    "title = '03-09 - LGBM API - lgbm_02_02 hyperparams - 10 bags, 30 rounds'\n",
    "\n",
    "my_sub.to_csv(SUBMISSIONS_DIR / f'{title}.csv')"
   ]
  },
  {
   "cell_type": "markdown",
   "id": "phantom-isaac",
   "metadata": {
    "id": "phantom-isaac"
   },
   "source": [
    "Woo jumped to 0.7469 \n",
    "From 228 to 167"
   ]
  },
  {
   "cell_type": "code",
   "execution_count": null,
   "id": "bulgarian-essence",
   "metadata": {
    "ExecuteTime": {
     "end_time": "2021-03-09T12:12:21.027988Z",
     "start_time": "2021-03-09T12:12:21.010157Z"
    },
    "id": "bulgarian-essence"
   },
   "outputs": [],
   "source": [
    "def build_and_submit_bagged_lgbm(num_bags, title):\n",
    "    param = {'num_leaves': 120,\n",
    "         'min_child_samples': 40,\n",
    "         'learning_rate': 0.2,\n",
    "         'boosting_type': 'goss',\n",
    "         'objective': 'multiclass',\n",
    "         'num_class': 3,\n",
    "         'verbosity': -1,\n",
    "         'num_threads': 8,\n",
    "         'seed': 1}\n",
    "\n",
    "    bagged_prediction = np.zeros(X_test.shape[0])\n",
    "\n",
    "    for n in range(num_bags):\n",
    "        print(f'Bag: {n}')\n",
    "        param['seed'] += n\n",
    "        booster = lgb.train(param,\n",
    "                            train_data,\n",
    "                            30,\n",
    "                            categorical_feature=list(cat_cols_plus_geo),\n",
    "                            feval=lgb_f1_micro)\n",
    "\n",
    "        prob_preds = booster.predict(ct.transform(X_test))\n",
    "        preds = [np.argmax(p) + 1 for p in prob_preds]\n",
    "        bagged_prediction += preds\n",
    "        \n",
    "    bagged_prediction /= num_bags\n",
    "    rounded_preds = [int(round(pred)) for pred in bagged_prediction]\n",
    "    \n",
    "    sub_format = pd.read_csv(DOWNLOAD_DIR / 'submission_format.csv',\n",
    "                         index_col='building_id')\n",
    "\n",
    "    my_sub = pd.DataFrame(data=rounded_preds,\n",
    "                          columns=sub_format.columns,\n",
    "                          index=sub_format.index)\n",
    "\n",
    "    my_sub.to_csv(SUBMISSIONS_DIR / f'{title}.csv')\n",
    "    print('Submission created successfully!')"
   ]
  },
  {
   "cell_type": "code",
   "execution_count": null,
   "id": "first-trainer",
   "metadata": {
    "ExecuteTime": {
     "end_time": "2021-03-09T12:17:18.873451Z",
     "start_time": "2021-03-09T12:12:56.882091Z"
    },
    "id": "first-trainer",
    "outputId": "2988f7e9-19ff-4e64-d0a2-c9827b0a67e5"
   },
   "outputs": [
    {
     "name": "stdout",
     "output_type": "stream",
     "text": [
      "Bag: 0\n",
      "Bag: 1\n",
      "Bag: 2\n",
      "Bag: 3\n",
      "Bag: 4\n",
      "Bag: 5\n",
      "Bag: 6\n",
      "Bag: 7\n",
      "Bag: 8\n",
      "Bag: 9\n",
      "Bag: 10\n",
      "Bag: 11\n",
      "Bag: 12\n",
      "Bag: 13\n",
      "Bag: 14\n",
      "Bag: 15\n",
      "Bag: 16\n",
      "Bag: 17\n",
      "Bag: 18\n",
      "Bag: 19\n",
      "Bag: 20\n",
      "Bag: 21\n",
      "Bag: 22\n",
      "Bag: 23\n",
      "Bag: 24\n",
      "Bag: 25\n",
      "Bag: 26\n",
      "Bag: 27\n",
      "Bag: 28\n",
      "Bag: 29\n",
      "Bag: 30\n",
      "Bag: 31\n",
      "Bag: 32\n",
      "Bag: 33\n",
      "Bag: 34\n",
      "Bag: 35\n",
      "Bag: 36\n",
      "Bag: 37\n",
      "Bag: 38\n",
      "Bag: 39\n",
      "Bag: 40\n",
      "Bag: 41\n",
      "Bag: 42\n",
      "Bag: 43\n",
      "Bag: 44\n",
      "Bag: 45\n",
      "Bag: 46\n",
      "Bag: 47\n",
      "Bag: 48\n",
      "Bag: 49\n",
      "Submission created successfully!\n"
     ]
    }
   ],
   "source": [
    "title = '03-09 - LGBM API - lgbm_02_02 hyperparams - 50 bags, 30 rounds'\n",
    "build_and_submit_bagged_lgbm(50, title)"
   ]
  },
  {
   "cell_type": "markdown",
   "id": "available-intermediate",
   "metadata": {
    "id": "available-intermediate"
   },
   "source": [
    "This got 0.7478!! From 168 to 132 (36 place jumps)"
   ]
  },
  {
   "cell_type": "code",
   "execution_count": null,
   "id": "metric-recommendation",
   "metadata": {
    "ExecuteTime": {
     "end_time": "2021-03-09T12:44:54.512907Z",
     "start_time": "2021-03-09T12:23:22.122467Z"
    },
    "id": "metric-recommendation",
    "outputId": "819f6811-599f-403a-e929-ca4815a52f87"
   },
   "outputs": [
    {
     "name": "stdout",
     "output_type": "stream",
     "text": [
      "Bag: 0\n",
      "Bag: 1\n",
      "Bag: 2\n",
      "Bag: 3\n",
      "Bag: 4\n",
      "Bag: 5\n",
      "Bag: 6\n",
      "Bag: 7\n",
      "Bag: 8\n",
      "Bag: 9\n",
      "Bag: 10\n",
      "Bag: 11\n",
      "Bag: 12\n",
      "Bag: 13\n",
      "Bag: 14\n",
      "Bag: 15\n",
      "Bag: 16\n",
      "Bag: 17\n",
      "Bag: 18\n",
      "Bag: 19\n",
      "Bag: 20\n",
      "Bag: 21\n",
      "Bag: 22\n",
      "Bag: 23\n",
      "Bag: 24\n",
      "Bag: 25\n",
      "Bag: 26\n",
      "Bag: 27\n",
      "Bag: 28\n",
      "Bag: 29\n",
      "Bag: 30\n",
      "Bag: 31\n",
      "Bag: 32\n",
      "Bag: 33\n",
      "Bag: 34\n",
      "Bag: 35\n",
      "Bag: 36\n",
      "Bag: 37\n",
      "Bag: 38\n",
      "Bag: 39\n",
      "Bag: 40\n",
      "Bag: 41\n",
      "Bag: 42\n",
      "Bag: 43\n",
      "Bag: 44\n",
      "Bag: 45\n",
      "Bag: 46\n",
      "Bag: 47\n",
      "Bag: 48\n",
      "Bag: 49\n",
      "Bag: 50\n",
      "Bag: 51\n",
      "Bag: 52\n",
      "Bag: 53\n",
      "Bag: 54\n",
      "Bag: 55\n",
      "Bag: 56\n",
      "Bag: 57\n",
      "Bag: 58\n",
      "Bag: 59\n",
      "Bag: 60\n",
      "Bag: 61\n",
      "Bag: 62\n",
      "Bag: 63\n",
      "Bag: 64\n",
      "Bag: 65\n",
      "Bag: 66\n",
      "Bag: 67\n",
      "Bag: 68\n",
      "Bag: 69\n",
      "Bag: 70\n",
      "Bag: 71\n",
      "Bag: 72\n",
      "Bag: 73\n",
      "Bag: 74\n",
      "Bag: 75\n",
      "Bag: 76\n",
      "Bag: 77\n",
      "Bag: 78\n",
      "Bag: 79\n",
      "Bag: 80\n",
      "Bag: 81\n",
      "Bag: 82\n",
      "Bag: 83\n",
      "Bag: 84\n",
      "Bag: 85\n",
      "Bag: 86\n",
      "Bag: 87\n",
      "Bag: 88\n",
      "Bag: 89\n",
      "Bag: 90\n",
      "Bag: 91\n",
      "Bag: 92\n",
      "Bag: 93\n",
      "Bag: 94\n",
      "Bag: 95\n",
      "Bag: 96\n",
      "Bag: 97\n",
      "Bag: 98\n",
      "Bag: 99\n",
      "Bag: 100\n",
      "Bag: 101\n",
      "Bag: 102\n",
      "Bag: 103\n",
      "Bag: 104\n",
      "Bag: 105\n",
      "Bag: 106\n",
      "Bag: 107\n",
      "Bag: 108\n",
      "Bag: 109\n",
      "Bag: 110\n",
      "Bag: 111\n",
      "Bag: 112\n",
      "Bag: 113\n",
      "Bag: 114\n",
      "Bag: 115\n",
      "Bag: 116\n",
      "Bag: 117\n",
      "Bag: 118\n",
      "Bag: 119\n",
      "Bag: 120\n",
      "Bag: 121\n",
      "Bag: 122\n",
      "Bag: 123\n",
      "Bag: 124\n",
      "Bag: 125\n",
      "Bag: 126\n",
      "Bag: 127\n",
      "Bag: 128\n",
      "Bag: 129\n",
      "Bag: 130\n",
      "Bag: 131\n",
      "Bag: 132\n",
      "Bag: 133\n",
      "Bag: 134\n",
      "Bag: 135\n",
      "Bag: 136\n",
      "Bag: 137\n",
      "Bag: 138\n",
      "Bag: 139\n",
      "Bag: 140\n",
      "Bag: 141\n",
      "Bag: 142\n",
      "Bag: 143\n",
      "Bag: 144\n",
      "Bag: 145\n",
      "Bag: 146\n",
      "Bag: 147\n",
      "Bag: 148\n",
      "Bag: 149\n",
      "Bag: 150\n",
      "Bag: 151\n",
      "Bag: 152\n",
      "Bag: 153\n",
      "Bag: 154\n",
      "Bag: 155\n",
      "Bag: 156\n",
      "Bag: 157\n",
      "Bag: 158\n",
      "Bag: 159\n",
      "Bag: 160\n",
      "Bag: 161\n",
      "Bag: 162\n",
      "Bag: 163\n",
      "Bag: 164\n",
      "Bag: 165\n",
      "Bag: 166\n",
      "Bag: 167\n",
      "Bag: 168\n",
      "Bag: 169\n",
      "Bag: 170\n",
      "Bag: 171\n",
      "Bag: 172\n",
      "Bag: 173\n",
      "Bag: 174\n",
      "Bag: 175\n",
      "Bag: 176\n",
      "Bag: 177\n",
      "Bag: 178\n",
      "Bag: 179\n",
      "Bag: 180\n",
      "Bag: 181\n",
      "Bag: 182\n",
      "Bag: 183\n",
      "Bag: 184\n",
      "Bag: 185\n",
      "Bag: 186\n",
      "Bag: 187\n",
      "Bag: 188\n",
      "Bag: 189\n",
      "Bag: 190\n",
      "Bag: 191\n",
      "Bag: 192\n",
      "Bag: 193\n",
      "Bag: 194\n",
      "Bag: 195\n",
      "Bag: 196\n",
      "Bag: 197\n",
      "Bag: 198\n",
      "Bag: 199\n",
      "Bag: 200\n",
      "Bag: 201\n",
      "Bag: 202\n",
      "Bag: 203\n",
      "Bag: 204\n",
      "Bag: 205\n",
      "Bag: 206\n",
      "Bag: 207\n",
      "Bag: 208\n",
      "Bag: 209\n",
      "Bag: 210\n",
      "Bag: 211\n",
      "Bag: 212\n",
      "Bag: 213\n",
      "Bag: 214\n",
      "Bag: 215\n",
      "Bag: 216\n",
      "Bag: 217\n",
      "Bag: 218\n",
      "Bag: 219\n",
      "Bag: 220\n",
      "Bag: 221\n",
      "Bag: 222\n",
      "Bag: 223\n",
      "Bag: 224\n",
      "Bag: 225\n",
      "Bag: 226\n",
      "Bag: 227\n",
      "Bag: 228\n",
      "Bag: 229\n",
      "Bag: 230\n",
      "Bag: 231\n",
      "Bag: 232\n",
      "Bag: 233\n",
      "Bag: 234\n",
      "Bag: 235\n",
      "Bag: 236\n",
      "Bag: 237\n",
      "Bag: 238\n",
      "Bag: 239\n",
      "Bag: 240\n",
      "Bag: 241\n",
      "Bag: 242\n",
      "Bag: 243\n",
      "Bag: 244\n",
      "Bag: 245\n",
      "Bag: 246\n",
      "Bag: 247\n",
      "Bag: 248\n",
      "Bag: 249\n",
      "Submission created successfully!\n"
     ]
    }
   ],
   "source": [
    "title = '03-09 - LGBM API - lgbm_02_02 hyperparams - 250 bags, 30 rounds'\n",
    "build_and_submit_bagged_lgbm(250, title)"
   ]
  },
  {
   "cell_type": "markdown",
   "id": "informal-england",
   "metadata": {
    "id": "informal-england"
   },
   "source": [
    "This got 0.7482\n",
    "Climbed from 132 --> 115 (17 place jump)"
   ]
  },
  {
   "cell_type": "markdown",
   "id": "perceived-period",
   "metadata": {
    "id": "perceived-period"
   },
   "source": [
    "# Bagging Multiple Models\n",
    "\n",
    "Since these were so good, let's make loads of different good models and bag them together"
   ]
  },
  {
   "cell_type": "code",
   "execution_count": 12,
   "id": "cellular-bulgarian",
   "metadata": {
    "ExecuteTime": {
     "end_time": "2021-03-12T06:40:38.303739Z",
     "start_time": "2021-03-12T06:40:38.296509Z"
    },
    "executionInfo": {
     "elapsed": 764,
     "status": "ok",
     "timestamp": 1615485574155,
     "user": {
      "displayName": "Adam Murphy",
      "photoUrl": "https://lh3.googleusercontent.com/a-/AOh14GhrEUWR1gM_kMZc1JaOXZTsyHAIY7wGzIWe3pircVE=s64",
      "userId": "08787610892899884155"
     },
     "user_tz": -120
    },
    "id": "cellular-bulgarian"
   },
   "outputs": [],
   "source": [
    "def calc_bagged_preds(param, num_bags):\n",
    "    bagged_prediction = np.zeros(X_test.shape[0])\n",
    "\n",
    "    for n in trange(num_bags):\n",
    "#         if n % 25 == 0:\n",
    "#             print(f'    Bag {n} complete')\n",
    "        param['seed'] += n\n",
    "        booster = lgb.train(param,\n",
    "                            train_data,\n",
    "                            30, # should tune this as well but need valid data \n",
    "                            categorical_feature=list(cat_cols_plus_geo),\n",
    "                            feval=lgb_f1_micro)\n",
    "\n",
    "        prob_preds = booster.predict(ct.transform(X_test))\n",
    "        preds = [np.argmax(p) + 1 for p in prob_preds]\n",
    "        bagged_prediction += preds\n",
    "\n",
    "    bagged_prediction /= num_bags\n",
    "    rounded_preds = [int(round(pred)) for pred in bagged_prediction]\n",
    "    return rounded_preds\n",
    "\n",
    "\n",
    "def submit_preds(preds, title):\n",
    "    sub_format = pd.read_csv(DOWNLOAD_DIR / 'submission_format.csv',\n",
    "                             index_col='building_id')\n",
    "\n",
    "    my_sub = pd.DataFrame(data=preds,\n",
    "                          columns=sub_format.columns,\n",
    "                          index=sub_format.index)\n",
    "\n",
    "    my_sub.to_csv(SUBMISSIONS_DIR / f'{title}.csv')"
   ]
  },
  {
   "cell_type": "code",
   "execution_count": 13,
   "id": "complimentary-doctrine",
   "metadata": {
    "ExecuteTime": {
     "end_time": "2021-03-12T06:40:38.749525Z",
     "start_time": "2021-03-12T06:40:38.744306Z"
    },
    "executionInfo": {
     "elapsed": 405,
     "status": "ok",
     "timestamp": 1615485574483,
     "user": {
      "displayName": "Adam Murphy",
      "photoUrl": "https://lh3.googleusercontent.com/a-/AOh14GhrEUWR1gM_kMZc1JaOXZTsyHAIY7wGzIWe3pircVE=s64",
      "userId": "08787610892899884155"
     },
     "user_tz": -120
    },
    "id": "complimentary-doctrine"
   },
   "outputs": [],
   "source": [
    "def build_and_submit_bagged_ensemble_lgbm(n_models, n_bags, title):\n",
    "    \"\"\"\n",
    "    We will now not just bag one model but bag multiple models, so 50 different\n",
    "    esimators all grouped together. Clever.\n",
    "    \"\"\"\n",
    "    # The major hyperparams we will tune\n",
    "    num_leaves = np.arange(100, 230, 10)\n",
    "    num_iterations = np.arange(100, 400, 10)\n",
    "    min_child_samples = np.arange(30, 80, 5)\n",
    "    lr = np.array([0.1, 0.15, 0.2])\n",
    "    boosting_type = ['goss', 'dart']\n",
    "    \n",
    "    ensemble_predictions = np.zeros(X_test.shape[0])\n",
    "    \n",
    "    for i in range(n_models):\n",
    "        print(f'Making preds for estimator #{i}')\n",
    "        # Create new estimator\n",
    "        param = {'num_leaves': np.random.choice(num_leaves),\n",
    "#                  'num_iterations': np.random.choice(num_iterations),\n",
    "#                  'min_child_samples': np.random.choice(min_child_samples),\n",
    "                 'learning_rate': np.random.choice(lr),\n",
    "                 'boosting_type': np.random.choice(boosting_type),\n",
    "                 'objective': 'multiclass',\n",
    "                 'num_class': 3,\n",
    "                 'verbosity': -1,\n",
    "                 'num_threads': 8,\n",
    "                 'seed': 1}\n",
    "#                  'device': 'gpu'}\n",
    "        \n",
    "        bagged_preds = calc_bagged_preds(param, n_bags)\n",
    "        ensemble_predictions += bagged_preds\n",
    "    \n",
    "    ensemble_predictions /= n_models\n",
    "    rounded_preds = [int(round(pred)) for pred in ensemble_predictions]\n",
    "\n",
    "    submit_preds(rounded_preds, title)\n",
    "    print('Submission created successfully!')"
   ]
  },
  {
   "cell_type": "code",
   "execution_count": 14,
   "id": "entertaining-mathematics",
   "metadata": {
    "ExecuteTime": {
     "end_time": "2021-03-12T10:02:49.471687Z",
     "start_time": "2021-03-12T06:40:39.571324Z"
    },
    "colab": {
     "base_uri": "https://localhost:8080/",
     "height": 307
    },
    "executionInfo": {
     "elapsed": 1302,
     "status": "error",
     "timestamp": 1615485576133,
     "user": {
      "displayName": "Adam Murphy",
      "photoUrl": "https://lh3.googleusercontent.com/a-/AOh14GhrEUWR1gM_kMZc1JaOXZTsyHAIY7wGzIWe3pircVE=s64",
      "userId": "08787610892899884155"
     },
     "user_tz": -120
    },
    "id": "entertaining-mathematics",
    "outputId": "5fc9f5a6-2a7e-47a7-eacc-3e13f4277639",
    "scrolled": true
   },
   "outputs": [
    {
     "name": "stdout",
     "output_type": "stream",
     "text": [
      "Making preds for estimator #0\n"
     ]
    },
    {
     "data": {
      "application/vnd.jupyter.widget-view+json": {
       "model_id": "2e9001993f89488ebe46e5dd7e9754f5",
       "version_major": 2,
       "version_minor": 0
      },
      "text/plain": [
       "  0%|          | 0/100 [00:00<?, ?it/s]"
      ]
     },
     "metadata": {},
     "output_type": "display_data"
    },
    {
     "name": "stdout",
     "output_type": "stream",
     "text": [
      "Making preds for estimator #1\n"
     ]
    },
    {
     "data": {
      "application/vnd.jupyter.widget-view+json": {
       "model_id": "36a620d6658e4ca5a6b6e953e31c10d2",
       "version_major": 2,
       "version_minor": 0
      },
      "text/plain": [
       "  0%|          | 0/100 [00:00<?, ?it/s]"
      ]
     },
     "metadata": {},
     "output_type": "display_data"
    },
    {
     "name": "stdout",
     "output_type": "stream",
     "text": [
      "Making preds for estimator #2\n"
     ]
    },
    {
     "data": {
      "application/vnd.jupyter.widget-view+json": {
       "model_id": "d159d7c28bee44f18a4c82bc7fb92483",
       "version_major": 2,
       "version_minor": 0
      },
      "text/plain": [
       "  0%|          | 0/100 [00:00<?, ?it/s]"
      ]
     },
     "metadata": {},
     "output_type": "display_data"
    },
    {
     "name": "stdout",
     "output_type": "stream",
     "text": [
      "Making preds for estimator #3\n"
     ]
    },
    {
     "data": {
      "application/vnd.jupyter.widget-view+json": {
       "model_id": "74aefcc4c9364f2a8b1089b80af917e5",
       "version_major": 2,
       "version_minor": 0
      },
      "text/plain": [
       "  0%|          | 0/100 [00:00<?, ?it/s]"
      ]
     },
     "metadata": {},
     "output_type": "display_data"
    },
    {
     "name": "stdout",
     "output_type": "stream",
     "text": [
      "Making preds for estimator #4\n"
     ]
    },
    {
     "data": {
      "application/vnd.jupyter.widget-view+json": {
       "model_id": "71da04926e0d4207b6ddfad858e877b4",
       "version_major": 2,
       "version_minor": 0
      },
      "text/plain": [
       "  0%|          | 0/100 [00:00<?, ?it/s]"
      ]
     },
     "metadata": {},
     "output_type": "display_data"
    },
    {
     "name": "stdout",
     "output_type": "stream",
     "text": [
      "Making preds for estimator #5\n"
     ]
    },
    {
     "data": {
      "application/vnd.jupyter.widget-view+json": {
       "model_id": "c94e6798aa624c308ec5e81a0c894b01",
       "version_major": 2,
       "version_minor": 0
      },
      "text/plain": [
       "  0%|          | 0/100 [00:00<?, ?it/s]"
      ]
     },
     "metadata": {},
     "output_type": "display_data"
    },
    {
     "name": "stdout",
     "output_type": "stream",
     "text": [
      "Making preds for estimator #6\n"
     ]
    },
    {
     "data": {
      "application/vnd.jupyter.widget-view+json": {
       "model_id": "34e07b0f8b044517bbaad88ae973e690",
       "version_major": 2,
       "version_minor": 0
      },
      "text/plain": [
       "  0%|          | 0/100 [00:00<?, ?it/s]"
      ]
     },
     "metadata": {},
     "output_type": "display_data"
    },
    {
     "name": "stdout",
     "output_type": "stream",
     "text": [
      "Making preds for estimator #7\n"
     ]
    },
    {
     "data": {
      "application/vnd.jupyter.widget-view+json": {
       "model_id": "836e49ddcd86408ca0aac1379e844ca1",
       "version_major": 2,
       "version_minor": 0
      },
      "text/plain": [
       "  0%|          | 0/100 [00:00<?, ?it/s]"
      ]
     },
     "metadata": {},
     "output_type": "display_data"
    },
    {
     "name": "stdout",
     "output_type": "stream",
     "text": [
      "Making preds for estimator #8\n"
     ]
    },
    {
     "data": {
      "application/vnd.jupyter.widget-view+json": {
       "model_id": "1e6856c8210c4563a8b5d298a2427703",
       "version_major": 2,
       "version_minor": 0
      },
      "text/plain": [
       "  0%|          | 0/100 [00:00<?, ?it/s]"
      ]
     },
     "metadata": {},
     "output_type": "display_data"
    },
    {
     "name": "stdout",
     "output_type": "stream",
     "text": [
      "Making preds for estimator #9\n"
     ]
    },
    {
     "data": {
      "application/vnd.jupyter.widget-view+json": {
       "model_id": "3e8cb94003d44d0282a3aa244eb39c9c",
       "version_major": 2,
       "version_minor": 0
      },
      "text/plain": [
       "  0%|          | 0/100 [00:00<?, ?it/s]"
      ]
     },
     "metadata": {},
     "output_type": "display_data"
    },
    {
     "name": "stdout",
     "output_type": "stream",
     "text": [
      "Making preds for estimator #10\n"
     ]
    },
    {
     "data": {
      "application/vnd.jupyter.widget-view+json": {
       "model_id": "2c7df0d3b7e34f1faa25200a9222db0d",
       "version_major": 2,
       "version_minor": 0
      },
      "text/plain": [
       "  0%|          | 0/100 [00:00<?, ?it/s]"
      ]
     },
     "metadata": {},
     "output_type": "display_data"
    },
    {
     "name": "stdout",
     "output_type": "stream",
     "text": [
      "Making preds for estimator #11\n"
     ]
    },
    {
     "data": {
      "application/vnd.jupyter.widget-view+json": {
       "model_id": "b36587c098a4450e8a001441ca3cb9f5",
       "version_major": 2,
       "version_minor": 0
      },
      "text/plain": [
       "  0%|          | 0/100 [00:00<?, ?it/s]"
      ]
     },
     "metadata": {},
     "output_type": "display_data"
    },
    {
     "name": "stdout",
     "output_type": "stream",
     "text": [
      "Making preds for estimator #12\n"
     ]
    },
    {
     "data": {
      "application/vnd.jupyter.widget-view+json": {
       "model_id": "6dcdd26a5f2542eaa2444c5cade629bd",
       "version_major": 2,
       "version_minor": 0
      },
      "text/plain": [
       "  0%|          | 0/100 [00:00<?, ?it/s]"
      ]
     },
     "metadata": {},
     "output_type": "display_data"
    },
    {
     "name": "stdout",
     "output_type": "stream",
     "text": [
      "Making preds for estimator #13\n"
     ]
    },
    {
     "data": {
      "application/vnd.jupyter.widget-view+json": {
       "model_id": "97b6b4130c07464ebe20294605e9a99c",
       "version_major": 2,
       "version_minor": 0
      },
      "text/plain": [
       "  0%|          | 0/100 [00:00<?, ?it/s]"
      ]
     },
     "metadata": {},
     "output_type": "display_data"
    },
    {
     "name": "stdout",
     "output_type": "stream",
     "text": [
      "Making preds for estimator #14\n"
     ]
    },
    {
     "data": {
      "application/vnd.jupyter.widget-view+json": {
       "model_id": "c1a692f14be948deb7e564e1de9d6cb1",
       "version_major": 2,
       "version_minor": 0
      },
      "text/plain": [
       "  0%|          | 0/100 [00:00<?, ?it/s]"
      ]
     },
     "metadata": {},
     "output_type": "display_data"
    },
    {
     "name": "stdout",
     "output_type": "stream",
     "text": [
      "Making preds for estimator #15\n"
     ]
    },
    {
     "data": {
      "application/vnd.jupyter.widget-view+json": {
       "model_id": "d502181c14894557b9ef210b8ad394f0",
       "version_major": 2,
       "version_minor": 0
      },
      "text/plain": [
       "  0%|          | 0/100 [00:00<?, ?it/s]"
      ]
     },
     "metadata": {},
     "output_type": "display_data"
    },
    {
     "name": "stdout",
     "output_type": "stream",
     "text": [
      "Making preds for estimator #16\n"
     ]
    },
    {
     "data": {
      "application/vnd.jupyter.widget-view+json": {
       "model_id": "b93b8db8d26e4499883559f0036c34b0",
       "version_major": 2,
       "version_minor": 0
      },
      "text/plain": [
       "  0%|          | 0/100 [00:00<?, ?it/s]"
      ]
     },
     "metadata": {},
     "output_type": "display_data"
    },
    {
     "name": "stdout",
     "output_type": "stream",
     "text": [
      "Making preds for estimator #17\n"
     ]
    },
    {
     "data": {
      "application/vnd.jupyter.widget-view+json": {
       "model_id": "0747489af918428eb21cbe27cd9ca75a",
       "version_major": 2,
       "version_minor": 0
      },
      "text/plain": [
       "  0%|          | 0/100 [00:00<?, ?it/s]"
      ]
     },
     "metadata": {},
     "output_type": "display_data"
    },
    {
     "name": "stdout",
     "output_type": "stream",
     "text": [
      "Making preds for estimator #18\n"
     ]
    },
    {
     "data": {
      "application/vnd.jupyter.widget-view+json": {
       "model_id": "f818a3b10906457f84017ef999810531",
       "version_major": 2,
       "version_minor": 0
      },
      "text/plain": [
       "  0%|          | 0/100 [00:00<?, ?it/s]"
      ]
     },
     "metadata": {},
     "output_type": "display_data"
    },
    {
     "name": "stdout",
     "output_type": "stream",
     "text": [
      "Making preds for estimator #19\n"
     ]
    },
    {
     "data": {
      "application/vnd.jupyter.widget-view+json": {
       "model_id": "fbc04d28346640a69d83d6d5123bc89f",
       "version_major": 2,
       "version_minor": 0
      },
      "text/plain": [
       "  0%|          | 0/100 [00:00<?, ?it/s]"
      ]
     },
     "metadata": {},
     "output_type": "display_data"
    },
    {
     "name": "stdout",
     "output_type": "stream",
     "text": [
      "Submission created successfully!\n"
     ]
    }
   ],
   "source": [
    "n_models = 20\n",
    "n_bags = 100\n",
    "title = f'03-12 LGBM API ensemble - {n_models} models - {n_bags} bags - 30 num_boost_round'\n",
    "build_and_submit_bagged_ensemble_lgbm(n_models, n_bags, title)"
   ]
  },
  {
   "cell_type": "markdown",
   "id": "forward-solid",
   "metadata": {
    "id": "addressed-discovery"
   },
   "source": [
    "## Bagged Models with WandB\n",
    "\n",
    "Let's build one model first and see how we can interact with it. I want to get some plots to see how we can use validation data. But using the LGBM API is SO MUCH BETTER than using the sklearn API for LightGBM, so let's play with this and see what happens."
   ]
  },
  {
   "cell_type": "code",
   "execution_count": 18,
   "id": "imposed-international",
   "metadata": {
    "ExecuteTime": {
     "end_time": "2021-03-15T15:29:27.764067Z",
     "start_time": "2021-03-15T15:29:27.580717Z"
    }
   },
   "outputs": [],
   "source": [
    "from sklearn.model_selection import train_test_split\n",
    "\n",
    "X_train, X_val, y_train, y_val = train_test_split(X_all_ints, y, test_size=0.25,\n",
    "                                                 random_state=42, stratify=y)\n",
    "\n",
    "full_train_data = lgb.Dataset(X_all_ints,\n",
    "                             label=y,\n",
    "#                              feature_name=list(cols_ordered_after_ordinal_encoding),\n",
    "#                              categorical_feature=list(cat_cols_plus_geo),\n",
    "                             free_raw_data=False)\n",
    "\n",
    "train_data = lgb.Dataset(X_train,\n",
    "                        label=y_train,\n",
    "#                         feature_name=list(cols_ordered_after_ordinal_encoding),\n",
    "#                         categorical_feature=list(cat_cols_plus_geo),\n",
    "                        free_raw_data=False)\n",
    "\n",
    "val_data = lgb.Dataset(X_val,\n",
    "                      label=y_val,\n",
    "#                       feature_name=list(cols_ordered_after_ordinal_encoding),\n",
    "#                       categorical_feature=list(cat_cols_plus_geo),\n",
    "                      free_raw_data=False)"
   ]
  },
  {
   "cell_type": "code",
   "execution_count": 62,
   "id": "younger-exhibition",
   "metadata": {
    "ExecuteTime": {
     "end_time": "2021-03-15T15:50:44.400653Z",
     "start_time": "2021-03-15T15:50:36.003844Z"
    },
    "scrolled": true
   },
   "outputs": [
    {
     "data": {
      "text/html": [
       "Finishing last run (ID:1xdkrwpl) before initializing another..."
      ],
      "text/plain": [
       "<IPython.core.display.HTML object>"
      ]
     },
     "metadata": {},
     "output_type": "display_data"
    },
    {
     "data": {
      "text/html": [
       "<br/>Waiting for W&B process to finish, PID 21627<br/>Program ended successfully."
      ],
      "text/plain": [
       "<IPython.core.display.HTML object>"
      ]
     },
     "metadata": {},
     "output_type": "display_data"
    },
    {
     "data": {
      "application/vnd.jupyter.widget-view+json": {
       "model_id": "",
       "version_major": 2,
       "version_minor": 0
      },
      "text/plain": [
       "VBox(children=(Label(value=' 1.95MB of 1.95MB uploaded (0.00MB deduped)\\r'), FloatProgress(value=1.0, max=1.0)…"
      ]
     },
     "metadata": {},
     "output_type": "display_data"
    },
    {
     "data": {
      "text/html": [
       "Find user logs for this run at: <code>/Users/king/Google Drive/Work/Delivery/Current/earthquake_damage_competition/analysis/wandb/run-20210315_174906-1xdkrwpl/logs/debug.log</code>"
      ],
      "text/plain": [
       "<IPython.core.display.HTML object>"
      ]
     },
     "metadata": {},
     "output_type": "display_data"
    },
    {
     "data": {
      "text/html": [
       "Find internal logs for this run at: <code>/Users/king/Google Drive/Work/Delivery/Current/earthquake_damage_competition/analysis/wandb/run-20210315_174906-1xdkrwpl/logs/debug-internal.log</code>"
      ],
      "text/plain": [
       "<IPython.core.display.HTML object>"
      ]
     },
     "metadata": {},
     "output_type": "display_data"
    },
    {
     "data": {
      "text/html": [
       "<h3>Run summary:</h3><br/><style>\n",
       "    table.wandb td:nth-child(1) { padding: 0 10px; text-align: right }\n",
       "    </style><table class=\"wandb\">\n",
       "<tr><td>train_multi_logloss</td><td>0.74785</td></tr><tr><td>train_multi_error</td><td>0.43109</td></tr><tr><td>train_f1</td><td>0.56891</td></tr><tr><td>val_multi_logloss</td><td>0.75516</td></tr><tr><td>val_multi_error</td><td>0.43109</td></tr><tr><td>val_f1</td><td>0.56891</td></tr><tr><td>_step</td><td>8</td></tr><tr><td>_runtime</td><td>18</td></tr><tr><td>_timestamp</td><td>1615823370</td></tr></table>"
      ],
      "text/plain": [
       "<IPython.core.display.HTML object>"
      ]
     },
     "metadata": {},
     "output_type": "display_data"
    },
    {
     "data": {
      "text/html": [
       "<h3>Run history:</h3><br/><style>\n",
       "    table.wandb td:nth-child(1) { padding: 0 10px; text-align: right }\n",
       "    </style><table class=\"wandb\">\n",
       "<tr><td>train_multi_logloss</td><td>█▆▅▃▂▁</td></tr><tr><td>train_multi_error</td><td>▁▁▁▁▁▁</td></tr><tr><td>train_f1</td><td>▁▁▁▁▁▁</td></tr><tr><td>val_multi_logloss</td><td>█▆▅▃▂▁</td></tr><tr><td>val_multi_error</td><td>▁▁▁▁▁▁</td></tr><tr><td>val_f1</td><td>▁▁▁▁▁▁</td></tr><tr><td>_step</td><td>▁▂▃▄▅▅▆▇█</td></tr><tr><td>_runtime</td><td>▁▂▄▅▆▇▇██</td></tr><tr><td>_timestamp</td><td>▁▂▄▅▆▇▇██</td></tr></table><br/>"
      ],
      "text/plain": [
       "<IPython.core.display.HTML object>"
      ]
     },
     "metadata": {},
     "output_type": "display_data"
    },
    {
     "data": {
      "text/html": [
       "Synced 6 W&B file(s), 3 media file(s), 0 artifact file(s) and 1 other file(s)"
      ],
      "text/plain": [
       "<IPython.core.display.HTML object>"
      ]
     },
     "metadata": {},
     "output_type": "display_data"
    },
    {
     "data": {
      "text/html": [
       "\n",
       "                    <br/>Synced <strong style=\"color:#cdcd00\">ethereal-snow-12</strong>: <a href=\"https://wandb.ai/theadammurphy/earthquake_damage_competition/runs/1xdkrwpl\" target=\"_blank\">https://wandb.ai/theadammurphy/earthquake_damage_competition/runs/1xdkrwpl</a><br/>\n",
       "                "
      ],
      "text/plain": [
       "<IPython.core.display.HTML object>"
      ]
     },
     "metadata": {},
     "output_type": "display_data"
    },
    {
     "data": {
      "text/html": [
       "...Successfully finished last run (ID:1xdkrwpl). Initializing new run:<br/><br/>"
      ],
      "text/plain": [
       "<IPython.core.display.HTML object>"
      ]
     },
     "metadata": {},
     "output_type": "display_data"
    },
    {
     "name": "stderr",
     "output_type": "stream",
     "text": [
      "\u001b[34m\u001b[1mwandb\u001b[0m: wandb version 0.10.22 is available!  To upgrade, please run:\n",
      "\u001b[34m\u001b[1mwandb\u001b[0m:  $ pip install wandb --upgrade\n"
     ]
    },
    {
     "data": {
      "text/html": [
       "\n",
       "                Tracking run with wandb version 0.10.15<br/>\n",
       "                Syncing run <strong style=\"color:#cdcd00\">drawn-glade-13</strong> to <a href=\"https://wandb.ai\" target=\"_blank\">Weights & Biases</a> <a href=\"https://docs.wandb.com/integrations/jupyter.html\" target=\"_blank\">(Documentation)</a>.<br/>\n",
       "                Project page: <a href=\"https://wandb.ai/theadammurphy/earthquake_damage_competition\" target=\"_blank\">https://wandb.ai/theadammurphy/earthquake_damage_competition</a><br/>\n",
       "                Run page: <a href=\"https://wandb.ai/theadammurphy/earthquake_damage_competition/runs/2yj128hh\" target=\"_blank\">https://wandb.ai/theadammurphy/earthquake_damage_competition/runs/2yj128hh</a><br/>\n",
       "                Run data is saved locally in <code>/Users/king/Google Drive/Work/Delivery/Current/earthquake_damage_competition/analysis/wandb/run-20210315_175036-2yj128hh</code><br/><br/>\n",
       "            "
      ],
      "text/plain": [
       "<IPython.core.display.HTML object>"
      ]
     },
     "metadata": {},
     "output_type": "display_data"
    }
   ],
   "source": [
    "param = {'num_leaves': 120,\n",
    "         'min_child_samples': 40,\n",
    "         'learning_rate': 0.03,\n",
    "         'num_boost_round': 40,\n",
    "         'early_stopping_rounds': 12,\n",
    "         'boosting_type': 'goss',\n",
    "         'objective': 'multiclassova',\n",
    "         'is_unbalance': True,\n",
    "         'metric': ['multiclassova', 'multi_error'],\n",
    "         'num_class': 3,\n",
    "         'verbosity': -1,\n",
    "         'num_threads': 8,\n",
    "         'seed': 1}\n",
    "\n",
    "run = wandb.init(project='earthquake_damage_competition',\n",
    "                 config=param)"
   ]
  },
  {
   "cell_type": "code",
   "execution_count": 63,
   "id": "minor-peace",
   "metadata": {
    "ExecuteTime": {
     "end_time": "2021-03-15T15:52:07.019249Z",
     "start_time": "2021-03-15T15:50:44.402574Z"
    },
    "scrolled": true
   },
   "outputs": [
    {
     "name": "stderr",
     "output_type": "stream",
     "text": [
      "/Users/king/opt/anaconda3/envs/tabular/lib/python3.7/site-packages/lightgbm/engine.py:151: UserWarning: Found `num_boost_round` in params. Will use it instead of argument\n",
      "  warnings.warn(\"Found `{}` in params. Will use it instead of argument\".format(alias))\n",
      "/Users/king/opt/anaconda3/envs/tabular/lib/python3.7/site-packages/lightgbm/engine.py:156: UserWarning: Found `early_stopping_round` in params. Will use it instead of argument\n",
      "  warnings.warn(\"Found `{}` in params. Will use it instead of argument\".format(alias))\n"
     ]
    },
    {
     "name": "stdout",
     "output_type": "stream",
     "text": [
      "[1]\ttrain's multi_logloss: 0.878332\ttrain's multi_error: 0.431087\ttrain's f1: 0.568913\tval's multi_logloss: 0.879566\tval's multi_error: 0.431091\tval's f1: 0.568909\n",
      "[2]\ttrain's multi_logloss: 0.849732\ttrain's multi_error: 0.431087\ttrain's f1: 0.568913\tval's multi_logloss: 0.852089\tval's multi_error: 0.431091\tval's f1: 0.568909\n",
      "[3]\ttrain's multi_logloss: 0.824889\ttrain's multi_error: 0.431087\ttrain's f1: 0.568913\tval's multi_logloss: 0.828344\tval's multi_error: 0.431091\tval's f1: 0.568909\n",
      "[4]\ttrain's multi_logloss: 0.802945\ttrain's multi_error: 0.431087\ttrain's f1: 0.568913\tval's multi_logloss: 0.807452\tval's multi_error: 0.431091\tval's f1: 0.568909\n",
      "[5]\ttrain's multi_logloss: 0.783222\ttrain's multi_error: 0.431087\ttrain's f1: 0.568913\tval's multi_logloss: 0.788692\tval's multi_error: 0.431091\tval's f1: 0.568909\n",
      "[6]\ttrain's multi_logloss: 0.765193\ttrain's multi_error: 0.431087\ttrain's f1: 0.568913\tval's multi_logloss: 0.771723\tval's multi_error: 0.431091\tval's f1: 0.568909\n",
      "[7]\ttrain's multi_logloss: 0.748718\ttrain's multi_error: 0.431087\ttrain's f1: 0.568913\tval's multi_logloss: 0.756142\tval's multi_error: 0.431091\tval's f1: 0.568909\n",
      "[8]\ttrain's multi_logloss: 0.733551\ttrain's multi_error: 0.373205\ttrain's f1: 0.626795\tval's multi_logloss: 0.741798\tval's multi_error: 0.374146\tval's f1: 0.625854\n",
      "[9]\ttrain's multi_logloss: 0.719498\ttrain's multi_error: 0.34042\ttrain's f1: 0.65958\tval's multi_logloss: 0.728607\tval's multi_error: 0.341161\tval's f1: 0.658839\n",
      "[10]\ttrain's multi_logloss: 0.706429\ttrain's multi_error: 0.322139\ttrain's f1: 0.677861\tval's multi_logloss: 0.716382\tval's multi_error: 0.322574\tval's f1: 0.677426\n",
      "[11]\ttrain's multi_logloss: 0.694208\ttrain's multi_error: 0.307102\ttrain's f1: 0.692898\tval's multi_logloss: 0.705075\tval's multi_error: 0.308284\tval's f1: 0.691716\n",
      "[12]\ttrain's multi_logloss: 0.682773\ttrain's multi_error: 0.301023\ttrain's f1: 0.698977\tval's multi_logloss: 0.694442\tval's multi_error: 0.302267\tval's f1: 0.697733\n",
      "[13]\ttrain's multi_logloss: 0.672067\ttrain's multi_error: 0.295365\ttrain's f1: 0.704635\tval's multi_logloss: 0.684517\tval's multi_error: 0.298138\tval's f1: 0.701862\n",
      "[14]\ttrain's multi_logloss: 0.661969\ttrain's multi_error: 0.290601\ttrain's f1: 0.709399\tval's multi_logloss: 0.67522\tval's multi_error: 0.294055\tval's f1: 0.705945\n",
      "[15]\ttrain's multi_logloss: 0.652438\ttrain's multi_error: 0.282476\ttrain's f1: 0.717524\tval's multi_logloss: 0.666543\tval's multi_error: 0.286304\tval's f1: 0.713696\n",
      "[16]\ttrain's multi_logloss: 0.64342\ttrain's multi_error: 0.272059\ttrain's f1: 0.727941\tval's multi_logloss: 0.658251\tval's multi_error: 0.277601\tval's f1: 0.722399\n",
      "[17]\ttrain's multi_logloss: 0.63491\ttrain's multi_error: 0.264308\ttrain's f1: 0.735692\tval's multi_logloss: 0.650496\tval's multi_error: 0.271354\tval's f1: 0.728646\n",
      "[18]\ttrain's multi_logloss: 0.626837\ttrain's multi_error: 0.259949\ttrain's f1: 0.740051\tval's multi_logloss: 0.643166\tval's multi_error: 0.268545\tval's f1: 0.731455\n",
      "[19]\ttrain's multi_logloss: 0.619137\ttrain's multi_error: 0.256255\ttrain's f1: 0.743745\tval's multi_logloss: 0.636265\tval's multi_error: 0.265783\tval's f1: 0.734217\n",
      "[20]\ttrain's multi_logloss: 0.611773\ttrain's multi_error: 0.253518\ttrain's f1: 0.746482\tval's multi_logloss: 0.629631\tval's multi_error: 0.263864\tval's f1: 0.736136\n",
      "[21]\ttrain's multi_logloss: 0.604808\ttrain's multi_error: 0.251732\ttrain's f1: 0.748268\tval's multi_logloss: 0.62341\tval's multi_error: 0.262989\tval's f1: 0.737011\n",
      "[22]\ttrain's multi_logloss: 0.598142\ttrain's multi_error: 0.250304\ttrain's f1: 0.749696\tval's multi_logloss: 0.61743\tval's multi_error: 0.261792\tval's f1: 0.738208\n",
      "[23]\ttrain's multi_logloss: 0.591772\ttrain's multi_error: 0.249256\ttrain's f1: 0.750744\tval's multi_logloss: 0.611794\tval's multi_error: 0.261761\tval's f1: 0.738239\n",
      "[24]\ttrain's multi_logloss: 0.585743\ttrain's multi_error: 0.248887\ttrain's f1: 0.751113\tval's multi_logloss: 0.606454\tval's multi_error: 0.26173\tval's f1: 0.73827\n",
      "[25]\ttrain's multi_logloss: 0.579993\ttrain's multi_error: 0.248897\ttrain's f1: 0.751103\tval's multi_logloss: 0.601366\tval's multi_error: 0.261684\tval's f1: 0.738316\n",
      "[26]\ttrain's multi_logloss: 0.574405\ttrain's multi_error: 0.248427\ttrain's f1: 0.751573\tval's multi_logloss: 0.596453\tval's multi_error: 0.262252\tval's f1: 0.737748\n",
      "[27]\ttrain's multi_logloss: 0.569082\ttrain's multi_error: 0.247997\ttrain's f1: 0.752003\tval's multi_logloss: 0.591793\tval's multi_error: 0.262667\tval's f1: 0.737333\n",
      "[28]\ttrain's multi_logloss: 0.563975\ttrain's multi_error: 0.247895\ttrain's f1: 0.752105\tval's multi_logloss: 0.587352\tval's multi_error: 0.263419\tval's f1: 0.736581\n",
      "[29]\ttrain's multi_logloss: 0.559155\ttrain's multi_error: 0.247823\ttrain's f1: 0.752177\tval's multi_logloss: 0.583139\tval's multi_error: 0.264616\tval's f1: 0.735384\n",
      "[30]\ttrain's multi_logloss: 0.554435\ttrain's multi_error: 0.248135\ttrain's f1: 0.751865\tval's multi_logloss: 0.579038\tval's multi_error: 0.265644\tval's f1: 0.734356\n",
      "[31]\ttrain's multi_logloss: 0.549982\ttrain's multi_error: 0.248457\ttrain's f1: 0.751543\tval's multi_logloss: 0.575248\tval's multi_error: 0.266228\tval's f1: 0.733772\n",
      "[32]\ttrain's multi_logloss: 0.54569\ttrain's multi_error: 0.2488\ttrain's f1: 0.7512\tval's multi_logloss: 0.571575\tval's multi_error: 0.26675\tval's f1: 0.73325\n",
      "[33]\ttrain's multi_logloss: 0.541546\ttrain's multi_error: 0.249281\ttrain's f1: 0.750719\tval's multi_logloss: 0.568072\tval's multi_error: 0.267456\tval's f1: 0.732544\n",
      "[34]\ttrain's multi_logloss: 0.538214\ttrain's multi_error: 0.249951\ttrain's f1: 0.750049\tval's multi_logloss: 0.564963\tval's multi_error: 0.26807\tval's f1: 0.73193\n",
      "[35]\ttrain's multi_logloss: 0.535066\ttrain's multi_error: 0.250668\ttrain's f1: 0.749332\tval's multi_logloss: 0.56207\tval's multi_error: 0.268269\tval's f1: 0.731731\n",
      "[36]\ttrain's multi_logloss: 0.532008\ttrain's multi_error: 0.251149\ttrain's f1: 0.748851\tval's multi_logloss: 0.559149\tval's multi_error: 0.268699\tval's f1: 0.731301\n",
      "[37]\ttrain's multi_logloss: 0.529135\ttrain's multi_error: 0.251763\ttrain's f1: 0.748237\tval's multi_logloss: 0.55652\tval's multi_error: 0.269344\tval's f1: 0.730656\n",
      "[38]\ttrain's multi_logloss: 0.526371\ttrain's multi_error: 0.252167\ttrain's f1: 0.747833\tval's multi_logloss: 0.553964\tval's multi_error: 0.270004\tval's f1: 0.729996\n",
      "[39]\ttrain's multi_logloss: 0.523736\ttrain's multi_error: 0.252704\ttrain's f1: 0.747296\tval's multi_logloss: 0.551572\tval's multi_error: 0.270817\tval's f1: 0.729183\n",
      "[40]\ttrain's multi_logloss: 0.521108\ttrain's multi_error: 0.253456\ttrain's f1: 0.746544\tval's multi_logloss: 0.549248\tval's multi_error: 0.271185\tval's f1: 0.728815\n"
     ]
    }
   ],
   "source": [
    "evals_result = {}\n",
    "booster = lgb.train(dict(wandb.config), # doesn't work if I pass wandb.config\n",
    "                    train_data,\n",
    "#                     100, # let's see if this works by setting it in param instead\n",
    "                    # You can include train_data in the valid_set to easily\n",
    "                    # make plots of the loss functions\n",
    "                    valid_sets=[train_data, val_data],\n",
    "                    valid_names=['train', 'val'],\n",
    "                    evals_result=evals_result,\n",
    "#                     early_stopping_rounds=None,\n",
    "                    categorical_feature=list(cat_cols_plus_geo),\n",
    "                    feature_name=list(cols_ordered_after_ordinal_encoding)\n",
    "                    feval=lgb_f1_micro,\n",
    "                    callbacks=[wandb_callback()])"
   ]
  },
  {
   "cell_type": "code",
   "execution_count": 64,
   "id": "graduate-workstation",
   "metadata": {
    "ExecuteTime": {
     "end_time": "2021-03-15T15:52:07.317767Z",
     "start_time": "2021-03-15T15:52:07.022094Z"
    },
    "id": "graduate-workstation"
   },
   "outputs": [
    {
     "data": {
      "image/png": "[encoded data removed]",
      "text/plain": [
       "<Figure size 432x288 with 1 Axes>"
      ]
     },
     "metadata": {},
     "output_type": "display_data"
    }
   ],
   "source": [
    "f1_plot = lgb.plot_metric(evals_result, metric='f1',\n",
    "                          title='F1 (micro) score for validation and training')\n",
    "wandb.log({'f1_score plot': wandb.Image(f1_plot)})\n",
    "plt.show()"
   ]
  },
  {
   "cell_type": "code",
   "execution_count": 65,
   "id": "figured-catch",
   "metadata": {
    "ExecuteTime": {
     "end_time": "2021-03-15T15:52:07.571704Z",
     "start_time": "2021-03-15T15:52:07.321152Z"
    }
   },
   "outputs": [
    {
     "data": {
      "image/png": "[encoded data removed]",
      "text/plain": [
       "<Figure size 432x288 with 1 Axes>"
      ]
     },
     "metadata": {},
     "output_type": "display_data"
    }
   ],
   "source": [
    "log_loss_plot = lgb.plot_metric(evals_result, metric='multi_logloss',\n",
    "                title='Multi Log Loss for validation and training')\n",
    "wandb.log({'multi logloss plot': wandb.Image(log_loss_plot)})"
   ]
  },
  {
   "cell_type": "code",
   "execution_count": 66,
   "id": "commercial-objective",
   "metadata": {
    "ExecuteTime": {
     "end_time": "2021-03-15T15:52:07.803464Z",
     "start_time": "2021-03-15T15:52:07.573712Z"
    }
   },
   "outputs": [
    {
     "data": {
      "image/png": "[encoded data removed]",
      "text/plain": [
       "<Figure size 432x288 with 1 Axes>"
      ]
     },
     "metadata": {},
     "output_type": "display_data"
    }
   ],
   "source": [
    "multierror_plot = lgb.plot_metric(evals_result, metric='multi_error',\n",
    "                title='Multi Error for validation and training')\n",
    "wandb.log({'multi error plot': wandb.Image(multierror_plot)})"
   ]
  },
  {
   "cell_type": "code",
   "execution_count": 67,
   "id": "eastern-communication",
   "metadata": {
    "ExecuteTime": {
     "end_time": "2021-03-15T15:55:58.769439Z",
     "start_time": "2021-03-15T15:55:50.923437Z"
    },
    "id": "eastern-communication"
   },
   "outputs": [
    {
     "data": {
      "text/html": [
       "<br/>Waiting for W&B process to finish, PID 21695<br/>Program ended successfully."
      ],
      "text/plain": [
       "<IPython.core.display.HTML object>"
      ]
     },
     "metadata": {},
     "output_type": "display_data"
    },
    {
     "data": {
      "application/vnd.jupyter.widget-view+json": {
       "model_id": "",
       "version_major": 2,
       "version_minor": 0
      },
      "text/plain": [
       "VBox(children=(Label(value=' 1.93MB of 1.93MB uploaded (0.00MB deduped)\\r'), FloatProgress(value=1.0, max=1.0)…"
      ]
     },
     "metadata": {},
     "output_type": "display_data"
    },
    {
     "data": {
      "text/html": [
       "Find user logs for this run at: <code>/Users/king/Google Drive/Work/Delivery/Current/earthquake_damage_competition/analysis/wandb/run-20210315_175036-2yj128hh/logs/debug.log</code>"
      ],
      "text/plain": [
       "<IPython.core.display.HTML object>"
      ]
     },
     "metadata": {},
     "output_type": "display_data"
    },
    {
     "data": {
      "text/html": [
       "Find internal logs for this run at: <code>/Users/king/Google Drive/Work/Delivery/Current/earthquake_damage_competition/analysis/wandb/run-20210315_175036-2yj128hh/logs/debug-internal.log</code>"
      ],
      "text/plain": [
       "<IPython.core.display.HTML object>"
      ]
     },
     "metadata": {},
     "output_type": "display_data"
    },
    {
     "data": {
      "text/html": [
       "<h3>Run summary:</h3><br/><style>\n",
       "    table.wandb td:nth-child(1) { padding: 0 10px; text-align: right }\n",
       "    </style><table class=\"wandb\">\n",
       "<tr><td>train_multi_logloss</td><td>0.52111</td></tr><tr><td>train_multi_error</td><td>0.25346</td></tr><tr><td>train_f1</td><td>0.74654</td></tr><tr><td>val_multi_logloss</td><td>0.54925</td></tr><tr><td>val_multi_error</td><td>0.27119</td></tr><tr><td>val_f1</td><td>0.72881</td></tr><tr><td>_step</td><td>42</td></tr><tr><td>_runtime</td><td>88</td></tr><tr><td>_timestamp</td><td>1615823527</td></tr></table>"
      ],
      "text/plain": [
       "<IPython.core.display.HTML object>"
      ]
     },
     "metadata": {},
     "output_type": "display_data"
    },
    {
     "data": {
      "text/html": [
       "<h3>Run history:</h3><br/><style>\n",
       "    table.wandb td:nth-child(1) { padding: 0 10px; text-align: right }\n",
       "    </style><table class=\"wandb\">\n",
       "<tr><td>train_multi_logloss</td><td>█▇▇▇▆▆▅▅▅▅▄▄▄▄▄▃▃▃▃▃▃▃▂▂▂▂▂▂▂▂▂▁▁▁▁▁▁▁▁▁</td></tr><tr><td>train_multi_error</td><td>███████▆▅▄▃▃▃▃▂▂▂▁▁▁▁▁▁▁▁▁▁▁▁▁▁▁▁▁▁▁▁▁▁▁</td></tr><tr><td>train_f1</td><td>▁▁▁▁▁▁▁▃▄▅▆▆▆▆▇▇▇███████████████████████</td></tr><tr><td>val_multi_logloss</td><td>█▇▇▆▆▆▅▅▅▅▄▄▄▄▃▃▃▃▃▃▃▂▂▂▂▂▂▂▂▂▂▁▁▁▁▁▁▁▁▁</td></tr><tr><td>val_multi_error</td><td>███████▆▄▄▃▃▃▂▂▂▁▁▁▁▁▁▁▁▁▁▁▁▁▁▁▁▁▁▁▁▁▁▁▁</td></tr><tr><td>val_f1</td><td>▁▁▁▁▁▁▁▃▅▅▆▆▆▇▇▇████████████████████████</td></tr><tr><td>_step</td><td>▁▁▁▁▂▂▂▂▂▃▃▃▃▃▃▄▄▄▄▄▅▅▅▅▅▅▆▆▆▆▆▇▇▇▇▇▇▇██</td></tr><tr><td>_runtime</td><td>▁▁▁▂▂▂▂▂▂▃▃▃▃▄▄▄▄▄▄▅▅▅▅▅▅▆▆▆▆▇▇▇▇▇▇█████</td></tr><tr><td>_timestamp</td><td>▁▁▁▂▂▂▂▂▂▃▃▃▃▄▄▄▄▄▄▅▅▅▅▅▅▆▆▆▆▇▇▇▇▇▇█████</td></tr></table><br/>"
      ],
      "text/plain": [
       "<IPython.core.display.HTML object>"
      ]
     },
     "metadata": {},
     "output_type": "display_data"
    },
    {
     "data": {
      "text/html": [
       "Synced 6 W&B file(s), 3 media file(s), 0 artifact file(s) and 2 other file(s)"
      ],
      "text/plain": [
       "<IPython.core.display.HTML object>"
      ]
     },
     "metadata": {},
     "output_type": "display_data"
    },
    {
     "data": {
      "text/html": [
       "\n",
       "                    <br/>Synced <strong style=\"color:#cdcd00\">drawn-glade-13</strong>: <a href=\"https://wandb.ai/theadammurphy/earthquake_damage_competition/runs/2yj128hh\" target=\"_blank\">https://wandb.ai/theadammurphy/earthquake_damage_competition/runs/2yj128hh</a><br/>\n",
       "                "
      ],
      "text/plain": [
       "<IPython.core.display.HTML object>"
      ]
     },
     "metadata": {},
     "output_type": "display_data"
    }
   ],
   "source": [
    "run.finish()"
   ]
  },
  {
   "cell_type": "markdown",
   "id": "happy-december",
   "metadata": {
    "id": "agricultural-longer"
   },
   "source": [
    "## Validating Bagged Models"
   ]
  },
  {
   "cell_type": "code",
   "execution_count": 42,
   "id": "needed-kingdom",
   "metadata": {
    "ExecuteTime": {
     "end_time": "2021-03-16T16:26:59.244870Z",
     "start_time": "2021-03-16T16:26:59.238120Z"
    },
    "code_folding": []
   },
   "outputs": [],
   "source": [
    "def get_train_val_datasets(X, y, train_idx, val_idx):\n",
    "    X_train, X_val = X[train_idx], X[val_idx]\n",
    "    y_train, y_val = y[train_idx], y[val_idx]\n",
    "    \n",
    "    train_dataset = lgb.Dataset(X_train, label=y_train, free_raw_data=False)\n",
    "    val_dataset = lgb.Dataset(X_val, label=y_val, free_raw_data=False)\n",
    "    train_dataset.construct()\n",
    "    val_dataset.construct()\n",
    "    return train_dataset, val_dataset\n",
    "\n",
    "\n",
    "def train_lgbm_model(config, train_dataset, val_dataset):\n",
    "        evals_result = {}\n",
    "        booster = lgb.train(config,\n",
    "                           train_dataset,\n",
    "                           valid_sets=[train_dataset, val_dataset],\n",
    "                           valid_names=['train', 'val'],\n",
    "                           evals_result=evals_result,\n",
    "                           feval=lgb_f1_micro,\n",
    "                           callbacks=[wandb_callback()])\n",
    "        return booster, evals_result\n",
    "\n",
    "def eval_bagged_model(config, num_bags, train_dataset, val_dataset):\n",
    "    bagged_preds = np.zeros(val_dataset.num_data())\n",
    "    config = dict(config) # in case you input a wandb config object\n",
    "    for n in range(num_bags):\n",
    "        config['seed'] += n\n",
    "        booster, evals_result = train_lgbm_model(config, train_dataset,\n",
    "                                                val_dataset)\n",
    "        # Do I need to predict? Does the callback do it for me automatically?\n",
    "        pass"
   ]
  },
  {
   "cell_type": "code",
   "execution_count": 43,
   "id": "hydraulic-footwear",
   "metadata": {
    "ExecuteTime": {
     "end_time": "2021-03-16T16:32:22.449916Z",
     "start_time": "2021-03-16T16:27:01.832117Z"
    }
   },
   "outputs": [
    {
     "data": {
      "text/html": [
       "Finishing last run (ID:1rmefeon) before initializing another..."
      ],
      "text/plain": [
       "<IPython.core.display.HTML object>"
      ]
     },
     "metadata": {},
     "output_type": "display_data"
    },
    {
     "data": {
      "text/html": [
       "<br/>Waiting for W&B process to finish, PID 41221<br/>Program ended successfully."
      ],
      "text/plain": [
       "<IPython.core.display.HTML object>"
      ]
     },
     "metadata": {},
     "output_type": "display_data"
    },
    {
     "data": {
      "application/vnd.jupyter.widget-view+json": {
       "model_id": "",
       "version_major": 2,
       "version_minor": 0
      },
      "text/plain": [
       "VBox(children=(Label(value=' 0.01MB of 0.01MB uploaded (0.00MB deduped)\\r'), FloatProgress(value=1.0, max=1.0)…"
      ]
     },
     "metadata": {},
     "output_type": "display_data"
    },
    {
     "data": {
      "text/html": [
       "Find user logs for this run at: <code>/Users/king/Google Drive/Work/Delivery/Current/earthquake_damage_competition/analysis/wandb/run-20210316_182522-1rmefeon/logs/debug.log</code>"
      ],
      "text/plain": [
       "<IPython.core.display.HTML object>"
      ]
     },
     "metadata": {},
     "output_type": "display_data"
    },
    {
     "data": {
      "text/html": [
       "Find internal logs for this run at: <code>/Users/king/Google Drive/Work/Delivery/Current/earthquake_damage_competition/analysis/wandb/run-20210316_182522-1rmefeon/logs/debug-internal.log</code>"
      ],
      "text/plain": [
       "<IPython.core.display.HTML object>"
      ]
     },
     "metadata": {},
     "output_type": "display_data"
    },
    {
     "data": {
      "text/html": [
       "Synced 6 W&B file(s), 0 media file(s), 0 artifact file(s) and 0 other file(s)"
      ],
      "text/plain": [
       "<IPython.core.display.HTML object>"
      ]
     },
     "metadata": {},
     "output_type": "display_data"
    },
    {
     "data": {
      "text/html": [
       "\n",
       "                    <br/>Synced <strong style=\"color:#cdcd00\">worldly-pyramid-15</strong>: <a href=\"https://wandb.ai/theadammurphy/earthquake_damage_competition/runs/1rmefeon\" target=\"_blank\">https://wandb.ai/theadammurphy/earthquake_damage_competition/runs/1rmefeon</a><br/>\n",
       "                "
      ],
      "text/plain": [
       "<IPython.core.display.HTML object>"
      ]
     },
     "metadata": {},
     "output_type": "display_data"
    },
    {
     "data": {
      "text/html": [
       "...Successfully finished last run (ID:1rmefeon). Initializing new run:<br/><br/>"
      ],
      "text/plain": [
       "<IPython.core.display.HTML object>"
      ]
     },
     "metadata": {},
     "output_type": "display_data"
    },
    {
     "name": "stderr",
     "output_type": "stream",
     "text": [
      "\u001b[34m\u001b[1mwandb\u001b[0m: wandb version 0.10.22 is available!  To upgrade, please run:\n",
      "\u001b[34m\u001b[1mwandb\u001b[0m:  $ pip install wandb --upgrade\n"
     ]
    },
    {
     "data": {
      "text/html": [
       "\n",
       "                Tracking run with wandb version 0.10.20<br/>\n",
       "                Syncing run <strong style=\"color:#cdcd00\">chocolate-morning-16</strong> to <a href=\"https://wandb.ai\" target=\"_blank\">Weights & Biases</a> <a href=\"https://docs.wandb.com/integrations/jupyter.html\" target=\"_blank\">(Documentation)</a>.<br/>\n",
       "                Project page: <a href=\"https://wandb.ai/theadammurphy/earthquake_damage_competition\" target=\"_blank\">https://wandb.ai/theadammurphy/earthquake_damage_competition</a><br/>\n",
       "                Run page: <a href=\"https://wandb.ai/theadammurphy/earthquake_damage_competition/runs/3dcmxsar\" target=\"_blank\">https://wandb.ai/theadammurphy/earthquake_damage_competition/runs/3dcmxsar</a><br/>\n",
       "                Run data is saved locally in <code>/Users/king/Google Drive/Work/Delivery/Current/earthquake_damage_competition/analysis/wandb/run-20210316_182701-3dcmxsar</code><br/><br/>\n",
       "            "
      ],
      "text/plain": [
       "<IPython.core.display.HTML object>"
      ]
     },
     "metadata": {},
     "output_type": "display_data"
    },
    {
     "name": "stderr",
     "output_type": "stream",
     "text": [
      "/Users/king/opt/anaconda3/envs/tabular/lib/python3.7/site-packages/lightgbm/engine.py:151: UserWarning: Found `num_boost_round` in params. Will use it instead of argument\n",
      "  warnings.warn(\"Found `{}` in params. Will use it instead of argument\".format(alias))\n",
      "/Users/king/opt/anaconda3/envs/tabular/lib/python3.7/site-packages/lightgbm/engine.py:156: UserWarning: Found `early_stopping_rounds` in params. Will use it instead of argument\n",
      "  warnings.warn(\"Found `{}` in params. Will use it instead of argument\".format(alias))\n"
     ]
    },
    {
     "name": "stdout",
     "output_type": "stream",
     "text": [
      "[LightGBM] [Info] [binary:BoostFromScore]: pavg=0.096407 -> initscore=-2.237796\n",
      "[LightGBM] [Info] Start training from score -2.237796\n",
      "[LightGBM] [Info] [binary:BoostFromScore]: pavg=0.568913 -> initscore=0.277418\n",
      "[LightGBM] [Info] Start training from score 0.277418\n",
      "[LightGBM] [Info] [binary:BoostFromScore]: pavg=0.334680 -> initscore=-0.687095\n",
      "[LightGBM] [Info] Start training from score -0.687095\n",
      "[1]\ttrain's multi_logloss: 0.883158\ttrain's multi_error: 0.431087\ttrain's f1: 0.568913\tval's multi_logloss: 0.883456\tval's multi_error: 0.431093\tval's f1: 0.568907\n",
      "Training until validation scores don't improve for 12 rounds\n",
      "[2]\ttrain's multi_logloss: 0.858694\ttrain's multi_error: 0.431087\ttrain's f1: 0.568913\tval's multi_logloss: 0.859218\tval's multi_error: 0.431093\tval's f1: 0.568907\n",
      "[3]\ttrain's multi_logloss: 0.837792\ttrain's multi_error: 0.431087\ttrain's f1: 0.568913\tval's multi_logloss: 0.838495\tval's multi_error: 0.431093\tval's f1: 0.568907\n",
      "[4]\ttrain's multi_logloss: 0.819383\ttrain's multi_error: 0.431087\ttrain's f1: 0.568913\tval's multi_logloss: 0.820291\tval's multi_error: 0.431093\tval's f1: 0.568907\n",
      "[5]\ttrain's multi_logloss: 0.802941\ttrain's multi_error: 0.431087\ttrain's f1: 0.568913\tval's multi_logloss: 0.804065\tval's multi_error: 0.431093\tval's f1: 0.568907\n",
      "[6]\ttrain's multi_logloss: 0.78804\ttrain's multi_error: 0.431087\ttrain's f1: 0.568913\tval's multi_logloss: 0.789305\tval's multi_error: 0.431093\tval's f1: 0.568907\n",
      "[7]\ttrain's multi_logloss: 0.774446\ttrain's multi_error: 0.431087\ttrain's f1: 0.568913\tval's multi_logloss: 0.775886\tval's multi_error: 0.431093\tval's f1: 0.568907\n",
      "[8]\ttrain's multi_logloss: 0.761922\ttrain's multi_error: 0.431087\ttrain's f1: 0.568913\tval's multi_logloss: 0.763498\tval's multi_error: 0.431093\tval's f1: 0.568907\n",
      "[9]\ttrain's multi_logloss: 0.750442\ttrain's multi_error: 0.373475\ttrain's f1: 0.626525\tval's multi_logloss: 0.752106\tval's multi_error: 0.373861\tval's f1: 0.626139\n",
      "[10]\ttrain's multi_logloss: 0.739828\ttrain's multi_error: 0.365162\ttrain's f1: 0.634838\tval's multi_logloss: 0.741645\tval's multi_error: 0.365956\tval's f1: 0.634044\n",
      "[11]\ttrain's multi_logloss: 0.729889\ttrain's multi_error: 0.356399\ttrain's f1: 0.643601\tval's multi_logloss: 0.731869\tval's multi_error: 0.357629\tval's f1: 0.642371\n",
      "[12]\ttrain's multi_logloss: 0.7206\ttrain's multi_error: 0.34693\ttrain's f1: 0.65307\tval's multi_logloss: 0.722617\tval's multi_error: 0.349092\tval's f1: 0.650908\n",
      "[13]\ttrain's multi_logloss: 0.711918\ttrain's multi_error: 0.3402\ttrain's f1: 0.6598\tval's multi_logloss: 0.714073\tval's multi_error: 0.341494\tval's f1: 0.658506\n",
      "[14]\ttrain's multi_logloss: 0.703676\ttrain's multi_error: 0.333706\ttrain's f1: 0.666294\tval's multi_logloss: 0.705916\tval's multi_error: 0.335086\tval's f1: 0.664914\n",
      "[15]\ttrain's multi_logloss: 0.695993\ttrain's multi_error: 0.326089\ttrain's f1: 0.673911\tval's multi_logloss: 0.698351\tval's multi_error: 0.32885\tval's f1: 0.67115\n",
      "[16]\ttrain's multi_logloss: 0.68871\ttrain's multi_error: 0.319503\ttrain's f1: 0.680497\tval's multi_logloss: 0.69118\tval's multi_error: 0.322365\tval's f1: 0.677635\n",
      "[17]\ttrain's multi_logloss: 0.681839\ttrain's multi_error: 0.310754\ttrain's f1: 0.689246\tval's multi_logloss: 0.684423\tval's multi_error: 0.314691\tval's f1: 0.685309\n",
      "[18]\ttrain's multi_logloss: 0.675354\ttrain's multi_error: 0.307056\ttrain's f1: 0.692944\tval's multi_logloss: 0.678042\tval's multi_error: 0.311161\tval's f1: 0.688839\n",
      "[19]\ttrain's multi_logloss: 0.669195\ttrain's multi_error: 0.304643\ttrain's f1: 0.695357\tval's multi_logloss: 0.672022\tval's multi_error: 0.309587\tval's f1: 0.690413\n",
      "[20]\ttrain's multi_logloss: 0.663368\ttrain's multi_error: 0.301161\ttrain's f1: 0.698839\tval's multi_logloss: 0.666278\tval's multi_error: 0.306498\tval's f1: 0.693502\n",
      "[21]\ttrain's multi_logloss: 0.657815\ttrain's multi_error: 0.299444\ttrain's f1: 0.700556\tval's multi_logloss: 0.660841\tval's multi_error: 0.30552\tval's f1: 0.69448\n",
      "[22]\ttrain's multi_logloss: 0.652531\ttrain's multi_error: 0.297827\ttrain's f1: 0.702173\tval's multi_logloss: 0.655661\tval's multi_error: 0.304215\tval's f1: 0.695785\n",
      "[23]\ttrain's multi_logloss: 0.64741\ttrain's multi_error: 0.297208\ttrain's f1: 0.702792\tval's multi_logloss: 0.650659\tval's multi_error: 0.303544\tval's f1: 0.696456\n",
      "[24]\ttrain's multi_logloss: 0.642505\ttrain's multi_error: 0.296781\ttrain's f1: 0.703219\tval's multi_logloss: 0.645862\tval's multi_error: 0.303333\tval's f1: 0.696667\n",
      "[25]\ttrain's multi_logloss: 0.637905\ttrain's multi_error: 0.296964\ttrain's f1: 0.703036\tval's multi_logloss: 0.64132\tval's multi_error: 0.303774\tval's f1: 0.696226\n",
      "[26]\ttrain's multi_logloss: 0.633527\ttrain's multi_error: 0.297266\ttrain's f1: 0.702734\tval's multi_logloss: 0.637057\tval's multi_error: 0.303851\tval's f1: 0.696149\n",
      "[27]\ttrain's multi_logloss: 0.62931\ttrain's multi_error: 0.298513\ttrain's f1: 0.701487\tval's multi_logloss: 0.632922\tval's multi_error: 0.304541\tval's f1: 0.695459\n",
      "[28]\ttrain's multi_logloss: 0.625233\ttrain's multi_error: 0.299535\ttrain's f1: 0.700465\tval's multi_logloss: 0.628949\tval's multi_error: 0.304963\tval's f1: 0.695037\n",
      "[29]\ttrain's multi_logloss: 0.621397\ttrain's multi_error: 0.300614\ttrain's f1: 0.699386\tval's multi_logloss: 0.625256\tval's multi_error: 0.305251\tval's f1: 0.694749\n",
      "[30]\ttrain's multi_logloss: 0.617679\ttrain's multi_error: 0.301122\ttrain's f1: 0.698878\tval's multi_logloss: 0.621613\tval's multi_error: 0.306134\tval's f1: 0.693866\n",
      "[31]\ttrain's multi_logloss: 0.614139\ttrain's multi_error: 0.301401\ttrain's f1: 0.698599\tval's multi_logloss: 0.618204\tval's multi_error: 0.306652\tval's f1: 0.693348\n",
      "[32]\ttrain's multi_logloss: 0.610729\ttrain's multi_error: 0.301804\ttrain's f1: 0.698196\tval's multi_logloss: 0.614883\tval's multi_error: 0.30692\tval's f1: 0.69308\n",
      "[33]\ttrain's multi_logloss: 0.607486\ttrain's multi_error: 0.301847\ttrain's f1: 0.698153\tval's multi_logloss: 0.611751\tval's multi_error: 0.307112\tval's f1: 0.692888\n",
      "[34]\ttrain's multi_logloss: 0.604438\ttrain's multi_error: 0.301736\ttrain's f1: 0.698264\tval's multi_logloss: 0.608812\tval's multi_error: 0.307956\tval's f1: 0.692044\n",
      "[35]\ttrain's multi_logloss: 0.601541\ttrain's multi_error: 0.301828\ttrain's f1: 0.698172\tval's multi_logloss: 0.606\tval's multi_error: 0.308379\tval's f1: 0.691621\n",
      "[36]\ttrain's multi_logloss: 0.59869\ttrain's multi_error: 0.302144\ttrain's f1: 0.697856\tval's multi_logloss: 0.603245\tval's multi_error: 0.307822\tval's f1: 0.692178\n",
      "Early stopping, best iteration is:\n",
      "[24]\ttrain's multi_logloss: 0.642505\ttrain's multi_error: 0.296781\ttrain's f1: 0.703219\tval's multi_logloss: 0.645862\tval's multi_error: 0.303333\tval's f1: 0.696667\n",
      "[LightGBM] [Info] [binary:BoostFromScore]: pavg=0.096412 -> initscore=-2.237747\n",
      "[LightGBM] [Info] Start training from score -2.237747\n",
      "[LightGBM] [Info] [binary:BoostFromScore]: pavg=0.568910 -> initscore=0.277407\n",
      "[LightGBM] [Info] Start training from score 0.277407\n",
      "[LightGBM] [Info] [binary:BoostFromScore]: pavg=0.334678 -> initscore=-0.687102\n",
      "[LightGBM] [Info] Start training from score -0.687102\n",
      "[1]\ttrain's multi_logloss: 0.883199\ttrain's multi_error: 0.43109\ttrain's f1: 0.56891\tval's multi_logloss: 0.883368\tval's multi_error: 0.431082\tval's f1: 0.568918\n",
      "Training until validation scores don't improve for 12 rounds\n",
      "[2]\ttrain's multi_logloss: 0.858861\ttrain's multi_error: 0.43109\ttrain's f1: 0.56891\tval's multi_logloss: 0.859187\tval's multi_error: 0.431082\tval's f1: 0.568918\n",
      "[3]\ttrain's multi_logloss: 0.837927\ttrain's multi_error: 0.43109\ttrain's f1: 0.56891\tval's multi_logloss: 0.838363\tval's multi_error: 0.431082\tval's f1: 0.568918\n",
      "[4]\ttrain's multi_logloss: 0.81951\ttrain's multi_error: 0.43109\ttrain's f1: 0.56891\tval's multi_logloss: 0.820058\tval's multi_error: 0.431082\tval's f1: 0.568918\n",
      "[5]\ttrain's multi_logloss: 0.803064\ttrain's multi_error: 0.43109\ttrain's f1: 0.56891\tval's multi_logloss: 0.803733\tval's multi_error: 0.431082\tval's f1: 0.568918\n",
      "[6]\ttrain's multi_logloss: 0.788124\ttrain's multi_error: 0.43109\ttrain's f1: 0.56891\tval's multi_logloss: 0.788937\tval's multi_error: 0.431082\tval's f1: 0.568918\n",
      "[7]\ttrain's multi_logloss: 0.774533\ttrain's multi_error: 0.43109\ttrain's f1: 0.56891\tval's multi_logloss: 0.775478\tval's multi_error: 0.431082\tval's f1: 0.568918\n",
      "[8]\ttrain's multi_logloss: 0.762034\ttrain's multi_error: 0.429065\ttrain's f1: 0.570935\tval's multi_logloss: 0.763086\tval's multi_error: 0.429221\tval's f1: 0.570779\n"
     ]
    },
    {
     "name": "stdout",
     "output_type": "stream",
     "text": [
      "[9]\ttrain's multi_logloss: 0.750511\ttrain's multi_error: 0.371741\ttrain's f1: 0.628259\tval's multi_logloss: 0.751676\tval's multi_error: 0.373139\tval's f1: 0.626861\n",
      "[10]\ttrain's multi_logloss: 0.739887\ttrain's multi_error: 0.366379\ttrain's f1: 0.633621\tval's multi_logloss: 0.741199\tval's multi_error: 0.368227\tval's f1: 0.631773\n",
      "[11]\ttrain's multi_logloss: 0.729978\ttrain's multi_error: 0.355342\ttrain's f1: 0.644658\tval's multi_logloss: 0.731415\tval's multi_error: 0.355334\tval's f1: 0.644666\n",
      "[12]\ttrain's multi_logloss: 0.720642\ttrain's multi_error: 0.344962\ttrain's f1: 0.655038\tval's multi_logloss: 0.722131\tval's multi_error: 0.345549\tval's f1: 0.654451\n",
      "[13]\ttrain's multi_logloss: 0.711804\ttrain's multi_error: 0.338952\ttrain's f1: 0.661048\tval's multi_logloss: 0.713404\tval's multi_error: 0.339351\tval's f1: 0.660649\n",
      "[14]\ttrain's multi_logloss: 0.703635\ttrain's multi_error: 0.334165\ttrain's f1: 0.665835\tval's multi_logloss: 0.705345\tval's multi_error: 0.335399\tval's f1: 0.664601\n",
      "[15]\ttrain's multi_logloss: 0.696023\ttrain's multi_error: 0.327262\ttrain's f1: 0.672738\tval's multi_logloss: 0.69787\tval's multi_error: 0.329566\tval's f1: 0.670434\n",
      "[16]\ttrain's multi_logloss: 0.688719\ttrain's multi_error: 0.318969\ttrain's f1: 0.681031\tval's multi_logloss: 0.690661\tval's multi_error: 0.321431\tval's f1: 0.678569\n",
      "[17]\ttrain's multi_logloss: 0.681852\ttrain's multi_error: 0.310345\ttrain's f1: 0.689655\tval's multi_logloss: 0.683879\tval's multi_error: 0.311896\tval's f1: 0.688104\n",
      "[18]\ttrain's multi_logloss: 0.675396\ttrain's multi_error: 0.308162\ttrain's f1: 0.691838\tval's multi_logloss: 0.677555\tval's multi_error: 0.30921\tval's f1: 0.69079\n",
      "[19]\ttrain's multi_logloss: 0.669258\ttrain's multi_error: 0.305232\ttrain's f1: 0.694768\tval's multi_logloss: 0.671498\tval's multi_error: 0.305756\tval's f1: 0.694244\n",
      "[20]\ttrain's multi_logloss: 0.663425\ttrain's multi_error: 0.302037\ttrain's f1: 0.697963\tval's multi_logloss: 0.665762\tval's multi_error: 0.301995\tval's f1: 0.698005\n",
      "[21]\ttrain's multi_logloss: 0.657889\ttrain's multi_error: 0.299188\ttrain's f1: 0.700812\tval's multi_logloss: 0.660321\tval's multi_error: 0.29929\tval's f1: 0.70071\n",
      "[22]\ttrain's multi_logloss: 0.65256\ttrain's multi_error: 0.298665\ttrain's f1: 0.701335\tval's multi_logloss: 0.655098\tval's multi_error: 0.299233\tval's f1: 0.700767\n",
      "[23]\ttrain's multi_logloss: 0.647512\ttrain's multi_error: 0.296377\ttrain's f1: 0.703623\tval's multi_logloss: 0.650135\tval's multi_error: 0.296009\tval's f1: 0.703991\n",
      "[24]\ttrain's multi_logloss: 0.642651\ttrain's multi_error: 0.296118\ttrain's f1: 0.703882\tval's multi_logloss: 0.645326\tval's multi_error: 0.296623\tval's f1: 0.703377\n",
      "[25]\ttrain's multi_logloss: 0.638087\ttrain's multi_error: 0.296569\ttrain's f1: 0.703431\tval's multi_logloss: 0.640854\tval's multi_error: 0.297467\tval's f1: 0.702533\n",
      "[26]\ttrain's multi_logloss: 0.633745\ttrain's multi_error: 0.297111\ttrain's f1: 0.702889\tval's multi_logloss: 0.636567\tval's multi_error: 0.298868\tval's f1: 0.701132\n",
      "[27]\ttrain's multi_logloss: 0.629561\ttrain's multi_error: 0.29819\ttrain's f1: 0.70181\tval's multi_logloss: 0.63244\tval's multi_error: 0.299674\tval's f1: 0.700326\n",
      "[28]\ttrain's multi_logloss: 0.625554\ttrain's multi_error: 0.299428\ttrain's f1: 0.700572\tval's multi_logloss: 0.628504\tval's multi_error: 0.301055\tval's f1: 0.698945\n",
      "[29]\ttrain's multi_logloss: 0.621746\ttrain's multi_error: 0.300848\ttrain's f1: 0.699152\tval's multi_logloss: 0.624794\tval's multi_error: 0.302302\tval's f1: 0.697698\n",
      "[30]\ttrain's multi_logloss: 0.618\ttrain's multi_error: 0.301466\ttrain's f1: 0.698534\tval's multi_logloss: 0.621119\tval's multi_error: 0.302705\tval's f1: 0.697295\n",
      "[31]\ttrain's multi_logloss: 0.614462\ttrain's multi_error: 0.301797\ttrain's f1: 0.698203\tval's multi_logloss: 0.617629\tval's multi_error: 0.303127\tval's f1: 0.696873\n",
      "[32]\ttrain's multi_logloss: 0.611134\ttrain's multi_error: 0.302311\ttrain's f1: 0.697689\tval's multi_logloss: 0.614392\tval's multi_error: 0.303895\tval's f1: 0.696105\n",
      "[33]\ttrain's multi_logloss: 0.607858\ttrain's multi_error: 0.303044\ttrain's f1: 0.696956\tval's multi_logloss: 0.611174\tval's multi_error: 0.304259\tval's f1: 0.695741\n",
      "[34]\ttrain's multi_logloss: 0.60484\ttrain's multi_error: 0.303711\ttrain's f1: 0.696289\tval's multi_logloss: 0.608172\tval's multi_error: 0.305372\tval's f1: 0.694628\n",
      "[35]\ttrain's multi_logloss: 0.601937\ttrain's multi_error: 0.303615\ttrain's f1: 0.696385\tval's multi_logloss: 0.605338\tval's multi_error: 0.305449\tval's f1: 0.694551\n",
      "Early stopping, best iteration is:\n",
      "[23]\ttrain's multi_logloss: 0.647512\ttrain's multi_error: 0.296377\ttrain's f1: 0.703623\tval's multi_logloss: 0.650135\tval's multi_error: 0.296009\tval's f1: 0.703991\n",
      "[LightGBM] [Info] [binary:BoostFromScore]: pavg=0.096407 -> initscore=-2.237802\n",
      "[LightGBM] [Info] Start training from score -2.237802\n",
      "[LightGBM] [Info] [binary:BoostFromScore]: pavg=0.568915 -> initscore=0.277426\n",
      "[LightGBM] [Info] Start training from score 0.277426\n",
      "[LightGBM] [Info] [binary:BoostFromScore]: pavg=0.334678 -> initscore=-0.687102\n",
      "[LightGBM] [Info] Start training from score -0.687102\n",
      "[1]\ttrain's multi_logloss: 0.883117\ttrain's multi_error: 0.431085\ttrain's f1: 0.568915\tval's multi_logloss: 0.883555\tval's multi_error: 0.431101\tval's f1: 0.568899\n",
      "Training until validation scores don't improve for 12 rounds\n",
      "[2]\ttrain's multi_logloss: 0.858748\ttrain's multi_error: 0.431085\ttrain's f1: 0.568915\tval's multi_logloss: 0.859524\tval's multi_error: 0.431101\tval's f1: 0.568899\n",
      "[3]\ttrain's multi_logloss: 0.837756\ttrain's multi_error: 0.431085\ttrain's f1: 0.568915\tval's multi_logloss: 0.838802\tval's multi_error: 0.431101\tval's f1: 0.568899\n",
      "[4]\ttrain's multi_logloss: 0.819288\ttrain's multi_error: 0.431085\ttrain's f1: 0.568915\tval's multi_logloss: 0.820573\tval's multi_error: 0.431101\tval's f1: 0.568899\n",
      "[5]\ttrain's multi_logloss: 0.802825\ttrain's multi_error: 0.431085\ttrain's f1: 0.568915\tval's multi_logloss: 0.804315\tval's multi_error: 0.431101\tval's f1: 0.568899\n",
      "[6]\ttrain's multi_logloss: 0.787911\ttrain's multi_error: 0.431085\ttrain's f1: 0.568915\tval's multi_logloss: 0.789605\tval's multi_error: 0.431101\tval's f1: 0.568899\n",
      "[7]\ttrain's multi_logloss: 0.774261\ttrain's multi_error: 0.431085\ttrain's f1: 0.568915\tval's multi_logloss: 0.776154\tval's multi_error: 0.431101\tval's f1: 0.568899\n",
      "[8]\ttrain's multi_logloss: 0.761792\ttrain's multi_error: 0.431085\ttrain's f1: 0.568915\tval's multi_logloss: 0.763825\tval's multi_error: 0.431101\tval's f1: 0.568899\n",
      "[9]\ttrain's multi_logloss: 0.750259\ttrain's multi_error: 0.374044\ttrain's f1: 0.625956\tval's multi_logloss: 0.752458\tval's multi_error: 0.375038\tval's f1: 0.624962\n",
      "[10]\ttrain's multi_logloss: 0.739508\ttrain's multi_error: 0.366196\ttrain's f1: 0.633804\tval's multi_logloss: 0.741877\tval's multi_error: 0.367076\tval's f1: 0.632924\n",
      "[11]\ttrain's multi_logloss: 0.729589\ttrain's multi_error: 0.354426\ttrain's f1: 0.645574\tval's multi_logloss: 0.732099\tval's multi_error: 0.355027\tval's f1: 0.644973\n",
      "[12]\ttrain's multi_logloss: 0.72025\ttrain's multi_error: 0.343283\ttrain's f1: 0.656717\tval's multi_logloss: 0.722928\tval's multi_error: 0.345549\tval's f1: 0.654451\n",
      "[13]\ttrain's multi_logloss: 0.711573\ttrain's multi_error: 0.33828\ttrain's f1: 0.66172\tval's multi_logloss: 0.714416\tval's multi_error: 0.340733\tval's f1: 0.659267\n",
      "[14]\ttrain's multi_logloss: 0.703418\ttrain's multi_error: 0.333671\ttrain's f1: 0.666329\tval's multi_logloss: 0.70641\tval's multi_error: 0.33515\tval's f1: 0.66485\n",
      "[15]\ttrain's multi_logloss: 0.695658\ttrain's multi_error: 0.328059\ttrain's f1: 0.671941\tval's multi_logloss: 0.698748\tval's multi_error: 0.329413\tval's f1: 0.670587\n",
      "[16]\ttrain's multi_logloss: 0.688405\ttrain's multi_error: 0.320792\ttrain's f1: 0.679208\tval's multi_logloss: 0.691691\tval's multi_error: 0.322813\tval's f1: 0.677187\n",
      "[17]\ttrain's multi_logloss: 0.681508\ttrain's multi_error: 0.309616\ttrain's f1: 0.690384\tval's multi_logloss: 0.684935\tval's multi_error: 0.311435\tval's f1: 0.688565\n",
      "[18]\ttrain's multi_logloss: 0.675008\ttrain's multi_error: 0.30716\ttrain's f1: 0.69284\tval's multi_logloss: 0.678568\tval's multi_error: 0.309248\tval's f1: 0.690752\n",
      "[19]\ttrain's multi_logloss: 0.668883\ttrain's multi_error: 0.304536\ttrain's f1: 0.695464\tval's multi_logloss: 0.672556\tval's multi_error: 0.307061\tval's f1: 0.692939\n"
     ]
    },
    {
     "name": "stdout",
     "output_type": "stream",
     "text": [
      "[20]\ttrain's multi_logloss: 0.66301\ttrain's multi_error: 0.301462\ttrain's f1: 0.698538\tval's multi_logloss: 0.666804\tval's multi_error: 0.304125\tval's f1: 0.695875\n",
      "[21]\ttrain's multi_logloss: 0.657412\ttrain's multi_error: 0.298205\ttrain's f1: 0.701795\tval's multi_logloss: 0.661317\tval's multi_error: 0.301842\tval's f1: 0.698158\n",
      "[22]\ttrain's multi_logloss: 0.652134\ttrain's multi_error: 0.297701\ttrain's f1: 0.702299\tval's multi_logloss: 0.65614\tval's multi_error: 0.301362\tval's f1: 0.698638\n",
      "[23]\ttrain's multi_logloss: 0.647077\ttrain's multi_error: 0.296871\ttrain's f1: 0.703129\tval's multi_logloss: 0.651181\tval's multi_error: 0.30094\tval's f1: 0.69906\n",
      "[24]\ttrain's multi_logloss: 0.6422\ttrain's multi_error: 0.297533\ttrain's f1: 0.702467\tval's multi_logloss: 0.646458\tval's multi_error: 0.301094\tval's f1: 0.698906\n",
      "[25]\ttrain's multi_logloss: 0.637581\ttrain's multi_error: 0.29773\ttrain's f1: 0.70227\tval's multi_logloss: 0.641929\tval's multi_error: 0.301209\tval's f1: 0.698791\n",
      "[26]\ttrain's multi_logloss: 0.633174\ttrain's multi_error: 0.297538\ttrain's f1: 0.702462\tval's multi_logloss: 0.637674\tval's multi_error: 0.302245\tval's f1: 0.697755\n",
      "[27]\ttrain's multi_logloss: 0.628851\ttrain's multi_error: 0.29808\ttrain's f1: 0.70192\tval's multi_logloss: 0.633487\tval's multi_error: 0.303166\tval's f1: 0.696834\n",
      "[28]\ttrain's multi_logloss: 0.624854\ttrain's multi_error: 0.299332\ttrain's f1: 0.700668\tval's multi_logloss: 0.629607\tval's multi_error: 0.30401\tval's f1: 0.69599\n",
      "[29]\ttrain's multi_logloss: 0.621017\ttrain's multi_error: 0.300387\ttrain's f1: 0.699613\tval's multi_logloss: 0.625905\tval's multi_error: 0.304988\tval's f1: 0.695012\n",
      "[30]\ttrain's multi_logloss: 0.617352\ttrain's multi_error: 0.300766\ttrain's f1: 0.699234\tval's multi_logloss: 0.622332\tval's multi_error: 0.305487\tval's f1: 0.694513\n",
      "[31]\ttrain's multi_logloss: 0.613803\ttrain's multi_error: 0.300838\ttrain's f1: 0.699162\tval's multi_logloss: 0.618888\tval's multi_error: 0.305871\tval's f1: 0.694129\n",
      "[32]\ttrain's multi_logloss: 0.610391\ttrain's multi_error: 0.301284\ttrain's f1: 0.698716\tval's multi_logloss: 0.615586\tval's multi_error: 0.30637\tval's f1: 0.69363\n",
      "[33]\ttrain's multi_logloss: 0.607104\ttrain's multi_error: 0.301481\ttrain's f1: 0.698519\tval's multi_logloss: 0.612396\tval's multi_error: 0.306504\tval's f1: 0.693496\n",
      "[34]\ttrain's multi_logloss: 0.604023\ttrain's multi_error: 0.301394\ttrain's f1: 0.698606\tval's multi_logloss: 0.609421\tval's multi_error: 0.3066\tval's f1: 0.6934\n",
      "[35]\ttrain's multi_logloss: 0.601125\ttrain's multi_error: 0.301855\ttrain's f1: 0.698145\tval's multi_logloss: 0.606649\tval's multi_error: 0.307252\tval's f1: 0.692748\n",
      "Early stopping, best iteration is:\n",
      "[23]\ttrain's multi_logloss: 0.647077\ttrain's multi_error: 0.296871\ttrain's f1: 0.703129\tval's multi_logloss: 0.651181\tval's multi_error: 0.30094\tval's f1: 0.69906\n",
      "[LightGBM] [Info] [binary:BoostFromScore]: pavg=0.096407 -> initscore=-2.237802\n",
      "[LightGBM] [Info] Start training from score -2.237802\n",
      "[LightGBM] [Info] [binary:BoostFromScore]: pavg=0.568910 -> initscore=0.277407\n",
      "[LightGBM] [Info] Start training from score 0.277407\n",
      "[LightGBM] [Info] [binary:BoostFromScore]: pavg=0.334683 -> initscore=-0.687081\n",
      "[LightGBM] [Info] Start training from score -0.687081\n",
      "[1]\ttrain's multi_logloss: 0.883341\ttrain's multi_error: 0.43109\ttrain's f1: 0.56891\tval's multi_logloss: 0.883308\tval's multi_error: 0.431082\tval's f1: 0.568918\n",
      "Training until validation scores don't improve for 12 rounds\n",
      "[2]\ttrain's multi_logloss: 0.858955\ttrain's multi_error: 0.43109\ttrain's f1: 0.56891\tval's multi_logloss: 0.858864\tval's multi_error: 0.431082\tval's f1: 0.568918\n",
      "[3]\ttrain's multi_logloss: 0.838032\ttrain's multi_error: 0.43109\ttrain's f1: 0.56891\tval's multi_logloss: 0.837979\tval's multi_error: 0.431082\tval's f1: 0.568918\n",
      "[4]\ttrain's multi_logloss: 0.819607\ttrain's multi_error: 0.43109\ttrain's f1: 0.56891\tval's multi_logloss: 0.819615\tval's multi_error: 0.431082\tval's f1: 0.568918\n",
      "[5]\ttrain's multi_logloss: 0.80316\ttrain's multi_error: 0.43109\ttrain's f1: 0.56891\tval's multi_logloss: 0.80325\tval's multi_error: 0.431082\tval's f1: 0.568918\n",
      "[6]\ttrain's multi_logloss: 0.78831\ttrain's multi_error: 0.43109\ttrain's f1: 0.56891\tval's multi_logloss: 0.788466\tval's multi_error: 0.431082\tval's f1: 0.568918\n",
      "[7]\ttrain's multi_logloss: 0.774746\ttrain's multi_error: 0.43109\ttrain's f1: 0.56891\tval's multi_logloss: 0.774999\tval's multi_error: 0.431082\tval's f1: 0.568918\n",
      "[8]\ttrain's multi_logloss: 0.762256\ttrain's multi_error: 0.428994\ttrain's f1: 0.571006\tval's multi_logloss: 0.762594\tval's multi_error: 0.429509\tval's f1: 0.570491\n",
      "[9]\ttrain's multi_logloss: 0.750745\ttrain's multi_error: 0.370758\ttrain's f1: 0.629242\tval's multi_logloss: 0.75119\tval's multi_error: 0.371163\tval's f1: 0.628837\n",
      "[10]\ttrain's multi_logloss: 0.740035\ttrain's multi_error: 0.363424\ttrain's f1: 0.636576\tval's multi_logloss: 0.740569\tval's multi_error: 0.365061\tval's f1: 0.634939\n",
      "[11]\ttrain's multi_logloss: 0.730056\ttrain's multi_error: 0.354852\ttrain's f1: 0.645148\tval's multi_logloss: 0.730698\tval's multi_error: 0.357387\tval's f1: 0.642613\n",
      "[12]\ttrain's multi_logloss: 0.720768\ttrain's multi_error: 0.349696\ttrain's f1: 0.650304\tval's multi_logloss: 0.721491\tval's multi_error: 0.352245\tval's f1: 0.647755\n",
      "[13]\ttrain's multi_logloss: 0.712075\ttrain's multi_error: 0.341264\ttrain's f1: 0.658736\tval's multi_logloss: 0.712923\tval's multi_error: 0.343477\tval's f1: 0.656523\n",
      "[14]\ttrain's multi_logloss: 0.703919\ttrain's multi_error: 0.335613\ttrain's f1: 0.664387\tval's multi_logloss: 0.704879\tval's multi_error: 0.338277\tval's f1: 0.661723\n",
      "[15]\ttrain's multi_logloss: 0.696208\ttrain's multi_error: 0.328754\ttrain's f1: 0.671246\tval's multi_logloss: 0.697244\tval's multi_error: 0.332061\tval's f1: 0.667939\n",
      "[16]\ttrain's multi_logloss: 0.688968\ttrain's multi_error: 0.322322\ttrain's f1: 0.677678\tval's multi_logloss: 0.690071\tval's multi_error: 0.326401\tval's f1: 0.673599\n",
      "[17]\ttrain's multi_logloss: 0.682064\ttrain's multi_error: 0.310541\ttrain's f1: 0.689459\tval's multi_logloss: 0.683232\tval's multi_error: 0.31414\tval's f1: 0.68586\n",
      "[18]\ttrain's multi_logloss: 0.675637\ttrain's multi_error: 0.306508\ttrain's f1: 0.693492\tval's multi_logloss: 0.676873\tval's multi_error: 0.309094\tval's f1: 0.690906\n",
      "[19]\ttrain's multi_logloss: 0.669426\ttrain's multi_error: 0.302469\ttrain's f1: 0.697531\tval's multi_logloss: 0.670769\tval's multi_error: 0.305641\tval's f1: 0.694359\n",
      "[20]\ttrain's multi_logloss: 0.663658\ttrain's multi_error: 0.300469\ttrain's f1: 0.699531\tval's multi_logloss: 0.665072\tval's multi_error: 0.303741\tval's f1: 0.696259\n",
      "[21]\ttrain's multi_logloss: 0.65803\ttrain's multi_error: 0.298656\ttrain's f1: 0.701344\tval's multi_logloss: 0.659545\tval's multi_error: 0.301765\tval's f1: 0.698235\n",
      "[22]\ttrain's multi_logloss: 0.652738\ttrain's multi_error: 0.297629\ttrain's f1: 0.702371\tval's multi_logloss: 0.65435\tval's multi_error: 0.301055\tval's f1: 0.698945\n",
      "[23]\ttrain's multi_logloss: 0.6476\ttrain's multi_error: 0.296224\ttrain's f1: 0.703776\tval's multi_logloss: 0.649315\tval's multi_error: 0.299175\tval's f1: 0.700825\n",
      "[24]\ttrain's multi_logloss: 0.642778\ttrain's multi_error: 0.296564\ttrain's f1: 0.703436\tval's multi_logloss: 0.644567\tval's multi_error: 0.299367\tval's f1: 0.700633\n",
      "[25]\ttrain's multi_logloss: 0.638157\ttrain's multi_error: 0.297293\ttrain's f1: 0.702707\tval's multi_logloss: 0.640066\tval's multi_error: 0.299962\tval's f1: 0.700038\n",
      "[26]\ttrain's multi_logloss: 0.633753\ttrain's multi_error: 0.297725\ttrain's f1: 0.702275\tval's multi_logloss: 0.635769\tval's multi_error: 0.300288\tval's f1: 0.699712\n",
      "[27]\ttrain's multi_logloss: 0.629514\ttrain's multi_error: 0.298373\ttrain's f1: 0.701627\tval's multi_logloss: 0.631597\tval's multi_error: 0.300403\tval's f1: 0.699597\n",
      "[28]\ttrain's multi_logloss: 0.625504\ttrain's multi_error: 0.299293\ttrain's f1: 0.700707\tval's multi_logloss: 0.627677\tval's multi_error: 0.301477\tval's f1: 0.698523\n",
      "[29]\ttrain's multi_logloss: 0.621663\ttrain's multi_error: 0.300176\ttrain's f1: 0.699824\tval's multi_logloss: 0.623939\tval's multi_error: 0.302629\tval's f1: 0.697371\n",
      "[30]\ttrain's multi_logloss: 0.617974\ttrain's multi_error: 0.30079\ttrain's f1: 0.69921\tval's multi_logloss: 0.620373\tval's multi_error: 0.303031\tval's f1: 0.696969\n"
     ]
    },
    {
     "name": "stdout",
     "output_type": "stream",
     "text": [
      "[31]\ttrain's multi_logloss: 0.614386\ttrain's multi_error: 0.301131\ttrain's f1: 0.698869\tval's multi_logloss: 0.616892\tval's multi_error: 0.302609\tval's f1: 0.697391\n",
      "[32]\ttrain's multi_logloss: 0.611008\ttrain's multi_error: 0.301481\ttrain's f1: 0.698519\tval's multi_logloss: 0.613616\tval's multi_error: 0.303185\tval's f1: 0.696815\n",
      "[33]\ttrain's multi_logloss: 0.60763\ttrain's multi_error: 0.301783\ttrain's f1: 0.698217\tval's multi_logloss: 0.610327\tval's multi_error: 0.303492\tval's f1: 0.696508\n",
      "[34]\ttrain's multi_logloss: 0.604729\ttrain's multi_error: 0.301951\ttrain's f1: 0.698049\tval's multi_logloss: 0.607529\tval's multi_error: 0.303684\tval's f1: 0.696316\n",
      "[35]\ttrain's multi_logloss: 0.601861\ttrain's multi_error: 0.301965\ttrain's f1: 0.698035\tval's multi_logloss: 0.604738\tval's multi_error: 0.303492\tval's f1: 0.696508\n",
      "Early stopping, best iteration is:\n",
      "[23]\ttrain's multi_logloss: 0.6476\ttrain's multi_error: 0.296224\ttrain's f1: 0.703776\tval's multi_logloss: 0.649315\tval's multi_error: 0.299175\tval's f1: 0.700825\n",
      "[LightGBM] [Info] [binary:BoostFromScore]: pavg=0.096407 -> initscore=-2.237802\n",
      "[LightGBM] [Info] Start training from score -2.237802\n",
      "[LightGBM] [Info] [binary:BoostFromScore]: pavg=0.568910 -> initscore=0.277407\n",
      "[LightGBM] [Info] Start training from score 0.277407\n",
      "[LightGBM] [Info] [binary:BoostFromScore]: pavg=0.334683 -> initscore=-0.687081\n",
      "[LightGBM] [Info] Start training from score -0.687081\n",
      "[1]\ttrain's multi_logloss: 0.883243\ttrain's multi_error: 0.43109\ttrain's f1: 0.56891\tval's multi_logloss: 0.883598\tval's multi_error: 0.431082\tval's f1: 0.568918\n",
      "Training until validation scores don't improve for 12 rounds\n",
      "[2]\ttrain's multi_logloss: 0.858864\ttrain's multi_error: 0.43109\ttrain's f1: 0.56891\tval's multi_logloss: 0.859435\tval's multi_error: 0.431082\tval's f1: 0.568918\n",
      "[3]\ttrain's multi_logloss: 0.837975\ttrain's multi_error: 0.43109\ttrain's f1: 0.56891\tval's multi_logloss: 0.838756\tval's multi_error: 0.431082\tval's f1: 0.568918\n",
      "[4]\ttrain's multi_logloss: 0.819596\ttrain's multi_error: 0.43109\ttrain's f1: 0.56891\tval's multi_logloss: 0.820515\tval's multi_error: 0.431082\tval's f1: 0.568918\n",
      "[5]\ttrain's multi_logloss: 0.803217\ttrain's multi_error: 0.43109\ttrain's f1: 0.56891\tval's multi_logloss: 0.80429\tval's multi_error: 0.431082\tval's f1: 0.568918\n",
      "[6]\ttrain's multi_logloss: 0.788309\ttrain's multi_error: 0.43109\ttrain's f1: 0.56891\tval's multi_logloss: 0.789538\tval's multi_error: 0.431082\tval's f1: 0.568918\n",
      "[7]\ttrain's multi_logloss: 0.774722\ttrain's multi_error: 0.43109\ttrain's f1: 0.56891\tval's multi_logloss: 0.776098\tval's multi_error: 0.431082\tval's f1: 0.568918\n",
      "[8]\ttrain's multi_logloss: 0.762244\ttrain's multi_error: 0.43109\ttrain's f1: 0.56891\tval's multi_logloss: 0.763804\tval's multi_error: 0.431082\tval's f1: 0.568918\n",
      "[9]\ttrain's multi_logloss: 0.750708\ttrain's multi_error: 0.37495\ttrain's f1: 0.62505\tval's multi_logloss: 0.752378\tval's multi_error: 0.373312\tval's f1: 0.626688\n",
      "[10]\ttrain's multi_logloss: 0.740046\ttrain's multi_error: 0.368336\ttrain's f1: 0.631664\tval's multi_logloss: 0.741809\tval's multi_error: 0.366309\tval's f1: 0.633691\n",
      "[11]\ttrain's multi_logloss: 0.730013\ttrain's multi_error: 0.358052\ttrain's f1: 0.641948\tval's multi_logloss: 0.731905\tval's multi_error: 0.355391\tval's f1: 0.644609\n",
      "[12]\ttrain's multi_logloss: 0.720723\ttrain's multi_error: 0.347178\ttrain's f1: 0.652822\tval's multi_logloss: 0.722741\tval's multi_error: 0.345952\tval's f1: 0.654048\n",
      "[13]\ttrain's multi_logloss: 0.712017\ttrain's multi_error: 0.340707\ttrain's f1: 0.659293\tval's multi_logloss: 0.714134\tval's multi_error: 0.339121\tval's f1: 0.660879\n",
      "[14]\ttrain's multi_logloss: 0.703808\ttrain's multi_error: 0.33723\ttrain's f1: 0.66277\tval's multi_logloss: 0.706027\tval's multi_error: 0.335668\tval's f1: 0.664332\n",
      "[15]\ttrain's multi_logloss: 0.696158\ttrain's multi_error: 0.329757\ttrain's f1: 0.670243\tval's multi_logloss: 0.698523\tval's multi_error: 0.327072\tval's f1: 0.672928\n",
      "[16]\ttrain's multi_logloss: 0.688957\ttrain's multi_error: 0.323185\ttrain's f1: 0.676815\tval's multi_logloss: 0.691425\tval's multi_error: 0.320837\tval's f1: 0.679163\n",
      "[17]\ttrain's multi_logloss: 0.682063\ttrain's multi_error: 0.312662\ttrain's f1: 0.687338\tval's multi_logloss: 0.684625\tval's multi_error: 0.311819\tval's f1: 0.688181\n",
      "[18]\ttrain's multi_logloss: 0.675611\ttrain's multi_error: 0.308465\ttrain's f1: 0.691535\tval's multi_logloss: 0.678315\tval's multi_error: 0.308078\tval's f1: 0.691922\n",
      "[19]\ttrain's multi_logloss: 0.669494\ttrain's multi_error: 0.304987\ttrain's f1: 0.695013\tval's multi_logloss: 0.672286\tval's multi_error: 0.305315\tval's f1: 0.694685\n",
      "[20]\ttrain's multi_logloss: 0.663664\ttrain's multi_error: 0.301903\ttrain's f1: 0.698097\tval's multi_logloss: 0.666557\tval's multi_error: 0.303377\tval's f1: 0.696623\n",
      "[21]\ttrain's multi_logloss: 0.658204\ttrain's multi_error: 0.299778\ttrain's f1: 0.700222\tval's multi_logloss: 0.661203\tval's multi_error: 0.301708\tval's f1: 0.698292\n",
      "[22]\ttrain's multi_logloss: 0.652908\ttrain's multi_error: 0.298157\ttrain's f1: 0.701843\tval's multi_logloss: 0.655968\tval's multi_error: 0.299041\tval's f1: 0.700959\n",
      "[23]\ttrain's multi_logloss: 0.647889\ttrain's multi_error: 0.297509\ttrain's f1: 0.702491\tval's multi_logloss: 0.651058\tval's multi_error: 0.300173\tval's f1: 0.699827\n",
      "[24]\ttrain's multi_logloss: 0.643125\ttrain's multi_error: 0.298516\ttrain's f1: 0.701484\tval's multi_logloss: 0.646348\tval's multi_error: 0.300672\tval's f1: 0.699328\n",
      "[25]\ttrain's multi_logloss: 0.638501\ttrain's multi_error: 0.298579\ttrain's f1: 0.701421\tval's multi_logloss: 0.641815\tval's multi_error: 0.300806\tval's f1: 0.699194\n",
      "[26]\ttrain's multi_logloss: 0.634152\ttrain's multi_error: 0.299178\ttrain's f1: 0.700822\tval's multi_logloss: 0.637572\tval's multi_error: 0.301727\tval's f1: 0.698273\n",
      "[27]\ttrain's multi_logloss: 0.629937\ttrain's multi_error: 0.30021\ttrain's f1: 0.69979\tval's multi_logloss: 0.633466\tval's multi_error: 0.302552\tval's f1: 0.697448\n",
      "[28]\ttrain's multi_logloss: 0.625922\ttrain's multi_error: 0.301418\ttrain's f1: 0.698582\tval's multi_logloss: 0.629574\tval's multi_error: 0.30401\tval's f1: 0.69599\n",
      "[29]\ttrain's multi_logloss: 0.6221\ttrain's multi_error: 0.302632\ttrain's f1: 0.697368\tval's multi_logloss: 0.625833\tval's multi_error: 0.305084\tval's f1: 0.694916\n",
      "[30]\ttrain's multi_logloss: 0.618402\ttrain's multi_error: 0.303332\ttrain's f1: 0.696668\tval's multi_logloss: 0.622214\tval's multi_error: 0.30566\tval's f1: 0.69434\n",
      "[31]\ttrain's multi_logloss: 0.614871\ttrain's multi_error: 0.303879\ttrain's f1: 0.696121\tval's multi_logloss: 0.618763\tval's multi_error: 0.306581\tval's f1: 0.693419\n",
      "[32]\ttrain's multi_logloss: 0.611477\ttrain's multi_error: 0.304042\ttrain's f1: 0.695958\tval's multi_logloss: 0.615462\tval's multi_error: 0.306427\tval's f1: 0.693573\n",
      "[33]\ttrain's multi_logloss: 0.608198\ttrain's multi_error: 0.303802\ttrain's f1: 0.696198\tval's multi_logloss: 0.612307\tval's multi_error: 0.3066\tval's f1: 0.6934\n",
      "[34]\ttrain's multi_logloss: 0.60508\ttrain's multi_error: 0.303735\ttrain's f1: 0.696265\tval's multi_logloss: 0.609273\tval's multi_error: 0.306677\tval's f1: 0.693323\n",
      "Early stopping, best iteration is:\n",
      "[22]\ttrain's multi_logloss: 0.652908\ttrain's multi_error: 0.298157\ttrain's f1: 0.701843\tval's multi_logloss: 0.655968\tval's multi_error: 0.299041\tval's f1: 0.700959\n"
     ]
    }
   ],
   "source": [
    "param = {'num_leaves': 120,\n",
    "         'min_child_samples': 40,\n",
    "         'learning_rate': 0.03,\n",
    "         'num_boost_round': 40,\n",
    "         'early_stopping_rounds': 12,\n",
    "         'boosting_type': 'goss',\n",
    "         'objective': 'multiclassova',\n",
    "         'is_unbalance': True,\n",
    "         'metric': ['multiclassova', 'multi_error'],\n",
    "         'num_class': 3,\n",
    "         'verbosity': -1,\n",
    "         'num_threads': 8,\n",
    "         'seed': 1}\n",
    "\n",
    "run = wandb.init(project='earthquake_damage_competition',\n",
    "                 config=param)\n",
    "\n",
    "skf = StratifiedKFold(n_splits=5, random_state=1, shuffle=True)\n",
    "\n",
    "all_eval_results = {}\n",
    "all_boosters = {}\n",
    "i = 0\n",
    "# Cross-validation loop\n",
    "for train_idx, val_idx in skf.split(X_all_ints, y):\n",
    "    train_dataset, val_dataset = get_train_val_datasets(X_all_ints, y,\n",
    "                                                       train_idx, val_idx)\n",
    "    # Perform bagged model building and evaluation to get a score\n",
    "    booster, evals_results = train_lgbm_model(param, train_dataset,\n",
    "                                             val_dataset)\n",
    "    all_eval_results[i] = evals_results\n",
    "    all_boosters[i] = booster\n",
    "    i += 1"
   ]
  },
  {
   "cell_type": "code",
   "execution_count": null,
   "id": "advisory-grounds",
   "metadata": {},
   "outputs": [],
   "source": []
  },
  {
   "cell_type": "code",
   "execution_count": null,
   "id": "registered-smart",
   "metadata": {},
   "outputs": [],
   "source": []
  },
  {
   "cell_type": "code",
   "execution_count": null,
   "id": "approximate-portland",
   "metadata": {},
   "outputs": [],
   "source": []
  },
  {
   "cell_type": "code",
   "execution_count": null,
   "id": "devoted-entrepreneur",
   "metadata": {},
   "outputs": [],
   "source": []
  },
  {
   "cell_type": "code",
   "execution_count": null,
   "id": "residential-palestinian",
   "metadata": {},
   "outputs": [],
   "source": []
  },
  {
   "cell_type": "code",
   "execution_count": null,
   "id": "dried-lemon",
   "metadata": {},
   "outputs": [],
   "source": []
  },
  {
   "cell_type": "code",
   "execution_count": null,
   "id": "greater-patient",
   "metadata": {},
   "outputs": [],
   "source": []
  },
  {
   "cell_type": "code",
   "execution_count": null,
   "id": "equivalent-brooklyn",
   "metadata": {},
   "outputs": [],
   "source": []
  },
  {
   "cell_type": "code",
   "execution_count": null,
   "id": "connected-selection",
   "metadata": {},
   "outputs": [],
   "source": []
  },
  {
   "cell_type": "code",
   "execution_count": null,
   "id": "strong-connecticut",
   "metadata": {
    "id": "strong-connecticut"
   },
   "outputs": [],
   "source": []
  },
  {
   "cell_type": "code",
   "execution_count": null,
   "id": "terminal-dragon",
   "metadata": {
    "id": "terminal-dragon"
   },
   "outputs": [],
   "source": []
  },
  {
   "cell_type": "code",
   "execution_count": null,
   "id": "interracial-carnival",
   "metadata": {
    "id": "interracial-carnival"
   },
   "outputs": [],
   "source": []
  },
  {
   "cell_type": "code",
   "execution_count": null,
   "id": "passive-reminder",
   "metadata": {
    "id": "passive-reminder"
   },
   "outputs": [],
   "source": []
  }
 ],
 "metadata": {
  "accelerator": "GPU",
  "colab": {
   "collapsed_sections": [],
   "name": "bagging.ipynb",
   "provenance": [],
   "toc_visible": true
  },
  "kernelspec": {
   "display_name": "Python 3",
   "language": "python",
   "name": "python3"
  },
  "language_info": {
   "codemirror_mode": {
    "name": "ipython",
    "version": 3
   },
   "file_extension": ".py",
   "mimetype": "text/x-python",
   "name": "python",
   "nbconvert_exporter": "python",
   "pygments_lexer": "ipython3",
   "version": "3.7.9"
  },
  "toc": {
   "base_numbering": 1,
   "nav_menu": {},
   "number_sections": true,
   "sideBar": true,
   "skip_h1_title": false,
   "title_cell": "Table of Contents",
   "title_sidebar": "Contents",
   "toc_cell": false,
   "toc_position": {},
   "toc_section_display": true,
   "toc_window_display": false
  },
  "varInspector": {
   "cols": {
    "lenName": 16,
    "lenType": 16,
    "lenVar": 40
   },
   "kernels_config": {
    "python": {
     "delete_cmd_postfix": "",
     "delete_cmd_prefix": "del ",
     "library": "var_list.py",
     "varRefreshCmd": "print(var_dic_list())"
    },
    "r": {
     "delete_cmd_postfix": ") ",
     "delete_cmd_prefix": "rm(",
     "library": "var_list.r",
     "varRefreshCmd": "cat(var_dic_list()) "
    }
   },
   "types_to_exclude": [
    "module",
    "function",
    "builtin_function_or_method",
    "instance",
    "_Feature"
   ],
   "window_display": false
  }
 },
 "nbformat": 4,
 "nbformat_minor": 5
}
