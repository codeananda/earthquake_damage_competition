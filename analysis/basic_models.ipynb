{
 "cells": [
  {
   "cell_type": "markdown",
   "id": "critical-alabama",
   "metadata": {},
   "source": [
    "# Mean and Guessing Models\n",
    "\n",
    "Let's build some models that just guess the mean and use smart/weighted guesses on the test set. "
   ]
  },
  {
   "cell_type": "code",
   "execution_count": 1,
   "id": "following-software",
   "metadata": {
    "ExecuteTime": {
     "end_time": "2021-02-09T12:38:18.142876Z",
     "start_time": "2021-02-09T12:38:13.177716Z"
    }
   },
   "outputs": [],
   "source": [
    "import matplotlib.pyplot as plt\n",
    "import seaborn as sns\n",
    "import numpy as np\n",
    "import pandas as pd\n",
    "import pickle\n",
    "import lightgbm as lgb\n",
    "\n",
    "from pathlib import Path\n",
    "from lightgbm import LGBMClassifier\n",
    "from pprint import pprint\n",
    "\n",
    "from sklearn.metrics import mean_squared_error, f1_score\n",
    "from sklearn.pipeline import Pipeline\n",
    "from sklearn.preprocessing import StandardScaler\n",
    "from sklearn.model_selection import KFold, train_test_split, RandomizedSearchCV \n",
    "from sklearn.model_selection import cross_val_score, StratifiedKFold\n",
    "\n",
    "############ USE FOR GOOGLE COLAB ############\n",
    "# DATA_DIR = Path('/content/drive/MyDrive/Work/Delivery/Current/Earthquake_damage/data')\n",
    "# SUBMISSIONS_DIR = Path('drive/MyDrive/Work/Delivery/Current/Earthquake_damage/submissions')\n",
    "# MODEL_DIR = Path('/content/drive/MyDrive/Work/Delivery/Current/Earthquake_damage/models')\n",
    "\n",
    "# from google.colab import drive\n",
    "# drive.mount('/content/drive')\n",
    "#############################################\n",
    "\n",
    "\n",
    "### USE FOR LOCAL JUPYTER NOTEBOOKS ###\n",
    "DATA_DIR = Path('data')\n",
    "SUBMISSIONS_DIR = Path('submissions')\n",
    "MODEL_DIR = Path('models')\n",
    "#######################################\n",
    "\n",
    "# The code runs the same if working on Jupyter or Colab, just need to change the \n",
    "# dirs above\n",
    "\n",
    "X = pd.read_csv(DATA_DIR / 'train_values.csv', index_col='building_id')\n",
    "\n",
    "categorical_columns = X.select_dtypes(include='object').columns\n",
    "bool_columns = [col for col in X.columns if col.startswith('has')]\n",
    "X[categorical_columns] = X[categorical_columns].astype('category')\n",
    "X[bool_columns] = X[bool_columns].astype('bool')\n",
    "\n",
    "X = pd.get_dummies(X)\n",
    "y = pd.read_csv(DATA_DIR / 'train_labels.csv', index_col='building_id')"
   ]
  },
  {
   "cell_type": "code",
   "execution_count": 2,
   "id": "alien-steam",
   "metadata": {
    "ExecuteTime": {
     "end_time": "2021-02-09T12:38:19.947964Z",
     "start_time": "2021-02-09T12:38:19.944764Z"
    }
   },
   "outputs": [],
   "source": [
    "sns.set()"
   ]
  },
  {
   "cell_type": "code",
   "execution_count": 3,
   "id": "committed-tumor",
   "metadata": {
    "ExecuteTime": {
     "end_time": "2021-02-09T12:38:20.479264Z",
     "start_time": "2021-02-09T12:38:20.255391Z"
    }
   },
   "outputs": [],
   "source": [
    "submission_format = pd.read_csv(DATA_DIR / 'submission_format.csv',\n",
    "                                index_col='building_id')\n",
    "\n",
    "test_values = pd.read_csv(DATA_DIR / 'test_values.csv', index_col='building_id')"
   ]
  },
  {
   "cell_type": "code",
   "execution_count": 4,
   "id": "modern-calvin",
   "metadata": {
    "ExecuteTime": {
     "end_time": "2021-02-09T12:38:20.595096Z",
     "start_time": "2021-02-09T12:38:20.590956Z"
    }
   },
   "outputs": [],
   "source": [
    "def submission():\n",
    "    submission_format = pd.read_csv(DATA_DIR / 'submission_format.csv',\n",
    "                                    index_col='building_id')\n",
    "\n",
    "    my_submission = pd.DataFrame(data=predictions,\n",
    "                                columns=submission_format.columns,\n",
    "                                index=submission_format.index)\n",
    "    \n",
    "    my_submission.to_csv(SUBMISSIONS_DIR / f'{title}.csv')"
   ]
  },
  {
   "cell_type": "code",
   "execution_count": 14,
   "id": "available-romania",
   "metadata": {
    "ExecuteTime": {
     "end_time": "2021-02-08T14:30:52.649685Z",
     "start_time": "2021-02-08T14:30:52.533454Z"
    }
   },
   "outputs": [],
   "source": [
    "# Just guessing 2\n",
    "all_twos = np.ones(len(submission_format), dtype=np.int8) + 1\n",
    "\n",
    "df_all_twos = pd.DataFrame(data=all_twos,\n",
    "                           columns=submission_format.columns,\n",
    "                           index=submission_format.index)\n",
    "\n",
    "df_all_twos.to_csv(SUBMISSIONS_DIR / 'all_twos.csv')"
   ]
  },
  {
   "cell_type": "markdown",
   "id": "measured-logic",
   "metadata": {},
   "source": [
    "## Weighted Guessing\n",
    "\n",
    "We can see taht we have 10% of houses being damage grade 1, 57% being grade 2 and 33% are grade 3. So, let's create a classifier that guesses these options this percentage of the time."
   ]
  },
  {
   "cell_type": "code",
   "execution_count": 6,
   "id": "artificial-visitor",
   "metadata": {
    "ExecuteTime": {
     "end_time": "2021-02-09T12:38:31.525689Z",
     "start_time": "2021-02-09T12:38:31.500087Z"
    }
   },
   "outputs": [
    {
     "data": {
      "text/plain": [
       "damage_grade\n",
       "1               0.096408\n",
       "2               0.568912\n",
       "3               0.334680\n",
       "dtype: float64"
      ]
     },
     "execution_count": 6,
     "metadata": {},
     "output_type": "execute_result"
    }
   ],
   "source": [
    "y.value_counts(sort=False, normalize=True)"
   ]
  },
  {
   "cell_type": "code",
   "execution_count": 16,
   "id": "signed-darwin",
   "metadata": {
    "ExecuteTime": {
     "end_time": "2021-02-09T12:41:57.704635Z",
     "start_time": "2021-02-09T12:41:57.700087Z"
    }
   },
   "outputs": [
    {
     "data": {
      "text/plain": [
       "86868"
      ]
     },
     "execution_count": 16,
     "metadata": {},
     "output_type": "execute_result"
    }
   ],
   "source": [
    "len(submission_format)"
   ]
  },
  {
   "cell_type": "code",
   "execution_count": 17,
   "id": "exempt-clearing",
   "metadata": {
    "ExecuteTime": {
     "end_time": "2021-02-09T12:42:24.208963Z",
     "start_time": "2021-02-09T12:42:24.205182Z"
    }
   },
   "outputs": [],
   "source": [
    "# Weighted guessing\n",
    "num_1 = int(len(submission_format) * 0.1)\n",
    "# Add extra 2 as this is the modal class\n",
    "num_2 = int(len(submission_format) * 0.57) + 2 \n",
    "num_3 = int(len(submission_format) * 0.33)"
   ]
  },
  {
   "cell_type": "code",
   "execution_count": 18,
   "id": "generous-venezuela",
   "metadata": {
    "ExecuteTime": {
     "end_time": "2021-02-09T12:42:24.564179Z",
     "start_time": "2021-02-09T12:42:24.560286Z"
    }
   },
   "outputs": [
    {
     "data": {
      "text/plain": [
       "True"
      ]
     },
     "execution_count": 18,
     "metadata": {},
     "output_type": "execute_result"
    }
   ],
   "source": [
    "num_1 + num_2 + num_3 == len(submission_format)"
   ]
  },
  {
   "cell_type": "code",
   "execution_count": 19,
   "id": "animated-richardson",
   "metadata": {
    "ExecuteTime": {
     "end_time": "2021-02-09T12:42:25.896796Z",
     "start_time": "2021-02-09T12:42:25.892801Z"
    }
   },
   "outputs": [
    {
     "data": {
      "text/plain": [
       "86868"
      ]
     },
     "execution_count": 19,
     "metadata": {},
     "output_type": "execute_result"
    }
   ],
   "source": [
    "num_1 + num_2 + num_3"
   ]
  },
  {
   "cell_type": "code",
   "execution_count": 25,
   "id": "ready-trash",
   "metadata": {
    "ExecuteTime": {
     "end_time": "2021-02-09T12:44:03.920682Z",
     "start_time": "2021-02-09T12:44:03.915888Z"
    }
   },
   "outputs": [
    {
     "data": {
      "text/plain": [
       "8686"
      ]
     },
     "execution_count": 25,
     "metadata": {},
     "output_type": "execute_result"
    }
   ],
   "source": [
    "num_1"
   ]
  },
  {
   "cell_type": "code",
   "execution_count": 31,
   "id": "skilled-vehicle",
   "metadata": {
    "ExecuteTime": {
     "end_time": "2021-02-09T12:45:24.705070Z",
     "start_time": "2021-02-09T12:45:24.692027Z"
    }
   },
   "outputs": [],
   "source": [
    "weighted_guess = [1 for _ in range(num_1)] + \\\n",
    "                 [2 for _ in range(num_2)] + \\\n",
    "                 [3 for _ in range(num_3)]\n",
    "np.random.shuffle(weighted_guess)"
   ]
  },
  {
   "cell_type": "code",
   "execution_count": 33,
   "id": "significant-winter",
   "metadata": {
    "ExecuteTime": {
     "end_time": "2021-02-09T12:46:26.106427Z",
     "start_time": "2021-02-09T12:46:25.980692Z"
    }
   },
   "outputs": [],
   "source": [
    "df_weighted_guess = pd.DataFrame(data=weighted_guess,\n",
    "                                columns=submission_format.columns,\n",
    "                                index=submission_format.index)\n",
    "\n",
    "df_weighted_guess.to_csv(SUBMISSIONS_DIR / 'weighted_guess.csv')"
   ]
  },
  {
   "cell_type": "markdown",
   "id": "artificial-surge",
   "metadata": {},
   "source": [
    "## Calculating F1 Score on X"
   ]
  },
  {
   "cell_type": "code",
   "execution_count": 38,
   "id": "adequate-watts",
   "metadata": {
    "ExecuteTime": {
     "end_time": "2021-02-09T12:54:12.673622Z",
     "start_time": "2021-02-09T12:54:12.488007Z"
    }
   },
   "outputs": [
    {
     "name": "stdout",
     "output_type": "stream",
     "text": [
      "F1 score on X:          0.5689118614280068\n",
      "F1 score on submission: 0.567\n"
     ]
    }
   ],
   "source": [
    "ALL_TWO_SUBMISSION_SCORE = 0.5670\n",
    "\n",
    "all_twos = [2 for _ in range(len(X))]\n",
    "all_two_score = f1_score(y, all_twos, average='micro')\n",
    "print('F1 score on X:         ', all_two_score)\n",
    "print('F1 score on submission:', ALL_TWO_SUBMISSION_SCORE)"
   ]
  },
  {
   "cell_type": "code",
   "execution_count": 39,
   "id": "adjustable-flour",
   "metadata": {
    "ExecuteTime": {
     "end_time": "2021-02-09T12:58:34.854685Z",
     "start_time": "2021-02-09T12:58:34.849867Z"
    }
   },
   "outputs": [],
   "source": [
    "def make_weighted_guess(data):\n",
    "    num_1 = int(len(data) * 0.1)\n",
    "    num_2 = int(len(data) * 0.57)\n",
    "    num_3 = int(len(data) * 0.33)\n",
    "    \n",
    "    # Above will not be perfectly equal to len(data), so\n",
    "    # add the difference to modal class 2\n",
    "    diff = len(data) - num_1 - num_2 - num_3\n",
    "    num_2 += diff\n",
    "    \n",
    "    assert len(data) == num_1 + num_2 + num_3\n",
    "    \n",
    "    weighted_guess = [1 for _ in range(num_1)] + \\\n",
    "                     [2 for _ in range(num_2)] + \\\n",
    "                     [3 for _ in range(num_3)]\n",
    "    \n",
    "    np.random.shuffle(weighted_guess)\n",
    "    \n",
    "    return weighted_guess"
   ]
  },
  {
   "cell_type": "code",
   "execution_count": 40,
   "id": "norwegian-speech",
   "metadata": {
    "ExecuteTime": {
     "end_time": "2021-02-09T12:59:19.052672Z",
     "start_time": "2021-02-09T12:59:18.883186Z"
    }
   },
   "outputs": [
    {
     "name": "stdout",
     "output_type": "stream",
     "text": [
      "F1 score on X:          0.44396222577810524\n",
      "F1 score on submission: 0.4441\n"
     ]
    }
   ],
   "source": [
    "WEIGHTED_GUESS_SUBMISSION_SCORE = 0.4441\n",
    "\n",
    "weighted_pred = make_weighted_guess(X)\n",
    "weighted_score = f1_score(y, weighted_pred, average='micro')\n",
    "print('F1 score on X:         ', weighted_score)\n",
    "print('F1 score on submission:', WEIGHTED_GUESS_SUBMISSION_SCORE)"
   ]
  },
  {
   "cell_type": "markdown",
   "id": "descending-check",
   "metadata": {},
   "source": [
    "## Calculating F1 Score on X_Val"
   ]
  },
  {
   "cell_type": "code",
   "execution_count": 41,
   "id": "quarterly-rider",
   "metadata": {
    "ExecuteTime": {
     "end_time": "2021-02-09T13:02:38.932925Z",
     "start_time": "2021-02-09T13:02:37.956816Z"
    }
   },
   "outputs": [],
   "source": [
    "from sklearn.model_selection import train_test_split\n",
    "\n",
    "X_train, X_val, y_train, y_val = train_test_split(X, y, test_size=0.20,\n",
    "                                                 random_state=42, stratify=y)"
   ]
  },
  {
   "cell_type": "code",
   "execution_count": 42,
   "id": "demographic-religion",
   "metadata": {
    "ExecuteTime": {
     "end_time": "2021-02-09T13:03:13.454759Z",
     "start_time": "2021-02-09T13:03:13.415353Z"
    }
   },
   "outputs": [
    {
     "name": "stdout",
     "output_type": "stream",
     "text": [
      "F1 score on X:          0.5689069664818404\n",
      "F1 score on submission: 0.567\n"
     ]
    }
   ],
   "source": [
    "all_twos_X_val = [2 for _ in range(len(X_val))]\n",
    "all_two_X_val_score = f1_score(y_val, all_twos_X_val, average='micro')\n",
    "print('F1 score on X:         ', all_two_X_val_score)\n",
    "print('F1 score on submission:', ALL_TWO_SUBMISSION_SCORE)"
   ]
  },
  {
   "cell_type": "code",
   "execution_count": 43,
   "id": "functioning-thomson",
   "metadata": {
    "ExecuteTime": {
     "end_time": "2021-02-09T13:03:48.443213Z",
     "start_time": "2021-02-09T13:03:48.400389Z"
    }
   },
   "outputs": [
    {
     "name": "stdout",
     "output_type": "stream",
     "text": [
      "F1 score on X:          0.4440244814949828\n",
      "F1 score on submission: 0.4441\n"
     ]
    }
   ],
   "source": [
    "weighted_pred_X_val = make_weighted_guess(X_val)\n",
    "weighted_score_X_val = f1_score(y_val, weighted_pred_X_val, average='micro')\n",
    "print('F1 score on X:         ', weighted_score_X_val)\n",
    "print('F1 score on submission:', WEIGHTED_GUESS_SUBMISSION_SCORE)"
   ]
  },
  {
   "cell_type": "markdown",
   "id": "lined-links",
   "metadata": {},
   "source": [
    "As expected, the scores on X and X_val are almost identical to the actual scores obtained upon submission."
   ]
  },
  {
   "cell_type": "code",
   "execution_count": null,
   "id": "piano-lebanon",
   "metadata": {},
   "outputs": [],
   "source": []
  }
 ],
 "metadata": {
  "kernelspec": {
   "display_name": "Python 3",
   "language": "python",
   "name": "python3"
  },
  "language_info": {
   "codemirror_mode": {
    "name": "ipython",
    "version": 3
   },
   "file_extension": ".py",
   "mimetype": "text/x-python",
   "name": "python",
   "nbconvert_exporter": "python",
   "pygments_lexer": "ipython3",
   "version": "3.7.9"
  },
  "toc": {
   "base_numbering": 1,
   "nav_menu": {},
   "number_sections": true,
   "sideBar": true,
   "skip_h1_title": false,
   "title_cell": "Table of Contents",
   "title_sidebar": "Contents",
   "toc_cell": false,
   "toc_position": {},
   "toc_section_display": true,
   "toc_window_display": false
  },
  "varInspector": {
   "cols": {
    "lenName": 16,
    "lenType": 16,
    "lenVar": 40
   },
   "kernels_config": {
    "python": {
     "delete_cmd_postfix": "",
     "delete_cmd_prefix": "del ",
     "library": "var_list.py",
     "varRefreshCmd": "print(var_dic_list())"
    },
    "r": {
     "delete_cmd_postfix": ") ",
     "delete_cmd_prefix": "rm(",
     "library": "var_list.r",
     "varRefreshCmd": "cat(var_dic_list()) "
    }
   },
   "types_to_exclude": [
    "module",
    "function",
    "builtin_function_or_method",
    "instance",
    "_Feature"
   ],
   "window_display": false
  }
 },
 "nbformat": 4,
 "nbformat_minor": 5
}
