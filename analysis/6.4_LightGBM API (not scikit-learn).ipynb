{
 "cells": [
  {
   "cell_type": "markdown",
   "id": "transsexual-adelaide",
   "metadata": {},
   "source": [
    "# Using LightGBM as designed (not through sklearn API)\n",
    "\n",
    "## Automatically Encode Categorical Columns\n",
    "\n",
    "I've been encoding the geo_level columns as numeric this whole time. Can it perform better by using categorical columns?\n",
    "\n",
    "LGBM can handle categorical features directly. No need to OHE them. But they must be ints. \n",
    "\n",
    "1. Load in X\n",
    "2. Label Encode all the categorical features\n",
    " - All `object` dypes are categorical and need to be LabelEncoded"
   ]
  },
  {
   "cell_type": "code",
   "execution_count": 165,
   "id": "flexible-renewal",
   "metadata": {
    "ExecuteTime": {
     "end_time": "2021-02-26T11:56:51.046349Z",
     "start_time": "2021-02-26T11:56:50.150190Z"
    }
   },
   "outputs": [],
   "source": [
    "import matplotlib.pyplot as plt\n",
    "import seaborn as sns\n",
    "import numpy as np\n",
    "import pandas as pd\n",
    "import pickle\n",
    "import lightgbm as lgb\n",
    "from pathlib import Path\n",
    "\n",
    "### USE FOR LOCAL JUPYTER NOTEBOOKS ###\n",
    "DOWNLOAD_DIR = Path(\"../download\")\n",
    "DATA_DIR = Path(\"../data\")\n",
    "SUBMISSIONS_DIR = Path(\"../submissions\")\n",
    "MODEL_DIR = Path(\"../models\")\n",
    "#######################################\n",
    "\n",
    "X = pd.read_csv(DOWNLOAD_DIR / \"train_values.csv\", index_col=\"building_id\")\n",
    "categorical_columns = X.select_dtypes(include=\"object\").columns\n",
    "bool_columns = [col for col in X.columns if col.startswith(\"has\")]\n",
    "\n",
    "X_test = pd.read_csv(DOWNLOAD_DIR / \"test_values.csv\", index_col=\"building_id\")\n",
    "y = pd.read_csv(DOWNLOAD_DIR / \"train_labels.csv\", index_col=\"building_id\")"
   ]
  },
  {
   "cell_type": "code",
   "execution_count": 97,
   "id": "protective-organization",
   "metadata": {
    "ExecuteTime": {
     "end_time": "2021-02-26T10:31:07.271368Z",
     "start_time": "2021-02-26T10:31:07.264557Z"
    }
   },
   "outputs": [],
   "source": [
    "sns.set()"
   ]
  },
  {
   "cell_type": "code",
   "execution_count": 2,
   "id": "advance-stretch",
   "metadata": {
    "ExecuteTime": {
     "end_time": "2021-02-25T15:03:55.821081Z",
     "start_time": "2021-02-25T15:03:55.788710Z"
    }
   },
   "outputs": [],
   "source": [
    "from sklearn.preprocessing import OrdinalEncoder, LabelEncoder\n",
    "from sklearn.compose import ColumnTransformer\n",
    "\n",
    "label_enc = LabelEncoder()\n",
    "\n",
    "t = [(\"ord_encoder\", OrdinalEncoder(dtype=int), categorical_columns)]\n",
    "ct = ColumnTransformer(transformers=t, remainder=\"passthrough\")"
   ]
  },
  {
   "cell_type": "code",
   "execution_count": 5,
   "id": "painful-announcement",
   "metadata": {
    "ExecuteTime": {
     "end_time": "2021-02-25T15:04:30.701154Z",
     "start_time": "2021-02-25T15:04:30.270404Z"
    }
   },
   "outputs": [],
   "source": [
    "X_all_ints = ct.fit_transform(X)\n",
    "y = label_enc.fit_transform(\n",
    "    y.reshape(\n",
    "        -1,\n",
    "    )\n",
    ")"
   ]
  },
  {
   "cell_type": "code",
   "execution_count": 9,
   "id": "wound-bidder",
   "metadata": {
    "ExecuteTime": {
     "end_time": "2021-02-25T15:04:51.315197Z",
     "start_time": "2021-02-25T15:04:51.271130Z"
    }
   },
   "outputs": [],
   "source": [
    "# Note that append for pandas objects works differently to append with\n",
    "# python objects e.g. python append modifes the list in-place\n",
    "# pandas append returns a new object, leaving the original unmodified\n",
    "not_categorical_columns = X.select_dtypes(exclude=\"object\").columns\n",
    "cols_ordered_after_ordinal_encoding = categorical_columns.append(\n",
    "    not_categorical_columns\n",
    ")"
   ]
  },
  {
   "cell_type": "code",
   "execution_count": 10,
   "id": "religious-canal",
   "metadata": {
    "ExecuteTime": {
     "end_time": "2021-02-25T15:04:51.720474Z",
     "start_time": "2021-02-25T15:04:51.715787Z"
    }
   },
   "outputs": [
    {
     "data": {
      "text/plain": [
       "Index(['land_surface_condition', 'foundation_type', 'roof_type',\n",
       "       'ground_floor_type', 'other_floor_type', 'position',\n",
       "       'plan_configuration', 'legal_ownership_status', 'geo_level_1_id',\n",
       "       'geo_level_2_id', 'geo_level_3_id', 'count_floors_pre_eq', 'age',\n",
       "       'area_percentage', 'height_percentage', 'has_superstructure_adobe_mud',\n",
       "       'has_superstructure_mud_mortar_stone', 'has_superstructure_stone_flag',\n",
       "       'has_superstructure_cement_mortar_stone',\n",
       "       'has_superstructure_mud_mortar_brick',\n",
       "       'has_superstructure_cement_mortar_brick', 'has_superstructure_timber',\n",
       "       'has_superstructure_bamboo', 'has_superstructure_rc_non_engineered',\n",
       "       'has_superstructure_rc_engineered', 'has_superstructure_other',\n",
       "       'count_families', 'has_secondary_use', 'has_secondary_use_agriculture',\n",
       "       'has_secondary_use_hotel', 'has_secondary_use_rental',\n",
       "       'has_secondary_use_institution', 'has_secondary_use_school',\n",
       "       'has_secondary_use_industry', 'has_secondary_use_health_post',\n",
       "       'has_secondary_use_gov_office', 'has_secondary_use_use_police',\n",
       "       'has_secondary_use_other'],\n",
       "      dtype='object')"
      ]
     },
     "execution_count": 10,
     "metadata": {},
     "output_type": "execute_result"
    }
   ],
   "source": [
    "cols_ordered_after_ordinal_encoding"
   ]
  },
  {
   "cell_type": "code",
   "execution_count": 11,
   "id": "social-leeds",
   "metadata": {
    "ExecuteTime": {
     "end_time": "2021-02-25T15:04:55.445435Z",
     "start_time": "2021-02-25T15:04:55.442034Z"
    }
   },
   "outputs": [],
   "source": [
    "geo_cols = pd.Index([\"geo_level_1_id\", \"geo_level_2_id\", \"geo_level_3_id\"])\n",
    "cat_cols_plus_geo = categorical_columns.append(geo_cols)"
   ]
  },
  {
   "cell_type": "code",
   "execution_count": 36,
   "id": "bizarre-optimization",
   "metadata": {
    "ExecuteTime": {
     "end_time": "2021-02-23T15:50:01.733138Z",
     "start_time": "2021-02-23T15:50:01.728478Z"
    }
   },
   "outputs": [
    {
     "data": {
      "text/plain": [
       "['land_surface_condition',\n",
       " 'foundation_type',\n",
       " 'roof_type',\n",
       " 'ground_floor_type',\n",
       " 'other_floor_type',\n",
       " 'position',\n",
       " 'plan_configuration',\n",
       " 'legal_ownership_status',\n",
       " 'geo_level_1_id',\n",
       " 'geo_level_2_id',\n",
       " 'geo_level_3_id']"
      ]
     },
     "execution_count": 36,
     "metadata": {},
     "output_type": "execute_result"
    }
   ],
   "source": [
    "list(cat_cols_plus_geo)"
   ]
  },
  {
   "cell_type": "code",
   "execution_count": 12,
   "id": "korean-object",
   "metadata": {
    "ExecuteTime": {
     "end_time": "2021-02-25T15:05:07.833314Z",
     "start_time": "2021-02-25T15:05:07.830066Z"
    }
   },
   "outputs": [],
   "source": [
    "train_data = lgb.Dataset(\n",
    "    X_all_ints,\n",
    "    label=y,\n",
    "    feature_name=list(cols_ordered_after_ordinal_encoding),\n",
    "    categorical_feature=list(cat_cols_plus_geo),\n",
    ")\n",
    "\n",
    "# train_data = lgb.Dataset(X_all_ints, label=y)"
   ]
  },
  {
   "cell_type": "code",
   "execution_count": 13,
   "id": "discrete-rehabilitation",
   "metadata": {
    "ExecuteTime": {
     "end_time": "2021-02-25T15:05:08.575983Z",
     "start_time": "2021-02-25T15:05:08.573143Z"
    }
   },
   "outputs": [],
   "source": [
    "validation_data = lgb.Dataset(\"validation.svm\", reference=train_data)"
   ]
  },
  {
   "cell_type": "markdown",
   "id": "written-forum",
   "metadata": {},
   "source": [
    "After reading through the docs for [lgb.train](https://lightgbm.readthedocs.io/en/latest/pythonapi/lightgbm.train.html) and [lgb.cv](https://lightgbm.readthedocs.io/en/latest/pythonapi/lightgbm.cv.html), I had to make a separate function `get_ith_pred` and then call that repeatedly within `lgb_f1_score`. \n",
    "\n",
    "The function's docstring explains how it works. I have used the same argument names as in the LightGBM docs. This can work for any number of classes but does not work for binary classification. In the binary case, `preds` is a 1D array containing the probability of the positive class (it does not contain groups). "
   ]
  },
  {
   "cell_type": "code",
   "execution_count": 83,
   "id": "offshore-soundtrack",
   "metadata": {
    "ExecuteTime": {
     "end_time": "2021-02-26T10:19:41.988090Z",
     "start_time": "2021-02-26T10:19:41.974768Z"
    }
   },
   "outputs": [],
   "source": [
    "# Taken from the docs for lgb.train and lgb.cv\n",
    "# Helpful Stackoverflow answer:\n",
    "# https://stackoverflow.com/questions/50931168/f1-score-metric-in-lightgbm\n",
    "from sklearn.metrics import f1_score\n",
    "\n",
    "\n",
    "def get_ith_pred(preds, i, num_data, num_class):\n",
    "    \"\"\"\n",
    "    preds: 1D NumPY array\n",
    "        A 1D numpy array containing predicted probabilities. Has shape\n",
    "        (num_data * num_class,). So, For binary classification with\n",
    "        100 rows of data in your training set, preds is shape (200,),\n",
    "        i.e. (100 * 2,).\n",
    "    i: int\n",
    "        The row/sample in your training data you wish to calculate\n",
    "        the prediction for.\n",
    "    num_data: int\n",
    "        The number of rows/samples in your training data\n",
    "    num_class: int\n",
    "        The number of classes in your classification task.\n",
    "        Must be greater than 2.\n",
    "\n",
    "\n",
    "    LightGBM docs tell us that to get the probability of class 0 for\n",
    "    the 5th row of the dataset we do preds[0 * num_data + 5].\n",
    "    For class 1 prediction of 7th row, do preds[1 * num_data + 7].\n",
    "\n",
    "    sklearn's f1_score(y_true, y_pred) expects y_pred to be of the form\n",
    "    [0, 1, 1, 1, 1, 0...] and not probabilities.\n",
    "\n",
    "    This function translates preds into the form sklearn's f1_score\n",
    "    understands.\n",
    "    \"\"\"\n",
    "    # Does not work for binary classification, preds has a different form\n",
    "    # in that case\n",
    "    assert num_classs > 2\n",
    "\n",
    "    preds_for_ith_row = [\n",
    "        preds[class_label * num_data + i] for class_label in range(num_class)\n",
    "    ]\n",
    "\n",
    "    # The element with the highest probability is predicted\n",
    "    return np.argmax(preds_for_ith_row)\n",
    "\n",
    "\n",
    "def lgb_f1_micro(preds, train_data):\n",
    "    y_true = train_data.get_label()\n",
    "\n",
    "    num_data = len(y_true)\n",
    "    num_class = 3\n",
    "\n",
    "    y_pred = []\n",
    "    for i in range(num_data):\n",
    "        ith_pred = get_ith_pred(preds, i, num_data, num_class)\n",
    "        y_pred.append(ith_pred)\n",
    "\n",
    "    return \"f1\", f1_score(y_true, y_pred, average=\"micro\"), True"
   ]
  },
  {
   "cell_type": "code",
   "execution_count": 28,
   "id": "young-mexico",
   "metadata": {
    "ExecuteTime": {
     "end_time": "2021-02-25T15:39:13.571428Z",
     "start_time": "2021-02-25T15:39:13.565996Z"
    }
   },
   "outputs": [
    {
     "data": {
      "text/plain": [
       "[2, 1]"
      ]
     },
     "execution_count": 28,
     "metadata": {},
     "output_type": "execute_result"
    }
   ],
   "source": [
    "probs = [[0.12, 0.18, 0.7], [0.2, 0.5, 0.3]]\n",
    "[np.argmax(p) for p in probs]"
   ]
  },
  {
   "cell_type": "code",
   "execution_count": 14,
   "id": "accessible-tenant",
   "metadata": {
    "ExecuteTime": {
     "end_time": "2021-02-25T15:05:09.511839Z",
     "start_time": "2021-02-25T15:05:09.508572Z"
    }
   },
   "outputs": [],
   "source": [
    "param = {\n",
    "    \"num_leaves\": 120,\n",
    "    #          'num_iterations': 240,\n",
    "    \"min_child_samples\": 40,\n",
    "    \"learning_rate\": 0.2,\n",
    "    \"boosting_type\": \"goss\",\n",
    "    \"objective\": \"multiclass\",\n",
    "    \"num_class\": 3,\n",
    "}"
   ]
  },
  {
   "cell_type": "code",
   "execution_count": 84,
   "id": "analyzed-dimension",
   "metadata": {
    "ExecuteTime": {
     "end_time": "2021-02-26T10:19:53.507073Z",
     "start_time": "2021-02-26T10:19:51.603165Z"
    }
   },
   "outputs": [
    {
     "name": "stdout",
     "output_type": "stream",
     "text": [
      "[LightGBM] [Warning] Auto-choosing row-wise multi-threading, the overhead of testing was 0.044242 seconds.\n",
      "You can set `force_row_wise=true` to remove the overhead.\n",
      "And if memory is not enough, you can set `force_col_wise=true`.\n",
      "[LightGBM] [Info] Total Bins 10796\n",
      "[LightGBM] [Info] Number of data points in the train set: 260601, number of used features: 36\n",
      "[LightGBM] [Info] Using GOSS\n",
      "[LightGBM] [Info] Start training from score -2.339167\n",
      "[LightGBM] [Info] Start training from score -0.564030\n",
      "[LightGBM] [Info] Start training from score -1.094580\n"
     ]
    }
   ],
   "source": [
    "# LGBM seem to hate using plurals. Why???\n",
    "num_round = 10\n",
    "evals_result = {}\n",
    "booster = lgb.train(\n",
    "    param,\n",
    "    train_data,\n",
    "    num_round,\n",
    "    categorical_feature=list(cat_cols_plus_geo),\n",
    "    feval=lgb_f1_micro,\n",
    "    evals_result=evals_result,\n",
    ")"
   ]
  },
  {
   "cell_type": "code",
   "execution_count": 85,
   "id": "received-faculty",
   "metadata": {
    "ExecuteTime": {
     "end_time": "2021-02-26T10:20:00.652288Z",
     "start_time": "2021-02-26T10:20:00.645037Z"
    }
   },
   "outputs": [
    {
     "data": {
      "text/plain": [
       "{}"
      ]
     },
     "execution_count": 85,
     "metadata": {},
     "output_type": "execute_result"
    }
   ],
   "source": [
    "evals_result"
   ]
  },
  {
   "cell_type": "code",
   "execution_count": null,
   "id": "round-pitch",
   "metadata": {},
   "outputs": [],
   "source": [
    "lgb.plot_metric(evals_result)"
   ]
  },
  {
   "cell_type": "code",
   "execution_count": 64,
   "id": "expired-botswana",
   "metadata": {
    "ExecuteTime": {
     "end_time": "2021-02-25T16:39:33.651134Z",
     "start_time": "2021-02-25T16:39:33.644549Z"
    }
   },
   "outputs": [
    {
     "data": {
      "text/plain": [
       "array([  12,   45,   58,   31,   22,   34,    1,    2,  110,  845, 1618,\n",
       "         23,  303,  140,   69,    5,   53,    7,   10,   10,   37,   16,\n",
       "          4,    6,    5,    2,   63,   27,    4,    5,    3,    0,    0,\n",
       "          0,    0,    0,    0,    0], dtype=int32)"
      ]
     },
     "execution_count": 64,
     "metadata": {},
     "output_type": "execute_result"
    }
   ],
   "source": [
    "booster.feature_importance()"
   ]
  },
  {
   "cell_type": "code",
   "execution_count": 88,
   "id": "minute-round",
   "metadata": {
    "ExecuteTime": {
     "end_time": "2021-02-26T10:28:52.019745Z",
     "start_time": "2021-02-26T10:24:29.787400Z"
    },
    "scrolled": false
   },
   "outputs": [
    {
     "name": "stdout",
     "output_type": "stream",
     "text": [
      "[LightGBM] [Warning] Auto-choosing col-wise multi-threading, the overhead of testing was 0.029763 seconds.\n",
      "You can set `force_col_wise=true` to remove the overhead.\n",
      "[LightGBM] [Info] Total Bins 10796\n",
      "[LightGBM] [Info] Number of data points in the train set: 208480, number of used features: 36\n",
      "[LightGBM] [Info] Using GOSS\n",
      "[LightGBM] [Warning] Auto-choosing col-wise multi-threading, the overhead of testing was 0.031336 seconds.\n",
      "You can set `force_col_wise=true` to remove the overhead.\n",
      "[LightGBM] [Info] Total Bins 10796\n",
      "[LightGBM] [Info] Number of data points in the train set: 208481, number of used features: 36\n",
      "[LightGBM] [Info] Using GOSS\n",
      "[LightGBM] [Warning] Auto-choosing col-wise multi-threading, the overhead of testing was 0.029452 seconds.\n",
      "You can set `force_col_wise=true` to remove the overhead.\n",
      "[LightGBM] [Info] Total Bins 10796\n",
      "[LightGBM] [Info] Number of data points in the train set: 208481, number of used features: 36\n",
      "[LightGBM] [Info] Using GOSS\n",
      "[LightGBM] [Warning] Auto-choosing row-wise multi-threading, the overhead of testing was 0.025176 seconds.\n",
      "You can set `force_row_wise=true` to remove the overhead.\n",
      "And if memory is not enough, you can set `force_col_wise=true`.\n",
      "[LightGBM] [Info] Total Bins 10796\n",
      "[LightGBM] [Info] Number of data points in the train set: 208481, number of used features: 36\n",
      "[LightGBM] [Info] Using GOSS\n",
      "[LightGBM] [Warning] Auto-choosing row-wise multi-threading, the overhead of testing was 0.024222 seconds.\n",
      "You can set `force_row_wise=true` to remove the overhead.\n",
      "And if memory is not enough, you can set `force_col_wise=true`.\n",
      "[LightGBM] [Info] Total Bins 10796\n",
      "[LightGBM] [Info] Number of data points in the train set: 208481, number of used features: 36\n",
      "[LightGBM] [Info] Using GOSS\n",
      "[LightGBM] [Info] Start training from score -2.339173\n",
      "[LightGBM] [Info] Start training from score -0.564028\n",
      "[LightGBM] [Info] Start training from score -1.094582\n",
      "[LightGBM] [Info] Start training from score -2.339128\n",
      "[LightGBM] [Info] Start training from score -0.564032\n",
      "[LightGBM] [Info] Start training from score -1.094586\n",
      "[LightGBM] [Info] Start training from score -2.339178\n",
      "[LightGBM] [Info] Start training from score -0.564024\n",
      "[LightGBM] [Info] Start training from score -1.094586\n",
      "[LightGBM] [Info] Start training from score -2.339178\n",
      "[LightGBM] [Info] Start training from score -0.564032\n",
      "[LightGBM] [Info] Start training from score -1.094572\n",
      "[LightGBM] [Info] Start training from score -2.339178\n",
      "[LightGBM] [Info] Start training from score -0.564032\n",
      "[LightGBM] [Info] Start training from score -1.094572\n"
     ]
    }
   ],
   "source": [
    "# LGBM seem to hate using plurals. Why???\n",
    "num_boost_round = 100\n",
    "cv_results = lgb.cv(\n",
    "    param,\n",
    "    train_data,\n",
    "    num_boost_round,\n",
    "    nfold=5,\n",
    "    categorical_feature=list(cat_cols_plus_geo),\n",
    "    feval=lgb_f1_micro,\n",
    ")"
   ]
  },
  {
   "cell_type": "code",
   "execution_count": 91,
   "id": "documented-journalist",
   "metadata": {
    "ExecuteTime": {
     "end_time": "2021-02-26T10:29:13.866132Z",
     "start_time": "2021-02-26T10:29:13.861844Z"
    }
   },
   "outputs": [
    {
     "data": {
      "text/plain": [
       "dict_keys(['multi_logloss-mean', 'multi_logloss-stdv', 'f1-mean', 'f1-stdv'])"
      ]
     },
     "execution_count": 91,
     "metadata": {},
     "output_type": "execute_result"
    }
   ],
   "source": [
    "cv_results.keys()"
   ]
  },
  {
   "cell_type": "code",
   "execution_count": 98,
   "id": "included-comment",
   "metadata": {
    "ExecuteTime": {
     "end_time": "2021-02-26T10:31:11.575182Z",
     "start_time": "2021-02-26T10:31:11.430956Z"
    }
   },
   "outputs": [
    {
     "data": {
      "text/plain": [
       "[<matplotlib.lines.Line2D at 0x169d9ab10>]"
      ]
     },
     "execution_count": 98,
     "metadata": {},
     "output_type": "execute_result"
    },
    {
     "data": {
      "image/png": "[encoded data removed]",
      "text/plain": [
       "<Figure size 432x288 with 1 Axes>"
      ]
     },
     "metadata": {},
     "output_type": "display_data"
    }
   ],
   "source": [
    "plt.plot(cv_results[\"f1-mean\"])"
   ]
  },
  {
   "cell_type": "code",
   "execution_count": 94,
   "id": "needed-receipt",
   "metadata": {
    "ExecuteTime": {
     "end_time": "2021-02-26T10:30:09.666984Z",
     "start_time": "2021-02-26T10:30:09.662490Z"
    }
   },
   "outputs": [
    {
     "data": {
      "text/plain": [
       "0.7441529325991442"
      ]
     },
     "execution_count": 94,
     "metadata": {},
     "output_type": "execute_result"
    }
   ],
   "source": [
    "f1_mean = cv_results[\"f1-mean\"]\n",
    "max(f1_mean)"
   ]
  },
  {
   "cell_type": "code",
   "execution_count": 95,
   "id": "simple-hollywood",
   "metadata": {
    "ExecuteTime": {
     "end_time": "2021-02-26T10:30:27.122575Z",
     "start_time": "2021-02-26T10:30:27.116836Z"
    }
   },
   "outputs": [
    {
     "data": {
      "text/plain": [
       "28"
      ]
     },
     "execution_count": 95,
     "metadata": {},
     "output_type": "execute_result"
    }
   ],
   "source": [
    "np.argmax(f1_mean)"
   ]
  },
  {
   "cell_type": "code",
   "execution_count": 103,
   "id": "consolidated-highway",
   "metadata": {
    "ExecuteTime": {
     "end_time": "2021-02-26T10:32:06.950635Z",
     "start_time": "2021-02-26T10:32:06.946824Z"
    }
   },
   "outputs": [
    {
     "data": {
      "text/plain": [
       "15"
      ]
     },
     "execution_count": 103,
     "metadata": {},
     "output_type": "execute_result"
    }
   ],
   "source": [
    "len(f1_mean[20:35])"
   ]
  },
  {
   "cell_type": "code",
   "execution_count": 106,
   "id": "active-glenn",
   "metadata": {
    "ExecuteTime": {
     "end_time": "2021-02-26T10:32:44.458762Z",
     "start_time": "2021-02-26T10:32:44.318297Z"
    }
   },
   "outputs": [
    {
     "data": {
      "image/png": "[encoded data removed]",
      "text/plain": [
       "<Figure size 432x288 with 1 Axes>"
      ]
     },
     "metadata": {},
     "output_type": "display_data"
    }
   ],
   "source": [
    "plt.plot(range(20, 35), f1_mean[20:35])\n",
    "plt.xticks()\n",
    "plt.show()"
   ]
  },
  {
   "cell_type": "code",
   "execution_count": 110,
   "id": "athletic-health",
   "metadata": {
    "ExecuteTime": {
     "end_time": "2021-02-26T10:43:20.283151Z",
     "start_time": "2021-02-26T10:43:16.674038Z"
    }
   },
   "outputs": [
    {
     "name": "stdout",
     "output_type": "stream",
     "text": [
      "[LightGBM] [Warning] Auto-choosing col-wise multi-threading, the overhead of testing was 0.037246 seconds.\n",
      "You can set `force_col_wise=true` to remove the overhead.\n",
      "[LightGBM] [Info] Total Bins 10796\n",
      "[LightGBM] [Info] Number of data points in the train set: 260601, number of used features: 36\n",
      "[LightGBM] [Info] Using GOSS\n",
      "[LightGBM] [Info] Start training from score -2.339167\n",
      "[LightGBM] [Info] Start training from score -0.564030\n",
      "[LightGBM] [Info] Start training from score -1.094580\n"
     ]
    }
   ],
   "source": [
    "eval_results = {}\n",
    "booster = lgb.train(\n",
    "    param,\n",
    "    train_data,\n",
    "    28,\n",
    "    #                     valid_sets=[validation_data],\n",
    "    categorical_feature=list(cat_cols_plus_geo),\n",
    "    feval=lgb_f1_micro,\n",
    "    evals_result=evals_result,\n",
    ")\n",
    "#                     early_stopping_rounds=5)"
   ]
  },
  {
   "cell_type": "code",
   "execution_count": 113,
   "id": "covered-ireland",
   "metadata": {
    "ExecuteTime": {
     "end_time": "2021-02-26T10:43:52.592847Z",
     "start_time": "2021-02-26T10:43:52.586370Z"
    }
   },
   "outputs": [
    {
     "data": {
      "text/plain": [
       "array([  65,   74,  164,   58,   56,  134,   14,   12,  287, 2346, 4326,\n",
       "        123,  834,  579,  295,   17,  105,   12,   25,   25,   70,   61,\n",
       "         16,   20,    9,    5,  161,   67,    8,   20,    8,    0,    0,\n",
       "          0,    0,    0,    0,    0], dtype=int32)"
      ]
     },
     "execution_count": 113,
     "metadata": {},
     "output_type": "execute_result"
    }
   ],
   "source": [
    "booster.feature_importance()"
   ]
  },
  {
   "cell_type": "code",
   "execution_count": 115,
   "id": "expanded-destination",
   "metadata": {
    "ExecuteTime": {
     "end_time": "2021-02-26T10:44:59.401624Z",
     "start_time": "2021-02-26T10:44:59.393820Z"
    }
   },
   "outputs": [],
   "source": [
    "data = {\"name\": booster.feature_name(), \"importance\": booster.feature_importance()}\n",
    "df_booster = pd.DataFrame(data)"
   ]
  },
  {
   "cell_type": "code",
   "execution_count": 116,
   "id": "prescription-teens",
   "metadata": {
    "ExecuteTime": {
     "end_time": "2021-02-26T10:45:02.641310Z",
     "start_time": "2021-02-26T10:45:02.619571Z"
    },
    "scrolled": true
   },
   "outputs": [
    {
     "data": {
      "text/html": [
       "<div>\n",
       "<style scoped>\n",
       "    .dataframe tbody tr th:only-of-type {\n",
       "        vertical-align: middle;\n",
       "    }\n",
       "\n",
       "    .dataframe tbody tr th {\n",
       "        vertical-align: top;\n",
       "    }\n",
       "\n",
       "    .dataframe thead th {\n",
       "        text-align: right;\n",
       "    }\n",
       "</style>\n",
       "<table border=\"1\" class=\"dataframe\">\n",
       "  <thead>\n",
       "    <tr style=\"text-align: right;\">\n",
       "      <th></th>\n",
       "      <th>name</th>\n",
       "      <th>importance</th>\n",
       "    </tr>\n",
       "  </thead>\n",
       "  <tbody>\n",
       "    <tr>\n",
       "      <th>0</th>\n",
       "      <td>land_surface_condition</td>\n",
       "      <td>65</td>\n",
       "    </tr>\n",
       "    <tr>\n",
       "      <th>1</th>\n",
       "      <td>foundation_type</td>\n",
       "      <td>74</td>\n",
       "    </tr>\n",
       "    <tr>\n",
       "      <th>2</th>\n",
       "      <td>roof_type</td>\n",
       "      <td>164</td>\n",
       "    </tr>\n",
       "    <tr>\n",
       "      <th>3</th>\n",
       "      <td>ground_floor_type</td>\n",
       "      <td>58</td>\n",
       "    </tr>\n",
       "    <tr>\n",
       "      <th>4</th>\n",
       "      <td>other_floor_type</td>\n",
       "      <td>56</td>\n",
       "    </tr>\n",
       "    <tr>\n",
       "      <th>5</th>\n",
       "      <td>position</td>\n",
       "      <td>134</td>\n",
       "    </tr>\n",
       "    <tr>\n",
       "      <th>6</th>\n",
       "      <td>plan_configuration</td>\n",
       "      <td>14</td>\n",
       "    </tr>\n",
       "    <tr>\n",
       "      <th>7</th>\n",
       "      <td>legal_ownership_status</td>\n",
       "      <td>12</td>\n",
       "    </tr>\n",
       "    <tr>\n",
       "      <th>8</th>\n",
       "      <td>geo_level_1_id</td>\n",
       "      <td>287</td>\n",
       "    </tr>\n",
       "    <tr>\n",
       "      <th>9</th>\n",
       "      <td>geo_level_2_id</td>\n",
       "      <td>2346</td>\n",
       "    </tr>\n",
       "    <tr>\n",
       "      <th>10</th>\n",
       "      <td>geo_level_3_id</td>\n",
       "      <td>4326</td>\n",
       "    </tr>\n",
       "    <tr>\n",
       "      <th>11</th>\n",
       "      <td>count_floors_pre_eq</td>\n",
       "      <td>123</td>\n",
       "    </tr>\n",
       "    <tr>\n",
       "      <th>12</th>\n",
       "      <td>age</td>\n",
       "      <td>834</td>\n",
       "    </tr>\n",
       "    <tr>\n",
       "      <th>13</th>\n",
       "      <td>area_percentage</td>\n",
       "      <td>579</td>\n",
       "    </tr>\n",
       "    <tr>\n",
       "      <th>14</th>\n",
       "      <td>height_percentage</td>\n",
       "      <td>295</td>\n",
       "    </tr>\n",
       "    <tr>\n",
       "      <th>15</th>\n",
       "      <td>has_superstructure_adobe_mud</td>\n",
       "      <td>17</td>\n",
       "    </tr>\n",
       "    <tr>\n",
       "      <th>16</th>\n",
       "      <td>has_superstructure_mud_mortar_stone</td>\n",
       "      <td>105</td>\n",
       "    </tr>\n",
       "    <tr>\n",
       "      <th>17</th>\n",
       "      <td>has_superstructure_stone_flag</td>\n",
       "      <td>12</td>\n",
       "    </tr>\n",
       "    <tr>\n",
       "      <th>18</th>\n",
       "      <td>has_superstructure_cement_mortar_stone</td>\n",
       "      <td>25</td>\n",
       "    </tr>\n",
       "    <tr>\n",
       "      <th>19</th>\n",
       "      <td>has_superstructure_mud_mortar_brick</td>\n",
       "      <td>25</td>\n",
       "    </tr>\n",
       "    <tr>\n",
       "      <th>20</th>\n",
       "      <td>has_superstructure_cement_mortar_brick</td>\n",
       "      <td>70</td>\n",
       "    </tr>\n",
       "    <tr>\n",
       "      <th>21</th>\n",
       "      <td>has_superstructure_timber</td>\n",
       "      <td>61</td>\n",
       "    </tr>\n",
       "    <tr>\n",
       "      <th>22</th>\n",
       "      <td>has_superstructure_bamboo</td>\n",
       "      <td>16</td>\n",
       "    </tr>\n",
       "    <tr>\n",
       "      <th>23</th>\n",
       "      <td>has_superstructure_rc_non_engineered</td>\n",
       "      <td>20</td>\n",
       "    </tr>\n",
       "    <tr>\n",
       "      <th>24</th>\n",
       "      <td>has_superstructure_rc_engineered</td>\n",
       "      <td>9</td>\n",
       "    </tr>\n",
       "    <tr>\n",
       "      <th>25</th>\n",
       "      <td>has_superstructure_other</td>\n",
       "      <td>5</td>\n",
       "    </tr>\n",
       "    <tr>\n",
       "      <th>26</th>\n",
       "      <td>count_families</td>\n",
       "      <td>161</td>\n",
       "    </tr>\n",
       "    <tr>\n",
       "      <th>27</th>\n",
       "      <td>has_secondary_use</td>\n",
       "      <td>67</td>\n",
       "    </tr>\n",
       "    <tr>\n",
       "      <th>28</th>\n",
       "      <td>has_secondary_use_agriculture</td>\n",
       "      <td>8</td>\n",
       "    </tr>\n",
       "    <tr>\n",
       "      <th>29</th>\n",
       "      <td>has_secondary_use_hotel</td>\n",
       "      <td>20</td>\n",
       "    </tr>\n",
       "    <tr>\n",
       "      <th>30</th>\n",
       "      <td>has_secondary_use_rental</td>\n",
       "      <td>8</td>\n",
       "    </tr>\n",
       "    <tr>\n",
       "      <th>31</th>\n",
       "      <td>has_secondary_use_institution</td>\n",
       "      <td>0</td>\n",
       "    </tr>\n",
       "    <tr>\n",
       "      <th>32</th>\n",
       "      <td>has_secondary_use_school</td>\n",
       "      <td>0</td>\n",
       "    </tr>\n",
       "    <tr>\n",
       "      <th>33</th>\n",
       "      <td>has_secondary_use_industry</td>\n",
       "      <td>0</td>\n",
       "    </tr>\n",
       "    <tr>\n",
       "      <th>34</th>\n",
       "      <td>has_secondary_use_health_post</td>\n",
       "      <td>0</td>\n",
       "    </tr>\n",
       "    <tr>\n",
       "      <th>35</th>\n",
       "      <td>has_secondary_use_gov_office</td>\n",
       "      <td>0</td>\n",
       "    </tr>\n",
       "    <tr>\n",
       "      <th>36</th>\n",
       "      <td>has_secondary_use_use_police</td>\n",
       "      <td>0</td>\n",
       "    </tr>\n",
       "    <tr>\n",
       "      <th>37</th>\n",
       "      <td>has_secondary_use_other</td>\n",
       "      <td>0</td>\n",
       "    </tr>\n",
       "  </tbody>\n",
       "</table>\n",
       "</div>"
      ],
      "text/plain": [
       "                                      name  importance\n",
       "0                   land_surface_condition          65\n",
       "1                          foundation_type          74\n",
       "2                                roof_type         164\n",
       "3                        ground_floor_type          58\n",
       "4                         other_floor_type          56\n",
       "5                                 position         134\n",
       "6                       plan_configuration          14\n",
       "7                   legal_ownership_status          12\n",
       "8                           geo_level_1_id         287\n",
       "9                           geo_level_2_id        2346\n",
       "10                          geo_level_3_id        4326\n",
       "11                     count_floors_pre_eq         123\n",
       "12                                     age         834\n",
       "13                         area_percentage         579\n",
       "14                       height_percentage         295\n",
       "15            has_superstructure_adobe_mud          17\n",
       "16     has_superstructure_mud_mortar_stone         105\n",
       "17           has_superstructure_stone_flag          12\n",
       "18  has_superstructure_cement_mortar_stone          25\n",
       "19     has_superstructure_mud_mortar_brick          25\n",
       "20  has_superstructure_cement_mortar_brick          70\n",
       "21               has_superstructure_timber          61\n",
       "22               has_superstructure_bamboo          16\n",
       "23    has_superstructure_rc_non_engineered          20\n",
       "24        has_superstructure_rc_engineered           9\n",
       "25                has_superstructure_other           5\n",
       "26                          count_families         161\n",
       "27                       has_secondary_use          67\n",
       "28           has_secondary_use_agriculture           8\n",
       "29                 has_secondary_use_hotel          20\n",
       "30                has_secondary_use_rental           8\n",
       "31           has_secondary_use_institution           0\n",
       "32                has_secondary_use_school           0\n",
       "33              has_secondary_use_industry           0\n",
       "34           has_secondary_use_health_post           0\n",
       "35            has_secondary_use_gov_office           0\n",
       "36            has_secondary_use_use_police           0\n",
       "37                 has_secondary_use_other           0"
      ]
     },
     "execution_count": 116,
     "metadata": {},
     "output_type": "execute_result"
    }
   ],
   "source": [
    "df_booster"
   ]
  },
  {
   "cell_type": "markdown",
   "id": "southeast-stream",
   "metadata": {},
   "source": [
    "## Submit this new model\n",
    "\n",
    "This model with the native LightGBM API looks like an improvement over the sklearn implementation. Let's give it a whirl!"
   ]
  },
  {
   "cell_type": "code",
   "execution_count": 138,
   "id": "paperback-cologne",
   "metadata": {
    "ExecuteTime": {
     "end_time": "2021-02-26T11:14:57.906855Z",
     "start_time": "2021-02-26T11:14:57.901017Z"
    }
   },
   "outputs": [],
   "source": [
    "def make_submission_lgbm_api(booster, ct, title):\n",
    "    \"\"\"\n",
    "    ct: ColumnTransformer\n",
    "        The ColumnTransformer class already fit to X_train to label encode\n",
    "        the features\n",
    "    label_enc: LabelEncoder\n",
    "        The LabelEncoder used to transform y to [0, 1, 2]\n",
    "    \"\"\"\n",
    "    X_test = pd.read_csv(DOWNLOAD_DIR / \"test_values.csv\", index_col=\"building_id\")\n",
    "\n",
    "    X_test_ints = ct.transform(X_test)\n",
    "\n",
    "    prediction_probabilities = booster.predict(X_test_ints)\n",
    "    # Shift by 1 as submission is in format [1, 2, 3]\n",
    "    predictions = [np.argmax(p) + 1 for p in prediction_probabilities]\n",
    "\n",
    "    sub_format = pd.read_csv(\n",
    "        DOWNLOAD_DIR / \"submission_format.csv\", index_col=\"building_id\"\n",
    "    )\n",
    "\n",
    "    my_sub = pd.DataFrame(\n",
    "        data=predictions, columns=sub_format.columns, index=sub_format.index\n",
    "    )\n",
    "\n",
    "    my_sub.to_csv(SUBMISSIONS_DIR / f\"{title}.csv\")"
   ]
  },
  {
   "cell_type": "code",
   "execution_count": 140,
   "id": "municipal-today",
   "metadata": {
    "ExecuteTime": {
     "end_time": "2021-02-26T11:16:14.607675Z",
     "start_time": "2021-02-26T11:16:13.432649Z"
    }
   },
   "outputs": [],
   "source": [
    "title = \"02-26 LightGBM API - All features - 28 rounds - cat+geo are cat features\"\n",
    "make_submission_lgbm_api(booster, ct, title)"
   ]
  },
  {
   "cell_type": "markdown",
   "id": "sensitive-faith",
   "metadata": {},
   "source": [
    "# Woop That Scored 0.7446 (with cv score of 0.7446) and pushed me up 100 places to 227\n",
    "\n",
    "Let's remove some unimportant features"
   ]
  },
  {
   "cell_type": "code",
   "execution_count": 141,
   "id": "helpful-milwaukee",
   "metadata": {
    "ExecuteTime": {
     "end_time": "2021-02-26T11:25:11.788995Z",
     "start_time": "2021-02-26T11:25:11.762928Z"
    },
    "scrolled": true
   },
   "outputs": [
    {
     "data": {
      "text/html": [
       "<div>\n",
       "<style scoped>\n",
       "    .dataframe tbody tr th:only-of-type {\n",
       "        vertical-align: middle;\n",
       "    }\n",
       "\n",
       "    .dataframe tbody tr th {\n",
       "        vertical-align: top;\n",
       "    }\n",
       "\n",
       "    .dataframe thead th {\n",
       "        text-align: right;\n",
       "    }\n",
       "</style>\n",
       "<table border=\"1\" class=\"dataframe\">\n",
       "  <thead>\n",
       "    <tr style=\"text-align: right;\">\n",
       "      <th></th>\n",
       "      <th>name</th>\n",
       "      <th>importance</th>\n",
       "    </tr>\n",
       "  </thead>\n",
       "  <tbody>\n",
       "    <tr>\n",
       "      <th>0</th>\n",
       "      <td>land_surface_condition</td>\n",
       "      <td>65</td>\n",
       "    </tr>\n",
       "    <tr>\n",
       "      <th>1</th>\n",
       "      <td>foundation_type</td>\n",
       "      <td>74</td>\n",
       "    </tr>\n",
       "    <tr>\n",
       "      <th>2</th>\n",
       "      <td>roof_type</td>\n",
       "      <td>164</td>\n",
       "    </tr>\n",
       "    <tr>\n",
       "      <th>3</th>\n",
       "      <td>ground_floor_type</td>\n",
       "      <td>58</td>\n",
       "    </tr>\n",
       "    <tr>\n",
       "      <th>4</th>\n",
       "      <td>other_floor_type</td>\n",
       "      <td>56</td>\n",
       "    </tr>\n",
       "    <tr>\n",
       "      <th>5</th>\n",
       "      <td>position</td>\n",
       "      <td>134</td>\n",
       "    </tr>\n",
       "    <tr>\n",
       "      <th>6</th>\n",
       "      <td>plan_configuration</td>\n",
       "      <td>14</td>\n",
       "    </tr>\n",
       "    <tr>\n",
       "      <th>7</th>\n",
       "      <td>legal_ownership_status</td>\n",
       "      <td>12</td>\n",
       "    </tr>\n",
       "    <tr>\n",
       "      <th>8</th>\n",
       "      <td>geo_level_1_id</td>\n",
       "      <td>287</td>\n",
       "    </tr>\n",
       "    <tr>\n",
       "      <th>9</th>\n",
       "      <td>geo_level_2_id</td>\n",
       "      <td>2346</td>\n",
       "    </tr>\n",
       "    <tr>\n",
       "      <th>10</th>\n",
       "      <td>geo_level_3_id</td>\n",
       "      <td>4326</td>\n",
       "    </tr>\n",
       "    <tr>\n",
       "      <th>11</th>\n",
       "      <td>count_floors_pre_eq</td>\n",
       "      <td>123</td>\n",
       "    </tr>\n",
       "    <tr>\n",
       "      <th>12</th>\n",
       "      <td>age</td>\n",
       "      <td>834</td>\n",
       "    </tr>\n",
       "    <tr>\n",
       "      <th>13</th>\n",
       "      <td>area_percentage</td>\n",
       "      <td>579</td>\n",
       "    </tr>\n",
       "    <tr>\n",
       "      <th>14</th>\n",
       "      <td>height_percentage</td>\n",
       "      <td>295</td>\n",
       "    </tr>\n",
       "    <tr>\n",
       "      <th>15</th>\n",
       "      <td>has_superstructure_adobe_mud</td>\n",
       "      <td>17</td>\n",
       "    </tr>\n",
       "    <tr>\n",
       "      <th>16</th>\n",
       "      <td>has_superstructure_mud_mortar_stone</td>\n",
       "      <td>105</td>\n",
       "    </tr>\n",
       "    <tr>\n",
       "      <th>17</th>\n",
       "      <td>has_superstructure_stone_flag</td>\n",
       "      <td>12</td>\n",
       "    </tr>\n",
       "    <tr>\n",
       "      <th>18</th>\n",
       "      <td>has_superstructure_cement_mortar_stone</td>\n",
       "      <td>25</td>\n",
       "    </tr>\n",
       "    <tr>\n",
       "      <th>19</th>\n",
       "      <td>has_superstructure_mud_mortar_brick</td>\n",
       "      <td>25</td>\n",
       "    </tr>\n",
       "    <tr>\n",
       "      <th>20</th>\n",
       "      <td>has_superstructure_cement_mortar_brick</td>\n",
       "      <td>70</td>\n",
       "    </tr>\n",
       "    <tr>\n",
       "      <th>21</th>\n",
       "      <td>has_superstructure_timber</td>\n",
       "      <td>61</td>\n",
       "    </tr>\n",
       "    <tr>\n",
       "      <th>22</th>\n",
       "      <td>has_superstructure_bamboo</td>\n",
       "      <td>16</td>\n",
       "    </tr>\n",
       "    <tr>\n",
       "      <th>23</th>\n",
       "      <td>has_superstructure_rc_non_engineered</td>\n",
       "      <td>20</td>\n",
       "    </tr>\n",
       "    <tr>\n",
       "      <th>24</th>\n",
       "      <td>has_superstructure_rc_engineered</td>\n",
       "      <td>9</td>\n",
       "    </tr>\n",
       "    <tr>\n",
       "      <th>25</th>\n",
       "      <td>has_superstructure_other</td>\n",
       "      <td>5</td>\n",
       "    </tr>\n",
       "    <tr>\n",
       "      <th>26</th>\n",
       "      <td>count_families</td>\n",
       "      <td>161</td>\n",
       "    </tr>\n",
       "    <tr>\n",
       "      <th>27</th>\n",
       "      <td>has_secondary_use</td>\n",
       "      <td>67</td>\n",
       "    </tr>\n",
       "    <tr>\n",
       "      <th>28</th>\n",
       "      <td>has_secondary_use_agriculture</td>\n",
       "      <td>8</td>\n",
       "    </tr>\n",
       "    <tr>\n",
       "      <th>29</th>\n",
       "      <td>has_secondary_use_hotel</td>\n",
       "      <td>20</td>\n",
       "    </tr>\n",
       "    <tr>\n",
       "      <th>30</th>\n",
       "      <td>has_secondary_use_rental</td>\n",
       "      <td>8</td>\n",
       "    </tr>\n",
       "    <tr>\n",
       "      <th>31</th>\n",
       "      <td>has_secondary_use_institution</td>\n",
       "      <td>0</td>\n",
       "    </tr>\n",
       "    <tr>\n",
       "      <th>32</th>\n",
       "      <td>has_secondary_use_school</td>\n",
       "      <td>0</td>\n",
       "    </tr>\n",
       "    <tr>\n",
       "      <th>33</th>\n",
       "      <td>has_secondary_use_industry</td>\n",
       "      <td>0</td>\n",
       "    </tr>\n",
       "    <tr>\n",
       "      <th>34</th>\n",
       "      <td>has_secondary_use_health_post</td>\n",
       "      <td>0</td>\n",
       "    </tr>\n",
       "    <tr>\n",
       "      <th>35</th>\n",
       "      <td>has_secondary_use_gov_office</td>\n",
       "      <td>0</td>\n",
       "    </tr>\n",
       "    <tr>\n",
       "      <th>36</th>\n",
       "      <td>has_secondary_use_use_police</td>\n",
       "      <td>0</td>\n",
       "    </tr>\n",
       "    <tr>\n",
       "      <th>37</th>\n",
       "      <td>has_secondary_use_other</td>\n",
       "      <td>0</td>\n",
       "    </tr>\n",
       "  </tbody>\n",
       "</table>\n",
       "</div>"
      ],
      "text/plain": [
       "                                      name  importance\n",
       "0                   land_surface_condition          65\n",
       "1                          foundation_type          74\n",
       "2                                roof_type         164\n",
       "3                        ground_floor_type          58\n",
       "4                         other_floor_type          56\n",
       "5                                 position         134\n",
       "6                       plan_configuration          14\n",
       "7                   legal_ownership_status          12\n",
       "8                           geo_level_1_id         287\n",
       "9                           geo_level_2_id        2346\n",
       "10                          geo_level_3_id        4326\n",
       "11                     count_floors_pre_eq         123\n",
       "12                                     age         834\n",
       "13                         area_percentage         579\n",
       "14                       height_percentage         295\n",
       "15            has_superstructure_adobe_mud          17\n",
       "16     has_superstructure_mud_mortar_stone         105\n",
       "17           has_superstructure_stone_flag          12\n",
       "18  has_superstructure_cement_mortar_stone          25\n",
       "19     has_superstructure_mud_mortar_brick          25\n",
       "20  has_superstructure_cement_mortar_brick          70\n",
       "21               has_superstructure_timber          61\n",
       "22               has_superstructure_bamboo          16\n",
       "23    has_superstructure_rc_non_engineered          20\n",
       "24        has_superstructure_rc_engineered           9\n",
       "25                has_superstructure_other           5\n",
       "26                          count_families         161\n",
       "27                       has_secondary_use          67\n",
       "28           has_secondary_use_agriculture           8\n",
       "29                 has_secondary_use_hotel          20\n",
       "30                has_secondary_use_rental           8\n",
       "31           has_secondary_use_institution           0\n",
       "32                has_secondary_use_school           0\n",
       "33              has_secondary_use_industry           0\n",
       "34           has_secondary_use_health_post           0\n",
       "35            has_secondary_use_gov_office           0\n",
       "36            has_secondary_use_use_police           0\n",
       "37                 has_secondary_use_other           0"
      ]
     },
     "execution_count": 141,
     "metadata": {},
     "output_type": "execute_result"
    }
   ],
   "source": [
    "df_booster"
   ]
  },
  {
   "cell_type": "code",
   "execution_count": 158,
   "id": "common-rotation",
   "metadata": {
    "ExecuteTime": {
     "end_time": "2021-02-26T11:51:55.109345Z",
     "start_time": "2021-02-26T11:51:55.102686Z"
    }
   },
   "outputs": [],
   "source": [
    "with open(DATA_DIR / \"df_feature_importance_lgbm_api.pkl\", \"wb\") as f:\n",
    "    pickle.dump(df_booster, f)"
   ]
  },
  {
   "cell_type": "code",
   "execution_count": 159,
   "id": "catholic-pepper",
   "metadata": {
    "ExecuteTime": {
     "end_time": "2021-02-26T11:52:26.615058Z",
     "start_time": "2021-02-26T11:52:26.611066Z"
    }
   },
   "outputs": [],
   "source": [
    "with open(DATA_DIR / \"df_feature_importance_lgbm_api.pkl\", \"rb\") as f:\n",
    "    a = pickle.load(f)"
   ]
  },
  {
   "cell_type": "code",
   "execution_count": 189,
   "id": "saved-zimbabwe",
   "metadata": {
    "ExecuteTime": {
     "end_time": "2021-02-26T13:10:10.938176Z",
     "start_time": "2021-02-26T13:10:10.933853Z"
    }
   },
   "outputs": [],
   "source": [
    "with open(DATA_DIR / \"cat_cols_plus_geo.pkl\", \"wb\") as f:\n",
    "    pickle.dump(cat_cols_plus_geo, f)"
   ]
  },
  {
   "cell_type": "markdown",
   "id": "functioning-friend",
   "metadata": {},
   "source": [
    "Want to test now which features give the best performance and then submit the best one(s)\n",
    "\n",
    "1. fi > 0\n",
    "2. fi > 10\n",
    "3. fi > 20\n",
    "4. fi > 50\n",
    "5. fi > 70\n",
    "6. fi > 100\n",
    "7. fi > 200\n",
    "8. fi > 500\n",
    "9. fi > 800\n",
    "10. fi > 1000"
   ]
  },
  {
   "cell_type": "code",
   "execution_count": 151,
   "id": "urban-bench",
   "metadata": {
    "ExecuteTime": {
     "end_time": "2021-02-26T11:35:29.191740Z",
     "start_time": "2021-02-26T11:35:29.185867Z"
    }
   },
   "outputs": [
    {
     "data": {
      "text/plain": [
       "array(['geo_level_2_id', 'geo_level_3_id', 'age', 'area_percentage'],\n",
       "      dtype=object)"
      ]
     },
     "execution_count": 151,
     "metadata": {},
     "output_type": "execute_result"
    }
   ],
   "source": [
    "# These are the features we want to include\n",
    "keep = df_booster[df_booster.importance > 500].name.values\n",
    "keep"
   ]
  },
  {
   "cell_type": "code",
   "execution_count": 148,
   "id": "northern-mandate",
   "metadata": {
    "ExecuteTime": {
     "end_time": "2021-02-26T11:35:07.523533Z",
     "start_time": "2021-02-26T11:35:07.521078Z"
    }
   },
   "outputs": [],
   "source": [
    "test = list(cols_ordered_after_ordinal_encoding)"
   ]
  },
  {
   "cell_type": "code",
   "execution_count": 149,
   "id": "magnetic-discovery",
   "metadata": {
    "ExecuteTime": {
     "end_time": "2021-02-26T11:35:09.085346Z",
     "start_time": "2021-02-26T11:35:09.080552Z"
    },
    "scrolled": true
   },
   "outputs": [
    {
     "data": {
      "text/plain": [
       "['land_surface_condition',\n",
       " 'foundation_type',\n",
       " 'roof_type',\n",
       " 'ground_floor_type',\n",
       " 'other_floor_type',\n",
       " 'position',\n",
       " 'plan_configuration',\n",
       " 'legal_ownership_status',\n",
       " 'geo_level_1_id',\n",
       " 'geo_level_2_id',\n",
       " 'geo_level_3_id',\n",
       " 'count_floors_pre_eq',\n",
       " 'age',\n",
       " 'area_percentage',\n",
       " 'height_percentage',\n",
       " 'has_superstructure_adobe_mud',\n",
       " 'has_superstructure_mud_mortar_stone',\n",
       " 'has_superstructure_stone_flag',\n",
       " 'has_superstructure_cement_mortar_stone',\n",
       " 'has_superstructure_mud_mortar_brick',\n",
       " 'has_superstructure_cement_mortar_brick',\n",
       " 'has_superstructure_timber',\n",
       " 'has_superstructure_bamboo',\n",
       " 'has_superstructure_rc_non_engineered',\n",
       " 'has_superstructure_rc_engineered',\n",
       " 'has_superstructure_other',\n",
       " 'count_families',\n",
       " 'has_secondary_use',\n",
       " 'has_secondary_use_agriculture',\n",
       " 'has_secondary_use_hotel',\n",
       " 'has_secondary_use_rental',\n",
       " 'has_secondary_use_institution',\n",
       " 'has_secondary_use_school',\n",
       " 'has_secondary_use_industry',\n",
       " 'has_secondary_use_health_post',\n",
       " 'has_secondary_use_gov_office',\n",
       " 'has_secondary_use_use_police',\n",
       " 'has_secondary_use_other']"
      ]
     },
     "execution_count": 149,
     "metadata": {},
     "output_type": "execute_result"
    }
   ],
   "source": [
    "test"
   ]
  },
  {
   "cell_type": "code",
   "execution_count": 203,
   "id": "descending-handy",
   "metadata": {
    "ExecuteTime": {
     "end_time": "2021-02-26T13:24:41.302112Z",
     "start_time": "2021-02-26T13:24:41.288962Z"
    }
   },
   "outputs": [],
   "source": [
    "def cv_with_fi_range(keep_features=-1, num_boost_round=50):\n",
    "    \"\"\"\n",
    "    Perform cv with native LightGBM API\n",
    "\n",
    "    keep_feautures: int\n",
    "        Keep features with feature importance greater than this value.\n",
    "        Default: -1 to keep all features\n",
    "    \"\"\"\n",
    "\n",
    "    X_train = pd.read_csv(DOWNLOAD_DIR / \"train_values.csv\", index_col=\"building_id\")\n",
    "    y_train = pd.read_csv(DOWNLOAD_DIR / \"train_labels.csv\", index_col=\"building_id\")\n",
    "\n",
    "    # Must ordinal encode the categorical columns for LGBM to work\n",
    "    categorical_columns = X.select_dtypes(include=\"object\").columns\n",
    "    t = [(\"ord_encoder\", OrdinalEncoder(dtype=int), categorical_columns)]\n",
    "    ct = ColumnTransformer(transformers=t, remainder=\"passthrough\")\n",
    "    X_train_ints = ct.fit_transform(X_train)\n",
    "\n",
    "    # Must label encode y (LGBM expects [0, 1, 2] as classes)\n",
    "    label_enc = LabelEncoder()\n",
    "    y_train = label_enc.fit_transform(np.ravel(y))\n",
    "\n",
    "    non_cat_cols = X.select_dtypes(exclude=\"object\").columns\n",
    "    cols_after_ord_encoding = categorical_columns.append(non_cat_cols)\n",
    "    # Turn into DF\n",
    "    df_ints = pd.DataFrame(data=X_train_ints, columns=cols_after_ord_encoding)\n",
    "\n",
    "    with open(DATA_DIR / \"df_feature_importance_lgbm_api.pkl\", \"rb\") as f:\n",
    "        df_feature_importance = pickle.load(f)\n",
    "\n",
    "    # Only keep features with FI > keep_features\n",
    "    mask = df_feature_importance.importance > keep_features\n",
    "    features_to_use = df_feature_importance[mask].name.values\n",
    "\n",
    "    X_train_kept_features = df_ints[features_to_use]\n",
    "    feature_names = list(df_ints[features_to_use].columns)\n",
    "\n",
    "    # Need this to check which columns remain are categorical\n",
    "    with open(DATA_DIR / \"cat_cols_plus_geo.pkl\", \"rb\") as f:\n",
    "        cat_cols_plus_geo = pickle.load(f)\n",
    "\n",
    "    # Create list of categorical features\n",
    "    categorical_features = []\n",
    "    for feature in feature_names:\n",
    "        if feature in cat_cols_plus_geo:\n",
    "            categorical_features.append(feature)\n",
    "\n",
    "    train_dataset = lgb.Dataset(\n",
    "        X_train_kept_features,\n",
    "        label=y_train,\n",
    "        feature_name=feature_names,\n",
    "        categorical_feature=categorical_features,\n",
    "    )\n",
    "\n",
    "    param = {\n",
    "        \"num_leaves\": 120,\n",
    "        #          'num_iterations': 240,\n",
    "        \"min_child_samples\": 40,\n",
    "        \"learning_rate\": 0.2,\n",
    "        \"boosting_type\": \"goss\",\n",
    "        \"objective\": \"multiclass\",\n",
    "        \"num_class\": 3,\n",
    "    }\n",
    "\n",
    "    cv_results = lgb.cv(\n",
    "        param,\n",
    "        train_dataset,\n",
    "        num_boost_round,\n",
    "        nfold=5,\n",
    "        categorical_feature=categorical_features,\n",
    "        feval=lgb_f1_micro,\n",
    "    )\n",
    "\n",
    "    f1_mean = cv_results[\"f1-mean\"]\n",
    "\n",
    "    fig, ax = plt.subplots()\n",
    "    ax.plot(f1_mean)\n",
    "    title = f\"F1-score kept features above {keep_features} feature importance\"\n",
    "    ax.set(title=title, xlabel=\"Boosting round\", ylabel=\"f1-score (micro)\")\n",
    "    plt.show()\n",
    "\n",
    "    print(f\"RESULTS KEEPING FEATURES > {keep_features} FEATURE IMPORTANCE\")\n",
    "    print(\"Best f1 score:          \", max(f1_mean))\n",
    "    print(\"Best f1 score iteration:\", np.argmax(f1_mean))"
   ]
  },
  {
   "cell_type": "markdown",
   "id": "thirty-medication",
   "metadata": {},
   "source": [
    "# TL;DR\n",
    "\n",
    "Keeping features above feature importance 20 gives the best results: 0.7448 (in comparison to 0.7446 with all features). Do 26 iterations. "
   ]
  },
  {
   "cell_type": "code",
   "execution_count": 214,
   "id": "colored-richards",
   "metadata": {
    "ExecuteTime": {
     "end_time": "2021-02-26T13:53:02.006697Z",
     "start_time": "2021-02-26T13:50:47.955435Z"
    }
   },
   "outputs": [
    {
     "name": "stdout",
     "output_type": "stream",
     "text": [
      "[LightGBM] [Warning] Auto-choosing col-wise multi-threading, the overhead of testing was 0.037469 seconds.\n",
      "You can set `force_col_wise=true` to remove the overhead.\n",
      "[LightGBM] [Info] Total Bins 10796\n",
      "[LightGBM] [Info] Number of data points in the train set: 208480, number of used features: 36\n",
      "[LightGBM] [Info] Using GOSS\n",
      "[LightGBM] [Warning] Auto-choosing row-wise multi-threading, the overhead of testing was 0.020136 seconds.\n",
      "You can set `force_row_wise=true` to remove the overhead.\n",
      "And if memory is not enough, you can set `force_col_wise=true`.\n",
      "[LightGBM] [Info] Total Bins 10796\n",
      "[LightGBM] [Info] Number of data points in the train set: 208481, number of used features: 36\n",
      "[LightGBM] [Info] Using GOSS\n",
      "[LightGBM] [Warning] Auto-choosing col-wise multi-threading, the overhead of testing was 0.027931 seconds.\n",
      "You can set `force_col_wise=true` to remove the overhead.\n",
      "[LightGBM] [Info] Total Bins 10796\n",
      "[LightGBM] [Info] Number of data points in the train set: 208481, number of used features: 36\n",
      "[LightGBM] [Info] Using GOSS\n",
      "[LightGBM] [Warning] Auto-choosing row-wise multi-threading, the overhead of testing was 0.024154 seconds.\n",
      "You can set `force_row_wise=true` to remove the overhead.\n",
      "And if memory is not enough, you can set `force_col_wise=true`.\n",
      "[LightGBM] [Info] Total Bins 10796\n",
      "[LightGBM] [Info] Number of data points in the train set: 208481, number of used features: 36\n",
      "[LightGBM] [Info] Using GOSS\n",
      "[LightGBM] [Warning] Auto-choosing col-wise multi-threading, the overhead of testing was 0.033273 seconds.\n",
      "You can set `force_col_wise=true` to remove the overhead.\n",
      "[LightGBM] [Info] Total Bins 10796\n",
      "[LightGBM] [Info] Number of data points in the train set: 208481, number of used features: 36\n",
      "[LightGBM] [Info] Using GOSS\n",
      "[LightGBM] [Info] Start training from score -2.339173\n",
      "[LightGBM] [Info] Start training from score -0.564028\n",
      "[LightGBM] [Info] Start training from score -1.094582\n",
      "[LightGBM] [Info] Start training from score -2.339128\n",
      "[LightGBM] [Info] Start training from score -0.564032\n",
      "[LightGBM] [Info] Start training from score -1.094586\n",
      "[LightGBM] [Info] Start training from score -2.339178\n",
      "[LightGBM] [Info] Start training from score -0.564024\n",
      "[LightGBM] [Info] Start training from score -1.094586\n",
      "[LightGBM] [Info] Start training from score -2.339178\n",
      "[LightGBM] [Info] Start training from score -0.564032\n",
      "[LightGBM] [Info] Start training from score -1.094572\n",
      "[LightGBM] [Info] Start training from score -2.339178\n",
      "[LightGBM] [Info] Start training from score -0.564032\n",
      "[LightGBM] [Info] Start training from score -1.094572\n"
     ]
    },
    {
     "data": {
      "image/png": "[encoded data removed]",
      "text/plain": [
       "<Figure size 432x288 with 1 Axes>"
      ]
     },
     "metadata": {},
     "output_type": "display_data"
    },
    {
     "name": "stdout",
     "output_type": "stream",
     "text": [
      "RESULTS KEEPING FEATURES > -1 FEATURE IMPORTANCE\n",
      "Best f1 score:           0.7441529325991442\n",
      "Best f1 score iteration: 28\n"
     ]
    }
   ],
   "source": [
    "cv_with_fi_range(-1)"
   ]
  },
  {
   "cell_type": "code",
   "execution_count": 213,
   "id": "operational-printer",
   "metadata": {
    "ExecuteTime": {
     "end_time": "2021-02-26T13:50:47.016760Z",
     "start_time": "2021-02-26T13:48:25.486239Z"
    }
   },
   "outputs": [
    {
     "name": "stdout",
     "output_type": "stream",
     "text": [
      "[LightGBM] [Warning] Auto-choosing col-wise multi-threading, the overhead of testing was 0.036313 seconds.\n",
      "You can set `force_col_wise=true` to remove the overhead.\n",
      "[LightGBM] [Info] Total Bins 10786\n",
      "[LightGBM] [Info] Number of data points in the train set: 208480, number of used features: 31\n",
      "[LightGBM] [Info] Using GOSS\n",
      "[LightGBM] [Warning] Auto-choosing col-wise multi-threading, the overhead of testing was 0.018479 seconds.\n",
      "You can set `force_col_wise=true` to remove the overhead.\n",
      "[LightGBM] [Info] Total Bins 10786\n",
      "[LightGBM] [Info] Number of data points in the train set: 208481, number of used features: 31\n",
      "[LightGBM] [Info] Using GOSS\n",
      "[LightGBM] [Warning] Auto-choosing col-wise multi-threading, the overhead of testing was 0.035406 seconds.\n",
      "You can set `force_col_wise=true` to remove the overhead.\n",
      "[LightGBM] [Info] Total Bins 10786\n",
      "[LightGBM] [Info] Number of data points in the train set: 208481, number of used features: 31\n",
      "[LightGBM] [Info] Using GOSS\n",
      "[LightGBM] [Warning] Auto-choosing row-wise multi-threading, the overhead of testing was 0.023618 seconds.\n",
      "You can set `force_row_wise=true` to remove the overhead.\n",
      "And if memory is not enough, you can set `force_col_wise=true`.\n",
      "[LightGBM] [Info] Total Bins 10786\n",
      "[LightGBM] [Info] Number of data points in the train set: 208481, number of used features: 31\n",
      "[LightGBM] [Info] Using GOSS\n",
      "[LightGBM] [Warning] Auto-choosing row-wise multi-threading, the overhead of testing was 0.024918 seconds.\n",
      "You can set `force_row_wise=true` to remove the overhead.\n",
      "And if memory is not enough, you can set `force_col_wise=true`.\n",
      "[LightGBM] [Info] Total Bins 10786\n",
      "[LightGBM] [Info] Number of data points in the train set: 208481, number of used features: 31\n",
      "[LightGBM] [Info] Using GOSS\n",
      "[LightGBM] [Info] Start training from score -2.339173\n",
      "[LightGBM] [Info] Start training from score -0.564028\n",
      "[LightGBM] [Info] Start training from score -1.094582\n",
      "[LightGBM] [Info] Start training from score -2.339128\n",
      "[LightGBM] [Info] Start training from score -0.564032\n",
      "[LightGBM] [Info] Start training from score -1.094586\n",
      "[LightGBM] [Info] Start training from score -2.339178\n",
      "[LightGBM] [Info] Start training from score -0.564024\n",
      "[LightGBM] [Info] Start training from score -1.094586\n",
      "[LightGBM] [Info] Start training from score -2.339178\n",
      "[LightGBM] [Info] Start training from score -0.564032\n",
      "[LightGBM] [Info] Start training from score -1.094572\n",
      "[LightGBM] [Info] Start training from score -2.339178\n",
      "[LightGBM] [Info] Start training from score -0.564032\n",
      "[LightGBM] [Info] Start training from score -1.094572\n"
     ]
    },
    {
     "data": {
      "image/png": "[encoded data removed]",
      "text/plain": [
       "<Figure size 432x288 with 1 Axes>"
      ]
     },
     "metadata": {},
     "output_type": "display_data"
    },
    {
     "name": "stdout",
     "output_type": "stream",
     "text": [
      "RESULTS KEEPING FEATURES > 0 FEATURE IMPORTANCE\n",
      "Best f1 score:           0.7438459476850776\n",
      "Best f1 score iteration: 35\n"
     ]
    }
   ],
   "source": [
    "cv_with_fi_range(0)"
   ]
  },
  {
   "cell_type": "code",
   "execution_count": 204,
   "id": "plastic-fabric",
   "metadata": {
    "ExecuteTime": {
     "end_time": "2021-02-26T13:27:04.690317Z",
     "start_time": "2021-02-26T13:24:44.022423Z"
    }
   },
   "outputs": [
    {
     "name": "stdout",
     "output_type": "stream",
     "text": [
      "[LightGBM] [Warning] Auto-choosing col-wise multi-threading, the overhead of testing was 0.040136 seconds.\n",
      "You can set `force_col_wise=true` to remove the overhead.\n",
      "[LightGBM] [Info] Total Bins 10778\n",
      "[LightGBM] [Info] Number of data points in the train set: 208480, number of used features: 27\n",
      "[LightGBM] [Info] Using GOSS\n",
      "[LightGBM] [Warning] Auto-choosing col-wise multi-threading, the overhead of testing was 0.020682 seconds.\n",
      "You can set `force_col_wise=true` to remove the overhead.\n",
      "[LightGBM] [Info] Total Bins 10778\n",
      "[LightGBM] [Info] Number of data points in the train set: 208481, number of used features: 27\n",
      "[LightGBM] [Info] Using GOSS\n",
      "[LightGBM] [Warning] Auto-choosing row-wise multi-threading, the overhead of testing was 0.023839 seconds.\n",
      "You can set `force_row_wise=true` to remove the overhead.\n",
      "And if memory is not enough, you can set `force_col_wise=true`.\n",
      "[LightGBM] [Info] Total Bins 10778\n",
      "[LightGBM] [Info] Number of data points in the train set: 208481, number of used features: 27\n",
      "[LightGBM] [Info] Using GOSS\n",
      "[LightGBM] [Warning] Auto-choosing row-wise multi-threading, the overhead of testing was 0.019913 seconds.\n",
      "You can set `force_row_wise=true` to remove the overhead.\n",
      "And if memory is not enough, you can set `force_col_wise=true`.\n",
      "[LightGBM] [Info] Total Bins 10778\n",
      "[LightGBM] [Info] Number of data points in the train set: 208481, number of used features: 27\n",
      "[LightGBM] [Info] Using GOSS\n",
      "[LightGBM] [Warning] Auto-choosing col-wise multi-threading, the overhead of testing was 0.029150 seconds.\n",
      "You can set `force_col_wise=true` to remove the overhead.\n",
      "[LightGBM] [Info] Total Bins 10778\n",
      "[LightGBM] [Info] Number of data points in the train set: 208481, number of used features: 27\n",
      "[LightGBM] [Info] Using GOSS\n",
      "[LightGBM] [Info] Start training from score -2.339173\n",
      "[LightGBM] [Info] Start training from score -0.564028\n",
      "[LightGBM] [Info] Start training from score -1.094582\n",
      "[LightGBM] [Info] Start training from score -2.339128\n",
      "[LightGBM] [Info] Start training from score -0.564032\n",
      "[LightGBM] [Info] Start training from score -1.094586\n",
      "[LightGBM] [Info] Start training from score -2.339178\n",
      "[LightGBM] [Info] Start training from score -0.564024\n",
      "[LightGBM] [Info] Start training from score -1.094586\n",
      "[LightGBM] [Info] Start training from score -2.339178\n",
      "[LightGBM] [Info] Start training from score -0.564032\n",
      "[LightGBM] [Info] Start training from score -1.094572\n",
      "[LightGBM] [Info] Start training from score -2.339178\n",
      "[LightGBM] [Info] Start training from score -0.564032\n",
      "[LightGBM] [Info] Start training from score -1.094572\n"
     ]
    },
    {
     "data": {
      "image/png": "[encoded data removed]",
      "text/plain": [
       "<Figure size 432x288 with 1 Axes>"
      ]
     },
     "metadata": {},
     "output_type": "display_data"
    },
    {
     "name": "stdout",
     "output_type": "stream",
     "text": [
      "RESULTS KEEPING FEATURES > 10 FEATURE IMPORTANCE\n",
      "Best f1 score:           0.744467587177561\n",
      "Best f1 score iteration: 33\n"
     ]
    }
   ],
   "source": [
    "cv_with_fi_range(10)"
   ]
  },
  {
   "cell_type": "code",
   "execution_count": 205,
   "id": "pharmaceutical-soldier",
   "metadata": {
    "ExecuteTime": {
     "end_time": "2021-02-26T13:31:38.776647Z",
     "start_time": "2021-02-26T13:29:21.600000Z"
    }
   },
   "outputs": [
    {
     "name": "stdout",
     "output_type": "stream",
     "text": [
      "[LightGBM] [Warning] Auto-choosing col-wise multi-threading, the overhead of testing was 0.027030 seconds.\n",
      "You can set `force_col_wise=true` to remove the overhead.\n",
      "[LightGBM] [Info] Total Bins 10754\n",
      "[LightGBM] [Info] Number of data points in the train set: 208480, number of used features: 20\n",
      "[LightGBM] [Info] Using GOSS\n",
      "[LightGBM] [Warning] Auto-choosing col-wise multi-threading, the overhead of testing was 0.015685 seconds.\n",
      "You can set `force_col_wise=true` to remove the overhead.\n",
      "[LightGBM] [Info] Total Bins 10754\n",
      "[LightGBM] [Info] Number of data points in the train set: 208481, number of used features: 20\n",
      "[LightGBM] [Info] Using GOSS\n",
      "[LightGBM] [Warning] Auto-choosing col-wise multi-threading, the overhead of testing was 0.024538 seconds.\n",
      "You can set `force_col_wise=true` to remove the overhead.\n",
      "[LightGBM] [Info] Total Bins 10754\n",
      "[LightGBM] [Info] Number of data points in the train set: 208481, number of used features: 20\n",
      "[LightGBM] [Info] Using GOSS\n",
      "[LightGBM] [Warning] Auto-choosing row-wise multi-threading, the overhead of testing was 0.015427 seconds.\n",
      "You can set `force_row_wise=true` to remove the overhead.\n",
      "And if memory is not enough, you can set `force_col_wise=true`.\n",
      "[LightGBM] [Info] Total Bins 10754\n",
      "[LightGBM] [Info] Number of data points in the train set: 208481, number of used features: 20\n",
      "[LightGBM] [Info] Using GOSS\n",
      "[LightGBM] [Warning] Auto-choosing col-wise multi-threading, the overhead of testing was 0.022939 seconds.\n",
      "You can set `force_col_wise=true` to remove the overhead.\n",
      "[LightGBM] [Info] Total Bins 10754\n",
      "[LightGBM] [Info] Number of data points in the train set: 208481, number of used features: 20\n",
      "[LightGBM] [Info] Using GOSS\n",
      "[LightGBM] [Info] Start training from score -2.339173\n",
      "[LightGBM] [Info] Start training from score -0.564028\n",
      "[LightGBM] [Info] Start training from score -1.094582\n",
      "[LightGBM] [Info] Start training from score -2.339128\n",
      "[LightGBM] [Info] Start training from score -0.564032\n",
      "[LightGBM] [Info] Start training from score -1.094586\n",
      "[LightGBM] [Info] Start training from score -2.339178\n",
      "[LightGBM] [Info] Start training from score -0.564024\n",
      "[LightGBM] [Info] Start training from score -1.094586\n",
      "[LightGBM] [Info] Start training from score -2.339178\n",
      "[LightGBM] [Info] Start training from score -0.564032\n",
      "[LightGBM] [Info] Start training from score -1.094572\n",
      "[LightGBM] [Info] Start training from score -2.339178\n",
      "[LightGBM] [Info] Start training from score -0.564032\n",
      "[LightGBM] [Info] Start training from score -1.094572\n"
     ]
    },
    {
     "data": {
      "image/png": "[encoded data removed]",
      "text/plain": [
       "<Figure size 432x288 with 1 Axes>"
      ]
     },
     "metadata": {},
     "output_type": "display_data"
    },
    {
     "name": "stdout",
     "output_type": "stream",
     "text": [
      "RESULTS KEEPING FEATURES > 20 FEATURE IMPORTANCE\n",
      "Best f1 score:           0.7447553906788975\n",
      "Best f1 score iteration: 26\n"
     ]
    }
   ],
   "source": [
    "cv_with_fi_range(20)"
   ]
  },
  {
   "cell_type": "code",
   "execution_count": 206,
   "id": "alien-startup",
   "metadata": {
    "ExecuteTime": {
     "end_time": "2021-02-26T13:33:48.783322Z",
     "start_time": "2021-02-26T13:31:39.580934Z"
    }
   },
   "outputs": [
    {
     "name": "stdout",
     "output_type": "stream",
     "text": [
      "[LightGBM] [Warning] Auto-choosing row-wise multi-threading, the overhead of testing was 0.010595 seconds.\n",
      "You can set `force_row_wise=true` to remove the overhead.\n",
      "And if memory is not enough, you can set `force_col_wise=true`.\n",
      "[LightGBM] [Info] Total Bins 10750\n",
      "[LightGBM] [Info] Number of data points in the train set: 208480, number of used features: 18\n",
      "[LightGBM] [Info] Using GOSS\n",
      "[LightGBM] [Warning] Auto-choosing col-wise multi-threading, the overhead of testing was 0.024762 seconds.\n",
      "You can set `force_col_wise=true` to remove the overhead.\n",
      "[LightGBM] [Info] Total Bins 10750\n",
      "[LightGBM] [Info] Number of data points in the train set: 208481, number of used features: 18\n",
      "[LightGBM] [Info] Using GOSS\n",
      "[LightGBM] [Warning] Auto-choosing col-wise multi-threading, the overhead of testing was 0.025557 seconds.\n",
      "You can set `force_col_wise=true` to remove the overhead.\n",
      "[LightGBM] [Info] Total Bins 10750\n",
      "[LightGBM] [Info] Number of data points in the train set: 208481, number of used features: 18\n",
      "[LightGBM] [Info] Using GOSS\n",
      "[LightGBM] [Warning] Auto-choosing col-wise multi-threading, the overhead of testing was 0.022280 seconds.\n",
      "You can set `force_col_wise=true` to remove the overhead.\n",
      "[LightGBM] [Info] Total Bins 10750\n",
      "[LightGBM] [Info] Number of data points in the train set: 208481, number of used features: 18\n",
      "[LightGBM] [Info] Using GOSS\n",
      "[LightGBM] [Warning] Auto-choosing row-wise multi-threading, the overhead of testing was 0.012872 seconds.\n",
      "You can set `force_row_wise=true` to remove the overhead.\n",
      "And if memory is not enough, you can set `force_col_wise=true`.\n",
      "[LightGBM] [Info] Total Bins 10750\n",
      "[LightGBM] [Info] Number of data points in the train set: 208481, number of used features: 18\n",
      "[LightGBM] [Info] Using GOSS\n",
      "[LightGBM] [Info] Start training from score -2.339173\n",
      "[LightGBM] [Info] Start training from score -0.564028\n",
      "[LightGBM] [Info] Start training from score -1.094582\n",
      "[LightGBM] [Info] Start training from score -2.339128\n",
      "[LightGBM] [Info] Start training from score -0.564032\n",
      "[LightGBM] [Info] Start training from score -1.094586\n",
      "[LightGBM] [Info] Start training from score -2.339178\n",
      "[LightGBM] [Info] Start training from score -0.564024\n",
      "[LightGBM] [Info] Start training from score -1.094586\n",
      "[LightGBM] [Info] Start training from score -2.339178\n",
      "[LightGBM] [Info] Start training from score -0.564032\n",
      "[LightGBM] [Info] Start training from score -1.094572\n",
      "[LightGBM] [Info] Start training from score -2.339178\n",
      "[LightGBM] [Info] Start training from score -0.564032\n",
      "[LightGBM] [Info] Start training from score -1.094572\n"
     ]
    },
    {
     "data": {
      "image/png": "[encoded data removed]",
      "text/plain": [
       "<Figure size 432x288 with 1 Axes>"
      ]
     },
     "metadata": {},
     "output_type": "display_data"
    },
    {
     "name": "stdout",
     "output_type": "stream",
     "text": [
      "RESULTS KEEPING FEATURES > 50 FEATURE IMPORTANCE\n",
      "Best f1 score:           0.743876649018328\n",
      "Best f1 score iteration: 32\n"
     ]
    }
   ],
   "source": [
    "cv_with_fi_range(50)"
   ]
  },
  {
   "cell_type": "code",
   "execution_count": 207,
   "id": "neural-header",
   "metadata": {
    "ExecuteTime": {
     "end_time": "2021-02-26T13:36:00.492198Z",
     "start_time": "2021-02-26T13:33:49.581546Z"
    }
   },
   "outputs": [
    {
     "name": "stdout",
     "output_type": "stream",
     "text": [
      "[LightGBM] [Warning] Auto-choosing row-wise multi-threading, the overhead of testing was 0.007644 seconds.\n",
      "You can set `force_row_wise=true` to remove the overhead.\n",
      "And if memory is not enough, you can set `force_col_wise=true`.\n",
      "[LightGBM] [Info] Total Bins 10730\n",
      "[LightGBM] [Info] Number of data points in the train set: 208480, number of used features: 12\n",
      "[LightGBM] [Info] Using GOSS\n",
      "[LightGBM] [Warning] Auto-choosing row-wise multi-threading, the overhead of testing was 0.006549 seconds.\n",
      "You can set `force_row_wise=true` to remove the overhead.\n",
      "And if memory is not enough, you can set `force_col_wise=true`.\n",
      "[LightGBM] [Info] Total Bins 10730\n",
      "[LightGBM] [Info] Number of data points in the train set: 208481, number of used features: 12\n",
      "[LightGBM] [Info] Using GOSS\n",
      "[LightGBM] [Warning] Auto-choosing row-wise multi-threading, the overhead of testing was 0.005277 seconds.\n",
      "You can set `force_row_wise=true` to remove the overhead.\n",
      "And if memory is not enough, you can set `force_col_wise=true`.\n",
      "[LightGBM] [Info] Total Bins 10730\n",
      "[LightGBM] [Info] Number of data points in the train set: 208481, number of used features: 12\n",
      "[LightGBM] [Info] Using GOSS\n",
      "[LightGBM] [Warning] Auto-choosing row-wise multi-threading, the overhead of testing was 0.005312 seconds.\n",
      "You can set `force_row_wise=true` to remove the overhead.\n",
      "And if memory is not enough, you can set `force_col_wise=true`.\n",
      "[LightGBM] [Info] Total Bins 10730\n",
      "[LightGBM] [Info] Number of data points in the train set: 208481, number of used features: 12\n",
      "[LightGBM] [Info] Using GOSS\n",
      "[LightGBM] [Warning] Auto-choosing row-wise multi-threading, the overhead of testing was 0.007653 seconds.\n",
      "You can set `force_row_wise=true` to remove the overhead.\n",
      "And if memory is not enough, you can set `force_col_wise=true`.\n",
      "[LightGBM] [Info] Total Bins 10730\n",
      "[LightGBM] [Info] Number of data points in the train set: 208481, number of used features: 12\n",
      "[LightGBM] [Info] Using GOSS\n",
      "[LightGBM] [Info] Start training from score -2.339173\n",
      "[LightGBM] [Info] Start training from score -0.564028\n",
      "[LightGBM] [Info] Start training from score -1.094582\n",
      "[LightGBM] [Info] Start training from score -2.339128\n",
      "[LightGBM] [Info] Start training from score -0.564032\n",
      "[LightGBM] [Info] Start training from score -1.094586\n",
      "[LightGBM] [Info] Start training from score -2.339178\n",
      "[LightGBM] [Info] Start training from score -0.564024\n",
      "[LightGBM] [Info] Start training from score -1.094586\n",
      "[LightGBM] [Info] Start training from score -2.339178\n",
      "[LightGBM] [Info] Start training from score -0.564032\n",
      "[LightGBM] [Info] Start training from score -1.094572\n",
      "[LightGBM] [Info] Start training from score -2.339178\n",
      "[LightGBM] [Info] Start training from score -0.564032\n",
      "[LightGBM] [Info] Start training from score -1.094572\n"
     ]
    },
    {
     "data": {
      "image/png": "[encoded data removed]",
      "text/plain": [
       "<Figure size 432x288 with 1 Axes>"
      ]
     },
     "metadata": {},
     "output_type": "display_data"
    },
    {
     "name": "stdout",
     "output_type": "stream",
     "text": [
      "RESULTS KEEPING FEATURES > 70 FEATURE IMPORTANCE\n",
      "Best f1 score:           0.7415205631744528\n",
      "Best f1 score iteration: 28\n"
     ]
    }
   ],
   "source": [
    "cv_with_fi_range(70)"
   ]
  },
  {
   "cell_type": "code",
   "execution_count": 208,
   "id": "phantom-account",
   "metadata": {
    "ExecuteTime": {
     "end_time": "2021-02-26T13:38:10.015873Z",
     "start_time": "2021-02-26T13:36:01.295237Z"
    }
   },
   "outputs": [
    {
     "name": "stdout",
     "output_type": "stream",
     "text": [
      "[LightGBM] [Warning] Auto-choosing row-wise multi-threading, the overhead of testing was 0.006556 seconds.\n",
      "You can set `force_row_wise=true` to remove the overhead.\n",
      "And if memory is not enough, you can set `force_col_wise=true`.\n",
      "[LightGBM] [Info] Total Bins 10725\n",
      "[LightGBM] [Info] Number of data points in the train set: 208480, number of used features: 11\n",
      "[LightGBM] [Info] Using GOSS\n",
      "[LightGBM] [Warning] Auto-choosing row-wise multi-threading, the overhead of testing was 0.007258 seconds.\n",
      "You can set `force_row_wise=true` to remove the overhead.\n",
      "And if memory is not enough, you can set `force_col_wise=true`.\n",
      "[LightGBM] [Info] Total Bins 10725\n",
      "[LightGBM] [Info] Number of data points in the train set: 208481, number of used features: 11\n",
      "[LightGBM] [Info] Using GOSS\n",
      "[LightGBM] [Warning] Auto-choosing row-wise multi-threading, the overhead of testing was 0.005945 seconds.\n",
      "You can set `force_row_wise=true` to remove the overhead.\n",
      "And if memory is not enough, you can set `force_col_wise=true`.\n",
      "[LightGBM] [Info] Total Bins 10725\n",
      "[LightGBM] [Info] Number of data points in the train set: 208481, number of used features: 11\n",
      "[LightGBM] [Info] Using GOSS\n",
      "[LightGBM] [Warning] Auto-choosing row-wise multi-threading, the overhead of testing was 0.006699 seconds.\n",
      "You can set `force_row_wise=true` to remove the overhead.\n",
      "And if memory is not enough, you can set `force_col_wise=true`.\n",
      "[LightGBM] [Info] Total Bins 10725\n",
      "[LightGBM] [Info] Number of data points in the train set: 208481, number of used features: 11\n",
      "[LightGBM] [Info] Using GOSS\n",
      "[LightGBM] [Warning] Auto-choosing row-wise multi-threading, the overhead of testing was 0.007214 seconds.\n",
      "You can set `force_row_wise=true` to remove the overhead.\n",
      "And if memory is not enough, you can set `force_col_wise=true`.\n",
      "[LightGBM] [Info] Total Bins 10725\n",
      "[LightGBM] [Info] Number of data points in the train set: 208481, number of used features: 11\n",
      "[LightGBM] [Info] Using GOSS\n",
      "[LightGBM] [Info] Start training from score -2.339173\n",
      "[LightGBM] [Info] Start training from score -0.564028\n",
      "[LightGBM] [Info] Start training from score -1.094582\n",
      "[LightGBM] [Info] Start training from score -2.339128\n",
      "[LightGBM] [Info] Start training from score -0.564032\n",
      "[LightGBM] [Info] Start training from score -1.094586\n",
      "[LightGBM] [Info] Start training from score -2.339178\n",
      "[LightGBM] [Info] Start training from score -0.564024\n",
      "[LightGBM] [Info] Start training from score -1.094586\n",
      "[LightGBM] [Info] Start training from score -2.339178\n",
      "[LightGBM] [Info] Start training from score -0.564032\n",
      "[LightGBM] [Info] Start training from score -1.094572\n",
      "[LightGBM] [Info] Start training from score -2.339178\n",
      "[LightGBM] [Info] Start training from score -0.564032\n",
      "[LightGBM] [Info] Start training from score -1.094572\n"
     ]
    },
    {
     "data": {
      "image/png": "[encoded data removed]",
      "text/plain": [
       "<Figure size 432x288 with 1 Axes>"
      ]
     },
     "metadata": {},
     "output_type": "display_data"
    },
    {
     "name": "stdout",
     "output_type": "stream",
     "text": [
      "RESULTS KEEPING FEATURES > 100 FEATURE IMPORTANCE\n",
      "Best f1 score:           0.7407185694725376\n",
      "Best f1 score iteration: 27\n"
     ]
    }
   ],
   "source": [
    "cv_with_fi_range(100)"
   ]
  },
  {
   "cell_type": "code",
   "execution_count": 209,
   "id": "civil-technical",
   "metadata": {
    "ExecuteTime": {
     "end_time": "2021-02-26T13:40:19.770687Z",
     "start_time": "2021-02-26T13:38:10.806949Z"
    }
   },
   "outputs": [
    {
     "name": "stdout",
     "output_type": "stream",
     "text": [
      "[LightGBM] [Warning] Auto-choosing row-wise multi-threading, the overhead of testing was 0.000730 seconds.\n",
      "You can set `force_row_wise=true` to remove the overhead.\n",
      "And if memory is not enough, you can set `force_col_wise=true`.\n",
      "[LightGBM] [Info] Total Bins 10697\n",
      "[LightGBM] [Info] Number of data points in the train set: 208480, number of used features: 6\n",
      "[LightGBM] [Info] Using GOSS\n",
      "[LightGBM] [Warning] Auto-choosing row-wise multi-threading, the overhead of testing was 0.000643 seconds.\n",
      "You can set `force_row_wise=true` to remove the overhead.\n",
      "And if memory is not enough, you can set `force_col_wise=true`.\n",
      "[LightGBM] [Info] Total Bins 10697\n",
      "[LightGBM] [Info] Number of data points in the train set: 208481, number of used features: 6\n",
      "[LightGBM] [Info] Using GOSS\n",
      "[LightGBM] [Warning] Auto-choosing row-wise multi-threading, the overhead of testing was 0.000659 seconds.\n",
      "You can set `force_row_wise=true` to remove the overhead.\n",
      "And if memory is not enough, you can set `force_col_wise=true`.\n",
      "[LightGBM] [Info] Total Bins 10697\n",
      "[LightGBM] [Info] Number of data points in the train set: 208481, number of used features: 6\n",
      "[LightGBM] [Info] Using GOSS\n",
      "[LightGBM] [Warning] Auto-choosing row-wise multi-threading, the overhead of testing was 0.000668 seconds.\n",
      "You can set `force_row_wise=true` to remove the overhead.\n",
      "And if memory is not enough, you can set `force_col_wise=true`.\n",
      "[LightGBM] [Info] Total Bins 10697\n",
      "[LightGBM] [Info] Number of data points in the train set: 208481, number of used features: 6\n",
      "[LightGBM] [Info] Using GOSS\n",
      "[LightGBM] [Warning] Auto-choosing row-wise multi-threading, the overhead of testing was 0.000698 seconds.\n",
      "You can set `force_row_wise=true` to remove the overhead.\n",
      "And if memory is not enough, you can set `force_col_wise=true`.\n",
      "[LightGBM] [Info] Total Bins 10697\n",
      "[LightGBM] [Info] Number of data points in the train set: 208481, number of used features: 6\n",
      "[LightGBM] [Info] Using GOSS\n",
      "[LightGBM] [Info] Start training from score -2.339173\n",
      "[LightGBM] [Info] Start training from score -0.564028\n",
      "[LightGBM] [Info] Start training from score -1.094582\n",
      "[LightGBM] [Info] Start training from score -2.339128\n",
      "[LightGBM] [Info] Start training from score -0.564032\n",
      "[LightGBM] [Info] Start training from score -1.094586\n",
      "[LightGBM] [Info] Start training from score -2.339178\n",
      "[LightGBM] [Info] Start training from score -0.564024\n",
      "[LightGBM] [Info] Start training from score -1.094586\n",
      "[LightGBM] [Info] Start training from score -2.339178\n",
      "[LightGBM] [Info] Start training from score -0.564032\n",
      "[LightGBM] [Info] Start training from score -1.094572\n",
      "[LightGBM] [Info] Start training from score -2.339178\n",
      "[LightGBM] [Info] Start training from score -0.564032\n",
      "[LightGBM] [Info] Start training from score -1.094572\n"
     ]
    },
    {
     "data": {
      "image/png": "[encoded data removed]",
      "text/plain": [
       "<Figure size 432x288 with 1 Axes>"
      ]
     },
     "metadata": {},
     "output_type": "display_data"
    },
    {
     "name": "stdout",
     "output_type": "stream",
     "text": [
      "RESULTS KEEPING FEATURES > 200 FEATURE IMPORTANCE\n",
      "Best f1 score:           0.7316855994058219\n",
      "Best f1 score iteration: 20\n"
     ]
    }
   ],
   "source": [
    "cv_with_fi_range(200)"
   ]
  },
  {
   "cell_type": "code",
   "execution_count": 210,
   "id": "incoming-monster",
   "metadata": {
    "ExecuteTime": {
     "end_time": "2021-02-26T13:42:27.565585Z",
     "start_time": "2021-02-26T13:40:20.614626Z"
    }
   },
   "outputs": [
    {
     "name": "stdout",
     "output_type": "stream",
     "text": [
      "[LightGBM] [Warning] Auto-choosing col-wise multi-threading, the overhead of testing was 0.002333 seconds.\n",
      "You can set `force_col_wise=true` to remove the overhead.\n",
      "[LightGBM] [Info] Total Bins 10640\n",
      "[LightGBM] [Info] Number of data points in the train set: 208480, number of used features: 4\n",
      "[LightGBM] [Info] Using GOSS\n",
      "[LightGBM] [Warning] Auto-choosing col-wise multi-threading, the overhead of testing was 0.002286 seconds.\n",
      "You can set `force_col_wise=true` to remove the overhead.\n",
      "[LightGBM] [Info] Total Bins 10640\n",
      "[LightGBM] [Info] Number of data points in the train set: 208481, number of used features: 4\n",
      "[LightGBM] [Info] Using GOSS\n",
      "[LightGBM] [Warning] Auto-choosing row-wise multi-threading, the overhead of testing was 0.000574 seconds.\n",
      "You can set `force_row_wise=true` to remove the overhead.\n",
      "And if memory is not enough, you can set `force_col_wise=true`.\n",
      "[LightGBM] [Info] Total Bins 10640\n",
      "[LightGBM] [Info] Number of data points in the train set: 208481, number of used features: 4\n",
      "[LightGBM] [Info] Using GOSS\n",
      "[LightGBM] [Warning] Auto-choosing col-wise multi-threading, the overhead of testing was 0.002708 seconds.\n",
      "You can set `force_col_wise=true` to remove the overhead.\n",
      "[LightGBM] [Info] Total Bins 10640\n",
      "[LightGBM] [Info] Number of data points in the train set: 208481, number of used features: 4\n",
      "[LightGBM] [Info] Using GOSS\n",
      "[LightGBM] [Warning] Auto-choosing row-wise multi-threading, the overhead of testing was 0.000566 seconds.\n",
      "You can set `force_row_wise=true` to remove the overhead.\n",
      "And if memory is not enough, you can set `force_col_wise=true`.\n",
      "[LightGBM] [Info] Total Bins 10640\n",
      "[LightGBM] [Info] Number of data points in the train set: 208481, number of used features: 4\n",
      "[LightGBM] [Info] Using GOSS\n",
      "[LightGBM] [Info] Start training from score -2.339173\n",
      "[LightGBM] [Info] Start training from score -0.564028\n",
      "[LightGBM] [Info] Start training from score -1.094582\n",
      "[LightGBM] [Info] Start training from score -2.339128\n",
      "[LightGBM] [Info] Start training from score -0.564032\n",
      "[LightGBM] [Info] Start training from score -1.094586\n",
      "[LightGBM] [Info] Start training from score -2.339178\n",
      "[LightGBM] [Info] Start training from score -0.564024\n",
      "[LightGBM] [Info] Start training from score -1.094586\n",
      "[LightGBM] [Info] Start training from score -2.339178\n",
      "[LightGBM] [Info] Start training from score -0.564032\n",
      "[LightGBM] [Info] Start training from score -1.094572\n",
      "[LightGBM] [Info] Start training from score -2.339178\n",
      "[LightGBM] [Info] Start training from score -0.564032\n",
      "[LightGBM] [Info] Start training from score -1.094572\n"
     ]
    },
    {
     "data": {
      "image/png": "[encoded data removed]",
      "text/plain": [
       "<Figure size 432x288 with 1 Axes>"
      ]
     },
     "metadata": {},
     "output_type": "display_data"
    },
    {
     "name": "stdout",
     "output_type": "stream",
     "text": [
      "RESULTS KEEPING FEATURES > 500 FEATURE IMPORTANCE\n",
      "Best f1 score:           0.7298475424599024\n",
      "Best f1 score iteration: 20\n"
     ]
    }
   ],
   "source": [
    "cv_with_fi_range(500)"
   ]
  },
  {
   "cell_type": "code",
   "execution_count": 211,
   "id": "julian-dayton",
   "metadata": {
    "ExecuteTime": {
     "end_time": "2021-02-26T13:44:40.526023Z",
     "start_time": "2021-02-26T13:42:28.382826Z"
    }
   },
   "outputs": [
    {
     "name": "stdout",
     "output_type": "stream",
     "text": [
      "[LightGBM] [Warning] Auto-choosing col-wise multi-threading, the overhead of testing was 0.002183 seconds.\n",
      "You can set `force_col_wise=true` to remove the overhead.\n",
      "[LightGBM] [Info] Total Bins 10565\n",
      "[LightGBM] [Info] Number of data points in the train set: 208480, number of used features: 3\n",
      "[LightGBM] [Info] Using GOSS\n",
      "[LightGBM] [Warning] Auto-choosing col-wise multi-threading, the overhead of testing was 0.002906 seconds.\n",
      "You can set `force_col_wise=true` to remove the overhead.\n",
      "[LightGBM] [Info] Total Bins 10565\n",
      "[LightGBM] [Info] Number of data points in the train set: 208481, number of used features: 3\n",
      "[LightGBM] [Info] Using GOSS\n",
      "[LightGBM] [Warning] Auto-choosing row-wise multi-threading, the overhead of testing was 0.000607 seconds.\n",
      "You can set `force_row_wise=true` to remove the overhead.\n",
      "And if memory is not enough, you can set `force_col_wise=true`.\n",
      "[LightGBM] [Info] Total Bins 10565\n",
      "[LightGBM] [Info] Number of data points in the train set: 208481, number of used features: 3\n",
      "[LightGBM] [Info] Using GOSS\n",
      "[LightGBM] [Warning] Auto-choosing row-wise multi-threading, the overhead of testing was 0.000549 seconds.\n",
      "You can set `force_row_wise=true` to remove the overhead.\n",
      "And if memory is not enough, you can set `force_col_wise=true`.\n",
      "[LightGBM] [Info] Total Bins 10565\n",
      "[LightGBM] [Info] Number of data points in the train set: 208481, number of used features: 3\n",
      "[LightGBM] [Info] Using GOSS\n",
      "[LightGBM] [Warning] Auto-choosing row-wise multi-threading, the overhead of testing was 0.000618 seconds.\n",
      "You can set `force_row_wise=true` to remove the overhead.\n",
      "And if memory is not enough, you can set `force_col_wise=true`.\n",
      "[LightGBM] [Info] Total Bins 10565\n",
      "[LightGBM] [Info] Number of data points in the train set: 208481, number of used features: 3\n",
      "[LightGBM] [Info] Using GOSS\n",
      "[LightGBM] [Info] Start training from score -2.339173\n",
      "[LightGBM] [Info] Start training from score -0.564028\n",
      "[LightGBM] [Info] Start training from score -1.094582\n",
      "[LightGBM] [Info] Start training from score -2.339128\n",
      "[LightGBM] [Info] Start training from score -0.564032\n",
      "[LightGBM] [Info] Start training from score -1.094586\n",
      "[LightGBM] [Info] Start training from score -2.339178\n",
      "[LightGBM] [Info] Start training from score -0.564024\n",
      "[LightGBM] [Info] Start training from score -1.094586\n",
      "[LightGBM] [Info] Start training from score -2.339178\n",
      "[LightGBM] [Info] Start training from score -0.564032\n",
      "[LightGBM] [Info] Start training from score -1.094572\n",
      "[LightGBM] [Info] Start training from score -2.339178\n",
      "[LightGBM] [Info] Start training from score -0.564032\n",
      "[LightGBM] [Info] Start training from score -1.094572\n"
     ]
    },
    {
     "data": {
      "image/png": "[encoded data removed]",
      "text/plain": [
       "<Figure size 432x288 with 1 Axes>"
      ]
     },
     "metadata": {},
     "output_type": "display_data"
    },
    {
     "name": "stdout",
     "output_type": "stream",
     "text": [
      "RESULTS KEEPING FEATURES > 800 FEATURE IMPORTANCE\n",
      "Best f1 score:           0.7246019767774858\n",
      "Best f1 score iteration: 15\n"
     ]
    }
   ],
   "source": [
    "cv_with_fi_range(800)"
   ]
  },
  {
   "cell_type": "code",
   "execution_count": 212,
   "id": "environmental-resident",
   "metadata": {
    "ExecuteTime": {
     "end_time": "2021-02-26T13:47:04.388144Z",
     "start_time": "2021-02-26T13:44:41.344499Z"
    }
   },
   "outputs": [
    {
     "name": "stdout",
     "output_type": "stream",
     "text": [
      "[LightGBM] [Warning] Auto-choosing col-wise multi-threading, the overhead of testing was 0.001996 seconds.\n",
      "You can set `force_col_wise=true` to remove the overhead.\n",
      "[LightGBM] [Info] Total Bins 10528\n",
      "[LightGBM] [Info] Number of data points in the train set: 208480, number of used features: 2\n",
      "[LightGBM] [Info] Using GOSS\n",
      "[LightGBM] [Warning] Auto-choosing col-wise multi-threading, the overhead of testing was 0.002865 seconds.\n",
      "You can set `force_col_wise=true` to remove the overhead.\n",
      "[LightGBM] [Info] Total Bins 10528\n",
      "[LightGBM] [Info] Number of data points in the train set: 208481, number of used features: 2\n",
      "[LightGBM] [Info] Using GOSS\n",
      "[LightGBM] [Warning] Auto-choosing col-wise multi-threading, the overhead of testing was 0.002405 seconds.\n",
      "You can set `force_col_wise=true` to remove the overhead.\n",
      "[LightGBM] [Info] Total Bins 10528\n",
      "[LightGBM] [Info] Number of data points in the train set: 208481, number of used features: 2\n",
      "[LightGBM] [Info] Using GOSS\n",
      "[LightGBM] [Warning] Auto-choosing row-wise multi-threading, the overhead of testing was 0.000522 seconds.\n",
      "You can set `force_row_wise=true` to remove the overhead.\n",
      "And if memory is not enough, you can set `force_col_wise=true`.\n",
      "[LightGBM] [Info] Total Bins 10528\n",
      "[LightGBM] [Info] Number of data points in the train set: 208481, number of used features: 2\n",
      "[LightGBM] [Info] Using GOSS\n",
      "[LightGBM] [Warning] Auto-choosing row-wise multi-threading, the overhead of testing was 0.000539 seconds.\n",
      "You can set `force_row_wise=true` to remove the overhead.\n",
      "And if memory is not enough, you can set `force_col_wise=true`.\n",
      "[LightGBM] [Info] Total Bins 10528\n",
      "[LightGBM] [Info] Number of data points in the train set: 208481, number of used features: 2\n",
      "[LightGBM] [Info] Using GOSS\n",
      "[LightGBM] [Info] Start training from score -2.339173\n",
      "[LightGBM] [Info] Start training from score -0.564028\n",
      "[LightGBM] [Info] Start training from score -1.094582\n",
      "[LightGBM] [Warning] No further splits with positive gain, best gain: -inf\n",
      "[LightGBM] [Info] Start training from score -2.339128\n",
      "[LightGBM] [Info] Start training from score -0.564032\n",
      "[LightGBM] [Info] Start training from score -1.094586\n",
      "[LightGBM] [Warning] No further splits with positive gain, best gain: -inf\n",
      "[LightGBM] [Info] Start training from score -2.339178\n",
      "[LightGBM] [Info] Start training from score -0.564024\n",
      "[LightGBM] [Info] Start training from score -1.094586\n",
      "[LightGBM] [Warning] No further splits with positive gain, best gain: -inf\n",
      "[LightGBM] [Info] Start training from score -2.339178\n",
      "[LightGBM] [Info] Start training from score -0.564032\n",
      "[LightGBM] [Info] Start training from score -1.094572\n",
      "[LightGBM] [Warning] No further splits with positive gain, best gain: -inf\n",
      "[LightGBM] [Info] Start training from score -2.339178\n",
      "[LightGBM] [Info] Start training from score -0.564032\n",
      "[LightGBM] [Info] Start training from score -1.094572\n",
      "[LightGBM] [Warning] No further splits with positive gain, best gain: -inf\n",
      "[LightGBM] [Warning] No further splits with positive gain, best gain: -inf\n",
      "[LightGBM] [Warning] No further splits with positive gain, best gain: -inf\n",
      "[LightGBM] [Warning] No further splits with positive gain, best gain: -inf\n",
      "[LightGBM] [Warning] No further splits with positive gain, best gain: -inf\n",
      "[LightGBM] [Warning] No further splits with positive gain, best gain: -inf\n",
      "[LightGBM] [Warning] No further splits with positive gain, best gain: -inf\n",
      "[LightGBM] [Warning] No further splits with positive gain, best gain: -inf\n",
      "[LightGBM] [Warning] No further splits with positive gain, best gain: -inf\n",
      "[LightGBM] [Warning] No further splits with positive gain, best gain: -inf\n",
      "[LightGBM] [Warning] No further splits with positive gain, best gain: -inf\n",
      "[LightGBM] [Warning] No further splits with positive gain, best gain: -inf\n",
      "[LightGBM] [Warning] No further splits with positive gain, best gain: -inf\n",
      "[LightGBM] [Warning] No further splits with positive gain, best gain: -inf\n",
      "[LightGBM] [Warning] No further splits with positive gain, best gain: -inf\n",
      "[LightGBM] [Warning] No further splits with positive gain, best gain: -inf\n",
      "[LightGBM] [Warning] No further splits with positive gain, best gain: -inf\n",
      "[LightGBM] [Warning] No further splits with positive gain, best gain: -inf\n",
      "[LightGBM] [Warning] No further splits with positive gain, best gain: -inf\n",
      "[LightGBM] [Warning] No further splits with positive gain, best gain: -inf\n",
      "[LightGBM] [Warning] No further splits with positive gain, best gain: -inf\n",
      "[LightGBM] [Warning] No further splits with positive gain, best gain: -inf\n",
      "[LightGBM] [Warning] No further splits with positive gain, best gain: -inf\n",
      "[LightGBM] [Warning] No further splits with positive gain, best gain: -inf\n",
      "[LightGBM] [Warning] No further splits with positive gain, best gain: -inf\n",
      "[LightGBM] [Warning] No further splits with positive gain, best gain: -inf\n",
      "[LightGBM] [Warning] No further splits with positive gain, best gain: -inf\n",
      "[LightGBM] [Warning] No further splits with positive gain, best gain: -inf\n",
      "[LightGBM] [Warning] No further splits with positive gain, best gain: -inf\n",
      "[LightGBM] [Warning] No further splits with positive gain, best gain: -inf\n",
      "[LightGBM] [Warning] No further splits with positive gain, best gain: -inf\n",
      "[LightGBM] [Warning] No further splits with positive gain, best gain: -inf\n",
      "[LightGBM] [Warning] No further splits with positive gain, best gain: -inf\n",
      "[LightGBM] [Warning] No further splits with positive gain, best gain: -inf\n",
      "[LightGBM] [Warning] No further splits with positive gain, best gain: -inf\n",
      "[LightGBM] [Warning] No further splits with positive gain, best gain: -inf\n",
      "[LightGBM] [Warning] No further splits with positive gain, best gain: -inf\n",
      "[LightGBM] [Warning] No further splits with positive gain, best gain: -inf\n",
      "[LightGBM] [Warning] No further splits with positive gain, best gain: -inf\n",
      "[LightGBM] [Warning] No further splits with positive gain, best gain: -inf\n"
     ]
    },
    {
     "data": {
      "image/png": "[encoded data removed]",
      "text/plain": [
       "<Figure size 432x288 with 1 Axes>"
      ]
     },
     "metadata": {},
     "output_type": "display_data"
    },
    {
     "name": "stdout",
     "output_type": "stream",
     "text": [
      "RESULTS KEEPING FEATURES > 1000 FEATURE IMPORTANCE\n",
      "Best f1 score:           0.7156726192194934\n",
      "Best f1 score iteration: 4\n"
     ]
    }
   ],
   "source": [
    "cv_with_fi_range(1000)"
   ]
  },
  {
   "cell_type": "markdown",
   "id": "absent-ensemble",
   "metadata": {},
   "source": [
    "## Results\n",
    "\n",
    "Keeping features with importance > 20 gives the best results"
   ]
  },
  {
   "cell_type": "code",
   "execution_count": null,
   "id": "attended-cover",
   "metadata": {},
   "outputs": [],
   "source": []
  },
  {
   "cell_type": "code",
   "execution_count": null,
   "id": "chubby-carolina",
   "metadata": {},
   "outputs": [],
   "source": []
  },
  {
   "cell_type": "code",
   "execution_count": null,
   "id": "religious-prototype",
   "metadata": {},
   "outputs": [],
   "source": []
  },
  {
   "cell_type": "code",
   "execution_count": null,
   "id": "lesbian-contamination",
   "metadata": {},
   "outputs": [],
   "source": []
  },
  {
   "cell_type": "code",
   "execution_count": null,
   "id": "clear-holocaust",
   "metadata": {},
   "outputs": [],
   "source": []
  },
  {
   "cell_type": "code",
   "execution_count": null,
   "id": "tutorial-average",
   "metadata": {},
   "outputs": [],
   "source": []
  }
 ],
 "metadata": {
  "kernelspec": {
   "display_name": "Python 3",
   "language": "python",
   "name": "python3"
  },
  "language_info": {
   "codemirror_mode": {
    "name": "ipython",
    "version": 3
   },
   "file_extension": ".py",
   "mimetype": "text/x-python",
   "name": "python",
   "nbconvert_exporter": "python",
   "pygments_lexer": "ipython3",
   "version": "3.7.9"
  },
  "toc": {
   "base_numbering": 1,
   "nav_menu": {},
   "number_sections": true,
   "sideBar": true,
   "skip_h1_title": false,
   "title_cell": "Table of Contents",
   "title_sidebar": "Contents",
   "toc_cell": false,
   "toc_position": {},
   "toc_section_display": true,
   "toc_window_display": false
  },
  "varInspector": {
   "cols": {
    "lenName": 16,
    "lenType": 16,
    "lenVar": 40
   },
   "kernels_config": {
    "python": {
     "delete_cmd_postfix": "",
     "delete_cmd_prefix": "del ",
     "library": "var_list.py",
     "varRefreshCmd": "print(var_dic_list())"
    },
    "r": {
     "delete_cmd_postfix": ") ",
     "delete_cmd_prefix": "rm(",
     "library": "var_list.r",
     "varRefreshCmd": "cat(var_dic_list()) "
    }
   },
   "types_to_exclude": [
    "module",
    "function",
    "builtin_function_or_method",
    "instance",
    "_Feature"
   ],
   "window_display": false
  }
 },
 "nbformat": 4,
 "nbformat_minor": 5
}
