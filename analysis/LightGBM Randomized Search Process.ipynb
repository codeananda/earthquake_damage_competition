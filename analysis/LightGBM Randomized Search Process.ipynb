{
 "cells": [
  {
   "cell_type": "markdown",
   "metadata": {},
   "source": [
    "# Mac CPU Test"
   ]
  },
  {
   "cell_type": "code",
   "execution_count": 1,
   "metadata": {
    "ExecuteTime": {
     "end_time": "2021-02-02T22:42:53.257111Z",
     "start_time": "2021-02-02T22:42:50.417710Z"
    }
   },
   "outputs": [],
   "source": [
    "import matplotlib.pyplot as plt\n",
    "import seaborn as sns\n",
    "import numpy as np\n",
    "import pandas as pd\n",
    "from pathlib import Path\n",
    "import lightgbm as lgb\n",
    "from sklearn.metrics import mean_squared_error\n",
    "from sklearn.model_selection import train_test_split\n",
    "from sklearn.metrics import f1_score\n",
    "from sklearn.model_selection import RandomizedSearchCV\n",
    "from sklearn.pipeline import Pipeline\n",
    "from sklearn.preprocessing import StandardScaler\n",
    "from sklearn.model_selection import GridSearchCV\n",
    "from lightgbm import LGBMClassifier\n",
    "import pickle\n",
    "from pprint import pprint\n",
    "\n",
    "############ USE FOR GOOGLE COLAB ############\n",
    "# DATA_DIR = Path('/content/drive/MyDrive/Work/Delivery/Current/Earthquake_damage/data')\n",
    "# SUBMISSIONS_DIR = Path('drive/MyDrive/Work/Delivery/Current/Earthquake_damage/submissions'\n",
    "# MODEL_DIR = Path('/content/drive/MyDrive/Work/Delivery/Current/Earthquake_damage/models')\n",
    "\n",
    "# from google.colab import drive\n",
    "# drive.mount('/content/drive')\n",
    "#############################################\n",
    "\n",
    "\n",
    "### USE FOR LOCAL JUPYTER NOTEBOOKS ###\n",
    "DATA_DIR = Path('data')\n",
    "SUBMISSIONS_DIR = Path('submissions')\n",
    "MODEL_DIR = Path('models')\n",
    "#######################################\n",
    "\n",
    "# The code runs the same if working on Jupyter or Colab, just need to change the \n",
    "# dirs above\n",
    "\n",
    "X = pd.read_csv(DATA_DIR / 'train_values.csv', index_col='building_id')\n",
    "\n",
    "categorical_columns = X.select_dtypes(include='object').columns\n",
    "bool_columns = [col for col in X.columns if col.startswith('has')]\n",
    "X[categorical_columns] = X[categorical_columns].astype('category')\n",
    "X[bool_columns] = X[bool_columns].astype('bool')\n",
    "\n",
    "X = pd.get_dummies(X)\n",
    "y = pd.read_csv(DATA_DIR / 'train_labels.csv', index_col='building_id')"
   ]
  },
  {
   "cell_type": "code",
   "execution_count": 2,
   "metadata": {
    "ExecuteTime": {
     "end_time": "2021-02-02T22:42:53.261631Z",
     "start_time": "2021-02-02T22:42:53.258627Z"
    }
   },
   "outputs": [],
   "source": [
    "sns.set()"
   ]
  },
  {
   "cell_type": "code",
   "execution_count": 3,
   "metadata": {
    "ExecuteTime": {
     "end_time": "2021-02-02T22:42:53.268737Z",
     "start_time": "2021-02-02T22:42:53.264413Z"
    }
   },
   "outputs": [],
   "source": [
    "most_important_features = ['geo_level_1_id', 'geo_level_2_id', 'geo_level_3_id', \n",
    "                           'count_floors_pre_eq', 'age'\t, 'area_percentage'\t, \n",
    "                           'height_percentage', \n",
    "                           'has_superstructure_mud_mortar_stone',\n",
    "                           'has_superstructure_stone_flag', \n",
    "                           'has_superstructure_mud_mortar_brick',\n",
    "                           'has_superstructure_cement_mortar_brick',\n",
    "                           'has_superstructure_timber', 'count_families',\n",
    "                           'other_floor_type_q']"
   ]
  },
  {
   "cell_type": "code",
   "execution_count": 4,
   "metadata": {
    "ExecuteTime": {
     "end_time": "2021-02-02T22:42:53.275846Z",
     "start_time": "2021-02-02T22:42:53.270375Z"
    }
   },
   "outputs": [],
   "source": [
    "def make_submission_top_14_features(pipeline, title):\n",
    "    \"\"\"\n",
    "    Given a trained pipeline object, use it to make predictions on the \n",
    "    submission test set 'test_values.csv' and write them a csv in the submissions\n",
    "    folder.\n",
    "    \"\"\"\n",
    "    # Read in test_values csv and apply data preprocessing\n",
    "    # note: will create a data preprocessing pipeline or function in future\n",
    "    test_values = pd.read_csv(DATA_DIR / 'test_values.csv', index_col='building_id')\n",
    "    test_values[categorical_columns] = test_values[categorical_columns].astype('category')\n",
    "    test_values[bool_columns] = test_values[bool_columns].astype('bool')\n",
    "    test_values = pd.get_dummies(test_values)\n",
    "    test_values = test_values[most_important_features]\n",
    "\n",
    "    # Generate predictions using pipeline we pass in\n",
    "    predictions = pipeline.predict(test_values)\n",
    "\n",
    "    submission_format = pd.read_csv(DATA_DIR / 'submission_format.csv',\n",
    "                                    index_col='building_id')\n",
    "\n",
    "    my_submission = pd.DataFrame(data=predictions,\n",
    "                                columns=submission_format.columns,\n",
    "                                index=submission_format.index)\n",
    "    \n",
    "    my_submission.to_csv(SUBMISSIONS_DIR / f'{title}.csv')"
   ]
  },
  {
   "cell_type": "code",
   "execution_count": 5,
   "metadata": {
    "ExecuteTime": {
     "end_time": "2021-02-02T22:42:53.280128Z",
     "start_time": "2021-02-02T22:42:53.277795Z"
    }
   },
   "outputs": [],
   "source": [
    "class_weights = {1: 0.1,\n",
    "                 2: 0.57,\n",
    "                 3: 0.33}"
   ]
  },
  {
   "cell_type": "code",
   "execution_count": 6,
   "metadata": {
    "ExecuteTime": {
     "end_time": "2021-02-02T22:42:53.285206Z",
     "start_time": "2021-02-02T22:42:53.281540Z"
    }
   },
   "outputs": [],
   "source": [
    "steps = [('scaler', StandardScaler()),\n",
    "         ('lgbm', LGBMClassifier(random_state=42, boosting_type='goss',\n",
    "                                 class_weight=class_weights))]\n",
    "\n",
    "pipe = Pipeline(steps)"
   ]
  },
  {
   "cell_type": "code",
   "execution_count": 7,
   "metadata": {
    "ExecuteTime": {
     "end_time": "2021-02-02T22:42:53.289154Z",
     "start_time": "2021-02-02T22:42:53.286596Z"
    }
   },
   "outputs": [],
   "source": [
    "param_dist = {'lgbm__n_estimators': np.arange(200, 410, 10),\n",
    "              'lgbm__num_leaves': np.arange(60, 130, 10),\n",
    "#               'lgbm__boosting_type': ['goss'],\n",
    "              'lgbm__learning_rate': [0.1, 0.2, 0.25, 0.3],\n",
    "              'lgbm__min_child_samples': np.arange(30, 110, 10)}"
   ]
  },
  {
   "cell_type": "markdown",
   "metadata": {},
   "source": [
    "I want to check how things change with lower number of estimators and how that is impacted by the learning rate e.g. set num estimators to 50 and learning rate to 5 or (100 and 2)."
   ]
  },
  {
   "cell_type": "code",
   "execution_count": 8,
   "metadata": {
    "ExecuteTime": {
     "end_time": "2021-02-02T22:42:53.293617Z",
     "start_time": "2021-02-02T22:42:53.291376Z"
    }
   },
   "outputs": [],
   "source": [
    "rs = RandomizedSearchCV(pipe, param_dist, n_iter=2500, cv=2, verbose=10, \n",
    "                        n_jobs=-1, scoring='f1_micro', random_state=42)"
   ]
  },
  {
   "cell_type": "code",
   "execution_count": 9,
   "metadata": {
    "ExecuteTime": {
     "end_time": "2021-02-03T17:13:39.161772Z",
     "start_time": "2021-02-02T22:42:53.295297Z"
    }
   },
   "outputs": [
    {
     "name": "stdout",
     "output_type": "stream",
     "text": [
      "Fitting 2 folds for each of 2500 candidates, totalling 5000 fits\n"
     ]
    },
    {
     "name": "stderr",
     "output_type": "stream",
     "text": [
      "[Parallel(n_jobs=-1)]: Using backend LokyBackend with 8 concurrent workers.\n",
      "[Parallel(n_jobs=-1)]: Done   2 tasks      | elapsed:  1.2min\n",
      "[Parallel(n_jobs=-1)]: Done   9 tasks      | elapsed:  2.7min\n",
      "[Parallel(n_jobs=-1)]: Done  16 tasks      | elapsed:  4.2min\n",
      "[Parallel(n_jobs=-1)]: Done  25 tasks      | elapsed:  6.7min\n",
      "[Parallel(n_jobs=-1)]: Done  34 tasks      | elapsed:  8.9min\n",
      "[Parallel(n_jobs=-1)]: Done  45 tasks      | elapsed: 11.0min\n",
      "[Parallel(n_jobs=-1)]: Done  56 tasks      | elapsed: 14.1min\n",
      "[Parallel(n_jobs=-1)]: Done  69 tasks      | elapsed: 17.4min\n",
      "[Parallel(n_jobs=-1)]: Done  82 tasks      | elapsed: 20.9min\n",
      "[Parallel(n_jobs=-1)]: Done  97 tasks      | elapsed: 23.8min\n",
      "[Parallel(n_jobs=-1)]: Done 112 tasks      | elapsed: 27.0min\n",
      "[Parallel(n_jobs=-1)]: Done 129 tasks      | elapsed: 30.3min\n",
      "[Parallel(n_jobs=-1)]: Done 146 tasks      | elapsed: 34.1min\n",
      "[Parallel(n_jobs=-1)]: Done 165 tasks      | elapsed: 38.4min\n",
      "[Parallel(n_jobs=-1)]: Done 184 tasks      | elapsed: 41.9min\n",
      "[Parallel(n_jobs=-1)]: Done 205 tasks      | elapsed: 45.8min\n",
      "[Parallel(n_jobs=-1)]: Done 226 tasks      | elapsed: 49.3min\n",
      "[Parallel(n_jobs=-1)]: Done 249 tasks      | elapsed: 54.3min\n",
      "[Parallel(n_jobs=-1)]: Done 272 tasks      | elapsed: 59.3min\n",
      "[Parallel(n_jobs=-1)]: Done 297 tasks      | elapsed: 65.9min\n",
      "[Parallel(n_jobs=-1)]: Done 322 tasks      | elapsed: 71.6min\n",
      "[Parallel(n_jobs=-1)]: Done 349 tasks      | elapsed: 76.9min\n",
      "[Parallel(n_jobs=-1)]: Done 376 tasks      | elapsed: 82.0min\n",
      "[Parallel(n_jobs=-1)]: Done 405 tasks      | elapsed: 88.5min\n",
      "[Parallel(n_jobs=-1)]: Done 434 tasks      | elapsed: 94.3min\n",
      "[Parallel(n_jobs=-1)]: Done 465 tasks      | elapsed: 101.0min\n",
      "[Parallel(n_jobs=-1)]: Done 496 tasks      | elapsed: 107.2min\n",
      "[Parallel(n_jobs=-1)]: Done 529 tasks      | elapsed: 115.0min\n",
      "[Parallel(n_jobs=-1)]: Done 562 tasks      | elapsed: 122.9min\n",
      "[Parallel(n_jobs=-1)]: Done 597 tasks      | elapsed: 130.2min\n",
      "[Parallel(n_jobs=-1)]: Done 632 tasks      | elapsed: 138.3min\n",
      "[Parallel(n_jobs=-1)]: Done 669 tasks      | elapsed: 146.7min\n",
      "[Parallel(n_jobs=-1)]: Done 706 tasks      | elapsed: 154.4min\n",
      "[Parallel(n_jobs=-1)]: Done 745 tasks      | elapsed: 162.8min\n",
      "[Parallel(n_jobs=-1)]: Done 784 tasks      | elapsed: 171.9min\n",
      "[Parallel(n_jobs=-1)]: Done 825 tasks      | elapsed: 179.7min\n",
      "[Parallel(n_jobs=-1)]: Done 866 tasks      | elapsed: 187.7min\n",
      "[Parallel(n_jobs=-1)]: Done 909 tasks      | elapsed: 197.5min\n",
      "[Parallel(n_jobs=-1)]: Done 952 tasks      | elapsed: 208.4min\n",
      "[Parallel(n_jobs=-1)]: Done 997 tasks      | elapsed: 217.7min\n",
      "[Parallel(n_jobs=-1)]: Done 1042 tasks      | elapsed: 229.1min\n",
      "[Parallel(n_jobs=-1)]: Done 1089 tasks      | elapsed: 239.2min\n",
      "[Parallel(n_jobs=-1)]: Done 1136 tasks      | elapsed: 249.1min\n",
      "[Parallel(n_jobs=-1)]: Done 1185 tasks      | elapsed: 259.0min\n",
      "[Parallel(n_jobs=-1)]: Done 1234 tasks      | elapsed: 270.8min\n",
      "[Parallel(n_jobs=-1)]: Done 1285 tasks      | elapsed: 281.5min\n",
      "[Parallel(n_jobs=-1)]: Done 1336 tasks      | elapsed: 292.0min\n",
      "[Parallel(n_jobs=-1)]: Done 1389 tasks      | elapsed: 303.0min\n",
      "[Parallel(n_jobs=-1)]: Done 1442 tasks      | elapsed: 315.8min\n",
      "[Parallel(n_jobs=-1)]: Done 1497 tasks      | elapsed: 327.3min\n",
      "[Parallel(n_jobs=-1)]: Done 1552 tasks      | elapsed: 339.0min\n",
      "[Parallel(n_jobs=-1)]: Done 1609 tasks      | elapsed: 354.2min\n",
      "[Parallel(n_jobs=-1)]: Done 1666 tasks      | elapsed: 367.8min\n",
      "[Parallel(n_jobs=-1)]: Done 1725 tasks      | elapsed: 380.7min\n",
      "[Parallel(n_jobs=-1)]: Done 1784 tasks      | elapsed: 392.3min\n",
      "[Parallel(n_jobs=-1)]: Done 1845 tasks      | elapsed: 403.5min\n",
      "[Parallel(n_jobs=-1)]: Done 1906 tasks      | elapsed: 415.7min\n",
      "[Parallel(n_jobs=-1)]: Done 1969 tasks      | elapsed: 430.0min\n",
      "[Parallel(n_jobs=-1)]: Done 2032 tasks      | elapsed: 442.8min\n",
      "[Parallel(n_jobs=-1)]: Done 2097 tasks      | elapsed: 457.1min\n",
      "[Parallel(n_jobs=-1)]: Done 2162 tasks      | elapsed: 471.0min\n",
      "[Parallel(n_jobs=-1)]: Done 2229 tasks      | elapsed: 485.6min\n",
      "[Parallel(n_jobs=-1)]: Done 2296 tasks      | elapsed: 500.4min\n",
      "[Parallel(n_jobs=-1)]: Done 2365 tasks      | elapsed: 515.3min\n",
      "[Parallel(n_jobs=-1)]: Done 2434 tasks      | elapsed: 530.9min\n",
      "[Parallel(n_jobs=-1)]: Done 2505 tasks      | elapsed: 547.1min\n",
      "[Parallel(n_jobs=-1)]: Done 2576 tasks      | elapsed: 562.9min\n",
      "[Parallel(n_jobs=-1)]: Done 2649 tasks      | elapsed: 578.1min\n",
      "[Parallel(n_jobs=-1)]: Done 2722 tasks      | elapsed: 594.9min\n",
      "[Parallel(n_jobs=-1)]: Done 2797 tasks      | elapsed: 611.6min\n",
      "[Parallel(n_jobs=-1)]: Done 2872 tasks      | elapsed: 628.4min\n",
      "[Parallel(n_jobs=-1)]: Done 2949 tasks      | elapsed: 644.9min\n",
      "[Parallel(n_jobs=-1)]: Done 3026 tasks      | elapsed: 661.9min\n",
      "[Parallel(n_jobs=-1)]: Done 3105 tasks      | elapsed: 678.0min\n",
      "[Parallel(n_jobs=-1)]: Done 3184 tasks      | elapsed: 692.5min\n",
      "[Parallel(n_jobs=-1)]: Done 3265 tasks      | elapsed: 710.7min\n",
      "[Parallel(n_jobs=-1)]: Done 3346 tasks      | elapsed: 726.7min\n",
      "[Parallel(n_jobs=-1)]: Done 3429 tasks      | elapsed: 746.2min\n",
      "[Parallel(n_jobs=-1)]: Done 3512 tasks      | elapsed: 765.6min\n",
      "[Parallel(n_jobs=-1)]: Done 3597 tasks      | elapsed: 786.3min\n",
      "[Parallel(n_jobs=-1)]: Done 3682 tasks      | elapsed: 805.9min\n",
      "[Parallel(n_jobs=-1)]: Done 3769 tasks      | elapsed: 828.6min\n",
      "[Parallel(n_jobs=-1)]: Done 3856 tasks      | elapsed: 848.8min\n",
      "[Parallel(n_jobs=-1)]: Done 3945 tasks      | elapsed: 871.1min\n",
      "[Parallel(n_jobs=-1)]: Done 4034 tasks      | elapsed: 890.6min\n",
      "[Parallel(n_jobs=-1)]: Done 4125 tasks      | elapsed: 910.8min\n",
      "[Parallel(n_jobs=-1)]: Done 4216 tasks      | elapsed: 930.5min\n",
      "[Parallel(n_jobs=-1)]: Done 4309 tasks      | elapsed: 950.4min\n",
      "[Parallel(n_jobs=-1)]: Done 4402 tasks      | elapsed: 969.2min\n",
      "[Parallel(n_jobs=-1)]: Done 4497 tasks      | elapsed: 994.6min\n",
      "[Parallel(n_jobs=-1)]: Done 4592 tasks      | elapsed: 1018.9min\n",
      "[Parallel(n_jobs=-1)]: Done 4689 tasks      | elapsed: 1040.0min\n",
      "[Parallel(n_jobs=-1)]: Done 4786 tasks      | elapsed: 1060.8min\n",
      "[Parallel(n_jobs=-1)]: Done 4885 tasks      | elapsed: 1084.3min\n",
      "[Parallel(n_jobs=-1)]: Done 4984 tasks      | elapsed: 1107.5min\n",
      "[Parallel(n_jobs=-1)]: Done 5000 out of 5000 | elapsed: 1110.4min finished\n"
     ]
    },
    {
     "data": {
      "text/plain": [
       "RandomizedSearchCV(cv=2,\n",
       "                   estimator=Pipeline(steps=[('scaler', StandardScaler()),\n",
       "                                             ('lgbm',\n",
       "                                              LGBMClassifier(boosting_type='goss',\n",
       "                                                             class_weight={1: 0.1,\n",
       "                                                                           2: 0.57,\n",
       "                                                                           3: 0.33},\n",
       "                                                             random_state=42))]),\n",
       "                   n_iter=2500, n_jobs=-1,\n",
       "                   param_distributions={'lgbm__learning_rate': [0.1, 0.2, 0.25,\n",
       "                                                                0.3],\n",
       "                                        'lgbm__min_child_samples': array([ 30,  40,  50,  60,  70,  80,  90, 100]),\n",
       "                                        'lgbm__n_estimators': array([200, 210, 220, 230, 240, 250, 260, 270, 280, 290, 300, 310, 320,\n",
       "       330, 340, 350, 360, 370, 380, 390, 400]),\n",
       "                                        'lgbm__num_leaves': array([ 60,  70,  80,  90, 100, 110, 120])},\n",
       "                   random_state=42, scoring='f1_micro', verbose=10)"
      ]
     },
     "execution_count": 9,
     "metadata": {},
     "output_type": "execute_result"
    }
   ],
   "source": [
    "rs.fit(X[most_important_features], np.ravel(y))"
   ]
  },
  {
   "cell_type": "code",
   "execution_count": 10,
   "metadata": {
    "ExecuteTime": {
     "end_time": "2021-02-03T17:13:39.181425Z",
     "start_time": "2021-02-03T17:13:39.168495Z"
    }
   },
   "outputs": [
    {
     "data": {
      "text/plain": [
       "{'lgbm__num_leaves': 120,\n",
       " 'lgbm__n_estimators': 400,\n",
       " 'lgbm__min_child_samples': 70,\n",
       " 'lgbm__learning_rate': 0.1}"
      ]
     },
     "execution_count": 10,
     "metadata": {},
     "output_type": "execute_result"
    }
   ],
   "source": [
    "# Using print isn't as pretty\n",
    "rs.best_params_"
   ]
  },
  {
   "cell_type": "code",
   "execution_count": 11,
   "metadata": {
    "ExecuteTime": {
     "end_time": "2021-02-03T17:13:52.103423Z",
     "start_time": "2021-02-03T17:13:39.183865Z"
    }
   },
   "outputs": [
    {
     "name": "stdout",
     "output_type": "stream",
     "text": [
      "Best score: 0.714406314099953\n",
      "F1 score entire dataset: 0.7507453923814568\n"
     ]
    }
   ],
   "source": [
    "print('Best score:', rs.best_score_)\n",
    "\n",
    "y_pred = rs.predict(X[most_important_features])\n",
    "f1 = f1_score(y, y_pred, average='micro')\n",
    "print('F1 score entire dataset:', f1)"
   ]
  },
  {
   "cell_type": "code",
   "execution_count": 12,
   "metadata": {
    "ExecuteTime": {
     "end_time": "2021-02-03T17:13:56.900654Z",
     "start_time": "2021-02-03T17:13:52.105398Z"
    }
   },
   "outputs": [
    {
     "name": "stdout",
     "output_type": "stream",
     "text": [
      "Creating submission csv...\n",
      "Writing model to hard drive...\n",
      "Finished\n"
     ]
    }
   ],
   "source": [
    "print('Creating submission csv...')\n",
    "make_submission_top_14_features(rs, '0202 LightGBM GOSS Random Search')\n",
    "\n",
    "print('Writing model to hard drive...')\n",
    "pkl_filename = MODEL_DIR / '0202 LightGBM GOSS Random Search.pkl'\n",
    "with open(pkl_filename, 'wb') as f:\n",
    "    pickle.dump(rs, f)\n",
    "\n",
    "print('Finished')"
   ]
  }
 ],
 "metadata": {
  "kernelspec": {
   "display_name": "Python 3",
   "language": "python",
   "name": "python3"
  },
  "language_info": {
   "codemirror_mode": {
    "name": "ipython",
    "version": 3
   },
   "file_extension": ".py",
   "mimetype": "text/x-python",
   "name": "python",
   "nbconvert_exporter": "python",
   "pygments_lexer": "ipython3",
   "version": "3.7.9"
  },
  "toc": {
   "base_numbering": 1,
   "nav_menu": {},
   "number_sections": true,
   "sideBar": true,
   "skip_h1_title": false,
   "title_cell": "Table of Contents",
   "title_sidebar": "Contents",
   "toc_cell": false,
   "toc_position": {},
   "toc_section_display": true,
   "toc_window_display": false
  },
  "varInspector": {
   "cols": {
    "lenName": 16,
    "lenType": 16,
    "lenVar": 40
   },
   "kernels_config": {
    "python": {
     "delete_cmd_postfix": "",
     "delete_cmd_prefix": "del ",
     "library": "var_list.py",
     "varRefreshCmd": "print(var_dic_list())"
    },
    "r": {
     "delete_cmd_postfix": ") ",
     "delete_cmd_prefix": "rm(",
     "library": "var_list.r",
     "varRefreshCmd": "cat(var_dic_list()) "
    }
   },
   "types_to_exclude": [
    "module",
    "function",
    "builtin_function_or_method",
    "instance",
    "_Feature"
   ],
   "window_display": false
  }
 },
 "nbformat": 4,
 "nbformat_minor": 4
}
