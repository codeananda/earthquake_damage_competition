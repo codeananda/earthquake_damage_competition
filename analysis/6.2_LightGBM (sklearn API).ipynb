{
 "cells": [
  {
   "cell_type": "markdown",
   "metadata": {
    "id": "8MDnu2ljxyf5"
   },
   "source": [
    "# LightGBM Models"
   ]
  },
  {
   "cell_type": "code",
   "execution_count": 1,
   "metadata": {
    "colab": {
     "base_uri": "https://localhost:8080/"
    },
    "executionInfo": {
     "elapsed": 27066,
     "status": "ok",
     "timestamp": 1612214750851,
     "user": {
      "displayName": "Adam Murphy",
      "photoUrl": "https://lh3.googleusercontent.com/a-/AOh14GhrEUWR1gM_kMZc1JaOXZTsyHAIY7wGzIWe3pircVE=s64",
      "userId": "08787610892899884155"
     },
     "user_tz": 0
    },
    "id": "Lh1y-fapw2h7",
    "outputId": "5e8e8973-e0de-4d86-c2c7-4097d2b6f165"
   },
   "outputs": [
    {
     "name": "stdout",
     "output_type": "stream",
     "text": [
      "Mounted at /content/drive\n"
     ]
    }
   ],
   "source": [
    "import matplotlib.pyplot as plt\n",
    "import seaborn as sns\n",
    "import numpy as np\n",
    "import pandas as pd\n",
    "from pathlib import Path\n",
    "import lightgbm as lgb\n",
    "from sklearn.metrics import mean_squared_error\n",
    "from sklearn.model_selection import train_test_split\n",
    "from sklearn.metrics import f1_score\n",
    "\n",
    "DATA_DIR = Path(\"/content/drive/MyDrive/Work/Delivery/Current/Earthquake_damage/data\")\n",
    "SUBMISSIONS_DIR = Path(\n",
    "    \"drive/MyDrive/Work/Delivery/Current/Earthquake_damage/submissions\"\n",
    ")\n",
    "\n",
    "from google.colab import drive\n",
    "\n",
    "drive.mount(\"/content/drive\")\n",
    "\n",
    "train_values = pd.read_csv(DATA_DIR / \"train_values.csv\", index_col=\"building_id\")\n",
    "train_labels = pd.read_csv(DATA_DIR / \"train_labels.csv\", index_col=\"building_id\")"
   ]
  },
  {
   "cell_type": "code",
   "execution_count": null,
   "metadata": {
    "id": "jkdc9URU2Wq2"
   },
   "outputs": [],
   "source": [
    "import lightgbm as lgb\n",
    "from sklearn.metrics import mean_squared_error\n",
    "from sklearn.model_selection import train_test_split\n",
    "from sklearn.metrics import f1_score"
   ]
  },
  {
   "cell_type": "code",
   "execution_count": null,
   "metadata": {
    "id": "iJiwNPsaxiVV"
   },
   "outputs": [],
   "source": [
    "sns.set()"
   ]
  },
  {
   "cell_type": "markdown",
   "metadata": {
    "id": "KzI95tKCxxSE"
   },
   "source": [
    "## Getting Set Up\n"
   ]
  },
  {
   "cell_type": "code",
   "execution_count": null,
   "metadata": {
    "colab": {
     "base_uri": "https://localhost:8080/"
    },
    "executionInfo": {
     "elapsed": 18815,
     "status": "ok",
     "timestamp": 1611766697246,
     "user": {
      "displayName": "Adam Murphy",
      "photoUrl": "https://lh3.googleusercontent.com/a-/AOh14GhrEUWR1gM_kMZc1JaOXZTsyHAIY7wGzIWe3pircVE=s64",
      "userId": "08787610892899884155"
     },
     "user_tz": 0
    },
    "id": "p5tYBGRTx1f5",
    "outputId": "4a5ada2d-4b62-423a-d289-17d9d1b4b2c6"
   },
   "outputs": [
    {
     "name": "stdout",
     "output_type": "stream",
     "text": [
      "Cloning into 'LightGBM'...\n",
      "remote: Enumerating objects: 102, done.\u001b[K\n",
      "remote: Counting objects: 100% (102/102), done.\u001b[K\n",
      "remote: Compressing objects: 100% (72/72), done.\u001b[K\n",
      "remote: Total 21077 (delta 64), reused 50 (delta 29), pack-reused 20975\u001b[K\n",
      "Receiving objects: 100% (21077/21077), 16.66 MiB | 29.12 MiB/s, done.\n",
      "Resolving deltas: 100% (15413/15413), done.\n",
      "Submodule 'include/boost/compute' (https://github.com/boostorg/compute) registered for path 'external_libs/compute'\n",
      "Submodule 'eigen' (https://gitlab.com/libeigen/eigen.git) registered for path 'external_libs/eigen'\n",
      "Submodule 'external_libs/fast_double_parser' (https://github.com/lemire/fast_double_parser.git) registered for path 'external_libs/fast_double_parser'\n",
      "Submodule 'external_libs/fmt' (https://github.com/fmtlib/fmt.git) registered for path 'external_libs/fmt'\n",
      "Cloning into '/content/LightGBM/external_libs/compute'...\n",
      "remote: Enumerating objects: 21728, done.        \n",
      "remote: Total 21728 (delta 0), reused 0 (delta 0), pack-reused 21728        \n",
      "Receiving objects: 100% (21728/21728), 8.51 MiB | 28.20 MiB/s, done.\n",
      "Resolving deltas: 100% (17566/17566), done.\n",
      "Cloning into '/content/LightGBM/external_libs/eigen'...\n",
      "remote: Enumerating objects: 779, done.        \n",
      "remote: Counting objects: 100% (779/779), done.        \n",
      "remote: Compressing objects: 100% (399/399), done.        \n",
      "remote: Total 108082 (delta 539), reused 574 (delta 373), pack-reused 107303        \n",
      "Receiving objects: 100% (108082/108082), 102.21 MiB | 27.99 MiB/s, done.\n",
      "Resolving deltas: 100% (88382/88382), done.\n",
      "Cloning into '/content/LightGBM/external_libs/fast_double_parser'...\n",
      "remote: Enumerating objects: 150, done.        \n",
      "remote: Counting objects: 100% (150/150), done.        \n",
      "remote: Compressing objects: 100% (93/93), done.        \n",
      "remote: Total 650 (delta 72), reused 84 (delta 33), pack-reused 500        \n",
      "Receiving objects: 100% (650/650), 793.70 KiB | 20.89 MiB/s, done.\n",
      "Resolving deltas: 100% (326/326), done.\n",
      "Cloning into '/content/LightGBM/external_libs/fmt'...\n",
      "remote: Enumerating objects: 24, done.        \n",
      "remote: Counting objects: 100% (24/24), done.        \n",
      "remote: Compressing objects: 100% (16/16), done.        \n",
      "remote: Total 24425 (delta 8), reused 12 (delta 6), pack-reused 24401        \n",
      "Receiving objects: 100% (24425/24425), 12.05 MiB | 26.55 MiB/s, done.\n",
      "Resolving deltas: 100% (16542/16542), done.\n",
      "Submodule path 'external_libs/compute': checked out '36c89134d4013b2e5e45bc55656a18bd6141995a'\n",
      "Submodule path 'external_libs/eigen': checked out '8ba1b0f41a7950dc3e1d4ed75859e36c73311235'\n",
      "Submodule path 'external_libs/fast_double_parser': checked out 'ace60646c02dc54c57f19d644e49a61e7e7758ec'\n",
      "Submodule 'benchmark/dependencies/abseil-cpp' (https://github.com/abseil/abseil-cpp.git) registered for path 'external_libs/fast_double_parser/benchmarks/dependencies/abseil-cpp'\n",
      "Submodule 'benchmark/dependencies/double-conversion' (https://github.com/google/double-conversion.git) registered for path 'external_libs/fast_double_parser/benchmarks/dependencies/double-conversion'\n",
      "Cloning into '/content/LightGBM/external_libs/fast_double_parser/benchmarks/dependencies/abseil-cpp'...\n",
      "remote: Enumerating objects: 10, done.        \n",
      "remote: Counting objects: 100% (10/10), done.        \n",
      "remote: Compressing objects: 100% (10/10), done.        \n",
      "remote: Total 13679 (delta 0), reused 10 (delta 0), pack-reused 13669        \n",
      "Receiving objects: 100% (13679/13679), 8.83 MiB | 23.80 MiB/s, done.\n",
      "Resolving deltas: 100% (10402/10402), done.\n",
      "Cloning into '/content/LightGBM/external_libs/fast_double_parser/benchmarks/dependencies/double-conversion'...\n",
      "remote: Enumerating objects: 33, done.        \n",
      "remote: Counting objects: 100% (33/33), done.        \n",
      "remote: Compressing objects: 100% (24/24), done.        \n",
      "remote: Total 1189 (delta 15), reused 19 (delta 9), pack-reused 1156        \n",
      "Receiving objects: 100% (1189/1189), 7.05 MiB | 23.15 MiB/s, done.\n",
      "Resolving deltas: 100% (787/787), done.\n",
      "Submodule path 'external_libs/fast_double_parser/benchmarks/dependencies/abseil-cpp': checked out 'd936052d32a5b7ca08b0199a6724724aea432309'\n",
      "Submodule path 'external_libs/fast_double_parser/benchmarks/dependencies/double-conversion': checked out 'f4cb2384efa55dee0e6652f8674b05763441ab09'\n",
      "Submodule path 'external_libs/fmt': checked out 'cc09f1a6798c085c325569ef466bcdcffdc266d4'\n"
     ]
    }
   ],
   "source": [
    "!git clone --recursive https://github.com/Microsoft/LightGBM"
   ]
  },
  {
   "cell_type": "code",
   "execution_count": null,
   "metadata": {
    "colab": {
     "base_uri": "https://localhost:8080/"
    },
    "executionInfo": {
     "elapsed": 994,
     "status": "ok",
     "timestamp": 1611767009693,
     "user": {
      "displayName": "Adam Murphy",
      "photoUrl": "https://lh3.googleusercontent.com/a-/AOh14GhrEUWR1gM_kMZc1JaOXZTsyHAIY7wGzIWe3pircVE=s64",
      "userId": "08787610892899884155"
     },
     "user_tz": 0
    },
    "id": "nucYwul7x7Gb",
    "outputId": "0e2ee5c4-c209-47ce-d019-2641b7d465d4"
   },
   "outputs": [
    {
     "name": "stdout",
     "output_type": "stream",
     "text": [
      "/content/LightGBM\n"
     ]
    }
   ],
   "source": [
    "%cd /content/LightGBM"
   ]
  },
  {
   "cell_type": "code",
   "execution_count": null,
   "metadata": {
    "id": "9NTjto99zKFZ"
   },
   "outputs": [],
   "source": [
    "!mkdir build"
   ]
  },
  {
   "cell_type": "code",
   "execution_count": null,
   "metadata": {
    "colab": {
     "base_uri": "https://localhost:8080/"
    },
    "executionInfo": {
     "elapsed": 245961,
     "status": "ok",
     "timestamp": 1611767300065,
     "user": {
      "displayName": "Adam Murphy",
      "photoUrl": "https://lh3.googleusercontent.com/a-/AOh14GhrEUWR1gM_kMZc1JaOXZTsyHAIY7wGzIWe3pircVE=s64",
      "userId": "08787610892899884155"
     },
     "user_tz": 0
    },
    "id": "2whTpKnXzSEv",
    "outputId": "f83b0076-62d0-41b1-b334-b73f43c7f130"
   },
   "outputs": [
    {
     "name": "stdout",
     "output_type": "stream",
     "text": [
      "-- The C compiler identification is GNU 7.5.0\n",
      "-- The CXX compiler identification is GNU 7.5.0\n",
      "-- Check for working C compiler: /usr/bin/cc\n",
      "-- Check for working C compiler: /usr/bin/cc -- works\n",
      "-- Detecting C compiler ABI info\n",
      "-- Detecting C compiler ABI info - done\n",
      "-- Detecting C compile features\n",
      "-- Detecting C compile features - done\n",
      "-- Check for working CXX compiler: /usr/bin/c++\n",
      "-- Check for working CXX compiler: /usr/bin/c++ -- works\n",
      "-- Detecting CXX compiler ABI info\n",
      "-- Detecting CXX compiler ABI info - done\n",
      "-- Detecting CXX compile features\n",
      "-- Detecting CXX compile features - done\n",
      "-- Found OpenMP_C: -fopenmp (found version \"4.5\") \n",
      "-- Found OpenMP_CXX: -fopenmp (found version \"4.5\") \n",
      "-- Found OpenMP: TRUE (found version \"4.5\")  \n",
      "-- Looking for CL_VERSION_2_2\n",
      "-- Looking for CL_VERSION_2_2 - found\n",
      "-- Found OpenCL: /usr/lib/x86_64-linux-gnu/libOpenCL.so (found version \"2.2\") \n",
      "-- OpenCL include directory: /usr/include\n",
      "-- Boost version: 1.65.1\n",
      "-- Found the following Boost libraries:\n",
      "--   filesystem\n",
      "--   system\n",
      "-- Performing Test MM_PREFETCH\n",
      "-- Performing Test MM_PREFETCH - Success\n",
      "-- Using _mm_prefetch\n",
      "-- Performing Test MM_MALLOC\n",
      "-- Performing Test MM_MALLOC - Success\n",
      "-- Using _mm_malloc\n",
      "-- Configuring done\n",
      "-- Generating done\n",
      "-- Build files have been written to: /content/LightGBM\n",
      "\u001b[35m\u001b[1mScanning dependencies of target _lightgbm\u001b[0m\n",
      "\u001b[35m\u001b[1mScanning dependencies of target lightgbm\u001b[0m\n",
      "[  2%] \u001b[32mBuilding CXX object CMakeFiles/lightgbm.dir/src/main.cpp.o\u001b[0m\n",
      "[  2%] \u001b[32mBuilding CXX object CMakeFiles/_lightgbm.dir/src/boosting/boosting.cpp.o\u001b[0m\n",
      "[  4%] \u001b[32mBuilding CXX object CMakeFiles/lightgbm.dir/src/application/application.cpp.o\u001b[0m\n",
      "[  5%] \u001b[32mBuilding CXX object CMakeFiles/_lightgbm.dir/src/boosting/gbdt.cpp.o\u001b[0m\n",
      "[  7%] \u001b[32mBuilding CXX object CMakeFiles/lightgbm.dir/src/boosting/boosting.cpp.o\u001b[0m\n",
      "[  8%] \u001b[32mBuilding CXX object CMakeFiles/_lightgbm.dir/src/boosting/gbdt_model_text.cpp.o\u001b[0m\n",
      "[ 10%] \u001b[32mBuilding CXX object CMakeFiles/lightgbm.dir/src/boosting/gbdt.cpp.o\u001b[0m\n",
      "[ 11%] \u001b[32mBuilding CXX object CMakeFiles/_lightgbm.dir/src/boosting/gbdt_prediction.cpp.o\u001b[0m\n",
      "[ 13%] \u001b[32mBuilding CXX object CMakeFiles/lightgbm.dir/src/boosting/gbdt_model_text.cpp.o\u001b[0m\n",
      "[ 14%] \u001b[32mBuilding CXX object CMakeFiles/_lightgbm.dir/src/boosting/prediction_early_stop.cpp.o\u001b[0m\n",
      "[ 15%] \u001b[32mBuilding CXX object CMakeFiles/_lightgbm.dir/src/io/bin.cpp.o\u001b[0m\n",
      "[ 17%] \u001b[32mBuilding CXX object CMakeFiles/lightgbm.dir/src/boosting/gbdt_prediction.cpp.o\u001b[0m\n",
      "[ 18%] \u001b[32mBuilding CXX object CMakeFiles/lightgbm.dir/src/boosting/prediction_early_stop.cpp.o\u001b[0m\n",
      "[ 20%] \u001b[32mBuilding CXX object CMakeFiles/lightgbm.dir/src/io/bin.cpp.o\u001b[0m\n",
      "[ 21%] \u001b[32mBuilding CXX object CMakeFiles/_lightgbm.dir/src/io/config.cpp.o\u001b[0m\n",
      "[ 23%] \u001b[32mBuilding CXX object CMakeFiles/_lightgbm.dir/src/io/config_auto.cpp.o\u001b[0m\n",
      "[ 24%] \u001b[32mBuilding CXX object CMakeFiles/lightgbm.dir/src/io/config.cpp.o\u001b[0m\n",
      "[ 26%] \u001b[32mBuilding CXX object CMakeFiles/_lightgbm.dir/src/io/dataset.cpp.o\u001b[0m\n",
      "[ 27%] \u001b[32mBuilding CXX object CMakeFiles/lightgbm.dir/src/io/config_auto.cpp.o\u001b[0m\n",
      "[ 28%] \u001b[32mBuilding CXX object CMakeFiles/lightgbm.dir/src/io/dataset.cpp.o\u001b[0m\n",
      "[ 30%] \u001b[32mBuilding CXX object CMakeFiles/_lightgbm.dir/src/io/dataset_loader.cpp.o\u001b[0m\n",
      "[ 31%] \u001b[32mBuilding CXX object CMakeFiles/_lightgbm.dir/src/io/file_io.cpp.o\u001b[0m\n",
      "[ 33%] \u001b[32mBuilding CXX object CMakeFiles/lightgbm.dir/src/io/dataset_loader.cpp.o\u001b[0m\n",
      "[ 34%] \u001b[32mBuilding CXX object CMakeFiles/_lightgbm.dir/src/io/json11.cpp.o\u001b[0m\n",
      "[ 36%] \u001b[32mBuilding CXX object CMakeFiles/_lightgbm.dir/src/io/metadata.cpp.o\u001b[0m\n",
      "[ 37%] \u001b[32mBuilding CXX object CMakeFiles/_lightgbm.dir/src/io/parser.cpp.o\u001b[0m\n",
      "[ 39%] \u001b[32mBuilding CXX object CMakeFiles/lightgbm.dir/src/io/file_io.cpp.o\u001b[0m\n",
      "[ 40%] \u001b[32mBuilding CXX object CMakeFiles/lightgbm.dir/src/io/json11.cpp.o\u001b[0m\n",
      "[ 42%] \u001b[32mBuilding CXX object CMakeFiles/_lightgbm.dir/src/io/train_share_states.cpp.o\u001b[0m\n",
      "[ 43%] \u001b[32mBuilding CXX object CMakeFiles/lightgbm.dir/src/io/metadata.cpp.o\u001b[0m\n",
      "[ 44%] \u001b[32mBuilding CXX object CMakeFiles/_lightgbm.dir/src/io/tree.cpp.o\u001b[0m\n",
      "[ 46%] \u001b[32mBuilding CXX object CMakeFiles/lightgbm.dir/src/io/parser.cpp.o\u001b[0m\n",
      "[ 47%] \u001b[32mBuilding CXX object CMakeFiles/lightgbm.dir/src/io/train_share_states.cpp.o\u001b[0m\n",
      "[ 49%] \u001b[32mBuilding CXX object CMakeFiles/lightgbm.dir/src/io/tree.cpp.o\u001b[0m\n",
      "[ 50%] \u001b[32mBuilding CXX object CMakeFiles/_lightgbm.dir/src/metric/dcg_calculator.cpp.o\u001b[0m\n",
      "[ 52%] \u001b[32mBuilding CXX object CMakeFiles/_lightgbm.dir/src/metric/metric.cpp.o\u001b[0m\n",
      "[ 53%] \u001b[32mBuilding CXX object CMakeFiles/lightgbm.dir/src/metric/dcg_calculator.cpp.o\u001b[0m\n",
      "[ 55%] \u001b[32mBuilding CXX object CMakeFiles/lightgbm.dir/src/metric/metric.cpp.o\u001b[0m\n",
      "[ 56%] \u001b[32mBuilding CXX object CMakeFiles/_lightgbm.dir/src/network/ifaddrs_patch.cpp.o\u001b[0m\n",
      "[ 57%] \u001b[32mBuilding CXX object CMakeFiles/_lightgbm.dir/src/network/linker_topo.cpp.o\u001b[0m\n",
      "[ 59%] \u001b[32mBuilding CXX object CMakeFiles/_lightgbm.dir/src/network/linkers_mpi.cpp.o\u001b[0m\n",
      "[ 60%] \u001b[32mBuilding CXX object CMakeFiles/_lightgbm.dir/src/network/linkers_socket.cpp.o\u001b[0m\n",
      "[ 62%] \u001b[32mBuilding CXX object CMakeFiles/_lightgbm.dir/src/network/network.cpp.o\u001b[0m\n",
      "[ 63%] \u001b[32mBuilding CXX object CMakeFiles/_lightgbm.dir/src/objective/objective_function.cpp.o\u001b[0m\n",
      "[ 65%] \u001b[32mBuilding CXX object CMakeFiles/lightgbm.dir/src/network/ifaddrs_patch.cpp.o\u001b[0m\n",
      "[ 66%] \u001b[32mBuilding CXX object CMakeFiles/lightgbm.dir/src/network/linker_topo.cpp.o\u001b[0m\n",
      "[ 68%] \u001b[32mBuilding CXX object CMakeFiles/lightgbm.dir/src/network/linkers_mpi.cpp.o\u001b[0m\n",
      "[ 69%] \u001b[32mBuilding CXX object CMakeFiles/lightgbm.dir/src/network/linkers_socket.cpp.o\u001b[0m\n",
      "[ 71%] \u001b[32mBuilding CXX object CMakeFiles/lightgbm.dir/src/network/network.cpp.o\u001b[0m\n",
      "[ 72%] \u001b[32mBuilding CXX object CMakeFiles/lightgbm.dir/src/objective/objective_function.cpp.o\u001b[0m\n",
      "[ 73%] \u001b[32mBuilding CXX object CMakeFiles/_lightgbm.dir/src/treelearner/cuda_tree_learner.cpp.o\u001b[0m\n",
      "[ 75%] \u001b[32mBuilding CXX object CMakeFiles/_lightgbm.dir/src/treelearner/data_parallel_tree_learner.cpp.o\u001b[0m\n",
      "[ 76%] \u001b[32mBuilding CXX object CMakeFiles/lightgbm.dir/src/treelearner/cuda_tree_learner.cpp.o\u001b[0m\n",
      "[ 78%] \u001b[32mBuilding CXX object CMakeFiles/lightgbm.dir/src/treelearner/data_parallel_tree_learner.cpp.o\u001b[0m\n",
      "[ 79%] \u001b[32mBuilding CXX object CMakeFiles/_lightgbm.dir/src/treelearner/feature_parallel_tree_learner.cpp.o\u001b[0m\n",
      "[ 81%] \u001b[32mBuilding CXX object CMakeFiles/lightgbm.dir/src/treelearner/feature_parallel_tree_learner.cpp.o\u001b[0m\n",
      "[ 82%] \u001b[32mBuilding CXX object CMakeFiles/_lightgbm.dir/src/treelearner/gpu_tree_learner.cpp.o\u001b[0m\n",
      "[ 84%] \u001b[32mBuilding CXX object CMakeFiles/lightgbm.dir/src/treelearner/gpu_tree_learner.cpp.o\u001b[0m\n",
      "[ 85%] \u001b[32mBuilding CXX object CMakeFiles/_lightgbm.dir/src/treelearner/linear_tree_learner.cpp.o\u001b[0m\n",
      "[ 86%] \u001b[32mBuilding CXX object CMakeFiles/lightgbm.dir/src/treelearner/linear_tree_learner.cpp.o\u001b[0m\n",
      "[ 88%] \u001b[32mBuilding CXX object CMakeFiles/_lightgbm.dir/src/treelearner/serial_tree_learner.cpp.o\u001b[0m\n",
      "[ 89%] \u001b[32mBuilding CXX object CMakeFiles/lightgbm.dir/src/treelearner/serial_tree_learner.cpp.o\u001b[0m\n",
      "[ 91%] \u001b[32mBuilding CXX object CMakeFiles/_lightgbm.dir/src/treelearner/tree_learner.cpp.o\u001b[0m\n",
      "[ 92%] \u001b[32mBuilding CXX object CMakeFiles/lightgbm.dir/src/treelearner/tree_learner.cpp.o\u001b[0m\n",
      "[ 94%] \u001b[32mBuilding CXX object CMakeFiles/_lightgbm.dir/src/treelearner/voting_parallel_tree_learner.cpp.o\u001b[0m\n",
      "[ 95%] \u001b[32mBuilding CXX object CMakeFiles/lightgbm.dir/src/treelearner/voting_parallel_tree_learner.cpp.o\u001b[0m\n",
      "[ 97%] \u001b[32mBuilding CXX object CMakeFiles/_lightgbm.dir/src/c_api.cpp.o\u001b[0m\n",
      "[ 98%] \u001b[32m\u001b[1mLinking CXX executable lightgbm\u001b[0m\n",
      "[ 98%] Built target lightgbm\n",
      "[100%] \u001b[32m\u001b[1mLinking CXX shared library lib_lightgbm.so\u001b[0m\n",
      "[100%] Built target _lightgbm\n"
     ]
    }
   ],
   "source": [
    "!cmake -DUSE_GPU=1\n",
    "\n",
    "!make -j$(nproc)"
   ]
  },
  {
   "cell_type": "code",
   "execution_count": null,
   "metadata": {
    "colab": {
     "base_uri": "https://localhost:8080/"
    },
    "executionInfo": {
     "elapsed": 13153,
     "status": "ok",
     "timestamp": 1611767313232,
     "user": {
      "displayName": "Adam Murphy",
      "photoUrl": "https://lh3.googleusercontent.com/a-/AOh14GhrEUWR1gM_kMZc1JaOXZTsyHAIY7wGzIWe3pircVE=s64",
      "userId": "08787610892899884155"
     },
     "user_tz": 0
    },
    "id": "eHMaKFxrzX71",
    "outputId": "48f21b54-0a22-4e22-bbaf-83da4b5391b2"
   },
   "outputs": [
    {
     "name": "stdout",
     "output_type": "stream",
     "text": [
      "Reading package lists... Done\n",
      "Building dependency tree       \n",
      "Reading state information... Done\n",
      "The following additional packages will be installed:\n",
      "  libpython-all-dev python-all python-all-dev python-asn1crypto\n",
      "  python-cffi-backend python-crypto python-cryptography python-dbus\n",
      "  python-enum34 python-gi python-idna python-ipaddress python-keyring\n",
      "  python-keyrings.alt python-pip-whl python-pkg-resources python-secretstorage\n",
      "  python-setuptools python-six python-wheel python-xdg\n",
      "Suggested packages:\n",
      "  python-crypto-doc python-cryptography-doc python-cryptography-vectors\n",
      "  python-dbus-dbg python-dbus-doc python-enum34-doc python-gi-cairo\n",
      "  gnome-keyring libkf5wallet-bin gir1.2-gnomekeyring-1.0 python-fs\n",
      "  python-gdata python-keyczar python-secretstorage-doc python-setuptools-doc\n",
      "The following NEW packages will be installed:\n",
      "  libpython-all-dev python-all python-all-dev python-asn1crypto\n",
      "  python-cffi-backend python-crypto python-cryptography python-dbus\n",
      "  python-enum34 python-gi python-idna python-ipaddress python-keyring\n",
      "  python-keyrings.alt python-pip python-pip-whl python-pkg-resources\n",
      "  python-secretstorage python-setuptools python-six python-wheel python-xdg\n",
      "0 upgraded, 22 newly installed, 0 to remove and 13 not upgraded.\n",
      "Need to get 3,431 kB of archives.\n",
      "After this operation, 10.8 MB of additional disk space will be used.\n",
      "Get:1 http://archive.ubuntu.com/ubuntu bionic/main amd64 libpython-all-dev amd64 2.7.15~rc1-1 [1,092 B]\n",
      "Get:2 http://archive.ubuntu.com/ubuntu bionic/main amd64 python-all amd64 2.7.15~rc1-1 [1,076 B]\n",
      "Get:3 http://archive.ubuntu.com/ubuntu bionic/main amd64 python-all-dev amd64 2.7.15~rc1-1 [1,100 B]\n",
      "Get:4 http://archive.ubuntu.com/ubuntu bionic/main amd64 python-asn1crypto all 0.24.0-1 [72.7 kB]\n",
      "Get:5 http://archive.ubuntu.com/ubuntu bionic/main amd64 python-cffi-backend amd64 1.11.5-1 [63.4 kB]\n",
      "Get:6 http://archive.ubuntu.com/ubuntu bionic/main amd64 python-crypto amd64 2.6.1-8ubuntu2 [244 kB]\n",
      "Get:7 http://archive.ubuntu.com/ubuntu bionic/main amd64 python-enum34 all 1.1.6-2 [34.8 kB]\n",
      "Get:8 http://archive.ubuntu.com/ubuntu bionic/main amd64 python-idna all 2.6-1 [32.4 kB]\n",
      "Get:9 http://archive.ubuntu.com/ubuntu bionic/main amd64 python-ipaddress all 1.0.17-1 [18.2 kB]\n",
      "Get:10 http://archive.ubuntu.com/ubuntu bionic/main amd64 python-six all 1.11.0-2 [11.3 kB]\n",
      "Get:11 http://archive.ubuntu.com/ubuntu bionic-updates/main amd64 python-cryptography amd64 2.1.4-1ubuntu1.4 [276 kB]\n",
      "Get:12 http://archive.ubuntu.com/ubuntu bionic/main amd64 python-dbus amd64 1.2.6-1 [90.2 kB]\n",
      "Get:13 http://archive.ubuntu.com/ubuntu bionic-updates/main amd64 python-gi amd64 3.26.1-2ubuntu1 [197 kB]\n",
      "Get:14 http://archive.ubuntu.com/ubuntu bionic/main amd64 python-secretstorage all 2.3.1-2 [11.8 kB]\n",
      "Get:15 http://archive.ubuntu.com/ubuntu bionic/main amd64 python-keyring all 10.6.0-1 [30.6 kB]\n",
      "Get:16 http://archive.ubuntu.com/ubuntu bionic/main amd64 python-keyrings.alt all 3.0-1 [16.7 kB]\n",
      "Get:17 http://archive.ubuntu.com/ubuntu bionic-updates/universe amd64 python-pip-whl all 9.0.1-2.3~ubuntu1.18.04.4 [1,653 kB]\n",
      "Get:18 http://archive.ubuntu.com/ubuntu bionic-updates/universe amd64 python-pip all 9.0.1-2.3~ubuntu1.18.04.4 [151 kB]\n",
      "Get:19 http://archive.ubuntu.com/ubuntu bionic/main amd64 python-pkg-resources all 39.0.1-2 [128 kB]\n",
      "Get:20 http://archive.ubuntu.com/ubuntu bionic/main amd64 python-setuptools all 39.0.1-2 [329 kB]\n",
      "Get:21 http://archive.ubuntu.com/ubuntu bionic/universe amd64 python-wheel all 0.30.0-0.2 [36.4 kB]\n",
      "Get:22 http://archive.ubuntu.com/ubuntu bionic-updates/universe amd64 python-xdg all 0.25-4ubuntu1.1 [31.2 kB]\n",
      "Fetched 3,431 kB in 1s (3,578 kB/s)\n",
      "debconf: unable to initialize frontend: Dialog\n",
      "debconf: (No usable dialog-like program is installed, so the dialog based frontend cannot be used. at /usr/share/perl5/Debconf/FrontEnd/Dialog.pm line 76, <> line 22.)\n",
      "debconf: falling back to frontend: Readline\n",
      "debconf: unable to initialize frontend: Readline\n",
      "debconf: (This frontend requires a controlling tty.)\n",
      "debconf: falling back to frontend: Teletype\n",
      "dpkg-preconfigure: unable to re-open stdin: \n",
      "Selecting previously unselected package libpython-all-dev:amd64.\n",
      "(Reading database ... 146374 files and directories currently installed.)\n",
      "Preparing to unpack .../00-libpython-all-dev_2.7.15~rc1-1_amd64.deb ...\n",
      "Unpacking libpython-all-dev:amd64 (2.7.15~rc1-1) ...\n",
      "Selecting previously unselected package python-all.\n",
      "Preparing to unpack .../01-python-all_2.7.15~rc1-1_amd64.deb ...\n",
      "Unpacking python-all (2.7.15~rc1-1) ...\n",
      "Selecting previously unselected package python-all-dev.\n",
      "Preparing to unpack .../02-python-all-dev_2.7.15~rc1-1_amd64.deb ...\n",
      "Unpacking python-all-dev (2.7.15~rc1-1) ...\n",
      "Selecting previously unselected package python-asn1crypto.\n",
      "Preparing to unpack .../03-python-asn1crypto_0.24.0-1_all.deb ...\n",
      "Unpacking python-asn1crypto (0.24.0-1) ...\n",
      "Selecting previously unselected package python-cffi-backend.\n",
      "Preparing to unpack .../04-python-cffi-backend_1.11.5-1_amd64.deb ...\n",
      "Unpacking python-cffi-backend (1.11.5-1) ...\n",
      "Selecting previously unselected package python-crypto.\n",
      "Preparing to unpack .../05-python-crypto_2.6.1-8ubuntu2_amd64.deb ...\n",
      "Unpacking python-crypto (2.6.1-8ubuntu2) ...\n",
      "Selecting previously unselected package python-enum34.\n",
      "Preparing to unpack .../06-python-enum34_1.1.6-2_all.deb ...\n",
      "Unpacking python-enum34 (1.1.6-2) ...\n",
      "Selecting previously unselected package python-idna.\n",
      "Preparing to unpack .../07-python-idna_2.6-1_all.deb ...\n",
      "Unpacking python-idna (2.6-1) ...\n",
      "Selecting previously unselected package python-ipaddress.\n",
      "Preparing to unpack .../08-python-ipaddress_1.0.17-1_all.deb ...\n",
      "Unpacking python-ipaddress (1.0.17-1) ...\n",
      "Selecting previously unselected package python-six.\n",
      "Preparing to unpack .../09-python-six_1.11.0-2_all.deb ...\n",
      "Unpacking python-six (1.11.0-2) ...\n",
      "Selecting previously unselected package python-cryptography.\n",
      "Preparing to unpack .../10-python-cryptography_2.1.4-1ubuntu1.4_amd64.deb ...\n",
      "Unpacking python-cryptography (2.1.4-1ubuntu1.4) ...\n",
      "Selecting previously unselected package python-dbus.\n",
      "Preparing to unpack .../11-python-dbus_1.2.6-1_amd64.deb ...\n",
      "Unpacking python-dbus (1.2.6-1) ...\n",
      "Selecting previously unselected package python-gi.\n",
      "Preparing to unpack .../12-python-gi_3.26.1-2ubuntu1_amd64.deb ...\n",
      "Unpacking python-gi (3.26.1-2ubuntu1) ...\n",
      "Selecting previously unselected package python-secretstorage.\n",
      "Preparing to unpack .../13-python-secretstorage_2.3.1-2_all.deb ...\n",
      "Unpacking python-secretstorage (2.3.1-2) ...\n",
      "Selecting previously unselected package python-keyring.\n",
      "Preparing to unpack .../14-python-keyring_10.6.0-1_all.deb ...\n",
      "Unpacking python-keyring (10.6.0-1) ...\n",
      "Selecting previously unselected package python-keyrings.alt.\n",
      "Preparing to unpack .../15-python-keyrings.alt_3.0-1_all.deb ...\n",
      "Unpacking python-keyrings.alt (3.0-1) ...\n",
      "Selecting previously unselected package python-pip-whl.\n",
      "Preparing to unpack .../16-python-pip-whl_9.0.1-2.3~ubuntu1.18.04.4_all.deb ...\n",
      "Unpacking python-pip-whl (9.0.1-2.3~ubuntu1.18.04.4) ...\n",
      "Selecting previously unselected package python-pip.\n",
      "Preparing to unpack .../17-python-pip_9.0.1-2.3~ubuntu1.18.04.4_all.deb ...\n",
      "Unpacking python-pip (9.0.1-2.3~ubuntu1.18.04.4) ...\n",
      "Selecting previously unselected package python-pkg-resources.\n",
      "Preparing to unpack .../18-python-pkg-resources_39.0.1-2_all.deb ...\n",
      "Unpacking python-pkg-resources (39.0.1-2) ...\n",
      "Selecting previously unselected package python-setuptools.\n",
      "Preparing to unpack .../19-python-setuptools_39.0.1-2_all.deb ...\n",
      "Unpacking python-setuptools (39.0.1-2) ...\n",
      "Selecting previously unselected package python-wheel.\n",
      "Preparing to unpack .../20-python-wheel_0.30.0-0.2_all.deb ...\n",
      "Unpacking python-wheel (0.30.0-0.2) ...\n",
      "Selecting previously unselected package python-xdg.\n",
      "Preparing to unpack .../21-python-xdg_0.25-4ubuntu1.1_all.deb ...\n",
      "Unpacking python-xdg (0.25-4ubuntu1.1) ...\n",
      "Setting up python-idna (2.6-1) ...\n",
      "Setting up python-pip-whl (9.0.1-2.3~ubuntu1.18.04.4) ...\n",
      "Setting up python-asn1crypto (0.24.0-1) ...\n",
      "Setting up python-crypto (2.6.1-8ubuntu2) ...\n",
      "Setting up python-wheel (0.30.0-0.2) ...\n",
      "Setting up libpython-all-dev:amd64 (2.7.15~rc1-1) ...\n",
      "Setting up python-pkg-resources (39.0.1-2) ...\n",
      "Setting up python-cffi-backend (1.11.5-1) ...\n",
      "Setting up python-gi (3.26.1-2ubuntu1) ...\n",
      "Setting up python-six (1.11.0-2) ...\n",
      "Setting up python-enum34 (1.1.6-2) ...\n",
      "Setting up python-dbus (1.2.6-1) ...\n",
      "Setting up python-ipaddress (1.0.17-1) ...\n",
      "Setting up python-pip (9.0.1-2.3~ubuntu1.18.04.4) ...\n",
      "Setting up python-all (2.7.15~rc1-1) ...\n",
      "Setting up python-xdg (0.25-4ubuntu1.1) ...\n",
      "Setting up python-setuptools (39.0.1-2) ...\n",
      "Setting up python-keyrings.alt (3.0-1) ...\n",
      "Setting up python-all-dev (2.7.15~rc1-1) ...\n",
      "Setting up python-cryptography (2.1.4-1ubuntu1.4) ...\n",
      "Setting up python-secretstorage (2.3.1-2) ...\n",
      "Setting up python-keyring (10.6.0-1) ...\n",
      "Processing triggers for man-db (2.8.3-2ubuntu0.1) ...\n"
     ]
    }
   ],
   "source": [
    "!sudo apt-get -y install python-pip"
   ]
  },
  {
   "cell_type": "code",
   "execution_count": null,
   "metadata": {
    "colab": {
     "base_uri": "https://localhost:8080/"
    },
    "executionInfo": {
     "elapsed": 44605,
     "status": "ok",
     "timestamp": 1611767344688,
     "user": {
      "displayName": "Adam Murphy",
      "photoUrl": "https://lh3.googleusercontent.com/a-/AOh14GhrEUWR1gM_kMZc1JaOXZTsyHAIY7wGzIWe3pircVE=s64",
      "userId": "08787610892899884155"
     },
     "user_tz": 0
    },
    "id": "-2fjBe7xzgKX",
    "outputId": "bded71a5-aabb-4b94-db44-f62e9e8cd9c7"
   },
   "outputs": [
    {
     "name": "stdout",
     "output_type": "stream",
     "text": [
      "Collecting setuptools\n",
      "\u001b[?25l  Downloading https://files.pythonhosted.org/packages/f7/30/f963996d7efea5a336455a3c727711469280c318e2711e295007dea04d7e/setuptools-52.0.0-py3-none-any.whl (784kB)\n",
      "\r",
      "\u001b[K     |▍                               | 10kB 21.1MB/s eta 0:00:01\r",
      "\u001b[K     |▉                               | 20kB 28.3MB/s eta 0:00:01\r",
      "\u001b[K     |█▎                              | 30kB 24.1MB/s eta 0:00:01\r",
      "\u001b[K     |█▊                              | 40kB 22.0MB/s eta 0:00:01\r",
      "\u001b[K     |██                              | 51kB 23.8MB/s eta 0:00:01\r",
      "\u001b[K     |██▌                             | 61kB 16.8MB/s eta 0:00:01\r",
      "\u001b[K     |███                             | 71kB 17.2MB/s eta 0:00:01\r",
      "\u001b[K     |███▍                            | 81kB 17.7MB/s eta 0:00:01\r",
      "\u001b[K     |███▊                            | 92kB 15.5MB/s eta 0:00:01\r",
      "\u001b[K     |████▏                           | 102kB 16.7MB/s eta 0:00:01\r",
      "\u001b[K     |████▋                           | 112kB 16.7MB/s eta 0:00:01\r",
      "\u001b[K     |█████                           | 122kB 16.7MB/s eta 0:00:01\r",
      "\u001b[K     |█████▍                          | 133kB 16.7MB/s eta 0:00:01\r",
      "\u001b[K     |█████▉                          | 143kB 16.7MB/s eta 0:00:01\r",
      "\u001b[K     |██████▎                         | 153kB 16.7MB/s eta 0:00:01\r",
      "\u001b[K     |██████▊                         | 163kB 16.7MB/s eta 0:00:01\r",
      "\u001b[K     |███████                         | 174kB 16.7MB/s eta 0:00:01\r",
      "\u001b[K     |███████▌                        | 184kB 16.7MB/s eta 0:00:01\r",
      "\u001b[K     |████████                        | 194kB 16.7MB/s eta 0:00:01\r",
      "\u001b[K     |████████▍                       | 204kB 16.7MB/s eta 0:00:01\r",
      "\u001b[K     |████████▊                       | 215kB 16.7MB/s eta 0:00:01\r",
      "\u001b[K     |█████████▏                      | 225kB 16.7MB/s eta 0:00:01\r",
      "\u001b[K     |█████████▋                      | 235kB 16.7MB/s eta 0:00:01\r",
      "\u001b[K     |██████████                      | 245kB 16.7MB/s eta 0:00:01\r",
      "\u001b[K     |██████████▍                     | 256kB 16.7MB/s eta 0:00:01\r",
      "\u001b[K     |██████████▉                     | 266kB 16.7MB/s eta 0:00:01\r",
      "\u001b[K     |███████████▎                    | 276kB 16.7MB/s eta 0:00:01\r",
      "\u001b[K     |███████████▊                    | 286kB 16.7MB/s eta 0:00:01\r",
      "\u001b[K     |████████████▏                   | 296kB 16.7MB/s eta 0:00:01\r",
      "\u001b[K     |████████████▌                   | 307kB 16.7MB/s eta 0:00:01\r",
      "\u001b[K     |█████████████                   | 317kB 16.7MB/s eta 0:00:01\r",
      "\u001b[K     |█████████████▍                  | 327kB 16.7MB/s eta 0:00:01\r",
      "\u001b[K     |█████████████▉                  | 337kB 16.7MB/s eta 0:00:01\r",
      "\u001b[K     |██████████████▏                 | 348kB 16.7MB/s eta 0:00:01\r",
      "\u001b[K     |██████████████▋                 | 358kB 16.7MB/s eta 0:00:01\r",
      "\u001b[K     |███████████████                 | 368kB 16.7MB/s eta 0:00:01\r",
      "\u001b[K     |███████████████▌                | 378kB 16.7MB/s eta 0:00:01\r",
      "\u001b[K     |███████████████▉                | 389kB 16.7MB/s eta 0:00:01\r",
      "\u001b[K     |████████████████▎               | 399kB 16.7MB/s eta 0:00:01\r",
      "\u001b[K     |████████████████▊               | 409kB 16.7MB/s eta 0:00:01\r",
      "\u001b[K     |█████████████████▏              | 419kB 16.7MB/s eta 0:00:01\r",
      "\u001b[K     |█████████████████▌              | 430kB 16.7MB/s eta 0:00:01\r",
      "\u001b[K     |██████████████████              | 440kB 16.7MB/s eta 0:00:01\r",
      "\u001b[K     |██████████████████▍             | 450kB 16.7MB/s eta 0:00:01\r",
      "\u001b[K     |██████████████████▉             | 460kB 16.7MB/s eta 0:00:01\r",
      "\u001b[K     |███████████████████▏            | 471kB 16.7MB/s eta 0:00:01\r",
      "\u001b[K     |███████████████████▋            | 481kB 16.7MB/s eta 0:00:01\r",
      "\u001b[K     |████████████████████            | 491kB 16.7MB/s eta 0:00:01\r",
      "\u001b[K     |████████████████████▌           | 501kB 16.7MB/s eta 0:00:01\r",
      "\u001b[K     |████████████████████▉           | 512kB 16.7MB/s eta 0:00:01\r",
      "\u001b[K     |█████████████████████▎          | 522kB 16.7MB/s eta 0:00:01\r",
      "\u001b[K     |█████████████████████▊          | 532kB 16.7MB/s eta 0:00:01\r",
      "\u001b[K     |██████████████████████▏         | 542kB 16.7MB/s eta 0:00:01\r",
      "\u001b[K     |██████████████████████▌         | 552kB 16.7MB/s eta 0:00:01\r",
      "\u001b[K     |███████████████████████         | 563kB 16.7MB/s eta 0:00:01\r",
      "\u001b[K     |███████████████████████▍        | 573kB 16.7MB/s eta 0:00:01\r",
      "\u001b[K     |███████████████████████▉        | 583kB 16.7MB/s eta 0:00:01\r",
      "\u001b[K     |████████████████████████▎       | 593kB 16.7MB/s eta 0:00:01\r",
      "\u001b[K     |████████████████████████▋       | 604kB 16.7MB/s eta 0:00:01\r",
      "\u001b[K     |█████████████████████████       | 614kB 16.7MB/s eta 0:00:01\r",
      "\u001b[K     |█████████████████████████▌      | 624kB 16.7MB/s eta 0:00:01\r",
      "\u001b[K     |██████████████████████████      | 634kB 16.7MB/s eta 0:00:01\r",
      "\u001b[K     |██████████████████████████▎     | 645kB 16.7MB/s eta 0:00:01\r",
      "\u001b[K     |██████████████████████████▊     | 655kB 16.7MB/s eta 0:00:01\r",
      "\u001b[K     |███████████████████████████▏    | 665kB 16.7MB/s eta 0:00:01\r",
      "\u001b[K     |███████████████████████████▋    | 675kB 16.7MB/s eta 0:00:01\r",
      "\u001b[K     |████████████████████████████    | 686kB 16.7MB/s eta 0:00:01\r",
      "\u001b[K     |████████████████████████████▍   | 696kB 16.7MB/s eta 0:00:01\r",
      "\u001b[K     |████████████████████████████▉   | 706kB 16.7MB/s eta 0:00:01\r",
      "\u001b[K     |█████████████████████████████▎  | 716kB 16.7MB/s eta 0:00:01\r",
      "\u001b[K     |█████████████████████████████▋  | 727kB 16.7MB/s eta 0:00:01\r",
      "\u001b[K     |██████████████████████████████  | 737kB 16.7MB/s eta 0:00:01\r",
      "\u001b[K     |██████████████████████████████▌ | 747kB 16.7MB/s eta 0:00:01\r",
      "\u001b[K     |███████████████████████████████ | 757kB 16.7MB/s eta 0:00:01\r",
      "\u001b[K     |███████████████████████████████▎| 768kB 16.7MB/s eta 0:00:01\r",
      "\u001b[K     |███████████████████████████████▊| 778kB 16.7MB/s eta 0:00:01\r",
      "\u001b[K     |████████████████████████████████| 788kB 16.7MB/s \n",
      "\u001b[?25hRequirement already up-to-date: pandas in /usr/local/lib/python3.6/dist-packages (1.1.5)\n",
      "Requirement already up-to-date: numpy in /usr/local/lib/python3.6/dist-packages (1.19.5)\n",
      "Collecting scipy\n",
      "\u001b[?25l  Downloading https://files.pythonhosted.org/packages/c8/89/63171228d5ced148f5ced50305c89e8576ffc695a90b58fe5bb602b910c2/scipy-1.5.4-cp36-cp36m-manylinux1_x86_64.whl (25.9MB)\n",
      "\u001b[K     |████████████████████████████████| 25.9MB 123kB/s \n",
      "\u001b[?25hCollecting scikit-learn\n",
      "\u001b[?25l  Downloading https://files.pythonhosted.org/packages/e2/4c/6111b9a325f29527d7f262e2ee8c730d354b47a728d955e186dacad57a0d/scikit_learn-0.24.1-cp36-cp36m-manylinux2010_x86_64.whl (22.2MB)\n",
      "\u001b[K     |████████████████████████████████| 22.2MB 1.2MB/s \n",
      "\u001b[?25hRequirement already up-to-date: seaborn in /usr/local/lib/python3.6/dist-packages (0.11.1)\n",
      "Collecting matplotlib\n",
      "\u001b[?25l  Downloading https://files.pythonhosted.org/packages/d2/43/2bd63467490036697e7be71444fafc7b236923d614d4521979a200c6b559/matplotlib-3.3.3-cp36-cp36m-manylinux1_x86_64.whl (11.6MB)\n",
      "\u001b[K     |████████████████████████████████| 11.6MB 53.2MB/s \n",
      "\u001b[?25hRequirement already satisfied, skipping upgrade: python-dateutil>=2.7.3 in /usr/local/lib/python3.6/dist-packages (from pandas) (2.8.1)\n",
      "Requirement already satisfied, skipping upgrade: pytz>=2017.2 in /usr/local/lib/python3.6/dist-packages (from pandas) (2018.9)\n",
      "Requirement already satisfied, skipping upgrade: joblib>=0.11 in /usr/local/lib/python3.6/dist-packages (from scikit-learn) (1.0.0)\n",
      "Collecting threadpoolctl>=2.0.0\n",
      "  Downloading https://files.pythonhosted.org/packages/f7/12/ec3f2e203afa394a149911729357aa48affc59c20e2c1c8297a60f33f133/threadpoolctl-2.1.0-py3-none-any.whl\n",
      "Requirement already satisfied, skipping upgrade: pillow>=6.2.0 in /usr/local/lib/python3.6/dist-packages (from matplotlib) (7.0.0)\n",
      "Requirement already satisfied, skipping upgrade: cycler>=0.10 in /usr/local/lib/python3.6/dist-packages (from matplotlib) (0.10.0)\n",
      "Requirement already satisfied, skipping upgrade: kiwisolver>=1.0.1 in /usr/local/lib/python3.6/dist-packages (from matplotlib) (1.3.1)\n",
      "Requirement already satisfied, skipping upgrade: pyparsing!=2.0.4,!=2.1.2,!=2.1.6,>=2.0.3 in /usr/local/lib/python3.6/dist-packages (from matplotlib) (2.4.7)\n",
      "Requirement already satisfied, skipping upgrade: six>=1.5 in /usr/local/lib/python3.6/dist-packages (from python-dateutil>=2.7.3->pandas) (1.15.0)\n",
      "\u001b[31mERROR: datascience 0.10.6 has requirement folium==0.2.1, but you'll have folium 0.8.3 which is incompatible.\u001b[0m\n",
      "\u001b[31mERROR: albumentations 0.1.12 has requirement imgaug<0.2.7,>=0.2.5, but you'll have imgaug 0.2.9 which is incompatible.\u001b[0m\n",
      "Installing collected packages: setuptools, scipy, threadpoolctl, scikit-learn, matplotlib\n",
      "  Found existing installation: setuptools 51.3.3\n",
      "    Uninstalling setuptools-51.3.3:\n",
      "      Successfully uninstalled setuptools-51.3.3\n",
      "  Found existing installation: scipy 1.4.1\n",
      "    Uninstalling scipy-1.4.1:\n",
      "      Successfully uninstalled scipy-1.4.1\n",
      "  Found existing installation: scikit-learn 0.22.2.post1\n",
      "    Uninstalling scikit-learn-0.22.2.post1:\n",
      "      Successfully uninstalled scikit-learn-0.22.2.post1\n",
      "  Found existing installation: matplotlib 3.2.2\n",
      "    Uninstalling matplotlib-3.2.2:\n",
      "      Successfully uninstalled matplotlib-3.2.2\n",
      "Successfully installed matplotlib-3.3.3 scikit-learn-0.24.1 scipy-1.5.4 setuptools-52.0.0 threadpoolctl-2.1.0\n"
     ]
    }
   ],
   "source": [
    "!sudo -H pip install setuptools pandas numpy scipy scikit-learn seaborn matplotlib -U"
   ]
  },
  {
   "cell_type": "code",
   "execution_count": null,
   "metadata": {
    "colab": {
     "base_uri": "https://localhost:8080/"
    },
    "executionInfo": {
     "elapsed": 44601,
     "status": "ok",
     "timestamp": 1611767344689,
     "user": {
      "displayName": "Adam Murphy",
      "photoUrl": "https://lh3.googleusercontent.com/a-/AOh14GhrEUWR1gM_kMZc1JaOXZTsyHAIY7wGzIWe3pircVE=s64",
      "userId": "08787610892899884155"
     },
     "user_tz": 0
    },
    "id": "27mWYS9Ezs6o",
    "outputId": "ef43407a-02e1-4406-f813-c6679c6964e6"
   },
   "outputs": [
    {
     "name": "stdout",
     "output_type": "stream",
     "text": [
      "/content/LightGBM/python-package\n"
     ]
    }
   ],
   "source": [
    "%cd /content/LightGBM/python-package"
   ]
  },
  {
   "cell_type": "code",
   "execution_count": null,
   "metadata": {
    "colab": {
     "base_uri": "https://localhost:8080/"
    },
    "executionInfo": {
     "elapsed": 44921,
     "status": "ok",
     "timestamp": 1611767345011,
     "user": {
      "displayName": "Adam Murphy",
      "photoUrl": "https://lh3.googleusercontent.com/a-/AOh14GhrEUWR1gM_kMZc1JaOXZTsyHAIY7wGzIWe3pircVE=s64",
      "userId": "08787610892899884155"
     },
     "user_tz": 0
    },
    "id": "X4tSc8ZjzzoA",
    "outputId": "881b9370-c9ee-408d-8d1e-ef8747b9f2ab"
   },
   "outputs": [
    {
     "name": "stdout",
     "output_type": "stream",
     "text": [
      "running install\n",
      "running build\n",
      "running build_py\n",
      "INFO:root:Generating grammar tables from /usr/lib/python3.6/lib2to3/Grammar.txt\n",
      "INFO:root:Generating grammar tables from /usr/lib/python3.6/lib2to3/PatternGrammar.txt\n",
      "creating build\n",
      "creating build/lib\n",
      "creating build/lib/lightgbm\n",
      "copying lightgbm/__init__.py -> build/lib/lightgbm\n",
      "copying lightgbm/engine.py -> build/lib/lightgbm\n",
      "copying lightgbm/dask.py -> build/lib/lightgbm\n",
      "copying lightgbm/libpath.py -> build/lib/lightgbm\n",
      "copying lightgbm/plotting.py -> build/lib/lightgbm\n",
      "copying lightgbm/sklearn.py -> build/lib/lightgbm\n",
      "copying lightgbm/basic.py -> build/lib/lightgbm\n",
      "copying lightgbm/callback.py -> build/lib/lightgbm\n",
      "copying lightgbm/compat.py -> build/lib/lightgbm\n",
      "running egg_info\n",
      "creating lightgbm.egg-info\n",
      "writing lightgbm.egg-info/PKG-INFO\n",
      "writing dependency_links to lightgbm.egg-info/dependency_links.txt\n",
      "writing requirements to lightgbm.egg-info/requires.txt\n",
      "writing top-level names to lightgbm.egg-info/top_level.txt\n",
      "writing manifest file 'lightgbm.egg-info/SOURCES.txt'\n",
      "reading manifest template 'MANIFEST.in'\n",
      "no previously-included directories found matching 'build'\n",
      "warning: no files found matching 'LICENSE'\n",
      "warning: no files found matching '*.txt'\n",
      "warning: no files found matching '*.so' under directory 'lightgbm'\n",
      "warning: no files found matching 'compile/CMakeLists.txt'\n",
      "warning: no files found matching 'compile/CMakeIntegratedOpenCL.cmake'\n",
      "warning: no files found matching '*.so' under directory 'compile'\n",
      "warning: no files found matching '*.dll' under directory 'compile/Release'\n",
      "warning: no files found matching 'compile/external_libs/compute/CMakeLists.txt'\n",
      "warning: no files found matching '*' under directory 'compile/external_libs/compute/cmake'\n",
      "warning: no files found matching '*' under directory 'compile/external_libs/compute/include'\n",
      "warning: no files found matching '*' under directory 'compile/external_libs/compute/meta'\n",
      "warning: no files found matching 'compile/external_libs/eigen/CMakeLists.txt'\n",
      "warning: no files found matching 'compile/external_libs/eigen/Eigen/Cholesky'\n",
      "warning: no files found matching 'compile/external_libs/eigen/Eigen/Core'\n",
      "warning: no files found matching 'compile/external_libs/eigen/Eigen/Dense'\n",
      "warning: no files found matching 'compile/external_libs/eigen/Eigen/Eigenvalues'\n",
      "warning: no files found matching 'compile/external_libs/eigen/Eigen/Geometry'\n",
      "warning: no files found matching 'compile/external_libs/eigen/Eigen/Householder'\n",
      "warning: no files found matching 'compile/external_libs/eigen/Eigen/Jacobi'\n",
      "warning: no files found matching 'compile/external_libs/eigen/Eigen/LU'\n",
      "warning: no files found matching 'compile/external_libs/eigen/Eigen/QR'\n",
      "warning: no files found matching 'compile/external_libs/eigen/Eigen/SVD'\n",
      "warning: no files found matching '*' under directory 'compile/external_libs/eigen/Eigen/src/Cholesky'\n",
      "warning: no files found matching '*' under directory 'compile/external_libs/eigen/Eigen/src/Core'\n",
      "warning: no files found matching '*' under directory 'compile/external_libs/eigen/Eigen/src/Eigenvalues'\n",
      "warning: no files found matching '*' under directory 'compile/external_libs/eigen/Eigen/src/Geometry'\n",
      "warning: no files found matching '*' under directory 'compile/external_libs/eigen/Eigen/src/Householder'\n",
      "warning: no files found matching '*' under directory 'compile/external_libs/eigen/Eigen/src/Jacobi'\n",
      "warning: no files found matching '*' under directory 'compile/external_libs/eigen/Eigen/src/LU'\n",
      "warning: no files found matching '*' under directory 'compile/external_libs/eigen/Eigen/src/misc'\n",
      "warning: no files found matching '*' under directory 'compile/external_libs/eigen/Eigen/src/plugins'\n",
      "warning: no files found matching '*' under directory 'compile/external_libs/eigen/Eigen/src/QR'\n",
      "warning: no files found matching '*' under directory 'compile/external_libs/eigen/Eigen/src/SVD'\n",
      "warning: no files found matching 'compile/external_libs/fast_double_parser/CMakeLists.txt'\n",
      "warning: no files found matching 'compile/external_libs/fast_double_parser/LICENSE'\n",
      "warning: no files found matching 'compile/external_libs/fast_double_parser/LICENSE.BSL'\n",
      "warning: no files found matching '*' under directory 'compile/external_libs/fast_double_parser/include'\n",
      "warning: no files found matching 'compile/external_libs/fmt/CMakeLists.txt'\n",
      "warning: no files found matching 'compile/external_libs/fmt/LICENSE.rst'\n",
      "warning: no files found matching '*' under directory 'compile/external_libs/fmt/include'\n",
      "warning: no files found matching '*' under directory 'compile/include'\n",
      "warning: no files found matching '*' under directory 'compile/src'\n",
      "warning: no files found matching 'LightGBM.sln' under directory 'compile/windows'\n",
      "warning: no files found matching 'LightGBM.vcxproj' under directory 'compile/windows'\n",
      "warning: no files found matching '*.dll' under directory 'compile/windows/x64/DLL'\n",
      "warning: no previously-included files matching '*.py[co]' found anywhere in distribution\n",
      "warning: no previously-included files found matching 'compile/external_libs/compute/.git'\n",
      "writing manifest file 'lightgbm.egg-info/SOURCES.txt'\n",
      "copying lightgbm/VERSION.txt -> build/lib/lightgbm\n",
      "running install_lib\n",
      "copying build/lib/lightgbm/__init__.py -> /usr/local/lib/python3.6/dist-packages/lightgbm\n",
      "copying build/lib/lightgbm/engine.py -> /usr/local/lib/python3.6/dist-packages/lightgbm\n",
      "copying build/lib/lightgbm/dask.py -> /usr/local/lib/python3.6/dist-packages/lightgbm\n",
      "copying build/lib/lightgbm/libpath.py -> /usr/local/lib/python3.6/dist-packages/lightgbm\n",
      "copying build/lib/lightgbm/plotting.py -> /usr/local/lib/python3.6/dist-packages/lightgbm\n",
      "copying build/lib/lightgbm/VERSION.txt -> /usr/local/lib/python3.6/dist-packages/lightgbm\n",
      "copying build/lib/lightgbm/sklearn.py -> /usr/local/lib/python3.6/dist-packages/lightgbm\n",
      "copying build/lib/lightgbm/basic.py -> /usr/local/lib/python3.6/dist-packages/lightgbm\n",
      "copying build/lib/lightgbm/callback.py -> /usr/local/lib/python3.6/dist-packages/lightgbm\n",
      "copying build/lib/lightgbm/compat.py -> /usr/local/lib/python3.6/dist-packages/lightgbm\n",
      "INFO:LightGBM:Installing lib_lightgbm from: ['../lib_lightgbm.so']\n",
      "copying ../lib_lightgbm.so -> /usr/local/lib/python3.6/dist-packages/lightgbm\n",
      "byte-compiling /usr/local/lib/python3.6/dist-packages/lightgbm/__init__.py to __init__.cpython-36.pyc\n",
      "byte-compiling /usr/local/lib/python3.6/dist-packages/lightgbm/engine.py to engine.cpython-36.pyc\n",
      "byte-compiling /usr/local/lib/python3.6/dist-packages/lightgbm/dask.py to dask.cpython-36.pyc\n",
      "byte-compiling /usr/local/lib/python3.6/dist-packages/lightgbm/libpath.py to libpath.cpython-36.pyc\n",
      "byte-compiling /usr/local/lib/python3.6/dist-packages/lightgbm/plotting.py to plotting.cpython-36.pyc\n",
      "byte-compiling /usr/local/lib/python3.6/dist-packages/lightgbm/sklearn.py to sklearn.cpython-36.pyc\n",
      "byte-compiling /usr/local/lib/python3.6/dist-packages/lightgbm/basic.py to basic.cpython-36.pyc\n",
      "byte-compiling /usr/local/lib/python3.6/dist-packages/lightgbm/callback.py to callback.cpython-36.pyc\n",
      "byte-compiling /usr/local/lib/python3.6/dist-packages/lightgbm/compat.py to compat.cpython-36.pyc\n",
      "running install_egg_info\n",
      "Copying lightgbm.egg-info to /usr/local/lib/python3.6/dist-packages/lightgbm-3.1.1.99-py3.6.egg-info\n",
      "running install_scripts\n"
     ]
    }
   ],
   "source": [
    "!sudo python setup.py install --precompile"
   ]
  },
  {
   "cell_type": "code",
   "execution_count": null,
   "metadata": {
    "colab": {
     "base_uri": "https://localhost:8080/",
     "height": 470
    },
    "executionInfo": {
     "elapsed": 643,
     "status": "ok",
     "timestamp": 1611767916234,
     "user": {
      "displayName": "Adam Murphy",
      "photoUrl": "https://lh3.googleusercontent.com/a-/AOh14GhrEUWR1gM_kMZc1JaOXZTsyHAIY7wGzIWe3pircVE=s64",
      "userId": "08787610892899884155"
     },
     "user_tz": 0
    },
    "id": "O0KFk8dw2pNu",
    "outputId": "757ab021-95fd-4ff6-a219-37527b4e3b3b"
   },
   "outputs": [
    {
     "data": {
      "text/html": [
       "<div>\n",
       "<style scoped>\n",
       "    .dataframe tbody tr th:only-of-type {\n",
       "        vertical-align: middle;\n",
       "    }\n",
       "\n",
       "    .dataframe tbody tr th {\n",
       "        vertical-align: top;\n",
       "    }\n",
       "\n",
       "    .dataframe thead th {\n",
       "        text-align: right;\n",
       "    }\n",
       "</style>\n",
       "<table border=\"1\" class=\"dataframe\">\n",
       "  <thead>\n",
       "    <tr style=\"text-align: right;\">\n",
       "      <th></th>\n",
       "      <th>geo_level_1_id</th>\n",
       "      <th>geo_level_2_id</th>\n",
       "      <th>geo_level_3_id</th>\n",
       "      <th>count_floors_pre_eq</th>\n",
       "      <th>age</th>\n",
       "      <th>area_percentage</th>\n",
       "      <th>height_percentage</th>\n",
       "      <th>land_surface_condition</th>\n",
       "      <th>foundation_type</th>\n",
       "      <th>roof_type</th>\n",
       "      <th>ground_floor_type</th>\n",
       "      <th>other_floor_type</th>\n",
       "      <th>position</th>\n",
       "      <th>plan_configuration</th>\n",
       "      <th>has_superstructure_adobe_mud</th>\n",
       "      <th>has_superstructure_mud_mortar_stone</th>\n",
       "      <th>has_superstructure_stone_flag</th>\n",
       "      <th>has_superstructure_cement_mortar_stone</th>\n",
       "      <th>has_superstructure_mud_mortar_brick</th>\n",
       "      <th>has_superstructure_cement_mortar_brick</th>\n",
       "      <th>has_superstructure_timber</th>\n",
       "      <th>has_superstructure_bamboo</th>\n",
       "      <th>has_superstructure_rc_non_engineered</th>\n",
       "      <th>has_superstructure_rc_engineered</th>\n",
       "      <th>has_superstructure_other</th>\n",
       "      <th>legal_ownership_status</th>\n",
       "      <th>count_families</th>\n",
       "      <th>has_secondary_use</th>\n",
       "      <th>has_secondary_use_agriculture</th>\n",
       "      <th>has_secondary_use_hotel</th>\n",
       "      <th>has_secondary_use_rental</th>\n",
       "      <th>has_secondary_use_institution</th>\n",
       "      <th>has_secondary_use_school</th>\n",
       "      <th>has_secondary_use_industry</th>\n",
       "      <th>has_secondary_use_health_post</th>\n",
       "      <th>has_secondary_use_gov_office</th>\n",
       "      <th>has_secondary_use_use_police</th>\n",
       "      <th>has_secondary_use_other</th>\n",
       "    </tr>\n",
       "    <tr>\n",
       "      <th>building_id</th>\n",
       "      <th></th>\n",
       "      <th></th>\n",
       "      <th></th>\n",
       "      <th></th>\n",
       "      <th></th>\n",
       "      <th></th>\n",
       "      <th></th>\n",
       "      <th></th>\n",
       "      <th></th>\n",
       "      <th></th>\n",
       "      <th></th>\n",
       "      <th></th>\n",
       "      <th></th>\n",
       "      <th></th>\n",
       "      <th></th>\n",
       "      <th></th>\n",
       "      <th></th>\n",
       "      <th></th>\n",
       "      <th></th>\n",
       "      <th></th>\n",
       "      <th></th>\n",
       "      <th></th>\n",
       "      <th></th>\n",
       "      <th></th>\n",
       "      <th></th>\n",
       "      <th></th>\n",
       "      <th></th>\n",
       "      <th></th>\n",
       "      <th></th>\n",
       "      <th></th>\n",
       "      <th></th>\n",
       "      <th></th>\n",
       "      <th></th>\n",
       "      <th></th>\n",
       "      <th></th>\n",
       "      <th></th>\n",
       "      <th></th>\n",
       "      <th></th>\n",
       "    </tr>\n",
       "  </thead>\n",
       "  <tbody>\n",
       "    <tr>\n",
       "      <th>802906</th>\n",
       "      <td>6</td>\n",
       "      <td>487</td>\n",
       "      <td>12198</td>\n",
       "      <td>2</td>\n",
       "      <td>30</td>\n",
       "      <td>6</td>\n",
       "      <td>5</td>\n",
       "      <td>t</td>\n",
       "      <td>r</td>\n",
       "      <td>n</td>\n",
       "      <td>f</td>\n",
       "      <td>q</td>\n",
       "      <td>t</td>\n",
       "      <td>d</td>\n",
       "      <td>1</td>\n",
       "      <td>1</td>\n",
       "      <td>0</td>\n",
       "      <td>0</td>\n",
       "      <td>0</td>\n",
       "      <td>0</td>\n",
       "      <td>0</td>\n",
       "      <td>0</td>\n",
       "      <td>0</td>\n",
       "      <td>0</td>\n",
       "      <td>0</td>\n",
       "      <td>v</td>\n",
       "      <td>1</td>\n",
       "      <td>0</td>\n",
       "      <td>0</td>\n",
       "      <td>0</td>\n",
       "      <td>0</td>\n",
       "      <td>0</td>\n",
       "      <td>0</td>\n",
       "      <td>0</td>\n",
       "      <td>0</td>\n",
       "      <td>0</td>\n",
       "      <td>0</td>\n",
       "      <td>0</td>\n",
       "    </tr>\n",
       "    <tr>\n",
       "      <th>28830</th>\n",
       "      <td>8</td>\n",
       "      <td>900</td>\n",
       "      <td>2812</td>\n",
       "      <td>2</td>\n",
       "      <td>10</td>\n",
       "      <td>8</td>\n",
       "      <td>7</td>\n",
       "      <td>o</td>\n",
       "      <td>r</td>\n",
       "      <td>n</td>\n",
       "      <td>x</td>\n",
       "      <td>q</td>\n",
       "      <td>s</td>\n",
       "      <td>d</td>\n",
       "      <td>0</td>\n",
       "      <td>1</td>\n",
       "      <td>0</td>\n",
       "      <td>0</td>\n",
       "      <td>0</td>\n",
       "      <td>0</td>\n",
       "      <td>0</td>\n",
       "      <td>0</td>\n",
       "      <td>0</td>\n",
       "      <td>0</td>\n",
       "      <td>0</td>\n",
       "      <td>v</td>\n",
       "      <td>1</td>\n",
       "      <td>0</td>\n",
       "      <td>0</td>\n",
       "      <td>0</td>\n",
       "      <td>0</td>\n",
       "      <td>0</td>\n",
       "      <td>0</td>\n",
       "      <td>0</td>\n",
       "      <td>0</td>\n",
       "      <td>0</td>\n",
       "      <td>0</td>\n",
       "      <td>0</td>\n",
       "    </tr>\n",
       "    <tr>\n",
       "      <th>94947</th>\n",
       "      <td>21</td>\n",
       "      <td>363</td>\n",
       "      <td>8973</td>\n",
       "      <td>2</td>\n",
       "      <td>10</td>\n",
       "      <td>5</td>\n",
       "      <td>5</td>\n",
       "      <td>t</td>\n",
       "      <td>r</td>\n",
       "      <td>n</td>\n",
       "      <td>f</td>\n",
       "      <td>x</td>\n",
       "      <td>t</td>\n",
       "      <td>d</td>\n",
       "      <td>0</td>\n",
       "      <td>1</td>\n",
       "      <td>0</td>\n",
       "      <td>0</td>\n",
       "      <td>0</td>\n",
       "      <td>0</td>\n",
       "      <td>0</td>\n",
       "      <td>0</td>\n",
       "      <td>0</td>\n",
       "      <td>0</td>\n",
       "      <td>0</td>\n",
       "      <td>v</td>\n",
       "      <td>1</td>\n",
       "      <td>0</td>\n",
       "      <td>0</td>\n",
       "      <td>0</td>\n",
       "      <td>0</td>\n",
       "      <td>0</td>\n",
       "      <td>0</td>\n",
       "      <td>0</td>\n",
       "      <td>0</td>\n",
       "      <td>0</td>\n",
       "      <td>0</td>\n",
       "      <td>0</td>\n",
       "    </tr>\n",
       "    <tr>\n",
       "      <th>590882</th>\n",
       "      <td>22</td>\n",
       "      <td>418</td>\n",
       "      <td>10694</td>\n",
       "      <td>2</td>\n",
       "      <td>10</td>\n",
       "      <td>6</td>\n",
       "      <td>5</td>\n",
       "      <td>t</td>\n",
       "      <td>r</td>\n",
       "      <td>n</td>\n",
       "      <td>f</td>\n",
       "      <td>x</td>\n",
       "      <td>s</td>\n",
       "      <td>d</td>\n",
       "      <td>0</td>\n",
       "      <td>1</td>\n",
       "      <td>0</td>\n",
       "      <td>0</td>\n",
       "      <td>0</td>\n",
       "      <td>0</td>\n",
       "      <td>1</td>\n",
       "      <td>1</td>\n",
       "      <td>0</td>\n",
       "      <td>0</td>\n",
       "      <td>0</td>\n",
       "      <td>v</td>\n",
       "      <td>1</td>\n",
       "      <td>0</td>\n",
       "      <td>0</td>\n",
       "      <td>0</td>\n",
       "      <td>0</td>\n",
       "      <td>0</td>\n",
       "      <td>0</td>\n",
       "      <td>0</td>\n",
       "      <td>0</td>\n",
       "      <td>0</td>\n",
       "      <td>0</td>\n",
       "      <td>0</td>\n",
       "    </tr>\n",
       "    <tr>\n",
       "      <th>201944</th>\n",
       "      <td>11</td>\n",
       "      <td>131</td>\n",
       "      <td>1488</td>\n",
       "      <td>3</td>\n",
       "      <td>30</td>\n",
       "      <td>8</td>\n",
       "      <td>9</td>\n",
       "      <td>t</td>\n",
       "      <td>r</td>\n",
       "      <td>n</td>\n",
       "      <td>f</td>\n",
       "      <td>x</td>\n",
       "      <td>s</td>\n",
       "      <td>d</td>\n",
       "      <td>1</td>\n",
       "      <td>0</td>\n",
       "      <td>0</td>\n",
       "      <td>0</td>\n",
       "      <td>0</td>\n",
       "      <td>0</td>\n",
       "      <td>0</td>\n",
       "      <td>0</td>\n",
       "      <td>0</td>\n",
       "      <td>0</td>\n",
       "      <td>0</td>\n",
       "      <td>v</td>\n",
       "      <td>1</td>\n",
       "      <td>0</td>\n",
       "      <td>0</td>\n",
       "      <td>0</td>\n",
       "      <td>0</td>\n",
       "      <td>0</td>\n",
       "      <td>0</td>\n",
       "      <td>0</td>\n",
       "      <td>0</td>\n",
       "      <td>0</td>\n",
       "      <td>0</td>\n",
       "      <td>0</td>\n",
       "    </tr>\n",
       "    <tr>\n",
       "      <th>...</th>\n",
       "      <td>...</td>\n",
       "      <td>...</td>\n",
       "      <td>...</td>\n",
       "      <td>...</td>\n",
       "      <td>...</td>\n",
       "      <td>...</td>\n",
       "      <td>...</td>\n",
       "      <td>...</td>\n",
       "      <td>...</td>\n",
       "      <td>...</td>\n",
       "      <td>...</td>\n",
       "      <td>...</td>\n",
       "      <td>...</td>\n",
       "      <td>...</td>\n",
       "      <td>...</td>\n",
       "      <td>...</td>\n",
       "      <td>...</td>\n",
       "      <td>...</td>\n",
       "      <td>...</td>\n",
       "      <td>...</td>\n",
       "      <td>...</td>\n",
       "      <td>...</td>\n",
       "      <td>...</td>\n",
       "      <td>...</td>\n",
       "      <td>...</td>\n",
       "      <td>...</td>\n",
       "      <td>...</td>\n",
       "      <td>...</td>\n",
       "      <td>...</td>\n",
       "      <td>...</td>\n",
       "      <td>...</td>\n",
       "      <td>...</td>\n",
       "      <td>...</td>\n",
       "      <td>...</td>\n",
       "      <td>...</td>\n",
       "      <td>...</td>\n",
       "      <td>...</td>\n",
       "      <td>...</td>\n",
       "    </tr>\n",
       "    <tr>\n",
       "      <th>688636</th>\n",
       "      <td>25</td>\n",
       "      <td>1335</td>\n",
       "      <td>1621</td>\n",
       "      <td>1</td>\n",
       "      <td>55</td>\n",
       "      <td>6</td>\n",
       "      <td>3</td>\n",
       "      <td>n</td>\n",
       "      <td>r</td>\n",
       "      <td>n</td>\n",
       "      <td>f</td>\n",
       "      <td>j</td>\n",
       "      <td>s</td>\n",
       "      <td>q</td>\n",
       "      <td>0</td>\n",
       "      <td>1</td>\n",
       "      <td>0</td>\n",
       "      <td>0</td>\n",
       "      <td>0</td>\n",
       "      <td>0</td>\n",
       "      <td>0</td>\n",
       "      <td>0</td>\n",
       "      <td>0</td>\n",
       "      <td>0</td>\n",
       "      <td>0</td>\n",
       "      <td>v</td>\n",
       "      <td>1</td>\n",
       "      <td>0</td>\n",
       "      <td>0</td>\n",
       "      <td>0</td>\n",
       "      <td>0</td>\n",
       "      <td>0</td>\n",
       "      <td>0</td>\n",
       "      <td>0</td>\n",
       "      <td>0</td>\n",
       "      <td>0</td>\n",
       "      <td>0</td>\n",
       "      <td>0</td>\n",
       "    </tr>\n",
       "    <tr>\n",
       "      <th>669485</th>\n",
       "      <td>17</td>\n",
       "      <td>715</td>\n",
       "      <td>2060</td>\n",
       "      <td>2</td>\n",
       "      <td>0</td>\n",
       "      <td>6</td>\n",
       "      <td>5</td>\n",
       "      <td>t</td>\n",
       "      <td>r</td>\n",
       "      <td>n</td>\n",
       "      <td>f</td>\n",
       "      <td>q</td>\n",
       "      <td>s</td>\n",
       "      <td>d</td>\n",
       "      <td>0</td>\n",
       "      <td>1</td>\n",
       "      <td>0</td>\n",
       "      <td>0</td>\n",
       "      <td>0</td>\n",
       "      <td>0</td>\n",
       "      <td>0</td>\n",
       "      <td>0</td>\n",
       "      <td>0</td>\n",
       "      <td>0</td>\n",
       "      <td>0</td>\n",
       "      <td>v</td>\n",
       "      <td>1</td>\n",
       "      <td>0</td>\n",
       "      <td>0</td>\n",
       "      <td>0</td>\n",
       "      <td>0</td>\n",
       "      <td>0</td>\n",
       "      <td>0</td>\n",
       "      <td>0</td>\n",
       "      <td>0</td>\n",
       "      <td>0</td>\n",
       "      <td>0</td>\n",
       "      <td>0</td>\n",
       "    </tr>\n",
       "    <tr>\n",
       "      <th>602512</th>\n",
       "      <td>17</td>\n",
       "      <td>51</td>\n",
       "      <td>8163</td>\n",
       "      <td>3</td>\n",
       "      <td>55</td>\n",
       "      <td>6</td>\n",
       "      <td>7</td>\n",
       "      <td>t</td>\n",
       "      <td>r</td>\n",
       "      <td>q</td>\n",
       "      <td>f</td>\n",
       "      <td>q</td>\n",
       "      <td>s</td>\n",
       "      <td>d</td>\n",
       "      <td>0</td>\n",
       "      <td>1</td>\n",
       "      <td>0</td>\n",
       "      <td>0</td>\n",
       "      <td>0</td>\n",
       "      <td>0</td>\n",
       "      <td>0</td>\n",
       "      <td>0</td>\n",
       "      <td>0</td>\n",
       "      <td>0</td>\n",
       "      <td>0</td>\n",
       "      <td>v</td>\n",
       "      <td>1</td>\n",
       "      <td>0</td>\n",
       "      <td>0</td>\n",
       "      <td>0</td>\n",
       "      <td>0</td>\n",
       "      <td>0</td>\n",
       "      <td>0</td>\n",
       "      <td>0</td>\n",
       "      <td>0</td>\n",
       "      <td>0</td>\n",
       "      <td>0</td>\n",
       "      <td>0</td>\n",
       "    </tr>\n",
       "    <tr>\n",
       "      <th>151409</th>\n",
       "      <td>26</td>\n",
       "      <td>39</td>\n",
       "      <td>1851</td>\n",
       "      <td>2</td>\n",
       "      <td>10</td>\n",
       "      <td>14</td>\n",
       "      <td>6</td>\n",
       "      <td>t</td>\n",
       "      <td>r</td>\n",
       "      <td>x</td>\n",
       "      <td>v</td>\n",
       "      <td>s</td>\n",
       "      <td>j</td>\n",
       "      <td>d</td>\n",
       "      <td>0</td>\n",
       "      <td>0</td>\n",
       "      <td>0</td>\n",
       "      <td>0</td>\n",
       "      <td>0</td>\n",
       "      <td>1</td>\n",
       "      <td>0</td>\n",
       "      <td>0</td>\n",
       "      <td>0</td>\n",
       "      <td>0</td>\n",
       "      <td>0</td>\n",
       "      <td>v</td>\n",
       "      <td>1</td>\n",
       "      <td>0</td>\n",
       "      <td>0</td>\n",
       "      <td>0</td>\n",
       "      <td>0</td>\n",
       "      <td>0</td>\n",
       "      <td>0</td>\n",
       "      <td>0</td>\n",
       "      <td>0</td>\n",
       "      <td>0</td>\n",
       "      <td>0</td>\n",
       "      <td>0</td>\n",
       "    </tr>\n",
       "    <tr>\n",
       "      <th>747594</th>\n",
       "      <td>21</td>\n",
       "      <td>9</td>\n",
       "      <td>9101</td>\n",
       "      <td>3</td>\n",
       "      <td>10</td>\n",
       "      <td>7</td>\n",
       "      <td>6</td>\n",
       "      <td>n</td>\n",
       "      <td>r</td>\n",
       "      <td>n</td>\n",
       "      <td>f</td>\n",
       "      <td>q</td>\n",
       "      <td>j</td>\n",
       "      <td>d</td>\n",
       "      <td>0</td>\n",
       "      <td>1</td>\n",
       "      <td>0</td>\n",
       "      <td>0</td>\n",
       "      <td>0</td>\n",
       "      <td>0</td>\n",
       "      <td>0</td>\n",
       "      <td>0</td>\n",
       "      <td>0</td>\n",
       "      <td>0</td>\n",
       "      <td>0</td>\n",
       "      <td>v</td>\n",
       "      <td>3</td>\n",
       "      <td>0</td>\n",
       "      <td>0</td>\n",
       "      <td>0</td>\n",
       "      <td>0</td>\n",
       "      <td>0</td>\n",
       "      <td>0</td>\n",
       "      <td>0</td>\n",
       "      <td>0</td>\n",
       "      <td>0</td>\n",
       "      <td>0</td>\n",
       "      <td>0</td>\n",
       "    </tr>\n",
       "  </tbody>\n",
       "</table>\n",
       "<p>260601 rows × 38 columns</p>\n",
       "</div>"
      ],
      "text/plain": [
       "             geo_level_1_id  ...  has_secondary_use_other\n",
       "building_id                  ...                         \n",
       "802906                    6  ...                        0\n",
       "28830                     8  ...                        0\n",
       "94947                    21  ...                        0\n",
       "590882                   22  ...                        0\n",
       "201944                   11  ...                        0\n",
       "...                     ...  ...                      ...\n",
       "688636                   25  ...                        0\n",
       "669485                   17  ...                        0\n",
       "602512                   17  ...                        0\n",
       "151409                   26  ...                        0\n",
       "747594                   21  ...                        0\n",
       "\n",
       "[260601 rows x 38 columns]"
      ]
     },
     "execution_count": 25,
     "metadata": {
      "tags": []
     },
     "output_type": "execute_result"
    }
   ],
   "source": [
    "train_values"
   ]
  },
  {
   "cell_type": "code",
   "execution_count": null,
   "metadata": {
    "id": "FVrkFRwq265O"
   },
   "outputs": [],
   "source": []
  },
  {
   "cell_type": "code",
   "execution_count": null,
   "metadata": {
    "colab": {
     "base_uri": "https://localhost:8080/"
    },
    "executionInfo": {
     "elapsed": 1105,
     "status": "ok",
     "timestamp": 1611768075245,
     "user": {
      "displayName": "Adam Murphy",
      "photoUrl": "https://lh3.googleusercontent.com/a-/AOh14GhrEUWR1gM_kMZc1JaOXZTsyHAIY7wGzIWe3pircVE=s64",
      "userId": "08787610892899884155"
     },
     "user_tz": 0
    },
    "id": "Gno_oNRZ3E7C",
    "outputId": "3cda316d-9269-4e05-e38a-ce5349c7ea1a"
   },
   "outputs": [
    {
     "data": {
      "text/plain": [
       "(182420, 1)"
      ]
     },
     "execution_count": 30,
     "metadata": {
      "tags": []
     },
     "output_type": "execute_result"
    }
   ],
   "source": [
    "y_train.shape"
   ]
  },
  {
   "cell_type": "code",
   "execution_count": null,
   "metadata": {
    "colab": {
     "base_uri": "https://localhost:8080/"
    },
    "executionInfo": {
     "elapsed": 578,
     "status": "ok",
     "timestamp": 1611768438801,
     "user": {
      "displayName": "Adam Murphy",
      "photoUrl": "https://lh3.googleusercontent.com/a-/AOh14GhrEUWR1gM_kMZc1JaOXZTsyHAIY7wGzIWe3pircVE=s64",
      "userId": "08787610892899884155"
     },
     "user_tz": 0
    },
    "id": "7DMyM-TE4jNq",
    "outputId": "7631ebbf-66d1-403b-8b38-f1444c312239"
   },
   "outputs": [
    {
     "name": "stdout",
     "output_type": "stream",
     "text": [
      "<class 'pandas.core.frame.DataFrame'>\n",
      "Int64Index: 260601 entries, 802906 to 747594\n",
      "Data columns (total 38 columns):\n",
      " #   Column                                  Non-Null Count   Dtype \n",
      "---  ------                                  --------------   ----- \n",
      " 0   geo_level_1_id                          260601 non-null  int64 \n",
      " 1   geo_level_2_id                          260601 non-null  int64 \n",
      " 2   geo_level_3_id                          260601 non-null  int64 \n",
      " 3   count_floors_pre_eq                     260601 non-null  int64 \n",
      " 4   age                                     260601 non-null  int64 \n",
      " 5   area_percentage                         260601 non-null  int64 \n",
      " 6   height_percentage                       260601 non-null  int64 \n",
      " 7   land_surface_condition                  260601 non-null  object\n",
      " 8   foundation_type                         260601 non-null  object\n",
      " 9   roof_type                               260601 non-null  object\n",
      " 10  ground_floor_type                       260601 non-null  object\n",
      " 11  other_floor_type                        260601 non-null  object\n",
      " 12  position                                260601 non-null  object\n",
      " 13  plan_configuration                      260601 non-null  object\n",
      " 14  has_superstructure_adobe_mud            260601 non-null  int64 \n",
      " 15  has_superstructure_mud_mortar_stone     260601 non-null  int64 \n",
      " 16  has_superstructure_stone_flag           260601 non-null  int64 \n",
      " 17  has_superstructure_cement_mortar_stone  260601 non-null  int64 \n",
      " 18  has_superstructure_mud_mortar_brick     260601 non-null  int64 \n",
      " 19  has_superstructure_cement_mortar_brick  260601 non-null  int64 \n",
      " 20  has_superstructure_timber               260601 non-null  int64 \n",
      " 21  has_superstructure_bamboo               260601 non-null  int64 \n",
      " 22  has_superstructure_rc_non_engineered    260601 non-null  int64 \n",
      " 23  has_superstructure_rc_engineered        260601 non-null  int64 \n",
      " 24  has_superstructure_other                260601 non-null  int64 \n",
      " 25  legal_ownership_status                  260601 non-null  object\n",
      " 26  count_families                          260601 non-null  int64 \n",
      " 27  has_secondary_use                       260601 non-null  int64 \n",
      " 28  has_secondary_use_agriculture           260601 non-null  int64 \n",
      " 29  has_secondary_use_hotel                 260601 non-null  int64 \n",
      " 30  has_secondary_use_rental                260601 non-null  int64 \n",
      " 31  has_secondary_use_institution           260601 non-null  int64 \n",
      " 32  has_secondary_use_school                260601 non-null  int64 \n",
      " 33  has_secondary_use_industry              260601 non-null  int64 \n",
      " 34  has_secondary_use_health_post           260601 non-null  int64 \n",
      " 35  has_secondary_use_gov_office            260601 non-null  int64 \n",
      " 36  has_secondary_use_use_police            260601 non-null  int64 \n",
      " 37  has_secondary_use_other                 260601 non-null  int64 \n",
      "dtypes: int64(30), object(8)\n",
      "memory usage: 77.5+ MB\n"
     ]
    }
   ],
   "source": [
    "train_values.info()"
   ]
  },
  {
   "cell_type": "code",
   "execution_count": null,
   "metadata": {
    "colab": {
     "base_uri": "https://localhost:8080/",
     "height": 579
    },
    "executionInfo": {
     "elapsed": 1973,
     "status": "error",
     "timestamp": 1611767660812,
     "user": {
      "displayName": "Adam Murphy",
      "photoUrl": "https://lh3.googleusercontent.com/a-/AOh14GhrEUWR1gM_kMZc1JaOXZTsyHAIY7wGzIWe3pircVE=s64",
      "userId": "08787610892899884155"
     },
     "user_tz": 0
    },
    "id": "dJWX7ZPNz4MK",
    "outputId": "567efaa2-cb41-4cdd-a964-7e83fbc22e2f"
   },
   "outputs": [
    {
     "name": "stdout",
     "output_type": "stream",
     "text": [
      "Loading data...\n"
     ]
    },
    {
     "ename": "FileNotFoundError",
     "evalue": "ignored",
     "output_type": "error",
     "traceback": [
      "\u001b[0;31m---------------------------------------------------------------------------\u001b[0m",
      "\u001b[0;31mFileNotFoundError\u001b[0m                         Traceback (most recent call last)",
      "\u001b[0;32m<ipython-input-19-d7e518f71bc9>\u001b[0m in \u001b[0;36m<module>\u001b[0;34m()\u001b[0m\n\u001b[1;32m      6\u001b[0m \u001b[0mprint\u001b[0m\u001b[0;34m(\u001b[0m\u001b[0;34m'Loading data...'\u001b[0m\u001b[0;34m)\u001b[0m\u001b[0;34m\u001b[0m\u001b[0;34m\u001b[0m\u001b[0m\n\u001b[1;32m      7\u001b[0m \u001b[0;31m# load or create your dataset\u001b[0m\u001b[0;34m\u001b[0m\u001b[0;34m\u001b[0m\u001b[0;34m\u001b[0m\u001b[0m\n\u001b[0;32m----> 8\u001b[0;31m \u001b[0mdf_train\u001b[0m \u001b[0;34m=\u001b[0m \u001b[0mpd\u001b[0m\u001b[0;34m.\u001b[0m\u001b[0mread_csv\u001b[0m\u001b[0;34m(\u001b[0m\u001b[0;34m'../regression/regression.train'\u001b[0m\u001b[0;34m,\u001b[0m \u001b[0mheader\u001b[0m\u001b[0;34m=\u001b[0m\u001b[0;32mNone\u001b[0m\u001b[0;34m,\u001b[0m \u001b[0msep\u001b[0m\u001b[0;34m=\u001b[0m\u001b[0;34m'\\t'\u001b[0m\u001b[0;34m)\u001b[0m\u001b[0;34m\u001b[0m\u001b[0;34m\u001b[0m\u001b[0m\n\u001b[0m\u001b[1;32m      9\u001b[0m \u001b[0mdf_test\u001b[0m \u001b[0;34m=\u001b[0m \u001b[0mpd\u001b[0m\u001b[0;34m.\u001b[0m\u001b[0mread_csv\u001b[0m\u001b[0;34m(\u001b[0m\u001b[0;34m'../regression/regression.test'\u001b[0m\u001b[0;34m,\u001b[0m \u001b[0mheader\u001b[0m\u001b[0;34m=\u001b[0m\u001b[0;32mNone\u001b[0m\u001b[0;34m,\u001b[0m \u001b[0msep\u001b[0m\u001b[0;34m=\u001b[0m\u001b[0;34m'\\t'\u001b[0m\u001b[0;34m)\u001b[0m\u001b[0;34m\u001b[0m\u001b[0;34m\u001b[0m\u001b[0m\n\u001b[1;32m     10\u001b[0m \u001b[0;34m\u001b[0m\u001b[0m\n",
      "\u001b[0;32m/usr/local/lib/python3.6/dist-packages/pandas/io/parsers.py\u001b[0m in \u001b[0;36mread_csv\u001b[0;34m(filepath_or_buffer, sep, delimiter, header, names, index_col, usecols, squeeze, prefix, mangle_dupe_cols, dtype, engine, converters, true_values, false_values, skipinitialspace, skiprows, skipfooter, nrows, na_values, keep_default_na, na_filter, verbose, skip_blank_lines, parse_dates, infer_datetime_format, keep_date_col, date_parser, dayfirst, cache_dates, iterator, chunksize, compression, thousands, decimal, lineterminator, quotechar, quoting, doublequote, escapechar, comment, encoding, dialect, error_bad_lines, warn_bad_lines, delim_whitespace, low_memory, memory_map, float_precision)\u001b[0m\n\u001b[1;32m    686\u001b[0m     )\n\u001b[1;32m    687\u001b[0m \u001b[0;34m\u001b[0m\u001b[0m\n\u001b[0;32m--> 688\u001b[0;31m     \u001b[0;32mreturn\u001b[0m \u001b[0m_read\u001b[0m\u001b[0;34m(\u001b[0m\u001b[0mfilepath_or_buffer\u001b[0m\u001b[0;34m,\u001b[0m \u001b[0mkwds\u001b[0m\u001b[0;34m)\u001b[0m\u001b[0;34m\u001b[0m\u001b[0;34m\u001b[0m\u001b[0m\n\u001b[0m\u001b[1;32m    689\u001b[0m \u001b[0;34m\u001b[0m\u001b[0m\n\u001b[1;32m    690\u001b[0m \u001b[0;34m\u001b[0m\u001b[0m\n",
      "\u001b[0;32m/usr/local/lib/python3.6/dist-packages/pandas/io/parsers.py\u001b[0m in \u001b[0;36m_read\u001b[0;34m(filepath_or_buffer, kwds)\u001b[0m\n\u001b[1;32m    452\u001b[0m \u001b[0;34m\u001b[0m\u001b[0m\n\u001b[1;32m    453\u001b[0m     \u001b[0;31m# Create the parser.\u001b[0m\u001b[0;34m\u001b[0m\u001b[0;34m\u001b[0m\u001b[0;34m\u001b[0m\u001b[0m\n\u001b[0;32m--> 454\u001b[0;31m     \u001b[0mparser\u001b[0m \u001b[0;34m=\u001b[0m \u001b[0mTextFileReader\u001b[0m\u001b[0;34m(\u001b[0m\u001b[0mfp_or_buf\u001b[0m\u001b[0;34m,\u001b[0m \u001b[0;34m**\u001b[0m\u001b[0mkwds\u001b[0m\u001b[0;34m)\u001b[0m\u001b[0;34m\u001b[0m\u001b[0;34m\u001b[0m\u001b[0m\n\u001b[0m\u001b[1;32m    455\u001b[0m \u001b[0;34m\u001b[0m\u001b[0m\n\u001b[1;32m    456\u001b[0m     \u001b[0;32mif\u001b[0m \u001b[0mchunksize\u001b[0m \u001b[0;32mor\u001b[0m \u001b[0miterator\u001b[0m\u001b[0;34m:\u001b[0m\u001b[0;34m\u001b[0m\u001b[0;34m\u001b[0m\u001b[0m\n",
      "\u001b[0;32m/usr/local/lib/python3.6/dist-packages/pandas/io/parsers.py\u001b[0m in \u001b[0;36m__init__\u001b[0;34m(self, f, engine, **kwds)\u001b[0m\n\u001b[1;32m    946\u001b[0m             \u001b[0mself\u001b[0m\u001b[0;34m.\u001b[0m\u001b[0moptions\u001b[0m\u001b[0;34m[\u001b[0m\u001b[0;34m\"has_index_names\"\u001b[0m\u001b[0;34m]\u001b[0m \u001b[0;34m=\u001b[0m \u001b[0mkwds\u001b[0m\u001b[0;34m[\u001b[0m\u001b[0;34m\"has_index_names\"\u001b[0m\u001b[0;34m]\u001b[0m\u001b[0;34m\u001b[0m\u001b[0;34m\u001b[0m\u001b[0m\n\u001b[1;32m    947\u001b[0m \u001b[0;34m\u001b[0m\u001b[0m\n\u001b[0;32m--> 948\u001b[0;31m         \u001b[0mself\u001b[0m\u001b[0;34m.\u001b[0m\u001b[0m_make_engine\u001b[0m\u001b[0;34m(\u001b[0m\u001b[0mself\u001b[0m\u001b[0;34m.\u001b[0m\u001b[0mengine\u001b[0m\u001b[0;34m)\u001b[0m\u001b[0;34m\u001b[0m\u001b[0;34m\u001b[0m\u001b[0m\n\u001b[0m\u001b[1;32m    949\u001b[0m \u001b[0;34m\u001b[0m\u001b[0m\n\u001b[1;32m    950\u001b[0m     \u001b[0;32mdef\u001b[0m \u001b[0mclose\u001b[0m\u001b[0;34m(\u001b[0m\u001b[0mself\u001b[0m\u001b[0;34m)\u001b[0m\u001b[0;34m:\u001b[0m\u001b[0;34m\u001b[0m\u001b[0;34m\u001b[0m\u001b[0m\n",
      "\u001b[0;32m/usr/local/lib/python3.6/dist-packages/pandas/io/parsers.py\u001b[0m in \u001b[0;36m_make_engine\u001b[0;34m(self, engine)\u001b[0m\n\u001b[1;32m   1178\u001b[0m     \u001b[0;32mdef\u001b[0m \u001b[0m_make_engine\u001b[0m\u001b[0;34m(\u001b[0m\u001b[0mself\u001b[0m\u001b[0;34m,\u001b[0m \u001b[0mengine\u001b[0m\u001b[0;34m=\u001b[0m\u001b[0;34m\"c\"\u001b[0m\u001b[0;34m)\u001b[0m\u001b[0;34m:\u001b[0m\u001b[0;34m\u001b[0m\u001b[0;34m\u001b[0m\u001b[0m\n\u001b[1;32m   1179\u001b[0m         \u001b[0;32mif\u001b[0m \u001b[0mengine\u001b[0m \u001b[0;34m==\u001b[0m \u001b[0;34m\"c\"\u001b[0m\u001b[0;34m:\u001b[0m\u001b[0;34m\u001b[0m\u001b[0;34m\u001b[0m\u001b[0m\n\u001b[0;32m-> 1180\u001b[0;31m             \u001b[0mself\u001b[0m\u001b[0;34m.\u001b[0m\u001b[0m_engine\u001b[0m \u001b[0;34m=\u001b[0m \u001b[0mCParserWrapper\u001b[0m\u001b[0;34m(\u001b[0m\u001b[0mself\u001b[0m\u001b[0;34m.\u001b[0m\u001b[0mf\u001b[0m\u001b[0;34m,\u001b[0m \u001b[0;34m**\u001b[0m\u001b[0mself\u001b[0m\u001b[0;34m.\u001b[0m\u001b[0moptions\u001b[0m\u001b[0;34m)\u001b[0m\u001b[0;34m\u001b[0m\u001b[0;34m\u001b[0m\u001b[0m\n\u001b[0m\u001b[1;32m   1181\u001b[0m         \u001b[0;32melse\u001b[0m\u001b[0;34m:\u001b[0m\u001b[0;34m\u001b[0m\u001b[0;34m\u001b[0m\u001b[0m\n\u001b[1;32m   1182\u001b[0m             \u001b[0;32mif\u001b[0m \u001b[0mengine\u001b[0m \u001b[0;34m==\u001b[0m \u001b[0;34m\"python\"\u001b[0m\u001b[0;34m:\u001b[0m\u001b[0;34m\u001b[0m\u001b[0;34m\u001b[0m\u001b[0m\n",
      "\u001b[0;32m/usr/local/lib/python3.6/dist-packages/pandas/io/parsers.py\u001b[0m in \u001b[0;36m__init__\u001b[0;34m(self, src, **kwds)\u001b[0m\n\u001b[1;32m   2008\u001b[0m         \u001b[0mkwds\u001b[0m\u001b[0;34m[\u001b[0m\u001b[0;34m\"usecols\"\u001b[0m\u001b[0;34m]\u001b[0m \u001b[0;34m=\u001b[0m \u001b[0mself\u001b[0m\u001b[0;34m.\u001b[0m\u001b[0musecols\u001b[0m\u001b[0;34m\u001b[0m\u001b[0;34m\u001b[0m\u001b[0m\n\u001b[1;32m   2009\u001b[0m \u001b[0;34m\u001b[0m\u001b[0m\n\u001b[0;32m-> 2010\u001b[0;31m         \u001b[0mself\u001b[0m\u001b[0;34m.\u001b[0m\u001b[0m_reader\u001b[0m \u001b[0;34m=\u001b[0m \u001b[0mparsers\u001b[0m\u001b[0;34m.\u001b[0m\u001b[0mTextReader\u001b[0m\u001b[0;34m(\u001b[0m\u001b[0msrc\u001b[0m\u001b[0;34m,\u001b[0m \u001b[0;34m**\u001b[0m\u001b[0mkwds\u001b[0m\u001b[0;34m)\u001b[0m\u001b[0;34m\u001b[0m\u001b[0;34m\u001b[0m\u001b[0m\n\u001b[0m\u001b[1;32m   2011\u001b[0m         \u001b[0mself\u001b[0m\u001b[0;34m.\u001b[0m\u001b[0munnamed_cols\u001b[0m \u001b[0;34m=\u001b[0m \u001b[0mself\u001b[0m\u001b[0;34m.\u001b[0m\u001b[0m_reader\u001b[0m\u001b[0;34m.\u001b[0m\u001b[0munnamed_cols\u001b[0m\u001b[0;34m\u001b[0m\u001b[0;34m\u001b[0m\u001b[0m\n\u001b[1;32m   2012\u001b[0m \u001b[0;34m\u001b[0m\u001b[0m\n",
      "\u001b[0;32mpandas/_libs/parsers.pyx\u001b[0m in \u001b[0;36mpandas._libs.parsers.TextReader.__cinit__\u001b[0;34m()\u001b[0m\n",
      "\u001b[0;32mpandas/_libs/parsers.pyx\u001b[0m in \u001b[0;36mpandas._libs.parsers.TextReader._setup_parser_source\u001b[0;34m()\u001b[0m\n",
      "\u001b[0;31mFileNotFoundError\u001b[0m: [Errno 2] No such file or directory: '../regression/regression.train'"
     ]
    }
   ],
   "source": [
    "print(\"Loading data...\")\n",
    "# load or create your dataset\n",
    "train_values = pd.read_csv(DATA_DIR / \"train_values.csv\", index_col=\"building_id\")\n",
    "train_labels = pd.read_csv(DATA_DIR / \"train_labels.csv\", index_col=\"building_id\")\n",
    "\n",
    "X_train, X_test, y_train, y_test = train_test_split(\n",
    "    train_values, train_labels, test_size=0.3, random_state=123, stratify=train_labels\n",
    ")\n",
    "\n",
    "# create dataset for lightgbm\n",
    "lgb_train = lgb.Dataset(X_train, y_train)\n",
    "lgb_eval = lgb.Dataset(X_test, y_test, reference=lgb_train)\n",
    "\n",
    "# specify your configurations as a dict\n",
    "params = {\n",
    "    \"boosting_type\": \"gbdt\",\n",
    "    \"objective\": \"classification\",\n",
    "    \"metric\": {\"l2\", \"l1\"},\n",
    "    \"num_leaves\": 31,\n",
    "    \"learning_rate\": 0.05,\n",
    "    \"feature_fraction\": 0.9,\n",
    "    \"bagging_fraction\": 0.8,\n",
    "    \"bagging_freq\": 5,\n",
    "    \"verbose\": 0,\n",
    "}\n",
    "\n",
    "print(\"Starting training...\")\n",
    "# train\n",
    "gbm = lgb.train(\n",
    "    params, lgb_train, num_boost_round=20, valid_sets=lgb_eval, early_stopping_rounds=5\n",
    ")\n",
    "\n",
    "print(\"Saving model...\")\n",
    "# save model to file\n",
    "gbm.save_model(\"model.txt\")\n",
    "\n",
    "print(\"Starting predicting...\")\n",
    "# predict\n",
    "y_pred = gbm.predict(X_test, num_iteration=gbm.best_iteration)\n",
    "# eval\n",
    "print(\"The rmse of prediction is:\", mean_squared_error(y_test, y_pred) ** 0.5)"
   ]
  },
  {
   "cell_type": "markdown",
   "metadata": {
    "id": "2D8Ng5ntViWT"
   },
   "source": [
    "# Using Sklearn API and fucking off GPU"
   ]
  },
  {
   "cell_type": "code",
   "execution_count": 9,
   "metadata": {
    "colab": {
     "base_uri": "https://localhost:8080/"
    },
    "executionInfo": {
     "elapsed": 1301,
     "status": "ok",
     "timestamp": 1612215244847,
     "user": {
      "displayName": "Adam Murphy",
      "photoUrl": "https://lh3.googleusercontent.com/a-/AOh14GhrEUWR1gM_kMZc1JaOXZTsyHAIY7wGzIWe3pircVE=s64",
      "userId": "08787610892899884155"
     },
     "user_tz": 0
    },
    "id": "LXOF32yclHNf",
    "outputId": "20a6f28c-7149-409e-9c5d-2e0184faa3da"
   },
   "outputs": [
    {
     "name": "stdout",
     "output_type": "stream",
     "text": [
      "Drive already mounted at /content/drive; to attempt to forcibly remount, call drive.mount(\"/content/drive\", force_remount=True).\n"
     ]
    }
   ],
   "source": [
    "import matplotlib.pyplot as plt\n",
    "import seaborn as sns\n",
    "import numpy as np\n",
    "import pandas as pd\n",
    "from pathlib import Path\n",
    "import lightgbm as lgb\n",
    "from sklearn.metrics import mean_squared_error\n",
    "from sklearn.model_selection import train_test_split\n",
    "from sklearn.metrics import f1_score\n",
    "\n",
    "DATA_DIR = Path(\"/content/drive/MyDrive/Work/Delivery/Current/Earthquake_damage/data\")\n",
    "SUBMISSIONS_DIR = Path(\n",
    "    \"drive/MyDrive/Work/Delivery/Current/Earthquake_damage/submissions\"\n",
    ")\n",
    "\n",
    "from google.colab import drive\n",
    "\n",
    "drive.mount(\"/content/drive\")\n",
    "\n",
    "X = pd.read_csv(DATA_DIR / \"train_values.csv\", index_col=\"building_id\")\n",
    "y = pd.read_csv(DATA_DIR / \"train_labels.csv\", index_col=\"building_id\")"
   ]
  },
  {
   "cell_type": "code",
   "execution_count": 10,
   "metadata": {
    "executionInfo": {
     "elapsed": 736,
     "status": "ok",
     "timestamp": 1612215246462,
     "user": {
      "displayName": "Adam Murphy",
      "photoUrl": "https://lh3.googleusercontent.com/a-/AOh14GhrEUWR1gM_kMZc1JaOXZTsyHAIY7wGzIWe3pircVE=s64",
      "userId": "08787610892899884155"
     },
     "user_tz": 0
    },
    "id": "PvYcmPfIVm05"
   },
   "outputs": [],
   "source": [
    "sns.set()"
   ]
  },
  {
   "cell_type": "code",
   "execution_count": 11,
   "metadata": {
    "executionInfo": {
     "elapsed": 655,
     "status": "ok",
     "timestamp": 1612215247543,
     "user": {
      "displayName": "Adam Murphy",
      "photoUrl": "https://lh3.googleusercontent.com/a-/AOh14GhrEUWR1gM_kMZc1JaOXZTsyHAIY7wGzIWe3pircVE=s64",
      "userId": "08787610892899884155"
     },
     "user_tz": 0
    },
    "id": "qmPaCfHNVrt7"
   },
   "outputs": [],
   "source": [
    "categorical_columns = X.select_dtypes(include=\"object\").columns\n",
    "X[categorical_columns] = X[categorical_columns].astype(\"category\")"
   ]
  },
  {
   "cell_type": "code",
   "execution_count": 12,
   "metadata": {
    "executionInfo": {
     "elapsed": 1288,
     "status": "ok",
     "timestamp": 1612215248903,
     "user": {
      "displayName": "Adam Murphy",
      "photoUrl": "https://lh3.googleusercontent.com/a-/AOh14GhrEUWR1gM_kMZc1JaOXZTsyHAIY7wGzIWe3pircVE=s64",
      "userId": "08787610892899884155"
     },
     "user_tz": 0
    },
    "id": "KBBQIsVVVsIn"
   },
   "outputs": [],
   "source": [
    "bool_columns = [col for col in X.columns if col.startswith(\"has\")]\n",
    "X[bool_columns] = X[bool_columns].astype(\"bool\")"
   ]
  },
  {
   "cell_type": "code",
   "execution_count": 13,
   "metadata": {
    "executionInfo": {
     "elapsed": 557,
     "status": "ok",
     "timestamp": 1612215258473,
     "user": {
      "displayName": "Adam Murphy",
      "photoUrl": "https://lh3.googleusercontent.com/a-/AOh14GhrEUWR1gM_kMZc1JaOXZTsyHAIY7wGzIWe3pircVE=s64",
      "userId": "08787610892899884155"
     },
     "user_tz": 0
    },
    "id": "fTtAkDsUYUyF"
   },
   "outputs": [],
   "source": [
    "X = pd.get_dummies(X)"
   ]
  },
  {
   "cell_type": "code",
   "execution_count": 7,
   "metadata": {
    "executionInfo": {
     "elapsed": 550,
     "status": "ok",
     "timestamp": 1612215032739,
     "user": {
      "displayName": "Adam Murphy",
      "photoUrl": "https://lh3.googleusercontent.com/a-/AOh14GhrEUWR1gM_kMZc1JaOXZTsyHAIY7wGzIWe3pircVE=s64",
      "userId": "08787610892899884155"
     },
     "user_tz": 0
    },
    "id": "1KDnSvSwVths"
   },
   "outputs": [],
   "source": [
    "from sklearn.pipeline import Pipeline\n",
    "from sklearn.preprocessing import StandardScaler\n",
    "from sklearn.model_selection import GridSearchCV\n",
    "from lightgbm import LGBMClassifier"
   ]
  },
  {
   "cell_type": "code",
   "execution_count": 8,
   "metadata": {
    "colab": {
     "base_uri": "https://localhost:8080/"
    },
    "executionInfo": {
     "elapsed": 615,
     "status": "ok",
     "timestamp": 1612215032989,
     "user": {
      "displayName": "Adam Murphy",
      "photoUrl": "https://lh3.googleusercontent.com/a-/AOh14GhrEUWR1gM_kMZc1JaOXZTsyHAIY7wGzIWe3pircVE=s64",
      "userId": "08787610892899884155"
     },
     "user_tz": 0
    },
    "id": "fonE1k7yWivY",
    "outputId": "26e5ab49-7425-4d24-a83f-1108b4b51b61"
   },
   "outputs": [
    {
     "data": {
      "text/plain": [
       "Pipeline(memory=None,\n",
       "         steps=[('scaler',\n",
       "                 StandardScaler(copy=True, with_mean=True, with_std=True)),\n",
       "                ('lgbm',\n",
       "                 LGBMClassifier(boosting_type='gbdt', class_weight=None,\n",
       "                                colsample_bytree=1.0, importance_type='split',\n",
       "                                learning_rate=0.1, max_depth=-1,\n",
       "                                min_child_samples=20, min_child_weight=0.001,\n",
       "                                min_split_gain=0.0, n_estimators=100, n_jobs=-1,\n",
       "                                num_leaves=31, objective=None, random_state=42,\n",
       "                                reg_alpha=0.0, reg_lambda=0.0, silent=True,\n",
       "                                subsample=1.0, subsample_for_bin=200000,\n",
       "                                subsample_freq=0))],\n",
       "         verbose=False)"
      ]
     },
     "execution_count": 8,
     "metadata": {
      "tags": []
     },
     "output_type": "execute_result"
    }
   ],
   "source": [
    "steps = [(\"scaler\", StandardScaler()), (\"lgbm\", LGBMClassifier(random_state=42))]\n",
    "\n",
    "pipe = Pipeline(steps)\n",
    "pipe"
   ]
  },
  {
   "cell_type": "code",
   "execution_count": null,
   "metadata": {
    "id": "A0uX238dW9Tc"
   },
   "outputs": [],
   "source": [
    "param_grid = {\"lgbm__n_estimators\": [50, 100, 150], \"lgbm__num_leaves\": [20, 31, 40]}\n",
    "\n",
    "gs = GridSearchCV(pipe, param_grid, cv=5, verbose=3, n_jobs=-1)"
   ]
  },
  {
   "cell_type": "code",
   "execution_count": null,
   "metadata": {
    "id": "fGZJCBl7XmpI"
   },
   "outputs": [],
   "source": [
    "X_train, X_test, y_train, y_test = train_test_split(\n",
    "    X, y, test_size=0.3, random_state=123, stratify=y\n",
    ")"
   ]
  },
  {
   "cell_type": "code",
   "execution_count": null,
   "metadata": {
    "colab": {
     "base_uri": "https://localhost:8080/"
    },
    "executionInfo": {
     "elapsed": 24225,
     "status": "ok",
     "timestamp": 1611937855830,
     "user": {
      "displayName": "Adam Murphy",
      "photoUrl": "https://lh3.googleusercontent.com/a-/AOh14GhrEUWR1gM_kMZc1JaOXZTsyHAIY7wGzIWe3pircVE=s64",
      "userId": "08787610892899884155"
     },
     "user_tz": 0
    },
    "id": "8ubGWdfUXuV6",
    "outputId": "38fa4ca1-349c-4f21-8344-a42b0702862f"
   },
   "outputs": [
    {
     "data": {
      "text/plain": [
       "Pipeline(memory=None,\n",
       "         steps=[('scaler',\n",
       "                 StandardScaler(copy=True, with_mean=True, with_std=True)),\n",
       "                ('lgbm',\n",
       "                 LGBMClassifier(boosting_type='gbdt', class_weight=None,\n",
       "                                colsample_bytree=1.0, importance_type='split',\n",
       "                                learning_rate=0.1, max_depth=-1,\n",
       "                                min_child_samples=20, min_child_weight=0.001,\n",
       "                                min_split_gain=0.0, n_estimators=100, n_jobs=-1,\n",
       "                                num_leaves=31, objective=None, random_state=42,\n",
       "                                reg_alpha=0.0, reg_lambda=0.0, silent=True,\n",
       "                                subsample=1.0, subsample_for_bin=200000,\n",
       "                                subsample_freq=0))],\n",
       "         verbose=False)"
      ]
     },
     "execution_count": 17,
     "metadata": {
      "tags": []
     },
     "output_type": "execute_result"
    }
   ],
   "source": [
    "pipe.fit(X_train, y_train.values.ravel())"
   ]
  },
  {
   "cell_type": "code",
   "execution_count": null,
   "metadata": {
    "colab": {
     "base_uri": "https://localhost:8080/"
    },
    "executionInfo": {
     "elapsed": 25650,
     "status": "ok",
     "timestamp": 1611937857268,
     "user": {
      "displayName": "Adam Murphy",
      "photoUrl": "https://lh3.googleusercontent.com/a-/AOh14GhrEUWR1gM_kMZc1JaOXZTsyHAIY7wGzIWe3pircVE=s64",
      "userId": "08787610892899884155"
     },
     "user_tz": 0
    },
    "id": "gwgRGhmZaIYe",
    "outputId": "2d4f87c6-1856-4abc-990f-24b2f207e5c2"
   },
   "outputs": [
    {
     "data": {
      "text/plain": [
       "0.7088934651641703"
      ]
     },
     "execution_count": 18,
     "metadata": {
      "tags": []
     },
     "output_type": "execute_result"
    }
   ],
   "source": [
    "from sklearn.metrics import f1_score\n",
    "\n",
    "y_pred = pipe.predict(X_test)\n",
    "f1_score(y_test, y_pred, average=\"micro\")"
   ]
  },
  {
   "cell_type": "code",
   "execution_count": null,
   "metadata": {
    "id": "Gy_VfGvmauaD"
   },
   "outputs": [],
   "source": [
    "def make_submission(pipeline, title):\n",
    "    \"\"\"\n",
    "    Given a trained pipeline object, use it to make predictions on the\n",
    "    submission test set 'test_values.csv' and write them a csv in the submissions\n",
    "    folder.\n",
    "    \"\"\"\n",
    "    # Read in test_values csv and apply data preprocessing\n",
    "    # note: will create a data preprocessing pipeline or function in future\n",
    "    test_values = pd.read_csv(DATA_DIR / \"test_values.csv\", index_col=\"building_id\")\n",
    "    test_values[categorical_columns] = test_values[categorical_columns].astype(\n",
    "        \"category\"\n",
    "    )\n",
    "    test_values[bool_columns] = test_values[bool_columns].astype(\"bool\")\n",
    "    test_values = pd.get_dummies(test_values)\n",
    "\n",
    "    # Generate predictions using pipeline we pass in\n",
    "    predictions = pipeline.predict(test_values)\n",
    "\n",
    "    submission_format = pd.read_csv(\n",
    "        DATA_DIR / \"submission_format.csv\", index_col=\"building_id\"\n",
    "    )\n",
    "\n",
    "    my_submission = pd.DataFrame(\n",
    "        data=predictions,\n",
    "        columns=submission_format.columns,\n",
    "        index=submission_format.index,\n",
    "    )\n",
    "\n",
    "    my_submission.to_csv(SUBMISSIONS_DIR / f\"{title}.csv\")"
   ]
  },
  {
   "cell_type": "code",
   "execution_count": null,
   "metadata": {
    "id": "__XhXPsjk9RN"
   },
   "outputs": [],
   "source": [
    "make_submission(pipe, \"LGBMClassifier defaults all features\")"
   ]
  },
  {
   "cell_type": "markdown",
   "metadata": {
    "id": "D8bzOg0Btdsf"
   },
   "source": [
    "# Exploring Built Model"
   ]
  },
  {
   "cell_type": "code",
   "execution_count": null,
   "metadata": {
    "id": "CYW56JF8mgVB"
   },
   "outputs": [],
   "source": [
    "data = {\n",
    "    \"features\": X.columns,\n",
    "    \"importances\": pipe.named_steps[\"lgbm\"].feature_importances_,\n",
    "}\n",
    "\n",
    "feature_df = pd.DataFrame(data)"
   ]
  },
  {
   "cell_type": "code",
   "execution_count": null,
   "metadata": {
    "colab": {
     "base_uri": "https://localhost:8080/",
     "height": 383
    },
    "executionInfo": {
     "elapsed": 5000,
     "status": "ok",
     "timestamp": 1611937869533,
     "user": {
      "displayName": "Adam Murphy",
      "photoUrl": "https://lh3.googleusercontent.com/a-/AOh14GhrEUWR1gM_kMZc1JaOXZTsyHAIY7wGzIWe3pircVE=s64",
      "userId": "08787610892899884155"
     },
     "user_tz": 0
    },
    "id": "uXgBl7bjuuBJ",
    "outputId": "5cfe0665-38f3-4ffa-a7ee-002cac93c3dc"
   },
   "outputs": [
    {
     "data": {
      "image/png": "[encoded data removed]",
      "text/plain": [
       "<Figure size 1152x288 with 1 Axes>"
      ]
     },
     "metadata": {
      "tags": []
     },
     "output_type": "display_data"
    }
   ],
   "source": [
    "fig, ax = plt.subplots(figsize=plt.figaspect(1 / 4))\n",
    "sns.barplot(x=\"features\", y=\"importances\", data=feature_df)\n",
    "plt.xticks(rotation=90)\n",
    "plt.show()"
   ]
  },
  {
   "cell_type": "code",
   "execution_count": null,
   "metadata": {
    "colab": {
     "base_uri": "https://localhost:8080/",
     "height": 669
    },
    "executionInfo": {
     "elapsed": 3166,
     "status": "ok",
     "timestamp": 1611937869534,
     "user": {
      "displayName": "Adam Murphy",
      "photoUrl": "https://lh3.googleusercontent.com/a-/AOh14GhrEUWR1gM_kMZc1JaOXZTsyHAIY7wGzIWe3pircVE=s64",
      "userId": "08787610892899884155"
     },
     "user_tz": 0
    },
    "id": "5gMrtPtmvj_D",
    "outputId": "86eb99c7-5238-4629-e7ab-eceefa2f7eb4"
   },
   "outputs": [
    {
     "data": {
      "text/html": [
       "<div>\n",
       "<style scoped>\n",
       "    .dataframe tbody tr th:only-of-type {\n",
       "        vertical-align: middle;\n",
       "    }\n",
       "\n",
       "    .dataframe tbody tr th {\n",
       "        vertical-align: top;\n",
       "    }\n",
       "\n",
       "    .dataframe thead th {\n",
       "        text-align: right;\n",
       "    }\n",
       "</style>\n",
       "<table border=\"1\" class=\"dataframe\">\n",
       "  <thead>\n",
       "    <tr style=\"text-align: right;\">\n",
       "      <th></th>\n",
       "      <th>features</th>\n",
       "      <th>importances</th>\n",
       "    </tr>\n",
       "  </thead>\n",
       "  <tbody>\n",
       "    <tr>\n",
       "      <th>51</th>\n",
       "      <td>position_o</td>\n",
       "      <td>14</td>\n",
       "    </tr>\n",
       "    <tr>\n",
       "      <th>67</th>\n",
       "      <td>legal_ownership_status_w</td>\n",
       "      <td>13</td>\n",
       "    </tr>\n",
       "    <tr>\n",
       "      <th>45</th>\n",
       "      <td>ground_floor_type_z</td>\n",
       "      <td>13</td>\n",
       "    </tr>\n",
       "    <tr>\n",
       "      <th>53</th>\n",
       "      <td>position_t</td>\n",
       "      <td>11</td>\n",
       "    </tr>\n",
       "    <tr>\n",
       "      <th>64</th>\n",
       "      <td>legal_ownership_status_a</td>\n",
       "      <td>9</td>\n",
       "    </tr>\n",
       "    <tr>\n",
       "      <th>54</th>\n",
       "      <td>plan_configuration_a</td>\n",
       "      <td>8</td>\n",
       "    </tr>\n",
       "    <tr>\n",
       "      <th>65</th>\n",
       "      <td>legal_ownership_status_r</td>\n",
       "      <td>8</td>\n",
       "    </tr>\n",
       "    <tr>\n",
       "      <th>55</th>\n",
       "      <td>plan_configuration_c</td>\n",
       "      <td>4</td>\n",
       "    </tr>\n",
       "    <tr>\n",
       "      <th>25</th>\n",
       "      <td>has_secondary_use_industry</td>\n",
       "      <td>3</td>\n",
       "    </tr>\n",
       "    <tr>\n",
       "      <th>42</th>\n",
       "      <td>ground_floor_type_m</td>\n",
       "      <td>2</td>\n",
       "    </tr>\n",
       "    <tr>\n",
       "      <th>28</th>\n",
       "      <td>has_secondary_use_use_police</td>\n",
       "      <td>0</td>\n",
       "    </tr>\n",
       "    <tr>\n",
       "      <th>27</th>\n",
       "      <td>has_secondary_use_gov_office</td>\n",
       "      <td>0</td>\n",
       "    </tr>\n",
       "    <tr>\n",
       "      <th>62</th>\n",
       "      <td>plan_configuration_s</td>\n",
       "      <td>0</td>\n",
       "    </tr>\n",
       "    <tr>\n",
       "      <th>23</th>\n",
       "      <td>has_secondary_use_institution</td>\n",
       "      <td>0</td>\n",
       "    </tr>\n",
       "    <tr>\n",
       "      <th>60</th>\n",
       "      <td>plan_configuration_o</td>\n",
       "      <td>0</td>\n",
       "    </tr>\n",
       "    <tr>\n",
       "      <th>59</th>\n",
       "      <td>plan_configuration_n</td>\n",
       "      <td>0</td>\n",
       "    </tr>\n",
       "    <tr>\n",
       "      <th>24</th>\n",
       "      <td>has_secondary_use_school</td>\n",
       "      <td>0</td>\n",
       "    </tr>\n",
       "    <tr>\n",
       "      <th>57</th>\n",
       "      <td>plan_configuration_f</td>\n",
       "      <td>0</td>\n",
       "    </tr>\n",
       "    <tr>\n",
       "      <th>26</th>\n",
       "      <td>has_secondary_use_health_post</td>\n",
       "      <td>0</td>\n",
       "    </tr>\n",
       "    <tr>\n",
       "      <th>58</th>\n",
       "      <td>plan_configuration_m</td>\n",
       "      <td>0</td>\n",
       "    </tr>\n",
       "  </tbody>\n",
       "</table>\n",
       "</div>"
      ],
      "text/plain": [
       "                         features  importances\n",
       "51                     position_o           14\n",
       "67       legal_ownership_status_w           13\n",
       "45            ground_floor_type_z           13\n",
       "53                     position_t           11\n",
       "64       legal_ownership_status_a            9\n",
       "54           plan_configuration_a            8\n",
       "65       legal_ownership_status_r            8\n",
       "55           plan_configuration_c            4\n",
       "25     has_secondary_use_industry            3\n",
       "42            ground_floor_type_m            2\n",
       "28   has_secondary_use_use_police            0\n",
       "27   has_secondary_use_gov_office            0\n",
       "62           plan_configuration_s            0\n",
       "23  has_secondary_use_institution            0\n",
       "60           plan_configuration_o            0\n",
       "59           plan_configuration_n            0\n",
       "24       has_secondary_use_school            0\n",
       "57           plan_configuration_f            0\n",
       "26  has_secondary_use_health_post            0\n",
       "58           plan_configuration_m            0"
      ]
     },
     "execution_count": 22,
     "metadata": {
      "tags": []
     },
     "output_type": "execute_result"
    }
   ],
   "source": [
    "feature_df.sort_values(\"importances\", ascending=False).tail(20)"
   ]
  },
  {
   "cell_type": "code",
   "execution_count": null,
   "metadata": {
    "colab": {
     "base_uri": "https://localhost:8080/"
    },
    "executionInfo": {
     "elapsed": 788,
     "status": "ok",
     "timestamp": 1611934054907,
     "user": {
      "displayName": "Adam Murphy",
      "photoUrl": "https://lh3.googleusercontent.com/a-/AOh14GhrEUWR1gM_kMZc1JaOXZTsyHAIY7wGzIWe3pircVE=s64",
      "userId": "08787610892899884155"
     },
     "user_tz": 0
    },
    "id": "hY2bRFATv-qd",
    "outputId": "e28e744c-1518-4488-a866-6624fffab6d8"
   },
   "outputs": [
    {
     "data": {
      "text/plain": [
       "0       10\n",
       "23       3\n",
       "53       2\n",
       "8        2\n",
       "37       2\n",
       "35       2\n",
       "13       2\n",
       "34       2\n",
       "46       2\n",
       "30       1\n",
       "41       1\n",
       "296      1\n",
       "38       1\n",
       "32       1\n",
       "19       1\n",
       "3        1\n",
       "143      1\n",
       "14       1\n",
       "11       1\n",
       "2313     1\n",
       "4        1\n",
       "259      1\n",
       "2        1\n",
       "129      1\n",
       "42       1\n",
       "127      1\n",
       "125      1\n",
       "50       1\n",
       "378      1\n",
       "117      1\n",
       "15       1\n",
       "40       1\n",
       "108      1\n",
       "2283     1\n",
       "101      1\n",
       "739      1\n",
       "98       1\n",
       "215      1\n",
       "9        1\n",
       "80       1\n",
       "79       1\n",
       "73       1\n",
       "72       1\n",
       "67       1\n",
       "59       1\n",
       "58       1\n",
       "56       1\n",
       "55       1\n",
       "52       1\n",
       "47       1\n",
       "Name: importances, dtype: int64"
      ]
     },
     "execution_count": 62,
     "metadata": {
      "tags": []
     },
     "output_type": "execute_result"
    }
   ],
   "source": [
    "# Quite a lot are less than 10\n",
    "feature_df.importances.value_counts()"
   ]
  },
  {
   "cell_type": "code",
   "execution_count": null,
   "metadata": {
    "colab": {
     "base_uri": "https://localhost:8080/",
     "height": 483
    },
    "executionInfo": {
     "elapsed": 591,
     "status": "ok",
     "timestamp": 1611937872874,
     "user": {
      "displayName": "Adam Murphy",
      "photoUrl": "https://lh3.googleusercontent.com/a-/AOh14GhrEUWR1gM_kMZc1JaOXZTsyHAIY7wGzIWe3pircVE=s64",
      "userId": "08787610892899884155"
     },
     "user_tz": 0
    },
    "id": "s7kwIFIbwcOd",
    "outputId": "216f4e42-4fe2-4891-ff73-2a355bd16a56"
   },
   "outputs": [
    {
     "data": {
      "text/html": [
       "<div>\n",
       "<style scoped>\n",
       "    .dataframe tbody tr th:only-of-type {\n",
       "        vertical-align: middle;\n",
       "    }\n",
       "\n",
       "    .dataframe tbody tr th {\n",
       "        vertical-align: top;\n",
       "    }\n",
       "\n",
       "    .dataframe thead th {\n",
       "        text-align: right;\n",
       "    }\n",
       "</style>\n",
       "<table border=\"1\" class=\"dataframe\">\n",
       "  <thead>\n",
       "    <tr style=\"text-align: right;\">\n",
       "      <th></th>\n",
       "      <th>features</th>\n",
       "      <th>importances</th>\n",
       "    </tr>\n",
       "  </thead>\n",
       "  <tbody>\n",
       "    <tr>\n",
       "      <th>0</th>\n",
       "      <td>geo_level_1_id</td>\n",
       "      <td>2283</td>\n",
       "    </tr>\n",
       "    <tr>\n",
       "      <th>1</th>\n",
       "      <td>geo_level_2_id</td>\n",
       "      <td>2313</td>\n",
       "    </tr>\n",
       "    <tr>\n",
       "      <th>2</th>\n",
       "      <td>geo_level_3_id</td>\n",
       "      <td>739</td>\n",
       "    </tr>\n",
       "    <tr>\n",
       "      <th>3</th>\n",
       "      <td>count_floors_pre_eq</td>\n",
       "      <td>143</td>\n",
       "    </tr>\n",
       "    <tr>\n",
       "      <th>4</th>\n",
       "      <td>age</td>\n",
       "      <td>378</td>\n",
       "    </tr>\n",
       "    <tr>\n",
       "      <th>5</th>\n",
       "      <td>area_percentage</td>\n",
       "      <td>259</td>\n",
       "    </tr>\n",
       "    <tr>\n",
       "      <th>6</th>\n",
       "      <td>height_percentage</td>\n",
       "      <td>296</td>\n",
       "    </tr>\n",
       "    <tr>\n",
       "      <th>8</th>\n",
       "      <td>has_superstructure_mud_mortar_stone</td>\n",
       "      <td>215</td>\n",
       "    </tr>\n",
       "    <tr>\n",
       "      <th>9</th>\n",
       "      <td>has_superstructure_stone_flag</td>\n",
       "      <td>129</td>\n",
       "    </tr>\n",
       "    <tr>\n",
       "      <th>11</th>\n",
       "      <td>has_superstructure_mud_mortar_brick</td>\n",
       "      <td>101</td>\n",
       "    </tr>\n",
       "    <tr>\n",
       "      <th>12</th>\n",
       "      <td>has_superstructure_cement_mortar_brick</td>\n",
       "      <td>108</td>\n",
       "    </tr>\n",
       "    <tr>\n",
       "      <th>13</th>\n",
       "      <td>has_superstructure_timber</td>\n",
       "      <td>117</td>\n",
       "    </tr>\n",
       "    <tr>\n",
       "      <th>18</th>\n",
       "      <td>count_families</td>\n",
       "      <td>125</td>\n",
       "    </tr>\n",
       "    <tr>\n",
       "      <th>47</th>\n",
       "      <td>other_floor_type_q</td>\n",
       "      <td>127</td>\n",
       "    </tr>\n",
       "  </tbody>\n",
       "</table>\n",
       "</div>"
      ],
      "text/plain": [
       "                                  features  importances\n",
       "0                           geo_level_1_id         2283\n",
       "1                           geo_level_2_id         2313\n",
       "2                           geo_level_3_id          739\n",
       "3                      count_floors_pre_eq          143\n",
       "4                                      age          378\n",
       "5                          area_percentage          259\n",
       "6                        height_percentage          296\n",
       "8      has_superstructure_mud_mortar_stone          215\n",
       "9            has_superstructure_stone_flag          129\n",
       "11     has_superstructure_mud_mortar_brick          101\n",
       "12  has_superstructure_cement_mortar_brick          108\n",
       "13               has_superstructure_timber          117\n",
       "18                          count_families          125\n",
       "47                      other_floor_type_q          127"
      ]
     },
     "execution_count": 23,
     "metadata": {
      "tags": []
     },
     "output_type": "execute_result"
    }
   ],
   "source": [
    "# 14 features with importance above 100, let's train a model using just these\n",
    "feature_df[feature_df.importances >= 100]"
   ]
  },
  {
   "cell_type": "markdown",
   "metadata": {
    "id": "NC7pzlcnwp97"
   },
   "source": [
    "# Model with Most Important 14 Features"
   ]
  },
  {
   "cell_type": "code",
   "execution_count": null,
   "metadata": {
    "id": "4hJf-hoYwsg5"
   },
   "outputs": [],
   "source": [
    "most_important_features = feature_df[feature_df.importances >= 100].features.to_numpy()"
   ]
  },
  {
   "cell_type": "code",
   "execution_count": null,
   "metadata": {
    "colab": {
     "base_uri": "https://localhost:8080/",
     "height": 232
    },
    "executionInfo": {
     "elapsed": 616,
     "status": "error",
     "timestamp": 1611937876909,
     "user": {
      "displayName": "Adam Murphy",
      "photoUrl": "https://lh3.googleusercontent.com/a-/AOh14GhrEUWR1gM_kMZc1JaOXZTsyHAIY7wGzIWe3pircVE=s64",
      "userId": "08787610892899884155"
     },
     "user_tz": 0
    },
    "id": "DrrGWfVXwpmm",
    "outputId": "4a50191d-3e76-4a80-87b5-256a727051ec"
   },
   "outputs": [
    {
     "ename": "NameError",
     "evalue": "ignored",
     "output_type": "error",
     "traceback": [
      "\u001b[0;31m---------------------------------------------------------------------------\u001b[0m",
      "\u001b[0;31mNameError\u001b[0m                                 Traceback (most recent call last)",
      "\u001b[0;32m<ipython-input-25-db092755d1f5>\u001b[0m in \u001b[0;36m<module>\u001b[0;34m()\u001b[0m\n\u001b[0;32m----> 1\u001b[0;31m \u001b[0mcv\u001b[0m \u001b[0;34m=\u001b[0m \u001b[0mKFold\u001b[0m\u001b[0;34m(\u001b[0m\u001b[0mn_splits\u001b[0m\u001b[0;34m=\u001b[0m\u001b[0;36m5\u001b[0m\u001b[0;34m,\u001b[0m \u001b[0mrandom_state\u001b[0m\u001b[0;34m=\u001b[0m\u001b[0;36m1\u001b[0m\u001b[0;34m,\u001b[0m \u001b[0mshuffle\u001b[0m\u001b[0;34m=\u001b[0m\u001b[0;32mTrue\u001b[0m\u001b[0;34m)\u001b[0m\u001b[0;34m\u001b[0m\u001b[0;34m\u001b[0m\u001b[0m\n\u001b[0m\u001b[1;32m      2\u001b[0m \u001b[0;34m\u001b[0m\u001b[0m\n\u001b[1;32m      3\u001b[0m steps = [('scaler', StandardScaler()),\n\u001b[1;32m      4\u001b[0m          ('lgbm', LGBMClassifier(random_state=42))]\n\u001b[1;32m      5\u001b[0m \u001b[0;34m\u001b[0m\u001b[0m\n",
      "\u001b[0;31mNameError\u001b[0m: name 'KFold' is not defined"
     ]
    }
   ],
   "source": [
    "cv = KFold(n_splits=5, random_state=1, shuffle=True)\n",
    "\n",
    "steps = [(\"scaler\", StandardScaler()), (\"lgbm\", LGBMClassifier(random_state=42))]\n",
    "\n",
    "model = Pipeline(steps)\n",
    "\n",
    "scores = cross_val_score(\n",
    "    model, X[most_important_features], y, scoring=\"f1_micro\", cv=cv, n_jobs=-1\n",
    ")\n",
    "\n",
    "print(\"Accuracy: %.3f (%.3f)\" % (np.mean(scores), np.std(scores)))"
   ]
  },
  {
   "cell_type": "code",
   "execution_count": null,
   "metadata": {
    "id": "N8pJITfRx-Mz"
   },
   "outputs": [],
   "source": [
    "param_grid = {\"lgbm__n_estimators\": [50, 100, 150], \"lgbm__num_leaves\": [20, 31, 40]}\n",
    "\n",
    "gs = GridSearchCV(pipe, param_grid, cv=5, verbose=10, n_jobs=-1, scoring=\"f1_micro\")"
   ]
  },
  {
   "cell_type": "code",
   "execution_count": null,
   "metadata": {
    "colab": {
     "base_uri": "https://localhost:8080/"
    },
    "executionInfo": {
     "elapsed": 303477,
     "status": "ok",
     "timestamp": 1611935252177,
     "user": {
      "displayName": "Adam Murphy",
      "photoUrl": "https://lh3.googleusercontent.com/a-/AOh14GhrEUWR1gM_kMZc1JaOXZTsyHAIY7wGzIWe3pircVE=s64",
      "userId": "08787610892899884155"
     },
     "user_tz": 0
    },
    "id": "cp7yHoO5zo9y",
    "outputId": "ce71450b-1eb1-4fa8-fe02-f44703715544"
   },
   "outputs": [
    {
     "name": "stdout",
     "output_type": "stream",
     "text": [
      "Fitting 5 folds for each of 9 candidates, totalling 45 fits\n"
     ]
    },
    {
     "name": "stderr",
     "output_type": "stream",
     "text": [
      "[Parallel(n_jobs=-1)]: Using backend LokyBackend with 2 concurrent workers.\n",
      "[Parallel(n_jobs=-1)]: Done   1 tasks      | elapsed:    8.2s\n",
      "[Parallel(n_jobs=-1)]: Done   4 tasks      | elapsed:   15.4s\n",
      "[Parallel(n_jobs=-1)]: Done   9 tasks      | elapsed:   38.0s\n",
      "[Parallel(n_jobs=-1)]: Done  14 tasks      | elapsed:   54.9s\n",
      "[Parallel(n_jobs=-1)]: Done  21 tasks      | elapsed:  1.7min\n",
      "[Parallel(n_jobs=-1)]: Done  28 tasks      | elapsed:  2.4min\n",
      "[Parallel(n_jobs=-1)]: Done  37 tasks      | elapsed:  3.7min\n",
      "[Parallel(n_jobs=-1)]: Done  45 out of  45 | elapsed:  4.9min finished\n",
      "/usr/local/lib/python3.6/dist-packages/sklearn/preprocessing/_label.py:235: DataConversionWarning: A column-vector y was passed when a 1d array was expected. Please change the shape of y to (n_samples, ), for example using ravel().\n",
      "  y = column_or_1d(y, warn=True)\n",
      "/usr/local/lib/python3.6/dist-packages/sklearn/preprocessing/_label.py:268: DataConversionWarning: A column-vector y was passed when a 1d array was expected. Please change the shape of y to (n_samples, ), for example using ravel().\n",
      "  y = column_or_1d(y, warn=True)\n"
     ]
    },
    {
     "data": {
      "text/plain": [
       "GridSearchCV(cv=5, error_score=nan,\n",
       "             estimator=Pipeline(memory=None,\n",
       "                                steps=[('scaler',\n",
       "                                        StandardScaler(copy=True,\n",
       "                                                       with_mean=True,\n",
       "                                                       with_std=True)),\n",
       "                                       ('lgbm',\n",
       "                                        LGBMClassifier(boosting_type='gbdt',\n",
       "                                                       class_weight=None,\n",
       "                                                       colsample_bytree=1.0,\n",
       "                                                       importance_type='split',\n",
       "                                                       learning_rate=0.1,\n",
       "                                                       max_depth=-1,\n",
       "                                                       min_child_samples=20,\n",
       "                                                       min_child_weight=0.001,\n",
       "                                                       min_split_gain=0.0,\n",
       "                                                       n_estimator...\n",
       "                                                       n_jobs=-1, num_leaves=31,\n",
       "                                                       objective=None,\n",
       "                                                       random_state=42,\n",
       "                                                       reg_alpha=0.0,\n",
       "                                                       reg_lambda=0.0,\n",
       "                                                       silent=True,\n",
       "                                                       subsample=1.0,\n",
       "                                                       subsample_for_bin=200000,\n",
       "                                                       subsample_freq=0))],\n",
       "                                verbose=False),\n",
       "             iid='deprecated', n_jobs=-1,\n",
       "             param_grid={'lgbm__n_estimators': [50, 100, 150],\n",
       "                         'lgbm__num_leaves': [20, 31, 40]},\n",
       "             pre_dispatch='2*n_jobs', refit=True, return_train_score=False,\n",
       "             scoring='f1_micro', verbose=10)"
      ]
     },
     "execution_count": 76,
     "metadata": {
      "tags": []
     },
     "output_type": "execute_result"
    }
   ],
   "source": [
    "gs.fit(X[most_important_features], y)"
   ]
  },
  {
   "cell_type": "code",
   "execution_count": null,
   "metadata": {
    "colab": {
     "base_uri": "https://localhost:8080/"
    },
    "executionInfo": {
     "elapsed": 585,
     "status": "ok",
     "timestamp": 1611935303148,
     "user": {
      "displayName": "Adam Murphy",
      "photoUrl": "https://lh3.googleusercontent.com/a-/AOh14GhrEUWR1gM_kMZc1JaOXZTsyHAIY7wGzIWe3pircVE=s64",
      "userId": "08787610892899884155"
     },
     "user_tz": 0
    },
    "id": "ofbdph321LM9",
    "outputId": "f8c12fd2-5f11-4cd8-d3ab-6987e9f1567d"
   },
   "outputs": [
    {
     "data": {
      "text/plain": [
       "{'lgbm__n_estimators': 150, 'lgbm__num_leaves': 40}"
      ]
     },
     "execution_count": 77,
     "metadata": {
      "tags": []
     },
     "output_type": "execute_result"
    }
   ],
   "source": [
    "# Seems like more estimators and more leaves is better\n",
    "gs.best_params_"
   ]
  },
  {
   "cell_type": "code",
   "execution_count": null,
   "metadata": {
    "colab": {
     "base_uri": "https://localhost:8080/"
    },
    "executionInfo": {
     "elapsed": 586,
     "status": "ok",
     "timestamp": 1611935333320,
     "user": {
      "displayName": "Adam Murphy",
      "photoUrl": "https://lh3.googleusercontent.com/a-/AOh14GhrEUWR1gM_kMZc1JaOXZTsyHAIY7wGzIWe3pircVE=s64",
      "userId": "08787610892899884155"
     },
     "user_tz": 0
    },
    "id": "Y1I4WIfO1MNv",
    "outputId": "1b6a94b3-094a-44f7-f25c-86b89af905f5"
   },
   "outputs": [
    {
     "data": {
      "text/plain": [
       "0.7153003955919739"
      ]
     },
     "execution_count": 78,
     "metadata": {
      "tags": []
     },
     "output_type": "execute_result"
    }
   ],
   "source": [
    "gs.best_score_"
   ]
  },
  {
   "cell_type": "code",
   "execution_count": null,
   "metadata": {
    "colab": {
     "base_uri": "https://localhost:8080/"
    },
    "executionInfo": {
     "elapsed": 4924,
     "status": "ok",
     "timestamp": 1611935458840,
     "user": {
      "displayName": "Adam Murphy",
      "photoUrl": "https://lh3.googleusercontent.com/a-/AOh14GhrEUWR1gM_kMZc1JaOXZTsyHAIY7wGzIWe3pircVE=s64",
      "userId": "08787610892899884155"
     },
     "user_tz": 0
    },
    "id": "YRyDi06a1a22",
    "outputId": "290dcac1-1679-4c39-90eb-f10b933ba719"
   },
   "outputs": [
    {
     "data": {
      "text/plain": [
       "0.7231207861827084"
      ]
     },
     "execution_count": 81,
     "metadata": {
      "tags": []
     },
     "output_type": "execute_result"
    }
   ],
   "source": [
    "y_pred = gs.predict(X[most_important_features])\n",
    "f1_score(y, y_pred, average=\"micro\")"
   ]
  },
  {
   "cell_type": "code",
   "execution_count": 5,
   "metadata": {
    "executionInfo": {
     "elapsed": 591,
     "status": "ok",
     "timestamp": 1612215003763,
     "user": {
      "displayName": "Adam Murphy",
      "photoUrl": "https://lh3.googleusercontent.com/a-/AOh14GhrEUWR1gM_kMZc1JaOXZTsyHAIY7wGzIWe3pircVE=s64",
      "userId": "08787610892899884155"
     },
     "user_tz": 0
    },
    "id": "Lc_T0T9n2OKq"
   },
   "outputs": [],
   "source": [
    "def make_submission_top_14_features(pipeline, title):\n",
    "    \"\"\"\n",
    "    Given a trained pipeline object, use it to make predictions on the\n",
    "    submission test set 'test_values.csv' and write them a csv in the submissions\n",
    "    folder.\n",
    "    \"\"\"\n",
    "    # Read in test_values csv and apply data preprocessing\n",
    "    # note: will create a data preprocessing pipeline or function in future\n",
    "    test_values = pd.read_csv(DATA_DIR / \"test_values.csv\", index_col=\"building_id\")\n",
    "    test_values[categorical_columns] = test_values[categorical_columns].astype(\n",
    "        \"category\"\n",
    "    )\n",
    "    test_values[bool_columns] = test_values[bool_columns].astype(\"bool\")\n",
    "    test_values = pd.get_dummies(test_values)\n",
    "    test_values = test_values[most_important_features]\n",
    "\n",
    "    # Generate predictions using pipeline we pass in\n",
    "    predictions = pipeline.predict(test_values)\n",
    "\n",
    "    submission_format = pd.read_csv(\n",
    "        DATA_DIR / \"submission_format.csv\", index_col=\"building_id\"\n",
    "    )\n",
    "\n",
    "    my_submission = pd.DataFrame(\n",
    "        data=predictions,\n",
    "        columns=submission_format.columns,\n",
    "        index=submission_format.index,\n",
    "    )\n",
    "\n",
    "    my_submission.to_csv(SUBMISSIONS_DIR / f\"{title}.csv\")"
   ]
  },
  {
   "cell_type": "code",
   "execution_count": null,
   "metadata": {
    "id": "nwM0pS2b154i"
   },
   "outputs": [],
   "source": [
    "title = \"Top 14 most informative features - minor hyperparameter tuning\"\n",
    "make_submission_top_14_features(gs, title)"
   ]
  },
  {
   "cell_type": "markdown",
   "metadata": {
    "id": "A7fYYnGG6jx2"
   },
   "source": [
    "# Intense Hyperparameter Tuning"
   ]
  },
  {
   "cell_type": "code",
   "execution_count": null,
   "metadata": {
    "colab": {
     "base_uri": "https://localhost:8080/"
    },
    "executionInfo": {
     "elapsed": 626,
     "status": "ok",
     "timestamp": 1611936754882,
     "user": {
      "displayName": "Adam Murphy",
      "photoUrl": "https://lh3.googleusercontent.com/a-/AOh14GhrEUWR1gM_kMZc1JaOXZTsyHAIY7wGzIWe3pircVE=s64",
      "userId": "08787610892899884155"
     },
     "user_tz": 0
    },
    "id": "tUXnuyQm6tuO",
    "outputId": "be79a185-ceb6-4746-bbc5-f4e03b19b0de"
   },
   "outputs": [
    {
     "data": {
      "text/plain": [
       "LGBMClassifier(boosting_type='gbdt', class_weight=None, colsample_bytree=1.0,\n",
       "               importance_type='split', learning_rate=0.1, max_depth=-1,\n",
       "               min_child_samples=20, min_child_weight=0.001, min_split_gain=0.0,\n",
       "               n_estimators=100, n_jobs=-1, num_leaves=31, objective=None,\n",
       "               random_state=None, reg_alpha=0.0, reg_lambda=0.0, silent=True,\n",
       "               subsample=1.0, subsample_for_bin=200000, subsample_freq=0)"
      ]
     },
     "execution_count": 85,
     "metadata": {
      "tags": []
     },
     "output_type": "execute_result"
    }
   ],
   "source": [
    "LGBMClassifier()"
   ]
  },
  {
   "cell_type": "code",
   "execution_count": null,
   "metadata": {
    "id": "uIxlyVDW6je-"
   },
   "outputs": [],
   "source": [
    "param_grid = {\n",
    "    \"lgbm__n_estimators\": [150, 175, 200],\n",
    "    \"lgbm__num_leaves\": [40, 50, 60],\n",
    "    #'lgbm__bosting_type': ['gbdt', 'dart', 'goss'],\n",
    "    \"lgbm__learning_rate\": [0.01, 0.1, 1],\n",
    "    \"lgbm__min_split_gain\": [0.0, 0.5],\n",
    "    \"lgbm__min_child_weight\": [1e-3, 1e-4, 1e-2],\n",
    "    \"lgbm__min_child_samples\": [10, 20, 30],\n",
    "}\n",
    "\n",
    "gs = GridSearchCV(pipe, param_grid, cv=2, verbose=10, n_jobs=-1, scoring=\"f1_micro\")"
   ]
  },
  {
   "cell_type": "code",
   "execution_count": null,
   "metadata": {
    "colab": {
     "base_uri": "https://localhost:8080/"
    },
    "executionInfo": {
     "elapsed": 10371302,
     "status": "ok",
     "timestamp": 1611948262415,
     "user": {
      "displayName": "Adam Murphy",
      "photoUrl": "https://lh3.googleusercontent.com/a-/AOh14GhrEUWR1gM_kMZc1JaOXZTsyHAIY7wGzIWe3pircVE=s64",
      "userId": "08787610892899884155"
     },
     "user_tz": 0
    },
    "id": "7b72ynP67z4T",
    "outputId": "75f7c840-5090-4fa4-b1b4-8b24114b261f"
   },
   "outputs": [
    {
     "name": "stdout",
     "output_type": "stream",
     "text": [
      "Fitting 2 folds for each of 486 candidates, totalling 972 fits\n"
     ]
    },
    {
     "name": "stderr",
     "output_type": "stream",
     "text": [
      "[Parallel(n_jobs=-1)]: Using backend LokyBackend with 2 concurrent workers.\n",
      "[Parallel(n_jobs=-1)]: Done   1 tasks      | elapsed:   24.1s\n",
      "[Parallel(n_jobs=-1)]: Done   4 tasks      | elapsed:   49.2s\n",
      "[Parallel(n_jobs=-1)]: Done   9 tasks      | elapsed:  2.2min\n",
      "[Parallel(n_jobs=-1)]: Done  14 tasks      | elapsed:  3.2min\n",
      "[Parallel(n_jobs=-1)]: Done  21 tasks      | elapsed:  5.2min\n",
      "[Parallel(n_jobs=-1)]: Done  28 tasks      | elapsed:  6.6min\n",
      "[Parallel(n_jobs=-1)]: Done  37 tasks      | elapsed:  9.0min\n",
      "[Parallel(n_jobs=-1)]: Done  46 tasks      | elapsed: 10.8min\n",
      "[Parallel(n_jobs=-1)]: Done  57 tasks      | elapsed: 13.6min\n",
      "[Parallel(n_jobs=-1)]: Done  68 tasks      | elapsed: 16.0min\n",
      "[Parallel(n_jobs=-1)]: Done  81 tasks      | elapsed: 19.0min\n",
      "[Parallel(n_jobs=-1)]: Done  94 tasks      | elapsed: 22.0min\n",
      "[Parallel(n_jobs=-1)]: Done 109 tasks      | elapsed: 25.5min\n",
      "[Parallel(n_jobs=-1)]: Done 124 tasks      | elapsed: 28.9min\n",
      "[Parallel(n_jobs=-1)]: Done 141 tasks      | elapsed: 32.7min\n",
      "[Parallel(n_jobs=-1)]: Done 158 tasks      | elapsed: 36.5min\n",
      "[Parallel(n_jobs=-1)]: Done 177 tasks      | elapsed: 40.9min\n",
      "[Parallel(n_jobs=-1)]: Done 196 tasks      | elapsed: 45.3min\n",
      "[Parallel(n_jobs=-1)]: Done 217 tasks      | elapsed: 50.1min\n",
      "[Parallel(n_jobs=-1)]: Done 238 tasks      | elapsed: 54.9min\n",
      "[Parallel(n_jobs=-1)]: Done 261 tasks      | elapsed: 60.0min\n",
      "[Parallel(n_jobs=-1)]: Done 284 tasks      | elapsed: 65.3min\n",
      "[Parallel(n_jobs=-1)]: Done 309 tasks      | elapsed: 71.1min\n",
      "[Parallel(n_jobs=-1)]: Done 334 tasks      | elapsed: 76.5min\n",
      "[Parallel(n_jobs=-1)]: Done 361 tasks      | elapsed: 81.5min\n",
      "[Parallel(n_jobs=-1)]: Done 388 tasks      | elapsed: 86.6min\n",
      "[Parallel(n_jobs=-1)]: Done 417 tasks      | elapsed: 92.0min\n",
      "[Parallel(n_jobs=-1)]: Done 446 tasks      | elapsed: 97.4min\n",
      "[Parallel(n_jobs=-1)]: Done 477 tasks      | elapsed: 103.1min\n",
      "[Parallel(n_jobs=-1)]: Done 508 tasks      | elapsed: 108.9min\n",
      "[Parallel(n_jobs=-1)]: Done 541 tasks      | elapsed: 115.2min\n",
      "[Parallel(n_jobs=-1)]: Done 574 tasks      | elapsed: 121.6min\n",
      "[Parallel(n_jobs=-1)]: Done 609 tasks      | elapsed: 128.1min\n",
      "[Parallel(n_jobs=-1)]: Done 644 tasks      | elapsed: 134.9min\n",
      "[Parallel(n_jobs=-1)]: Done 681 tasks      | elapsed: 139.3min\n",
      "[Parallel(n_jobs=-1)]: Done 718 tasks      | elapsed: 143.3min\n",
      "[Parallel(n_jobs=-1)]: Done 757 tasks      | elapsed: 147.6min\n",
      "[Parallel(n_jobs=-1)]: Done 796 tasks      | elapsed: 152.1min\n",
      "[Parallel(n_jobs=-1)]: Done 837 tasks      | elapsed: 157.1min\n",
      "[Parallel(n_jobs=-1)]: Done 878 tasks      | elapsed: 162.0min\n",
      "[Parallel(n_jobs=-1)]: Done 921 tasks      | elapsed: 167.1min\n",
      "[Parallel(n_jobs=-1)]: Done 964 tasks      | elapsed: 171.9min\n",
      "[Parallel(n_jobs=-1)]: Done 972 out of 972 | elapsed: 172.5min finished\n",
      "/usr/local/lib/python3.6/dist-packages/sklearn/preprocessing/_label.py:235: DataConversionWarning: A column-vector y was passed when a 1d array was expected. Please change the shape of y to (n_samples, ), for example using ravel().\n",
      "  y = column_or_1d(y, warn=True)\n",
      "/usr/local/lib/python3.6/dist-packages/sklearn/preprocessing/_label.py:268: DataConversionWarning: A column-vector y was passed when a 1d array was expected. Please change the shape of y to (n_samples, ), for example using ravel().\n",
      "  y = column_or_1d(y, warn=True)\n"
     ]
    },
    {
     "data": {
      "text/plain": [
       "GridSearchCV(cv=2, error_score=nan,\n",
       "             estimator=Pipeline(memory=None,\n",
       "                                steps=[('scaler',\n",
       "                                        StandardScaler(copy=True,\n",
       "                                                       with_mean=True,\n",
       "                                                       with_std=True)),\n",
       "                                       ('lgbm',\n",
       "                                        LGBMClassifier(boosting_type='gbdt',\n",
       "                                                       class_weight=None,\n",
       "                                                       colsample_bytree=1.0,\n",
       "                                                       importance_type='split',\n",
       "                                                       learning_rate=0.1,\n",
       "                                                       max_depth=-1,\n",
       "                                                       min_child_samples=20,\n",
       "                                                       min_child_weight=0.001,\n",
       "                                                       min_split_gain=0.0,\n",
       "                                                       n_estimator...\n",
       "                                verbose=False),\n",
       "             iid='deprecated', n_jobs=-1,\n",
       "             param_grid={'lgbm__learning_rate': [0.01, 0.1, 1],\n",
       "                         'lgbm__min_child_samples': [10, 20, 30],\n",
       "                         'lgbm__min_child_weight': [0.001, 0.0001, 0.01],\n",
       "                         'lgbm__min_split_gain': [0.0, 0.5],\n",
       "                         'lgbm__n_estimators': [150, 175, 200],\n",
       "                         'lgbm__num_leaves': [40, 50, 60]},\n",
       "             pre_dispatch='2*n_jobs', refit=True, return_train_score=False,\n",
       "             scoring='f1_micro', verbose=10)"
      ]
     },
     "execution_count": 28,
     "metadata": {
      "tags": []
     },
     "output_type": "execute_result"
    }
   ],
   "source": [
    "gs.fit(X[most_important_features], y)"
   ]
  },
  {
   "cell_type": "code",
   "execution_count": null,
   "metadata": {
    "colab": {
     "base_uri": "https://localhost:8080/"
    },
    "executionInfo": {
     "elapsed": 914,
     "status": "ok",
     "timestamp": 1611951778009,
     "user": {
      "displayName": "Adam Murphy",
      "photoUrl": "https://lh3.googleusercontent.com/a-/AOh14GhrEUWR1gM_kMZc1JaOXZTsyHAIY7wGzIWe3pircVE=s64",
      "userId": "08787610892899884155"
     },
     "user_tz": 0
    },
    "id": "f9VnBpDSz6Qt",
    "outputId": "2bccb20e-1637-4641-955b-ddbc7ef0bc48"
   },
   "outputs": [
    {
     "data": {
      "text/plain": [
       "{'lgbm__learning_rate': 0.1,\n",
       " 'lgbm__min_child_samples': 30,\n",
       " 'lgbm__min_child_weight': 0.001,\n",
       " 'lgbm__min_split_gain': 0.0,\n",
       " 'lgbm__n_estimators': 200,\n",
       " 'lgbm__num_leaves': 60}"
      ]
     },
     "execution_count": 30,
     "metadata": {
      "tags": []
     },
     "output_type": "execute_result"
    }
   ],
   "source": [
    "gs.best_params_"
   ]
  },
  {
   "cell_type": "code",
   "execution_count": null,
   "metadata": {
    "colab": {
     "base_uri": "https://localhost:8080/"
    },
    "executionInfo": {
     "elapsed": 602,
     "status": "ok",
     "timestamp": 1611951790968,
     "user": {
      "displayName": "Adam Murphy",
      "photoUrl": "https://lh3.googleusercontent.com/a-/AOh14GhrEUWR1gM_kMZc1JaOXZTsyHAIY7wGzIWe3pircVE=s64",
      "userId": "08787610892899884155"
     },
     "user_tz": 0
    },
    "id": "cZkOkhBn0CUJ",
    "outputId": "a7646e10-2a39-4e1d-d467-d7ea0f3e2c9f"
   },
   "outputs": [
    {
     "data": {
      "text/plain": [
       "Pipeline(memory=None,\n",
       "         steps=[('scaler',\n",
       "                 StandardScaler(copy=True, with_mean=True, with_std=True)),\n",
       "                ('lgbm',\n",
       "                 LGBMClassifier(boosting_type='gbdt', class_weight=None,\n",
       "                                colsample_bytree=1.0, importance_type='split',\n",
       "                                learning_rate=0.1, max_depth=-1,\n",
       "                                min_child_samples=30, min_child_weight=0.001,\n",
       "                                min_split_gain=0.0, n_estimators=200, n_jobs=-1,\n",
       "                                num_leaves=60, objective=None, random_state=42,\n",
       "                                reg_alpha=0.0, reg_lambda=0.0, silent=True,\n",
       "                                subsample=1.0, subsample_for_bin=200000,\n",
       "                                subsample_freq=0))],\n",
       "         verbose=False)"
      ]
     },
     "execution_count": 32,
     "metadata": {
      "tags": []
     },
     "output_type": "execute_result"
    }
   ],
   "source": [
    "gs.best_estimator_"
   ]
  },
  {
   "cell_type": "code",
   "execution_count": null,
   "metadata": {
    "colab": {
     "base_uri": "https://localhost:8080/"
    },
    "executionInfo": {
     "elapsed": 608,
     "status": "ok",
     "timestamp": 1611951795917,
     "user": {
      "displayName": "Adam Murphy",
      "photoUrl": "https://lh3.googleusercontent.com/a-/AOh14GhrEUWR1gM_kMZc1JaOXZTsyHAIY7wGzIWe3pircVE=s64",
      "userId": "08787610892899884155"
     },
     "user_tz": 0
    },
    "id": "nmmAhxs70FjO",
    "outputId": "2114cdc2-b857-46a8-bf8a-8494645cea23"
   },
   "outputs": [
    {
     "data": {
      "text/plain": [
       "0.7230747407901168"
      ]
     },
     "execution_count": 33,
     "metadata": {
      "tags": []
     },
     "output_type": "execute_result"
    }
   ],
   "source": [
    "# This gave me a score of 0.7264 on the submission placing 518\n",
    "gs.best_score_"
   ]
  },
  {
   "cell_type": "code",
   "execution_count": null,
   "metadata": {
    "colab": {
     "base_uri": "https://localhost:8080/"
    },
    "executionInfo": {
     "elapsed": 10154,
     "status": "ok",
     "timestamp": 1611952143751,
     "user": {
      "displayName": "Adam Murphy",
      "photoUrl": "https://lh3.googleusercontent.com/a-/AOh14GhrEUWR1gM_kMZc1JaOXZTsyHAIY7wGzIWe3pircVE=s64",
      "userId": "08787610892899884155"
     },
     "user_tz": 0
    },
    "id": "G5dYGuMv1VBO",
    "outputId": "d9e4a276-751c-49e2-ae42-e2d8f2997120"
   },
   "outputs": [
    {
     "data": {
      "text/plain": [
       "0.7405919394016139"
      ]
     },
     "execution_count": 35,
     "metadata": {
      "tags": []
     },
     "output_type": "execute_result"
    }
   ],
   "source": [
    "y_pred = gs.predict(X[most_important_features])\n",
    "f1_score(y, y_pred, average=\"micro\")"
   ]
  },
  {
   "cell_type": "code",
   "execution_count": null,
   "metadata": {
    "id": "MLC84UNk0My3"
   },
   "outputs": [],
   "source": [
    "make_submission_top_14_features(gs, \"mid-level hyperparameter tuning\")"
   ]
  },
  {
   "cell_type": "code",
   "execution_count": null,
   "metadata": {
    "colab": {
     "base_uri": "https://localhost:8080/"
    },
    "executionInfo": {
     "elapsed": 573,
     "status": "ok",
     "timestamp": 1611952289968,
     "user": {
      "displayName": "Adam Murphy",
      "photoUrl": "https://lh3.googleusercontent.com/a-/AOh14GhrEUWR1gM_kMZc1JaOXZTsyHAIY7wGzIWe3pircVE=s64",
      "userId": "08787610892899884155"
     },
     "user_tz": 0
    },
    "id": "rEer3x8119rN",
    "outputId": "815e5fbb-cfce-4899-f408-299165c4a189"
   },
   "outputs": [
    {
     "data": {
      "text/plain": [
       "0.13817017871432383"
      ]
     },
     "execution_count": 36,
     "metadata": {
      "tags": []
     },
     "output_type": "execute_result"
    }
   ],
   "source": []
  },
  {
   "cell_type": "markdown",
   "metadata": {
    "id": "OIg41Lg92QAp"
   },
   "source": [
    "# More intense hypereparameter tuning"
   ]
  },
  {
   "cell_type": "code",
   "execution_count": 3,
   "metadata": {
    "executionInfo": {
     "elapsed": 637,
     "status": "ok",
     "timestamp": 1612214888302,
     "user": {
      "displayName": "Adam Murphy",
      "photoUrl": "https://lh3.googleusercontent.com/a-/AOh14GhrEUWR1gM_kMZc1JaOXZTsyHAIY7wGzIWe3pircVE=s64",
      "userId": "08787610892899884155"
     },
     "user_tz": 0
    },
    "id": "Mee3Gd442PtD"
   },
   "outputs": [],
   "source": [
    "from sklearn.model_selection import RandomizedSearchCV\n",
    "\n",
    "param_dist = {\n",
    "    \"lgbm__n_estimators\": np.arange(200, 410, 10),\n",
    "    \"lgbm__num_leaves\": np.arange(60, 130, 10),\n",
    "    \"lgbm__bosting_type\": [\"gbdt\", \"dart\", \"goss\"],\n",
    "    \"lgbm__learning_rate\": [0.1, 0.2, 0.3],\n",
    "    \"lgbm__min_child_samples\": np.arange(30, 100, 10),\n",
    "}\n",
    "\n",
    "rs = RandomizedSearchCV(\n",
    "    pipe,\n",
    "    param_dist,\n",
    "    n_iter=300,\n",
    "    cv=2,\n",
    "    verbose=10,\n",
    "    n_jobs=-1,\n",
    "    scoring=\"f1_micro\",\n",
    "    random_state=42,\n",
    ")"
   ]
  },
  {
   "cell_type": "code",
   "execution_count": null,
   "metadata": {
    "colab": {
     "base_uri": "https://localhost:8080/"
    },
    "executionInfo": {
     "elapsed": 13756130,
     "status": "ok",
     "timestamp": 1611966669309,
     "user": {
      "displayName": "Adam Murphy",
      "photoUrl": "https://lh3.googleusercontent.com/a-/AOh14GhrEUWR1gM_kMZc1JaOXZTsyHAIY7wGzIWe3pircVE=s64",
      "userId": "08787610892899884155"
     },
     "user_tz": 0
    },
    "id": "ztA6VWiw21xd",
    "outputId": "7fde5e32-8930-421b-8da7-5da9ffa09425"
   },
   "outputs": [
    {
     "name": "stdout",
     "output_type": "stream",
     "text": [
      "Fitting 2 folds for each of 300 candidates, totalling 600 fits\n"
     ]
    },
    {
     "name": "stderr",
     "output_type": "stream",
     "text": [
      "[Parallel(n_jobs=-1)]: Using backend LokyBackend with 2 concurrent workers.\n",
      "[Parallel(n_jobs=-1)]: Done   1 tasks      | elapsed:   58.7s\n",
      "[Parallel(n_jobs=-1)]: Done   4 tasks      | elapsed:  1.4min\n",
      "[Parallel(n_jobs=-1)]: Done   9 tasks      | elapsed:  3.8min\n",
      "[Parallel(n_jobs=-1)]: Done  14 tasks      | elapsed:  5.2min\n",
      "[Parallel(n_jobs=-1)]: Done  21 tasks      | elapsed:  8.0min\n",
      "[Parallel(n_jobs=-1)]: Done  28 tasks      | elapsed: 10.3min\n",
      "[Parallel(n_jobs=-1)]: Done  37 tasks      | elapsed: 13.5min\n",
      "[Parallel(n_jobs=-1)]: Done  46 tasks      | elapsed: 16.5min\n",
      "[Parallel(n_jobs=-1)]: Done  57 tasks      | elapsed: 21.3min\n",
      "[Parallel(n_jobs=-1)]: Done  68 tasks      | elapsed: 25.7min\n",
      "[Parallel(n_jobs=-1)]: Done  81 tasks      | elapsed: 31.5min\n",
      "[Parallel(n_jobs=-1)]: Done  94 tasks      | elapsed: 35.9min\n",
      "[Parallel(n_jobs=-1)]: Done 109 tasks      | elapsed: 41.7min\n",
      "[Parallel(n_jobs=-1)]: Done 124 tasks      | elapsed: 46.1min\n",
      "[Parallel(n_jobs=-1)]: Done 141 tasks      | elapsed: 52.3min\n",
      "[Parallel(n_jobs=-1)]: Done 158 tasks      | elapsed: 58.8min\n",
      "[Parallel(n_jobs=-1)]: Done 177 tasks      | elapsed: 65.6min\n",
      "[Parallel(n_jobs=-1)]: Done 196 tasks      | elapsed: 72.9min\n",
      "[Parallel(n_jobs=-1)]: Done 217 tasks      | elapsed: 81.5min\n",
      "[Parallel(n_jobs=-1)]: Done 238 tasks      | elapsed: 88.7min\n",
      "[Parallel(n_jobs=-1)]: Done 261 tasks      | elapsed: 97.0min\n",
      "[Parallel(n_jobs=-1)]: Done 284 tasks      | elapsed: 105.8min\n",
      "[Parallel(n_jobs=-1)]: Done 309 tasks      | elapsed: 115.4min\n",
      "[Parallel(n_jobs=-1)]: Done 334 tasks      | elapsed: 125.4min\n",
      "[Parallel(n_jobs=-1)]: Done 361 tasks      | elapsed: 136.3min\n",
      "[Parallel(n_jobs=-1)]: Done 388 tasks      | elapsed: 147.8min\n",
      "[Parallel(n_jobs=-1)]: Done 417 tasks      | elapsed: 159.3min\n",
      "[Parallel(n_jobs=-1)]: Done 446 tasks      | elapsed: 170.7min\n",
      "[Parallel(n_jobs=-1)]: Done 477 tasks      | elapsed: 183.5min\n",
      "[Parallel(n_jobs=-1)]: Done 508 tasks      | elapsed: 194.5min\n",
      "[Parallel(n_jobs=-1)]: Done 541 tasks      | elapsed: 207.6min\n",
      "[Parallel(n_jobs=-1)]: Done 574 tasks      | elapsed: 220.0min\n",
      "[Parallel(n_jobs=-1)]: Done 600 out of 600 | elapsed: 228.8min finished\n",
      "/usr/local/lib/python3.6/dist-packages/sklearn/preprocessing/_label.py:235: DataConversionWarning: A column-vector y was passed when a 1d array was expected. Please change the shape of y to (n_samples, ), for example using ravel().\n",
      "  y = column_or_1d(y, warn=True)\n",
      "/usr/local/lib/python3.6/dist-packages/sklearn/preprocessing/_label.py:268: DataConversionWarning: A column-vector y was passed when a 1d array was expected. Please change the shape of y to (n_samples, ), for example using ravel().\n",
      "  y = column_or_1d(y, warn=True)\n"
     ]
    },
    {
     "data": {
      "text/plain": [
       "RandomizedSearchCV(cv=2, error_score=nan,\n",
       "                   estimator=Pipeline(memory=None,\n",
       "                                      steps=[('scaler',\n",
       "                                              StandardScaler(copy=True,\n",
       "                                                             with_mean=True,\n",
       "                                                             with_std=True)),\n",
       "                                             ('lgbm',\n",
       "                                              LGBMClassifier(boosting_type='gbdt',\n",
       "                                                             class_weight=None,\n",
       "                                                             colsample_bytree=1.0,\n",
       "                                                             importance_type='split',\n",
       "                                                             learning_rate=0.1,\n",
       "                                                             max_depth=-1,\n",
       "                                                             min_child_samples=20,\n",
       "                                                             min_child_weight=0.001,\n",
       "                                                             min_split_gain=0.0,\n",
       "                                                             n_est...\n",
       "                                        'lgbm__learning_rate': [0.1, 0.2, 0.3],\n",
       "                                        'lgbm__min_child_samples': array([30, 40, 50, 60, 70, 80, 90]),\n",
       "                                        'lgbm__n_estimators': array([200, 210, 220, 230, 240, 250, 260, 270, 280, 290, 300, 310, 320,\n",
       "       330, 340, 350, 360, 370, 380, 390, 400]),\n",
       "                                        'lgbm__num_leaves': array([ 60,  70,  80,  90, 100, 110, 120])},\n",
       "                   pre_dispatch='2*n_jobs', random_state=42, refit=True,\n",
       "                   return_train_score=False, scoring='f1_micro', verbose=10)"
      ]
     },
     "execution_count": 41,
     "metadata": {
      "tags": []
     },
     "output_type": "execute_result"
    }
   ],
   "source": [
    "rs.fit(X[most_important_features], y)"
   ]
  },
  {
   "cell_type": "code",
   "execution_count": null,
   "metadata": {
    "colab": {
     "base_uri": "https://localhost:8080/"
    },
    "executionInfo": {
     "elapsed": 559,
     "status": "ok",
     "timestamp": 1611966671124,
     "user": {
      "displayName": "Adam Murphy",
      "photoUrl": "https://lh3.googleusercontent.com/a-/AOh14GhrEUWR1gM_kMZc1JaOXZTsyHAIY7wGzIWe3pircVE=s64",
      "userId": "08787610892899884155"
     },
     "user_tz": 0
    },
    "id": "n5lp3WCdUK06",
    "outputId": "9607d7cb-49e4-4125-c5ce-590a196f30ba"
   },
   "outputs": [
    {
     "data": {
      "text/plain": [
       "{'lgbm__bosting_type': 'goss',\n",
       " 'lgbm__learning_rate': 0.2,\n",
       " 'lgbm__min_child_samples': 40,\n",
       " 'lgbm__n_estimators': 330,\n",
       " 'lgbm__num_leaves': 90}"
      ]
     },
     "execution_count": 42,
     "metadata": {
      "tags": []
     },
     "output_type": "execute_result"
    }
   ],
   "source": [
    "rs.best_params_"
   ]
  },
  {
   "cell_type": "code",
   "execution_count": null,
   "metadata": {
    "colab": {
     "base_uri": "https://localhost:8080/"
    },
    "executionInfo": {
     "elapsed": 805,
     "status": "ok",
     "timestamp": 1611966671377,
     "user": {
      "displayName": "Adam Murphy",
      "photoUrl": "https://lh3.googleusercontent.com/a-/AOh14GhrEUWR1gM_kMZc1JaOXZTsyHAIY7wGzIWe3pircVE=s64",
      "userId": "08787610892899884155"
     },
     "user_tz": 0
    },
    "id": "jOECJN4kUPys",
    "outputId": "007542ea-8e73-4d83-9aa6-50caebdae3fc"
   },
   "outputs": [
    {
     "data": {
      "text/plain": [
       "Pipeline(memory=None,\n",
       "         steps=[('scaler',\n",
       "                 StandardScaler(copy=True, with_mean=True, with_std=True)),\n",
       "                ('lgbm',\n",
       "                 LGBMClassifier(boosting_type='gbdt', bosting_type='goss',\n",
       "                                class_weight=None, colsample_bytree=1.0,\n",
       "                                importance_type='split', learning_rate=0.2,\n",
       "                                max_depth=-1, min_child_samples=40,\n",
       "                                min_child_weight=0.001, min_split_gain=0.0,\n",
       "                                n_estimators=330, n_jobs=-1, num_leaves=90,\n",
       "                                objective=None, random_state=42, reg_alpha=0.0,\n",
       "                                reg_lambda=0.0, silent=True, subsample=1.0,\n",
       "                                subsample_for_bin=200000, subsample_freq=0))],\n",
       "         verbose=False)"
      ]
     },
     "execution_count": 43,
     "metadata": {
      "tags": []
     },
     "output_type": "execute_result"
    }
   ],
   "source": [
    "rs.best_estimator_"
   ]
  },
  {
   "cell_type": "code",
   "execution_count": null,
   "metadata": {
    "colab": {
     "base_uri": "https://localhost:8080/"
    },
    "executionInfo": {
     "elapsed": 720,
     "status": "ok",
     "timestamp": 1611966672098,
     "user": {
      "displayName": "Adam Murphy",
      "photoUrl": "https://lh3.googleusercontent.com/a-/AOh14GhrEUWR1gM_kMZc1JaOXZTsyHAIY7wGzIWe3pircVE=s64",
      "userId": "08787610892899884155"
     },
     "user_tz": 0
    },
    "id": "zWIuAwRcURdm",
    "outputId": "f32be88c-3802-45c4-95b4-f8bf637bc2a2"
   },
   "outputs": [
    {
     "data": {
      "text/plain": [
       "0.7333778463517757"
      ]
     },
     "execution_count": 44,
     "metadata": {
      "tags": []
     },
     "output_type": "execute_result"
    }
   ],
   "source": [
    "# Scoresd 0.7397 on submission - placed 331 (in the top 10%!!!!)\n",
    "rs.best_score_"
   ]
  },
  {
   "cell_type": "code",
   "execution_count": null,
   "metadata": {
    "colab": {
     "base_uri": "https://localhost:8080/"
    },
    "executionInfo": {
     "elapsed": 15242,
     "status": "ok",
     "timestamp": 1611966687342,
     "user": {
      "displayName": "Adam Murphy",
      "photoUrl": "https://lh3.googleusercontent.com/a-/AOh14GhrEUWR1gM_kMZc1JaOXZTsyHAIY7wGzIWe3pircVE=s64",
      "userId": "08787610892899884155"
     },
     "user_tz": 0
    },
    "id": "8cpHgo2cUVms",
    "outputId": "1b9e1097-09e9-478c-a3c6-e72903037eca"
   },
   "outputs": [
    {
     "data": {
      "text/plain": [
       "0.7901926700204527"
      ]
     },
     "execution_count": 45,
     "metadata": {
      "tags": []
     },
     "output_type": "execute_result"
    }
   ],
   "source": [
    "y_pred = rs.predict(X[most_important_features])\n",
    "f1_score(y, y_pred, average=\"micro\")"
   ]
  },
  {
   "cell_type": "code",
   "execution_count": null,
   "metadata": {
    "id": "mRfCX02VUbOP"
   },
   "outputs": [],
   "source": [
    "make_submission_top_14_features(rs, \"random search hyperparameter tuning LightGBM\")"
   ]
  },
  {
   "cell_type": "code",
   "execution_count": null,
   "metadata": {
    "id": "cksz0na8Ug3z"
   },
   "outputs": [],
   "source": [
    "import pickle\n",
    "\n",
    "MODEL_DIR = Path(\n",
    "    \"/content/drive/MyDrive/Work/Delivery/Current/Earthquake_damage/models\"\n",
    ")\n",
    "pkl_filename = MODEL_DIR / \"random search LightGBM.pkl\"\n",
    "with open(pkl_filename, \"wb\") as f:\n",
    "    pickle.dump(rs, f)"
   ]
  },
  {
   "cell_type": "markdown",
   "metadata": {
    "id": "AYV4qLl2gV1S"
   },
   "source": [
    "# Even more intense RandomizedSearch"
   ]
  },
  {
   "cell_type": "code",
   "execution_count": 14,
   "metadata": {
    "colab": {
     "base_uri": "https://localhost:8080/"
    },
    "executionInfo": {
     "elapsed": 21672006,
     "status": "ok",
     "timestamp": 1612237226933,
     "user": {
      "displayName": "Adam Murphy",
      "photoUrl": "https://lh3.googleusercontent.com/a-/AOh14GhrEUWR1gM_kMZc1JaOXZTsyHAIY7wGzIWe3pircVE=s64",
      "userId": "08787610892899884155"
     },
     "user_tz": 0
    },
    "id": "HG_DNnrAgYDW",
    "outputId": "286625ca-25d1-4c0b-f402-56f3984c0c91"
   },
   "outputs": [
    {
     "name": "stdout",
     "output_type": "stream",
     "text": [
      "Fitting 2 folds for each of 500 candidates, totalling 1000 fits\n"
     ]
    },
    {
     "name": "stderr",
     "output_type": "stream",
     "text": [
      "[Parallel(n_jobs=-1)]: Using backend LokyBackend with 2 concurrent workers.\n",
      "[Parallel(n_jobs=-1)]: Done   1 tasks      | elapsed:   28.4s\n",
      "[Parallel(n_jobs=-1)]: Done   4 tasks      | elapsed:  1.3min\n",
      "[Parallel(n_jobs=-1)]: Done   9 tasks      | elapsed:  3.6min\n",
      "[Parallel(n_jobs=-1)]: Done  14 tasks      | elapsed:  5.0min\n",
      "[Parallel(n_jobs=-1)]: Done  21 tasks      | elapsed:  8.4min\n",
      "[Parallel(n_jobs=-1)]: Done  28 tasks      | elapsed: 10.6min\n",
      "[Parallel(n_jobs=-1)]: Done  37 tasks      | elapsed: 14.4min\n",
      "[Parallel(n_jobs=-1)]: Done  46 tasks      | elapsed: 17.3min\n",
      "[Parallel(n_jobs=-1)]: Done  57 tasks      | elapsed: 21.7min\n",
      "[Parallel(n_jobs=-1)]: Done  68 tasks      | elapsed: 25.0min\n",
      "[Parallel(n_jobs=-1)]: Done  81 tasks      | elapsed: 29.2min\n",
      "[Parallel(n_jobs=-1)]: Done  94 tasks      | elapsed: 33.3min\n",
      "[Parallel(n_jobs=-1)]: Done 109 tasks      | elapsed: 38.5min\n",
      "[Parallel(n_jobs=-1)]: Done 124 tasks      | elapsed: 43.9min\n",
      "[Parallel(n_jobs=-1)]: Done 141 tasks      | elapsed: 50.3min\n",
      "[Parallel(n_jobs=-1)]: Done 158 tasks      | elapsed: 55.7min\n",
      "[Parallel(n_jobs=-1)]: Done 177 tasks      | elapsed: 62.6min\n",
      "[Parallel(n_jobs=-1)]: Done 196 tasks      | elapsed: 69.7min\n",
      "[Parallel(n_jobs=-1)]: Done 217 tasks      | elapsed: 77.2min\n",
      "[Parallel(n_jobs=-1)]: Done 238 tasks      | elapsed: 84.6min\n",
      "[Parallel(n_jobs=-1)]: Done 261 tasks      | elapsed: 93.6min\n",
      "[Parallel(n_jobs=-1)]: Done 284 tasks      | elapsed: 101.2min\n",
      "[Parallel(n_jobs=-1)]: Done 309 tasks      | elapsed: 110.8min\n",
      "[Parallel(n_jobs=-1)]: Done 334 tasks      | elapsed: 119.1min\n",
      "[Parallel(n_jobs=-1)]: Done 361 tasks      | elapsed: 130.3min\n",
      "[Parallel(n_jobs=-1)]: Done 388 tasks      | elapsed: 139.2min\n",
      "[Parallel(n_jobs=-1)]: Done 417 tasks      | elapsed: 149.2min\n",
      "[Parallel(n_jobs=-1)]: Done 446 tasks      | elapsed: 159.1min\n",
      "[Parallel(n_jobs=-1)]: Done 477 tasks      | elapsed: 170.9min\n",
      "[Parallel(n_jobs=-1)]: Done 508 tasks      | elapsed: 181.7min\n",
      "[Parallel(n_jobs=-1)]: Done 541 tasks      | elapsed: 193.4min\n",
      "[Parallel(n_jobs=-1)]: Done 574 tasks      | elapsed: 205.8min\n",
      "[Parallel(n_jobs=-1)]: Done 609 tasks      | elapsed: 218.5min\n",
      "[Parallel(n_jobs=-1)]: Done 644 tasks      | elapsed: 231.0min\n",
      "[Parallel(n_jobs=-1)]: Done 681 tasks      | elapsed: 244.7min\n",
      "[Parallel(n_jobs=-1)]: Done 718 tasks      | elapsed: 258.1min\n",
      "[Parallel(n_jobs=-1)]: Done 757 tasks      | elapsed: 273.4min\n",
      "[Parallel(n_jobs=-1)]: Done 796 tasks      | elapsed: 287.6min\n",
      "[Parallel(n_jobs=-1)]: Done 837 tasks      | elapsed: 302.7min\n",
      "[Parallel(n_jobs=-1)]: Done 878 tasks      | elapsed: 318.1min\n",
      "[Parallel(n_jobs=-1)]: Done 921 tasks      | elapsed: 333.2min\n",
      "[Parallel(n_jobs=-1)]: Done 964 tasks      | elapsed: 348.1min\n",
      "[Parallel(n_jobs=-1)]: Done 1000 out of 1000 | elapsed: 360.9min finished\n",
      "/usr/local/lib/python3.6/dist-packages/sklearn/preprocessing/_label.py:235: DataConversionWarning: A column-vector y was passed when a 1d array was expected. Please change the shape of y to (n_samples, ), for example using ravel().\n",
      "  y = column_or_1d(y, warn=True)\n",
      "/usr/local/lib/python3.6/dist-packages/sklearn/preprocessing/_label.py:268: DataConversionWarning: A column-vector y was passed when a 1d array was expected. Please change the shape of y to (n_samples, ), for example using ravel().\n",
      "  y = column_or_1d(y, warn=True)\n"
     ]
    },
    {
     "name": "stdout",
     "output_type": "stream",
     "text": [
      "Best params\n",
      "{'lgbm__num_leaves': 120, 'lgbm__n_estimators': 240, 'lgbm__min_child_samples': 40, 'lgbm__learning_rate': 0.2, 'lgbm__bosting_type': 'goss'}\n",
      "Best score\n",
      "0.7334968053159259\n",
      "F1 score on entire dataset\n",
      "Creating submission csv...\n",
      "Writing model to hard drive...\n",
      "Finished\n"
     ]
    }
   ],
   "source": [
    "from sklearn.model_selection import RandomizedSearchCV\n",
    "import pickle\n",
    "\n",
    "param_dist = {\n",
    "    \"lgbm__n_estimators\": np.arange(200, 410, 10),\n",
    "    \"lgbm__num_leaves\": np.arange(60, 130, 10),\n",
    "    \"lgbm__bosting_type\": [\"goss\"],\n",
    "    \"lgbm__learning_rate\": [0.1, 0.2, 0.25, 0.3],\n",
    "    \"lgbm__min_child_samples\": np.arange(30, 100, 10),\n",
    "}\n",
    "\n",
    "rs = RandomizedSearchCV(\n",
    "    pipe,\n",
    "    param_dist,\n",
    "    n_iter=500,\n",
    "    cv=2,\n",
    "    verbose=10,\n",
    "    n_jobs=-1,\n",
    "    scoring=\"f1_micro\",\n",
    "    random_state=42,\n",
    ")\n",
    "\n",
    "most_important_features = [\n",
    "    \"geo_level_1_id\",\n",
    "    \"geo_level_2_id\",\n",
    "    \"geo_level_3_id\",\n",
    "    \"count_floors_pre_eq\",\n",
    "    \"age\",\n",
    "    \"area_percentage\",\n",
    "    \"height_percentage\",\n",
    "    \"has_superstructure_mud_mortar_stone\",\n",
    "    \"has_superstructure_stone_flag\",\n",
    "    \"has_superstructure_mud_mortar_brick\",\n",
    "    \"has_superstructure_cement_mortar_brick\",\n",
    "    \"has_superstructure_timber\",\n",
    "    \"count_families\",\n",
    "    \"other_floor_type_q\",\n",
    "]\n",
    "\n",
    "rs.fit(X[most_important_features], y)\n",
    "\n",
    "print(\"Best params\")\n",
    "print(rs.best_params_)\n",
    "\n",
    "print(\"Best score\")\n",
    "print(rs.best_score_)\n",
    "\n",
    "print(\"F1 score on entire dataset\")\n",
    "y_pred = rs.predict(X[most_important_features])\n",
    "f1_score(y, y_pred, average=\"micro\")\n",
    "\n",
    "print(\"Creating submission csv...\")\n",
    "make_submission_top_14_features(rs, \"0102 GOSS random search tuning LightGBM\")\n",
    "\n",
    "print(\"Writing model to hard drive...\")\n",
    "MODEL_DIR = Path(\n",
    "    \"/content/drive/MyDrive/Work/Delivery/Current/Earthquake_damage/models\"\n",
    ")\n",
    "pkl_filename = MODEL_DIR / \"GOSS random search LightGBM.pkl\"\n",
    "with open(pkl_filename, \"wb\") as f:\n",
    "    pickle.dump(rs, f)\n",
    "\n",
    "print(\"Finished\")"
   ]
  },
  {
   "cell_type": "markdown",
   "metadata": {
    "id": "4yTLC8pFrBJW"
   },
   "source": [
    "# Exploring KFold Cross Val"
   ]
  },
  {
   "cell_type": "code",
   "execution_count": null,
   "metadata": {
    "colab": {
     "base_uri": "https://localhost:8080/"
    },
    "executionInfo": {
     "elapsed": 103713,
     "status": "ok",
     "timestamp": 1611932966241,
     "user": {
      "displayName": "Adam Murphy",
      "photoUrl": "https://lh3.googleusercontent.com/a-/AOh14GhrEUWR1gM_kMZc1JaOXZTsyHAIY7wGzIWe3pircVE=s64",
      "userId": "08787610892899884155"
     },
     "user_tz": 0
    },
    "id": "Eu70jXzErCgi",
    "outputId": "6b212930-8e89-407b-aac7-a2be806b197a"
   },
   "outputs": [
    {
     "name": "stdout",
     "output_type": "stream",
     "text": [
      "Accuracy: 0.708 (0.003)\n"
     ]
    }
   ],
   "source": [
    "from sklearn.model_selection import KFold\n",
    "from sklearn.model_selection import cross_val_score\n",
    "\n",
    "cv = KFold(n_splits=10, random_state=1, shuffle=True)\n",
    "\n",
    "model = LGBMClassifier()\n",
    "\n",
    "scores = cross_val_score(model, X, y, scoring=\"f1_micro\", cv=cv, n_jobs=-1)\n",
    "\n",
    "print(\"Accuracy: %.3f (%.3f)\" % (np.mean(scores), np.std(scores)))"
   ]
  },
  {
   "cell_type": "code",
   "execution_count": null,
   "metadata": {
    "colab": {
     "base_uri": "https://localhost:8080/",
     "height": 322
    },
    "executionInfo": {
     "elapsed": 725,
     "status": "ok",
     "timestamp": 1611933012959,
     "user": {
      "displayName": "Adam Murphy",
      "photoUrl": "https://lh3.googleusercontent.com/a-/AOh14GhrEUWR1gM_kMZc1JaOXZTsyHAIY7wGzIWe3pircVE=s64",
      "userId": "08787610892899884155"
     },
     "user_tz": 0
    },
    "id": "CvOgyBa8r4f2",
    "outputId": "3d288f7e-20be-47d1-eb3c-d0e3ff3de6a4"
   },
   "outputs": [
    {
     "name": "stderr",
     "output_type": "stream",
     "text": [
      "/usr/local/lib/python3.6/dist-packages/seaborn/_decorators.py:43: FutureWarning: Pass the following variable as a keyword arg: x. From version 0.12, the only valid positional argument will be `data`, and passing other arguments without an explicit keyword will result in an error or misinterpretation.\n",
      "  FutureWarning\n"
     ]
    },
    {
     "data": {
      "image/png": "[encoded data removed]",
      "text/plain": [
       "<Figure size 432x288 with 1 Axes>"
      ]
     },
     "metadata": {
      "tags": []
     },
     "output_type": "display_data"
    }
   ],
   "source": [
    "fig, ax = plt.subplots()\n",
    "sns.boxplot(scores)\n",
    "plt.xlim([0.6, 0.8])\n",
    "plt.show()"
   ]
  },
  {
   "cell_type": "markdown",
   "metadata": {
    "id": "54uB9XBasfkw"
   },
   "source": [
    "We know that the default values with all features then are fine. \n",
    "\n",
    "Obvs we want to explore the dataset. "
   ]
  }
 ],
 "metadata": {
  "colab": {
   "authorship_tag": "ABX9TyNPyhTdra6wATQ0FaPCmX07",
   "collapsed_sections": [],
   "name": "LightGBM.ipynb",
   "provenance": []
  },
  "kernelspec": {
   "display_name": "Python 3",
   "language": "python",
   "name": "python3"
  },
  "language_info": {
   "codemirror_mode": {
    "name": "ipython",
    "version": 3
   },
   "file_extension": ".py",
   "mimetype": "text/x-python",
   "name": "python",
   "nbconvert_exporter": "python",
   "pygments_lexer": "ipython3",
   "version": "3.7.9"
  },
  "toc": {
   "base_numbering": 1,
   "nav_menu": {},
   "number_sections": true,
   "sideBar": true,
   "skip_h1_title": false,
   "title_cell": "Table of Contents",
   "title_sidebar": "Contents",
   "toc_cell": false,
   "toc_position": {},
   "toc_section_display": true,
   "toc_window_display": false
  },
  "varInspector": {
   "cols": {
    "lenName": 16,
    "lenType": 16,
    "lenVar": 40
   },
   "kernels_config": {
    "python": {
     "delete_cmd_postfix": "",
     "delete_cmd_prefix": "del ",
     "library": "var_list.py",
     "varRefreshCmd": "print(var_dic_list())"
    },
    "r": {
     "delete_cmd_postfix": ") ",
     "delete_cmd_prefix": "rm(",
     "library": "var_list.r",
     "varRefreshCmd": "cat(var_dic_list()) "
    }
   },
   "types_to_exclude": [
    "module",
    "function",
    "builtin_function_or_method",
    "instance",
    "_Feature"
   ],
   "window_display": false
  }
 },
 "nbformat": 4,
 "nbformat_minor": 1
}
