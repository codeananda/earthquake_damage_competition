{
 "cells": [
  {
   "cell_type": "markdown",
   "id": "tough-museum",
   "metadata": {
    "id": "tough-museum"
   },
   "source": [
    "# Bagging\n",
    "\n",
    "Let's implement some bagged LGBM models"
   ]
  },
  {
   "cell_type": "code",
   "execution_count": 1,
   "id": "HYZqlD0uZAo0",
   "metadata": {
    "colab": {
     "base_uri": "https://localhost:8080/"
    },
    "executionInfo": {
     "elapsed": 829,
     "status": "ok",
     "timestamp": 1615485443392,
     "user": {
      "displayName": "Adam Murphy",
      "photoUrl": "https://lh3.googleusercontent.com/a-/AOh14GhrEUWR1gM_kMZc1JaOXZTsyHAIY7wGzIWe3pircVE=s64",
      "userId": "08787610892899884155"
     },
     "user_tz": -120
    },
    "id": "HYZqlD0uZAo0",
    "outputId": "2c0ea82d-9ca4-46de-9bcb-9f16394da398"
   },
   "outputs": [
    {
     "name": "stdout",
     "output_type": "stream",
     "text": [
      "Drive already mounted at /content/drive; to attempt to forcibly remount, call drive.mount(\"/content/drive\", force_remount=True).\n"
     ]
    }
   ],
   "source": [
    "from google.colab import drive\n",
    "drive.mount('/content/drive')"
   ]
  },
  {
   "cell_type": "code",
   "execution_count": 1,
   "id": "anonymous-savannah",
   "metadata": {
    "ExecuteTime": {
     "end_time": "2021-03-12T06:38:16.941068Z",
     "start_time": "2021-03-12T06:38:14.640104Z"
    },
    "executionInfo": {
     "elapsed": 2001,
     "status": "ok",
     "timestamp": 1615485448543,
     "user": {
      "displayName": "Adam Murphy",
      "photoUrl": "https://lh3.googleusercontent.com/a-/AOh14GhrEUWR1gM_kMZc1JaOXZTsyHAIY7wGzIWe3pircVE=s64",
      "userId": "08787610892899884155"
     },
     "user_tz": -120
    },
    "id": "anonymous-savannah"
   },
   "outputs": [],
   "source": [
    "import lightgbm as lgb\n",
    "from lightgbm import LGBMClassifier\n",
    "import matplotlib.pyplot as plt\n",
    "import seaborn as sns\n",
    "import numpy as np\n",
    "import pandas as pd\n",
    "import pickle\n",
    "from pathlib import Path\n",
    "from tqdm.notebook import trange, tqdm\n",
    "\n",
    "### USE FOR LOCAL JUPYTER NOTEBOOKS ###\n",
    "DOWNLOAD_DIR = Path('../download')\n",
    "DATA_DIR = Path('../data')\n",
    "SUBMISSIONS_DIR = Path('../submissions')\n",
    "MODEL_DIR = Path('../models')\n",
    "#######################################\n",
    "\n",
    "##### GOOGLE COLAB ######\n",
    "# DOWNLOAD_DIR = Path('/content/drive/MyDrive/Work/Delivery/Current/earthquake_damage_competition/download')\n",
    "# SUBMISSIONS_DIR = Path('/content/drive/MyDrive/Work/Delivery/Current/earthquake_damage_competition/submissions')\n",
    "# DATA_DIR = Path('/content/drive/MyDrive/Work/Delivery/Current/earthquake_damage_competition/data')\n",
    "# MODEL_DIR = Path('/content/drive/MyDrive/Work/Delivery/Current/earthquake_damage_competition/model')\n",
    "########################\n",
    "\n",
    "X = pd.read_csv(DOWNLOAD_DIR / 'train_values.csv', index_col='building_id')\n",
    "categorical_columns = X.select_dtypes(include='object').columns\n",
    "bool_columns = [col for col in X.columns if col.startswith('has')]\n",
    "\n",
    "X_test = pd.read_csv(DOWNLOAD_DIR / 'test_values.csv', index_col='building_id')\n",
    "y = pd.read_csv(DOWNLOAD_DIR / 'train_labels.csv', index_col='building_id')"
   ]
  },
  {
   "cell_type": "markdown",
   "id": "ON0gpfeJcjAo",
   "metadata": {
    "id": "ON0gpfeJcjAo"
   },
   "source": [
    "[This](https://stackoverflow.com/questions/49606886/installing-gpu-support-for-lightgbm-on-google-collab) answer seems to show how to install LGBM for GPU on Google Colab."
   ]
  },
  {
   "cell_type": "code",
   "execution_count": 3,
   "id": "8J4POQkzb7OY",
   "metadata": {
    "colab": {
     "base_uri": "https://localhost:8080/"
    },
    "executionInfo": {
     "elapsed": 16469,
     "status": "ok",
     "timestamp": 1615485472126,
     "user": {
      "displayName": "Adam Murphy",
      "photoUrl": "https://lh3.googleusercontent.com/a-/AOh14GhrEUWR1gM_kMZc1JaOXZTsyHAIY7wGzIWe3pircVE=s64",
      "userId": "08787610892899884155"
     },
     "user_tz": -120
    },
    "id": "8J4POQkzb7OY",
    "outputId": "d08f8203-d928-4e7c-e6f9-ebb3cc6d250a"
   },
   "outputs": [
    {
     "name": "stdout",
     "output_type": "stream",
     "text": [
      "Uninstalling lightgbm-3.1.1.99:\n",
      "  Would remove:\n",
      "    /usr/local/lib/python3.7/dist-packages/lightgbm\n",
      "    /usr/local/lib/python3.7/dist-packages/lightgbm-3.1.1.99-py3.7.egg-info\n",
      "Proceed (y/n)? y\n",
      "  Successfully uninstalled lightgbm-3.1.1.99\n"
     ]
    }
   ],
   "source": [
    "! pip uninstall lightgbm"
   ]
  },
  {
   "cell_type": "code",
   "execution_count": 5,
   "id": "v7s6ERKFcFNO",
   "metadata": {
    "colab": {
     "base_uri": "https://localhost:8080/"
    },
    "executionInfo": {
     "elapsed": 3082,
     "status": "ok",
     "timestamp": 1615485501660,
     "user": {
      "displayName": "Adam Murphy",
      "photoUrl": "https://lh3.googleusercontent.com/a-/AOh14GhrEUWR1gM_kMZc1JaOXZTsyHAIY7wGzIWe3pircVE=s64",
      "userId": "08787610892899884155"
     },
     "user_tz": -120
    },
    "id": "v7s6ERKFcFNO",
    "outputId": "afa05323-024e-4c23-a242-299e9a2694ee"
   },
   "outputs": [
    {
     "name": "stdout",
     "output_type": "stream",
     "text": [
      "/usr/local/lib/python3.7/dist-packages/pip/_internal/commands/install.py:283: UserWarning: Disabling all use of wheels due to the use of --build-options / --global-options / --install-options.\n",
      "  cmdoptions.check_install_build_global(options)\n",
      "Requirement already satisfied: lightgbm in /usr/local/lib/python3.7/dist-packages (2.2.3)\n",
      "Requirement already satisfied: numpy in /usr/local/lib/python3.7/dist-packages (from lightgbm) (1.19.5)\n",
      "Requirement already satisfied: scipy in /usr/local/lib/python3.7/dist-packages (from lightgbm) (1.4.1)\n",
      "Requirement already satisfied: scikit-learn in /usr/local/lib/python3.7/dist-packages (from lightgbm) (0.22.2.post1)\n",
      "Requirement already satisfied: joblib>=0.11 in /usr/local/lib/python3.7/dist-packages (from scikit-learn->lightgbm) (1.0.1)\n"
     ]
    }
   ],
   "source": [
    "!pip install lightgbm --install-option=--gpu"
   ]
  },
  {
   "cell_type": "code",
   "execution_count": 6,
   "id": "eHdmrC2ecHSi",
   "metadata": {
    "colab": {
     "base_uri": "https://localhost:8080/"
    },
    "executionInfo": {
     "elapsed": 2806,
     "status": "ok",
     "timestamp": 1615485545360,
     "user": {
      "displayName": "Adam Murphy",
      "photoUrl": "https://lh3.googleusercontent.com/a-/AOh14GhrEUWR1gM_kMZc1JaOXZTsyHAIY7wGzIWe3pircVE=s64",
      "userId": "08787610892899884155"
     },
     "user_tz": -120
    },
    "id": "eHdmrC2ecHSi",
    "outputId": "2e2eac43-e0a3-4afe-834c-728e3ecc800b"
   },
   "outputs": [
    {
     "name": "stdout",
     "output_type": "stream",
     "text": [
      "/usr/local/lib/python3.7/dist-packages/pip/_internal/commands/install.py:283: UserWarning: Disabling all use of wheels due to the use of --build-options / --global-options / --install-options.\n",
      "  cmdoptions.check_install_build_global(options)\n",
      "Requirement already satisfied: lightgbm in /usr/local/lib/python3.7/dist-packages (2.2.3)\n",
      "Requirement already satisfied: numpy in /usr/local/lib/python3.7/dist-packages (from lightgbm) (1.19.5)\n",
      "Requirement already satisfied: scipy in /usr/local/lib/python3.7/dist-packages (from lightgbm) (1.4.1)\n",
      "Requirement already satisfied: scikit-learn in /usr/local/lib/python3.7/dist-packages (from lightgbm) (0.22.2.post1)\n",
      "Requirement already satisfied: joblib>=0.11 in /usr/local/lib/python3.7/dist-packages (from scikit-learn->lightgbm) (1.0.1)\n"
     ]
    }
   ],
   "source": [
    "pip install lightgbm --install-option=--gpu --install-option=\"--opencl-include-dir=/usr/local/cuda/include/\" --install-option=\"--opencl-library=/usr/local/cuda/lib64/libOpenCL.so\""
   ]
  },
  {
   "cell_type": "code",
   "execution_count": 4,
   "id": "VqKO5NBDZg1o",
   "metadata": {
    "colab": {
     "base_uri": "https://localhost:8080/"
    },
    "executionInfo": {
     "elapsed": 559,
     "status": "ok",
     "timestamp": 1615485476905,
     "user": {
      "displayName": "Adam Murphy",
      "photoUrl": "https://lh3.googleusercontent.com/a-/AOh14GhrEUWR1gM_kMZc1JaOXZTsyHAIY7wGzIWe3pircVE=s64",
      "userId": "08787610892899884155"
     },
     "user_tz": -120
    },
    "id": "VqKO5NBDZg1o",
    "outputId": "fe2a968b-941e-463d-adb0-0cf654aca7da"
   },
   "outputs": [
    {
     "name": "stdout",
     "output_type": "stream",
     "text": [
      "fatal: destination path 'LightGBM' already exists and is not an empty directory.\n"
     ]
    }
   ],
   "source": [
    "# Google Colab only\n",
    "! git clone --recursive https://github.com/Microsoft/LightGBM"
   ]
  },
  {
   "cell_type": "code",
   "execution_count": null,
   "id": "ccY6GZnncB28",
   "metadata": {
    "id": "ccY6GZnncB28"
   },
   "outputs": [],
   "source": []
  },
  {
   "cell_type": "code",
   "execution_count": 4,
   "id": "NJeSR7ktZpja",
   "metadata": {
    "colab": {
     "base_uri": "https://localhost:8080/"
    },
    "executionInfo": {
     "elapsed": 251161,
     "status": "ok",
     "timestamp": 1615485125827,
     "user": {
      "displayName": "Adam Murphy",
      "photoUrl": "https://lh3.googleusercontent.com/a-/AOh14GhrEUWR1gM_kMZc1JaOXZTsyHAIY7wGzIWe3pircVE=s64",
      "userId": "08787610892899884155"
     },
     "user_tz": -120
    },
    "id": "NJeSR7ktZpja",
    "outputId": "aa8e692c-2473-47c6-fb60-731186d1c03b"
   },
   "outputs": [
    {
     "name": "stdout",
     "output_type": "stream",
     "text": [
      "-- The C compiler identification is GNU 7.5.0\n",
      "-- The CXX compiler identification is GNU 7.5.0\n",
      "-- Check for working C compiler: /usr/bin/cc\n",
      "-- Check for working C compiler: /usr/bin/cc -- works\n",
      "-- Detecting C compiler ABI info\n",
      "-- Detecting C compiler ABI info - done\n",
      "-- Detecting C compile features\n",
      "-- Detecting C compile features - done\n",
      "-- Check for working CXX compiler: /usr/bin/c++\n",
      "-- Check for working CXX compiler: /usr/bin/c++ -- works\n",
      "-- Detecting CXX compiler ABI info\n",
      "-- Detecting CXX compiler ABI info - done\n",
      "-- Detecting CXX compile features\n",
      "-- Detecting CXX compile features - done\n",
      "-- Found OpenMP_C: -fopenmp (found version \"4.5\") \n",
      "-- Found OpenMP_CXX: -fopenmp (found version \"4.5\") \n",
      "-- Found OpenMP: TRUE (found version \"4.5\")  \n",
      "-- Looking for CL_VERSION_2_2\n",
      "-- Looking for CL_VERSION_2_2 - found\n",
      "-- Found OpenCL: /usr/lib/x86_64-linux-gnu/libOpenCL.so (found version \"2.2\") \n",
      "-- OpenCL include directory: /usr/include\n",
      "-- Boost version: 1.65.1\n",
      "-- Found the following Boost libraries:\n",
      "--   filesystem\n",
      "--   system\n",
      "-- Performing Test MM_PREFETCH\n",
      "-- Performing Test MM_PREFETCH - Success\n",
      "-- Using _mm_prefetch\n",
      "-- Performing Test MM_MALLOC\n",
      "-- Performing Test MM_MALLOC - Success\n",
      "-- Using _mm_malloc\n",
      "-- Configuring done\n",
      "-- Generating done\n",
      "-- Build files have been written to: /content/LightGBM/build\n",
      "\u001b[35m\u001b[1mScanning dependencies of target _lightgbm\u001b[0m\n",
      "\u001b[35m\u001b[1mScanning dependencies of target lightgbm\u001b[0m\n",
      "[  1%] \u001b[32mBuilding CXX object CMakeFiles/_lightgbm.dir/src/boosting/boosting.cpp.o\u001b[0m\n",
      "[  2%] \u001b[32mBuilding CXX object CMakeFiles/_lightgbm.dir/src/boosting/gbdt_model_text.cpp.o\u001b[0m\n",
      "[  4%] \u001b[32mBuilding CXX object CMakeFiles/_lightgbm.dir/src/boosting/gbdt.cpp.o\u001b[0m\n",
      "[  5%] \u001b[32mBuilding CXX object CMakeFiles/lightgbm.dir/src/main.cpp.o\u001b[0m\n",
      "[  7%] \u001b[32mBuilding CXX object CMakeFiles/lightgbm.dir/src/application/application.cpp.o\u001b[0m\n",
      "[  8%] \u001b[32mBuilding CXX object CMakeFiles/_lightgbm.dir/src/boosting/gbdt_prediction.cpp.o\u001b[0m\n",
      "[ 10%] \u001b[32mBuilding CXX object CMakeFiles/_lightgbm.dir/src/boosting/prediction_early_stop.cpp.o\u001b[0m\n",
      "[ 11%] \u001b[32mBuilding CXX object CMakeFiles/_lightgbm.dir/src/io/bin.cpp.o\u001b[0m\n",
      "[ 13%] \u001b[32mBuilding CXX object CMakeFiles/_lightgbm.dir/src/io/config.cpp.o\u001b[0m\n",
      "[ 14%] \u001b[32mBuilding CXX object CMakeFiles/lightgbm.dir/src/boosting/boosting.cpp.o\u001b[0m\n",
      "[ 15%] \u001b[32mBuilding CXX object CMakeFiles/_lightgbm.dir/src/io/config_auto.cpp.o\u001b[0m\n",
      "[ 17%] \u001b[32mBuilding CXX object CMakeFiles/_lightgbm.dir/src/io/dataset.cpp.o\u001b[0m\n",
      "[ 18%] \u001b[32mBuilding CXX object CMakeFiles/_lightgbm.dir/src/io/dataset_loader.cpp.o\u001b[0m\n",
      "[ 20%] \u001b[32mBuilding CXX object CMakeFiles/lightgbm.dir/src/boosting/gbdt.cpp.o\u001b[0m\n",
      "[ 21%] \u001b[32mBuilding CXX object CMakeFiles/_lightgbm.dir/src/io/file_io.cpp.o\u001b[0m\n",
      "[ 23%] \u001b[32mBuilding CXX object CMakeFiles/lightgbm.dir/src/boosting/gbdt_model_text.cpp.o\u001b[0m\n",
      "[ 24%] \u001b[32mBuilding CXX object CMakeFiles/_lightgbm.dir/src/io/json11.cpp.o\u001b[0m\n",
      "[ 26%] \u001b[32mBuilding CXX object CMakeFiles/_lightgbm.dir/src/io/metadata.cpp.o\u001b[0m\n",
      "[ 27%] \u001b[32mBuilding CXX object CMakeFiles/_lightgbm.dir/src/io/parser.cpp.o\u001b[0m\n",
      "[ 28%] \u001b[32mBuilding CXX object CMakeFiles/_lightgbm.dir/src/io/train_share_states.cpp.o\u001b[0m\n",
      "[ 30%] \u001b[32mBuilding CXX object CMakeFiles/_lightgbm.dir/src/io/tree.cpp.o\u001b[0m\n",
      "[ 31%] \u001b[32mBuilding CXX object CMakeFiles/lightgbm.dir/src/boosting/gbdt_prediction.cpp.o\u001b[0m\n",
      "[ 33%] \u001b[32mBuilding CXX object CMakeFiles/_lightgbm.dir/src/metric/dcg_calculator.cpp.o\u001b[0m\n",
      "[ 34%] \u001b[32mBuilding CXX object CMakeFiles/_lightgbm.dir/src/metric/metric.cpp.o\u001b[0m\n",
      "[ 36%] \u001b[32mBuilding CXX object CMakeFiles/lightgbm.dir/src/boosting/prediction_early_stop.cpp.o\u001b[0m\n",
      "[ 37%] \u001b[32mBuilding CXX object CMakeFiles/lightgbm.dir/src/io/bin.cpp.o\u001b[0m\n",
      "[ 39%] \u001b[32mBuilding CXX object CMakeFiles/_lightgbm.dir/src/network/ifaddrs_patch.cpp.o\u001b[0m\n",
      "[ 40%] \u001b[32mBuilding CXX object CMakeFiles/_lightgbm.dir/src/network/linker_topo.cpp.o\u001b[0m\n",
      "[ 42%] \u001b[32mBuilding CXX object CMakeFiles/_lightgbm.dir/src/network/linkers_mpi.cpp.o\u001b[0m\n",
      "[ 43%] \u001b[32mBuilding CXX object CMakeFiles/_lightgbm.dir/src/network/linkers_socket.cpp.o\u001b[0m\n",
      "[ 44%] \u001b[32mBuilding CXX object CMakeFiles/_lightgbm.dir/src/network/network.cpp.o\u001b[0m\n",
      "[ 46%] \u001b[32mBuilding CXX object CMakeFiles/_lightgbm.dir/src/objective/objective_function.cpp.o\u001b[0m\n",
      "[ 47%] \u001b[32mBuilding CXX object CMakeFiles/_lightgbm.dir/src/treelearner/cuda_tree_learner.cpp.o\u001b[0m\n",
      "[ 49%] \u001b[32mBuilding CXX object CMakeFiles/_lightgbm.dir/src/treelearner/data_parallel_tree_learner.cpp.o\u001b[0m\n",
      "[ 50%] \u001b[32mBuilding CXX object CMakeFiles/_lightgbm.dir/src/treelearner/feature_parallel_tree_learner.cpp.o\u001b[0m\n",
      "[ 52%] \u001b[32mBuilding CXX object CMakeFiles/_lightgbm.dir/src/treelearner/gpu_tree_learner.cpp.o\u001b[0m\n",
      "[ 53%] \u001b[32mBuilding CXX object CMakeFiles/_lightgbm.dir/src/treelearner/linear_tree_learner.cpp.o\u001b[0m\n",
      "[ 55%] \u001b[32mBuilding CXX object CMakeFiles/lightgbm.dir/src/io/config.cpp.o\u001b[0m\n",
      "[ 56%] \u001b[32mBuilding CXX object CMakeFiles/_lightgbm.dir/src/treelearner/serial_tree_learner.cpp.o\u001b[0m\n",
      "[ 57%] \u001b[32mBuilding CXX object CMakeFiles/lightgbm.dir/src/io/config_auto.cpp.o\u001b[0m\n",
      "[ 59%] \u001b[32mBuilding CXX object CMakeFiles/lightgbm.dir/src/io/dataset.cpp.o\u001b[0m\n",
      "[ 60%] \u001b[32mBuilding CXX object CMakeFiles/_lightgbm.dir/src/treelearner/tree_learner.cpp.o\u001b[0m\n",
      "[ 62%] \u001b[32mBuilding CXX object CMakeFiles/_lightgbm.dir/src/treelearner/voting_parallel_tree_learner.cpp.o\u001b[0m\n",
      "[ 63%] \u001b[32mBuilding CXX object CMakeFiles/lightgbm.dir/src/io/dataset_loader.cpp.o\u001b[0m\n",
      "[ 65%] \u001b[32mBuilding CXX object CMakeFiles/_lightgbm.dir/src/c_api.cpp.o\u001b[0m\n",
      "[ 66%] \u001b[32mBuilding CXX object CMakeFiles/lightgbm.dir/src/io/file_io.cpp.o\u001b[0m\n",
      "[ 68%] \u001b[32mBuilding CXX object CMakeFiles/lightgbm.dir/src/io/json11.cpp.o\u001b[0m\n",
      "[ 69%] \u001b[32mBuilding CXX object CMakeFiles/lightgbm.dir/src/io/metadata.cpp.o\u001b[0m\n",
      "[ 71%] \u001b[32mBuilding CXX object CMakeFiles/lightgbm.dir/src/io/parser.cpp.o\u001b[0m\n",
      "[ 72%] \u001b[32mBuilding CXX object CMakeFiles/lightgbm.dir/src/io/train_share_states.cpp.o\u001b[0m\n",
      "[ 73%] \u001b[32mBuilding CXX object CMakeFiles/lightgbm.dir/src/io/tree.cpp.o\u001b[0m\n",
      "[ 75%] \u001b[32mBuilding CXX object CMakeFiles/lightgbm.dir/src/metric/dcg_calculator.cpp.o\u001b[0m\n",
      "[ 76%] \u001b[32mBuilding CXX object CMakeFiles/lightgbm.dir/src/metric/metric.cpp.o\u001b[0m\n",
      "[ 78%] \u001b[32mBuilding CXX object CMakeFiles/lightgbm.dir/src/network/ifaddrs_patch.cpp.o\u001b[0m\n",
      "[ 79%] \u001b[32mBuilding CXX object CMakeFiles/lightgbm.dir/src/network/linker_topo.cpp.o\u001b[0m\n",
      "[ 81%] \u001b[32mBuilding CXX object CMakeFiles/lightgbm.dir/src/network/linkers_mpi.cpp.o\u001b[0m\n",
      "[ 82%] \u001b[32mBuilding CXX object CMakeFiles/lightgbm.dir/src/network/linkers_socket.cpp.o\u001b[0m\n",
      "[ 84%] \u001b[32mBuilding CXX object CMakeFiles/lightgbm.dir/src/network/network.cpp.o\u001b[0m\n",
      "[ 85%] \u001b[32mBuilding CXX object CMakeFiles/lightgbm.dir/src/objective/objective_function.cpp.o\u001b[0m\n",
      "[ 86%] \u001b[32mBuilding CXX object CMakeFiles/lightgbm.dir/src/treelearner/cuda_tree_learner.cpp.o\u001b[0m\n",
      "[ 88%] \u001b[32mBuilding CXX object CMakeFiles/lightgbm.dir/src/treelearner/data_parallel_tree_learner.cpp.o\u001b[0m\n",
      "[ 89%] \u001b[32mBuilding CXX object CMakeFiles/lightgbm.dir/src/treelearner/feature_parallel_tree_learner.cpp.o\u001b[0m\n",
      "[ 91%] \u001b[32m\u001b[1mLinking CXX shared library ../lib_lightgbm.so\u001b[0m\n",
      "[ 91%] Built target _lightgbm\n",
      "[ 92%] \u001b[32mBuilding CXX object CMakeFiles/lightgbm.dir/src/treelearner/gpu_tree_learner.cpp.o\u001b[0m\n",
      "[ 94%] \u001b[32mBuilding CXX object CMakeFiles/lightgbm.dir/src/treelearner/linear_tree_learner.cpp.o\u001b[0m\n",
      "[ 95%] \u001b[32mBuilding CXX object CMakeFiles/lightgbm.dir/src/treelearner/serial_tree_learner.cpp.o\u001b[0m\n",
      "[ 97%] \u001b[32mBuilding CXX object CMakeFiles/lightgbm.dir/src/treelearner/tree_learner.cpp.o\u001b[0m\n",
      "[ 98%] \u001b[32mBuilding CXX object CMakeFiles/lightgbm.dir/src/treelearner/voting_parallel_tree_learner.cpp.o\u001b[0m\n",
      "[100%] \u001b[32m\u001b[1mLinking CXX executable ../lightgbm\u001b[0m\n",
      "[100%] Built target lightgbm\n",
      "running install\n",
      "running build\n",
      "running build_py\n",
      "INFO:root:Generating grammar tables from /usr/lib/python3.7/lib2to3/Grammar.txt\n",
      "INFO:root:Generating grammar tables from /usr/lib/python3.7/lib2to3/PatternGrammar.txt\n",
      "creating build\n",
      "creating build/lib\n",
      "creating build/lib/lightgbm\n",
      "copying lightgbm/engine.py -> build/lib/lightgbm\n",
      "copying lightgbm/callback.py -> build/lib/lightgbm\n",
      "copying lightgbm/compat.py -> build/lib/lightgbm\n",
      "copying lightgbm/sklearn.py -> build/lib/lightgbm\n",
      "copying lightgbm/__init__.py -> build/lib/lightgbm\n",
      "copying lightgbm/dask.py -> build/lib/lightgbm\n",
      "copying lightgbm/libpath.py -> build/lib/lightgbm\n",
      "copying lightgbm/basic.py -> build/lib/lightgbm\n",
      "copying lightgbm/plotting.py -> build/lib/lightgbm\n",
      "running egg_info\n",
      "creating lightgbm.egg-info\n",
      "writing lightgbm.egg-info/PKG-INFO\n",
      "writing dependency_links to lightgbm.egg-info/dependency_links.txt\n",
      "writing requirements to lightgbm.egg-info/requires.txt\n",
      "writing top-level names to lightgbm.egg-info/top_level.txt\n",
      "writing manifest file 'lightgbm.egg-info/SOURCES.txt'\n",
      "reading manifest template 'MANIFEST.in'\n",
      "no previously-included directories found matching 'build'\n",
      "warning: no files found matching 'LICENSE'\n",
      "warning: no files found matching '*.txt'\n",
      "warning: no files found matching '*.so' under directory 'lightgbm'\n",
      "warning: no files found matching 'compile/CMakeLists.txt'\n",
      "warning: no files found matching 'compile/CMakeIntegratedOpenCL.cmake'\n",
      "warning: no files found matching '*.so' under directory 'compile'\n",
      "warning: no files found matching '*.dll' under directory 'compile/Release'\n",
      "warning: no files found matching 'compile/external_libs/compute/CMakeLists.txt'\n",
      "warning: no files found matching '*' under directory 'compile/external_libs/compute/cmake'\n",
      "warning: no files found matching '*' under directory 'compile/external_libs/compute/include'\n",
      "warning: no files found matching '*' under directory 'compile/external_libs/compute/meta'\n",
      "warning: no files found matching 'compile/external_libs/eigen/CMakeLists.txt'\n",
      "warning: no files found matching 'compile/external_libs/eigen/Eigen/Cholesky'\n",
      "warning: no files found matching 'compile/external_libs/eigen/Eigen/Core'\n",
      "warning: no files found matching 'compile/external_libs/eigen/Eigen/Dense'\n",
      "warning: no files found matching 'compile/external_libs/eigen/Eigen/Eigenvalues'\n",
      "warning: no files found matching 'compile/external_libs/eigen/Eigen/Geometry'\n",
      "warning: no files found matching 'compile/external_libs/eigen/Eigen/Householder'\n",
      "warning: no files found matching 'compile/external_libs/eigen/Eigen/Jacobi'\n",
      "warning: no files found matching 'compile/external_libs/eigen/Eigen/LU'\n",
      "warning: no files found matching 'compile/external_libs/eigen/Eigen/QR'\n",
      "warning: no files found matching 'compile/external_libs/eigen/Eigen/SVD'\n",
      "warning: no files found matching '*' under directory 'compile/external_libs/eigen/Eigen/src/Cholesky'\n",
      "warning: no files found matching '*' under directory 'compile/external_libs/eigen/Eigen/src/Core'\n",
      "warning: no files found matching '*' under directory 'compile/external_libs/eigen/Eigen/src/Eigenvalues'\n",
      "warning: no files found matching '*' under directory 'compile/external_libs/eigen/Eigen/src/Geometry'\n",
      "warning: no files found matching '*' under directory 'compile/external_libs/eigen/Eigen/src/Householder'\n",
      "warning: no files found matching '*' under directory 'compile/external_libs/eigen/Eigen/src/Jacobi'\n",
      "warning: no files found matching '*' under directory 'compile/external_libs/eigen/Eigen/src/LU'\n",
      "warning: no files found matching '*' under directory 'compile/external_libs/eigen/Eigen/src/misc'\n",
      "warning: no files found matching '*' under directory 'compile/external_libs/eigen/Eigen/src/plugins'\n",
      "warning: no files found matching '*' under directory 'compile/external_libs/eigen/Eigen/src/QR'\n",
      "warning: no files found matching '*' under directory 'compile/external_libs/eigen/Eigen/src/SVD'\n",
      "warning: no files found matching 'compile/external_libs/fast_double_parser/CMakeLists.txt'\n",
      "warning: no files found matching 'compile/external_libs/fast_double_parser/LICENSE'\n",
      "warning: no files found matching 'compile/external_libs/fast_double_parser/LICENSE.BSL'\n",
      "warning: no files found matching '*' under directory 'compile/external_libs/fast_double_parser/include'\n",
      "warning: no files found matching 'compile/external_libs/fmt/CMakeLists.txt'\n",
      "warning: no files found matching 'compile/external_libs/fmt/LICENSE.rst'\n",
      "warning: no files found matching '*' under directory 'compile/external_libs/fmt/include'\n",
      "warning: no files found matching '*' under directory 'compile/include'\n",
      "warning: no files found matching '*' under directory 'compile/src'\n",
      "warning: no files found matching 'LightGBM.sln' under directory 'compile/windows'\n",
      "warning: no files found matching 'LightGBM.vcxproj' under directory 'compile/windows'\n",
      "warning: no files found matching '*.dll' under directory 'compile/windows/x64/DLL'\n",
      "warning: no previously-included files matching '*.py[co]' found anywhere in distribution\n",
      "warning: no previously-included files found matching 'compile/external_libs/compute/.git'\n",
      "writing manifest file 'lightgbm.egg-info/SOURCES.txt'\n",
      "copying lightgbm/VERSION.txt -> build/lib/lightgbm\n",
      "running install_lib\n",
      "copying build/lib/lightgbm/engine.py -> /usr/local/lib/python3.7/dist-packages/lightgbm\n",
      "copying build/lib/lightgbm/callback.py -> /usr/local/lib/python3.7/dist-packages/lightgbm\n",
      "copying build/lib/lightgbm/compat.py -> /usr/local/lib/python3.7/dist-packages/lightgbm\n",
      "copying build/lib/lightgbm/sklearn.py -> /usr/local/lib/python3.7/dist-packages/lightgbm\n",
      "copying build/lib/lightgbm/__init__.py -> /usr/local/lib/python3.7/dist-packages/lightgbm\n",
      "copying build/lib/lightgbm/dask.py -> /usr/local/lib/python3.7/dist-packages/lightgbm\n",
      "copying build/lib/lightgbm/libpath.py -> /usr/local/lib/python3.7/dist-packages/lightgbm\n",
      "copying build/lib/lightgbm/VERSION.txt -> /usr/local/lib/python3.7/dist-packages/lightgbm\n",
      "copying build/lib/lightgbm/basic.py -> /usr/local/lib/python3.7/dist-packages/lightgbm\n",
      "copying build/lib/lightgbm/plotting.py -> /usr/local/lib/python3.7/dist-packages/lightgbm\n",
      "INFO:LightGBM:Installing lib_lightgbm from: ['../lib_lightgbm.so']\n",
      "copying ../lib_lightgbm.so -> /usr/local/lib/python3.7/dist-packages/lightgbm\n",
      "byte-compiling /usr/local/lib/python3.7/dist-packages/lightgbm/engine.py to engine.cpython-37.pyc\n",
      "byte-compiling /usr/local/lib/python3.7/dist-packages/lightgbm/callback.py to callback.cpython-37.pyc\n",
      "byte-compiling /usr/local/lib/python3.7/dist-packages/lightgbm/compat.py to compat.cpython-37.pyc\n",
      "byte-compiling /usr/local/lib/python3.7/dist-packages/lightgbm/sklearn.py to sklearn.cpython-37.pyc\n",
      "byte-compiling /usr/local/lib/python3.7/dist-packages/lightgbm/__init__.py to __init__.cpython-37.pyc\n",
      "byte-compiling /usr/local/lib/python3.7/dist-packages/lightgbm/dask.py to dask.cpython-37.pyc\n",
      "byte-compiling /usr/local/lib/python3.7/dist-packages/lightgbm/libpath.py to libpath.cpython-37.pyc\n",
      "byte-compiling /usr/local/lib/python3.7/dist-packages/lightgbm/basic.py to basic.cpython-37.pyc\n",
      "byte-compiling /usr/local/lib/python3.7/dist-packages/lightgbm/plotting.py to plotting.cpython-37.pyc\n",
      "running install_egg_info\n",
      "Copying lightgbm.egg-info to /usr/local/lib/python3.7/dist-packages/lightgbm-3.1.1.99-py3.7.egg-info\n",
      "running install_scripts\n"
     ]
    }
   ],
   "source": [
    "! cd LightGBM && rm -rf build && mkdir build && cd build && cmake -DUSE_GPU=1 ../../LightGBM && make -j4 && cd ../python-package && python3 setup.py install --precompile --gpu;    "
   ]
  },
  {
   "cell_type": "code",
   "execution_count": null,
   "id": "determined-library",
   "metadata": {
    "ExecuteTime": {
     "end_time": "2021-03-11T16:46:32.957425Z",
     "start_time": "2021-03-11T16:46:31.474970Z"
    },
    "id": "determined-library",
    "outputId": "420f632a-92fb-4c29-c91a-826eaa443af9",
    "scrolled": false
   },
   "outputs": [
    {
     "name": "stderr",
     "output_type": "stream",
     "text": [
      "\u001b[34m\u001b[1mwandb\u001b[0m: Currently logged in as: \u001b[33mtheadammurphy\u001b[0m (use `wandb login --relogin` to force relogin)\n"
     ]
    },
    {
     "data": {
      "text/plain": [
       "True"
      ]
     },
     "execution_count": 2,
     "metadata": {
      "tags": []
     },
     "output_type": "execute_result"
    }
   ],
   "source": [
    "import wandb\n",
    "wandb.login()"
   ]
  },
  {
   "cell_type": "code",
   "execution_count": null,
   "id": "unexpected-desire",
   "metadata": {
    "ExecuteTime": {
     "end_time": "2021-03-09T10:55:48.232889Z",
     "start_time": "2021-03-09T10:55:37.445894Z"
    },
    "id": "unexpected-desire",
    "outputId": "48422de5-4bf7-46b4-8c37-24cf6c495ea7"
   },
   "outputs": [
    {
     "name": "stderr",
     "output_type": "stream",
     "text": [
      "\u001b[34m\u001b[1mwandb\u001b[0m: wandb version 0.10.21 is available!  To upgrade, please run:\n",
      "\u001b[34m\u001b[1mwandb\u001b[0m:  $ pip install wandb --upgrade\n"
     ]
    },
    {
     "data": {
      "text/html": [
       "\n",
       "                Tracking run with wandb version 0.10.15<br/>\n",
       "                Syncing run <strong style=\"color:#cdcd00\">efficient-mountain-1</strong> to <a href=\"https://wandb.ai\" target=\"_blank\">Weights & Biases</a> <a href=\"https://docs.wandb.com/integrations/jupyter.html\" target=\"_blank\">(Documentation)</a>.<br/>\n",
       "                Project page: <a href=\"https://wandb.ai/theadammurphy/earthquake_damage_competition\" target=\"_blank\">https://wandb.ai/theadammurphy/earthquake_damage_competition</a><br/>\n",
       "                Run page: <a href=\"https://wandb.ai/theadammurphy/earthquake_damage_competition/runs/2ol1e3kn\" target=\"_blank\">https://wandb.ai/theadammurphy/earthquake_damage_competition/runs/2ol1e3kn</a><br/>\n",
       "                Run data is saved locally in <code>/Users/king/Google Drive/Work/Delivery/Current/earthquake_damage_competition/analysis/wandb/run-20210309_125537-2ol1e3kn</code><br/><br/>\n",
       "            "
      ],
      "text/plain": [
       "<IPython.core.display.HTML object>"
      ]
     },
     "metadata": {
      "tags": []
     },
     "output_type": "display_data"
    },
    {
     "data": {
      "text/html": [
       "<h1>Run(2ol1e3kn)</h1><iframe src=\"https://wandb.ai/theadammurphy/earthquake_damage_competition/runs/2ol1e3kn\" style=\"border:none;width:100%;height:400px\"></iframe>"
      ],
      "text/plain": [
       "<wandb.sdk.wandb_run.Run at 0x1351fafd0>"
      ]
     },
     "execution_count": 3,
     "metadata": {
      "tags": []
     },
     "output_type": "execute_result"
    }
   ],
   "source": [
    "wandb.init(project='earthquake_damage_competition')"
   ]
  },
  {
   "cell_type": "code",
   "execution_count": 15,
   "id": "documentary-victoria",
   "metadata": {
    "ExecuteTime": {
     "end_time": "2021-03-12T06:26:31.169308Z",
     "start_time": "2021-03-12T06:26:31.154661Z"
    },
    "id": "documentary-victoria",
    "outputId": "023863ce-fc30-4800-bff8-17a5b793b0d8"
   },
   "outputs": [
    {
     "data": {
      "text/plain": [
       "(86868, 38)"
      ]
     },
     "execution_count": 15,
     "metadata": {},
     "output_type": "execute_result"
    }
   ],
   "source": [
    "X_test.shape"
   ]
  },
  {
   "cell_type": "code",
   "execution_count": 2,
   "id": "stock-companion",
   "metadata": {
    "ExecuteTime": {
     "end_time": "2021-03-12T06:38:25.810617Z",
     "start_time": "2021-03-12T06:38:25.801128Z"
    },
    "executionInfo": {
     "elapsed": 587,
     "status": "ok",
     "timestamp": 1615485556999,
     "user": {
      "displayName": "Adam Murphy",
      "photoUrl": "https://lh3.googleusercontent.com/a-/AOh14GhrEUWR1gM_kMZc1JaOXZTsyHAIY7wGzIWe3pircVE=s64",
      "userId": "08787610892899884155"
     },
     "user_tz": -120
    },
    "id": "stock-companion"
   },
   "outputs": [],
   "source": [
    "from sklearn.preprocessing import OrdinalEncoder, LabelEncoder\n",
    "from sklearn.compose import ColumnTransformer\n",
    "\n",
    "label_enc = LabelEncoder()\n",
    "\n",
    "t = [('ord_encoder', OrdinalEncoder(dtype=int), categorical_columns)]\n",
    "ct = ColumnTransformer(transformers=t, remainder='passthrough')"
   ]
  },
  {
   "cell_type": "code",
   "execution_count": 3,
   "id": "brief-karma",
   "metadata": {
    "ExecuteTime": {
     "end_time": "2021-03-12T06:38:26.661700Z",
     "start_time": "2021-03-12T06:38:26.245510Z"
    },
    "executionInfo": {
     "elapsed": 830,
     "status": "ok",
     "timestamp": 1615485558722,
     "user": {
      "displayName": "Adam Murphy",
      "photoUrl": "https://lh3.googleusercontent.com/a-/AOh14GhrEUWR1gM_kMZc1JaOXZTsyHAIY7wGzIWe3pircVE=s64",
      "userId": "08787610892899884155"
     },
     "user_tz": -120
    },
    "id": "brief-karma"
   },
   "outputs": [],
   "source": [
    "X_all_ints = ct.fit_transform(X)\n",
    "y = label_enc.fit_transform(np.ravel(y))"
   ]
  },
  {
   "cell_type": "code",
   "execution_count": 4,
   "id": "possible-neighbor",
   "metadata": {
    "ExecuteTime": {
     "end_time": "2021-03-12T06:38:26.890245Z",
     "start_time": "2021-03-12T06:38:26.853798Z"
    },
    "executionInfo": {
     "elapsed": 517,
     "status": "ok",
     "timestamp": 1615485559028,
     "user": {
      "displayName": "Adam Murphy",
      "photoUrl": "https://lh3.googleusercontent.com/a-/AOh14GhrEUWR1gM_kMZc1JaOXZTsyHAIY7wGzIWe3pircVE=s64",
      "userId": "08787610892899884155"
     },
     "user_tz": -120
    },
    "id": "possible-neighbor"
   },
   "outputs": [],
   "source": [
    "# Note that append for pandas objects works differently to append with\n",
    "# python objects e.g. python append modifes the list in-place\n",
    "# pandas append returns a new object, leaving the original unmodified\n",
    "not_categorical_columns = X.select_dtypes(exclude='object').columns\n",
    "cols_ordered_after_ordinal_encoding = categorical_columns.append(not_categorical_columns)"
   ]
  },
  {
   "cell_type": "code",
   "execution_count": 5,
   "id": "confidential-elimination",
   "metadata": {
    "ExecuteTime": {
     "end_time": "2021-03-12T06:38:27.143251Z",
     "start_time": "2021-03-12T06:38:27.140456Z"
    },
    "executionInfo": {
     "elapsed": 559,
     "status": "ok",
     "timestamp": 1615485559548,
     "user": {
      "displayName": "Adam Murphy",
      "photoUrl": "https://lh3.googleusercontent.com/a-/AOh14GhrEUWR1gM_kMZc1JaOXZTsyHAIY7wGzIWe3pircVE=s64",
      "userId": "08787610892899884155"
     },
     "user_tz": -120
    },
    "id": "confidential-elimination"
   },
   "outputs": [],
   "source": [
    "geo_cols = pd.Index(['geo_level_1_id', 'geo_level_2_id', 'geo_level_3_id'])\n",
    "cat_cols_plus_geo = categorical_columns.append(geo_cols)"
   ]
  },
  {
   "cell_type": "code",
   "execution_count": 6,
   "id": "adaptive-dietary",
   "metadata": {
    "ExecuteTime": {
     "end_time": "2021-03-12T06:38:28.123131Z",
     "start_time": "2021-03-12T06:38:28.120267Z"
    },
    "executionInfo": {
     "elapsed": 414,
     "status": "ok",
     "timestamp": 1615485559955,
     "user": {
      "displayName": "Adam Murphy",
      "photoUrl": "https://lh3.googleusercontent.com/a-/AOh14GhrEUWR1gM_kMZc1JaOXZTsyHAIY7wGzIWe3pircVE=s64",
      "userId": "08787610892899884155"
     },
     "user_tz": -120
    },
    "id": "adaptive-dietary"
   },
   "outputs": [],
   "source": [
    "train_data = lgb.Dataset(X_all_ints,\n",
    "                        label=y,\n",
    "                        feature_name=list(cols_ordered_after_ordinal_encoding),\n",
    "                        categorical_feature=list(cat_cols_plus_geo))"
   ]
  },
  {
   "cell_type": "code",
   "execution_count": 7,
   "id": "judicial-error",
   "metadata": {
    "ExecuteTime": {
     "end_time": "2021-03-12T06:38:29.064999Z",
     "start_time": "2021-03-12T06:38:29.059736Z"
    },
    "executionInfo": {
     "elapsed": 569,
     "status": "ok",
     "timestamp": 1615485562817,
     "user": {
      "displayName": "Adam Murphy",
      "photoUrl": "https://lh3.googleusercontent.com/a-/AOh14GhrEUWR1gM_kMZc1JaOXZTsyHAIY7wGzIWe3pircVE=s64",
      "userId": "08787610892899884155"
     },
     "user_tz": -120
    },
    "id": "judicial-error"
   },
   "outputs": [],
   "source": [
    "# Taken from the docs for lgb.train and lgb.cv\n",
    "# Helpful Stackoverflow answer: \n",
    "# https://stackoverflow.com/questions/50931168/f1-score-metric-in-lightgbm\n",
    "from sklearn.metrics import f1_score\n",
    "\n",
    "def get_ith_pred(preds, i, num_data, num_class):\n",
    "    \"\"\"\n",
    "    preds: 1D NumPY array\n",
    "        A 1D numpy array containing predicted probabilities. Has shape\n",
    "        (num_data * num_class,). So, For binary classification with \n",
    "        100 rows of data in your training set, preds is shape (200,), \n",
    "        i.e. (100 * 2,).\n",
    "    i: int\n",
    "        The row/sample in your training data you wish to calculate\n",
    "        the prediction for.\n",
    "    num_data: int\n",
    "        The number of rows/samples in your training data\n",
    "    num_class: int\n",
    "        The number of classes in your classification task.\n",
    "        Must be greater than 2.\n",
    "    \n",
    "    \n",
    "    LightGBM docs tell us that to get the probability of class 0 for \n",
    "    the 5th row of the dataset we do preds[0 * num_data + 5].\n",
    "    For class 1 prediction of 7th row, do preds[1 * num_data + 7].\n",
    "    \n",
    "    sklearn's f1_score(y_true, y_pred) expects y_pred to be of the form\n",
    "    [0, 1, 1, 1, 1, 0...] and not probabilities.\n",
    "    \n",
    "    This function translates preds into the form sklearn's f1_score \n",
    "    understands.\n",
    "    \"\"\"\n",
    "    # Does not work for binary classification, preds has a different form\n",
    "    # in that case\n",
    "    assert num_classs > 2\n",
    "    \n",
    "    preds_for_ith_row = [preds[class_label * num_data + i]\n",
    "                        for class_label in range(num_class)]\n",
    "    \n",
    "    # The element with the highest probability is predicted\n",
    "    return np.argmax(preds_for_ith_row)\n",
    "    \n",
    "def lgb_f1_micro(preds, train_data):\n",
    "    y_true = train_data.get_label()\n",
    "    \n",
    "    num_data = len(y_true)\n",
    "    num_class = 3\n",
    "    \n",
    "    y_pred = []\n",
    "    for i in range(num_data):\n",
    "        ith_pred = get_ith_pred(preds, i, num_data, num_class)\n",
    "        y_pred.append(ith_pred)\n",
    "    \n",
    "    return 'f1', f1_score(y_true, y_pred, average='micro'), True"
   ]
  },
  {
   "cell_type": "code",
   "execution_count": null,
   "id": "according-preference",
   "metadata": {
    "id": "according-preference"
   },
   "outputs": [],
   "source": []
  },
  {
   "cell_type": "code",
   "execution_count": null,
   "id": "choice-system",
   "metadata": {
    "ExecuteTime": {
     "end_time": "2021-03-09T11:59:23.309994Z",
     "start_time": "2021-03-09T11:58:18.560412Z"
    },
    "id": "choice-system",
    "outputId": "63918a36-8caf-4649-a80f-14848c3241a4"
   },
   "outputs": [
    {
     "name": "stdout",
     "output_type": "stream",
     "text": [
      "Bag: 0\n",
      "Bag: 1\n",
      "Bag: 2\n",
      "Bag: 3\n",
      "Bag: 4\n",
      "Bag: 5\n",
      "Bag: 6\n",
      "Bag: 7\n",
      "Bag: 8\n",
      "Bag: 9\n"
     ]
    }
   ],
   "source": [
    "param = {'num_leaves': 120,\n",
    "         'min_child_samples': 40,\n",
    "         'learning_rate': 0.2,\n",
    "         'boosting_type': 'goss',\n",
    "         'objective': 'multiclass',\n",
    "         'num_class': 3,\n",
    "         'verbosity': -1,\n",
    "         'num_threads': 8,\n",
    "         'seed': 1}\n",
    "\n",
    "bags = 50\n",
    "bagged_prediction = np.zeros(X_test.shape[0])\n",
    "\n",
    "for n in range(bags):\n",
    "    print(f'Bag: {n}')\n",
    "    param['seed'] += n\n",
    "    booster = lgb.train(param,\n",
    "                        train_data,\n",
    "                        30,\n",
    "                        categorical_feature=list(cat_cols_plus_geo),\n",
    "                        feval=lgb_f1_micro)\n",
    "    \n",
    "    prob_preds = booster.predict(ct.transform(X_test))\n",
    "    preds = [np.argmax(p) + 1 for p in prob_preds]\n",
    "    bagged_prediction += preds"
   ]
  },
  {
   "cell_type": "markdown",
   "id": "silent-induction",
   "metadata": {
    "id": "silent-induction"
   },
   "source": [
    "How am I supposed to know if this model is better without testing it beforehand? Let's just make a model and submit it and see what the score is first and then worry about more submissions after. If I have a range of submissions I want to try, I can just build them up and submit new ones each day. I can even create a list of those I want to submit"
   ]
  },
  {
   "cell_type": "code",
   "execution_count": null,
   "id": "going-findings",
   "metadata": {
    "ExecuteTime": {
     "end_time": "2021-03-09T11:59:26.957587Z",
     "start_time": "2021-03-09T11:59:26.947620Z"
    },
    "id": "going-findings",
    "outputId": "aa9e4420-1b8e-4dfa-a2dc-974107ca9e23"
   },
   "outputs": [
    {
     "data": {
      "text/plain": [
       "array([1. , 1.1, 1.2, 1.3, 1.4, 1.5, 1.6, 1.7, 1.8, 1.9, 2. , 2.1, 2.2,\n",
       "       2.3, 2.4, 2.5, 2.6, 2.7, 2.8, 2.9, 3. ])"
      ]
     },
     "execution_count": 33,
     "metadata": {
      "tags": []
     },
     "output_type": "execute_result"
    }
   ],
   "source": [
    "np.unique(bagged_prediction / 10)"
   ]
  },
  {
   "cell_type": "code",
   "execution_count": null,
   "id": "sound-ecuador",
   "metadata": {
    "ExecuteTime": {
     "end_time": "2021-03-09T11:59:29.955054Z",
     "start_time": "2021-03-09T11:59:29.950773Z"
    },
    "id": "sound-ecuador"
   },
   "outputs": [],
   "source": [
    "bagged_prediction /= 10"
   ]
  },
  {
   "cell_type": "code",
   "execution_count": null,
   "id": "arabic-characterization",
   "metadata": {
    "ExecuteTime": {
     "end_time": "2021-03-09T11:59:32.219488Z",
     "start_time": "2021-03-09T11:59:32.106157Z"
    },
    "id": "arabic-characterization"
   },
   "outputs": [],
   "source": [
    "rounded_preds = [int(round(pred)) for pred in bagged_prediction]"
   ]
  },
  {
   "cell_type": "code",
   "execution_count": null,
   "id": "seeing-omega",
   "metadata": {
    "ExecuteTime": {
     "end_time": "2021-03-09T12:00:24.731322Z",
     "start_time": "2021-03-09T12:00:24.554073Z"
    },
    "id": "seeing-omega"
   },
   "outputs": [],
   "source": [
    "sub_format = pd.read_csv(DOWNLOAD_DIR / 'submission_format.csv',\n",
    "                         index_col='building_id')\n",
    "\n",
    "my_sub = pd.DataFrame(data=rounded_preds,\n",
    "                      columns=sub_format.columns,\n",
    "                      index=sub_format.index)\n",
    "\n",
    "title = '03-09 - LGBM API - lgbm_02_02 hyperparams - 10 bags, 30 rounds'\n",
    "\n",
    "my_sub.to_csv(SUBMISSIONS_DIR / f'{title}.csv')"
   ]
  },
  {
   "cell_type": "markdown",
   "id": "phantom-isaac",
   "metadata": {
    "id": "phantom-isaac"
   },
   "source": [
    "Woo jumped to 0.7469 \n",
    "From 228 to 167"
   ]
  },
  {
   "cell_type": "code",
   "execution_count": null,
   "id": "bulgarian-essence",
   "metadata": {
    "ExecuteTime": {
     "end_time": "2021-03-09T12:12:21.027988Z",
     "start_time": "2021-03-09T12:12:21.010157Z"
    },
    "id": "bulgarian-essence"
   },
   "outputs": [],
   "source": [
    "def build_and_submit_bagged_lgbm(num_bags, title):\n",
    "    param = {'num_leaves': 120,\n",
    "         'min_child_samples': 40,\n",
    "         'learning_rate': 0.2,\n",
    "         'boosting_type': 'goss',\n",
    "         'objective': 'multiclass',\n",
    "         'num_class': 3,\n",
    "         'verbosity': -1,\n",
    "         'num_threads': 8,\n",
    "         'seed': 1}\n",
    "\n",
    "    bagged_prediction = np.zeros(X_test.shape[0])\n",
    "\n",
    "    for n in range(num_bags):\n",
    "        print(f'Bag: {n}')\n",
    "        param['seed'] += n\n",
    "        booster = lgb.train(param,\n",
    "                            train_data,\n",
    "                            30,\n",
    "                            categorical_feature=list(cat_cols_plus_geo),\n",
    "                            feval=lgb_f1_micro)\n",
    "\n",
    "        prob_preds = booster.predict(ct.transform(X_test))\n",
    "        preds = [np.argmax(p) + 1 for p in prob_preds]\n",
    "        bagged_prediction += preds\n",
    "        \n",
    "    bagged_prediction /= num_bags\n",
    "    rounded_preds = [int(round(pred)) for pred in bagged_prediction]\n",
    "    \n",
    "    sub_format = pd.read_csv(DOWNLOAD_DIR / 'submission_format.csv',\n",
    "                         index_col='building_id')\n",
    "\n",
    "    my_sub = pd.DataFrame(data=rounded_preds,\n",
    "                          columns=sub_format.columns,\n",
    "                          index=sub_format.index)\n",
    "\n",
    "    my_sub.to_csv(SUBMISSIONS_DIR / f'{title}.csv')\n",
    "    print('Submission created successfully!')"
   ]
  },
  {
   "cell_type": "code",
   "execution_count": null,
   "id": "first-trainer",
   "metadata": {
    "ExecuteTime": {
     "end_time": "2021-03-09T12:17:18.873451Z",
     "start_time": "2021-03-09T12:12:56.882091Z"
    },
    "id": "first-trainer",
    "outputId": "2988f7e9-19ff-4e64-d0a2-c9827b0a67e5"
   },
   "outputs": [
    {
     "name": "stdout",
     "output_type": "stream",
     "text": [
      "Bag: 0\n",
      "Bag: 1\n",
      "Bag: 2\n",
      "Bag: 3\n",
      "Bag: 4\n",
      "Bag: 5\n",
      "Bag: 6\n",
      "Bag: 7\n",
      "Bag: 8\n",
      "Bag: 9\n",
      "Bag: 10\n",
      "Bag: 11\n",
      "Bag: 12\n",
      "Bag: 13\n",
      "Bag: 14\n",
      "Bag: 15\n",
      "Bag: 16\n",
      "Bag: 17\n",
      "Bag: 18\n",
      "Bag: 19\n",
      "Bag: 20\n",
      "Bag: 21\n",
      "Bag: 22\n",
      "Bag: 23\n",
      "Bag: 24\n",
      "Bag: 25\n",
      "Bag: 26\n",
      "Bag: 27\n",
      "Bag: 28\n",
      "Bag: 29\n",
      "Bag: 30\n",
      "Bag: 31\n",
      "Bag: 32\n",
      "Bag: 33\n",
      "Bag: 34\n",
      "Bag: 35\n",
      "Bag: 36\n",
      "Bag: 37\n",
      "Bag: 38\n",
      "Bag: 39\n",
      "Bag: 40\n",
      "Bag: 41\n",
      "Bag: 42\n",
      "Bag: 43\n",
      "Bag: 44\n",
      "Bag: 45\n",
      "Bag: 46\n",
      "Bag: 47\n",
      "Bag: 48\n",
      "Bag: 49\n",
      "Submission created successfully!\n"
     ]
    }
   ],
   "source": [
    "title = '03-09 - LGBM API - lgbm_02_02 hyperparams - 50 bags, 30 rounds'\n",
    "build_and_submit_bagged_lgbm(50, title)"
   ]
  },
  {
   "cell_type": "markdown",
   "id": "available-intermediate",
   "metadata": {
    "id": "available-intermediate"
   },
   "source": [
    "This got 0.7478!! From 168 to 132 (36 place jumps)"
   ]
  },
  {
   "cell_type": "code",
   "execution_count": null,
   "id": "metric-recommendation",
   "metadata": {
    "ExecuteTime": {
     "end_time": "2021-03-09T12:44:54.512907Z",
     "start_time": "2021-03-09T12:23:22.122467Z"
    },
    "id": "metric-recommendation",
    "outputId": "819f6811-599f-403a-e929-ca4815a52f87"
   },
   "outputs": [
    {
     "name": "stdout",
     "output_type": "stream",
     "text": [
      "Bag: 0\n",
      "Bag: 1\n",
      "Bag: 2\n",
      "Bag: 3\n",
      "Bag: 4\n",
      "Bag: 5\n",
      "Bag: 6\n",
      "Bag: 7\n",
      "Bag: 8\n",
      "Bag: 9\n",
      "Bag: 10\n",
      "Bag: 11\n",
      "Bag: 12\n",
      "Bag: 13\n",
      "Bag: 14\n",
      "Bag: 15\n",
      "Bag: 16\n",
      "Bag: 17\n",
      "Bag: 18\n",
      "Bag: 19\n",
      "Bag: 20\n",
      "Bag: 21\n",
      "Bag: 22\n",
      "Bag: 23\n",
      "Bag: 24\n",
      "Bag: 25\n",
      "Bag: 26\n",
      "Bag: 27\n",
      "Bag: 28\n",
      "Bag: 29\n",
      "Bag: 30\n",
      "Bag: 31\n",
      "Bag: 32\n",
      "Bag: 33\n",
      "Bag: 34\n",
      "Bag: 35\n",
      "Bag: 36\n",
      "Bag: 37\n",
      "Bag: 38\n",
      "Bag: 39\n",
      "Bag: 40\n",
      "Bag: 41\n",
      "Bag: 42\n",
      "Bag: 43\n",
      "Bag: 44\n",
      "Bag: 45\n",
      "Bag: 46\n",
      "Bag: 47\n",
      "Bag: 48\n",
      "Bag: 49\n",
      "Bag: 50\n",
      "Bag: 51\n",
      "Bag: 52\n",
      "Bag: 53\n",
      "Bag: 54\n",
      "Bag: 55\n",
      "Bag: 56\n",
      "Bag: 57\n",
      "Bag: 58\n",
      "Bag: 59\n",
      "Bag: 60\n",
      "Bag: 61\n",
      "Bag: 62\n",
      "Bag: 63\n",
      "Bag: 64\n",
      "Bag: 65\n",
      "Bag: 66\n",
      "Bag: 67\n",
      "Bag: 68\n",
      "Bag: 69\n",
      "Bag: 70\n",
      "Bag: 71\n",
      "Bag: 72\n",
      "Bag: 73\n",
      "Bag: 74\n",
      "Bag: 75\n",
      "Bag: 76\n",
      "Bag: 77\n",
      "Bag: 78\n",
      "Bag: 79\n",
      "Bag: 80\n",
      "Bag: 81\n",
      "Bag: 82\n",
      "Bag: 83\n",
      "Bag: 84\n",
      "Bag: 85\n",
      "Bag: 86\n",
      "Bag: 87\n",
      "Bag: 88\n",
      "Bag: 89\n",
      "Bag: 90\n",
      "Bag: 91\n",
      "Bag: 92\n",
      "Bag: 93\n",
      "Bag: 94\n",
      "Bag: 95\n",
      "Bag: 96\n",
      "Bag: 97\n",
      "Bag: 98\n",
      "Bag: 99\n",
      "Bag: 100\n",
      "Bag: 101\n",
      "Bag: 102\n",
      "Bag: 103\n",
      "Bag: 104\n",
      "Bag: 105\n",
      "Bag: 106\n",
      "Bag: 107\n",
      "Bag: 108\n",
      "Bag: 109\n",
      "Bag: 110\n",
      "Bag: 111\n",
      "Bag: 112\n",
      "Bag: 113\n",
      "Bag: 114\n",
      "Bag: 115\n",
      "Bag: 116\n",
      "Bag: 117\n",
      "Bag: 118\n",
      "Bag: 119\n",
      "Bag: 120\n",
      "Bag: 121\n",
      "Bag: 122\n",
      "Bag: 123\n",
      "Bag: 124\n",
      "Bag: 125\n",
      "Bag: 126\n",
      "Bag: 127\n",
      "Bag: 128\n",
      "Bag: 129\n",
      "Bag: 130\n",
      "Bag: 131\n",
      "Bag: 132\n",
      "Bag: 133\n",
      "Bag: 134\n",
      "Bag: 135\n",
      "Bag: 136\n",
      "Bag: 137\n",
      "Bag: 138\n",
      "Bag: 139\n",
      "Bag: 140\n",
      "Bag: 141\n",
      "Bag: 142\n",
      "Bag: 143\n",
      "Bag: 144\n",
      "Bag: 145\n",
      "Bag: 146\n",
      "Bag: 147\n",
      "Bag: 148\n",
      "Bag: 149\n",
      "Bag: 150\n",
      "Bag: 151\n",
      "Bag: 152\n",
      "Bag: 153\n",
      "Bag: 154\n",
      "Bag: 155\n",
      "Bag: 156\n",
      "Bag: 157\n",
      "Bag: 158\n",
      "Bag: 159\n",
      "Bag: 160\n",
      "Bag: 161\n",
      "Bag: 162\n",
      "Bag: 163\n",
      "Bag: 164\n",
      "Bag: 165\n",
      "Bag: 166\n",
      "Bag: 167\n",
      "Bag: 168\n",
      "Bag: 169\n",
      "Bag: 170\n",
      "Bag: 171\n",
      "Bag: 172\n",
      "Bag: 173\n",
      "Bag: 174\n",
      "Bag: 175\n",
      "Bag: 176\n",
      "Bag: 177\n",
      "Bag: 178\n",
      "Bag: 179\n",
      "Bag: 180\n",
      "Bag: 181\n",
      "Bag: 182\n",
      "Bag: 183\n",
      "Bag: 184\n",
      "Bag: 185\n",
      "Bag: 186\n",
      "Bag: 187\n",
      "Bag: 188\n",
      "Bag: 189\n",
      "Bag: 190\n",
      "Bag: 191\n",
      "Bag: 192\n",
      "Bag: 193\n",
      "Bag: 194\n",
      "Bag: 195\n",
      "Bag: 196\n",
      "Bag: 197\n",
      "Bag: 198\n",
      "Bag: 199\n",
      "Bag: 200\n",
      "Bag: 201\n",
      "Bag: 202\n",
      "Bag: 203\n",
      "Bag: 204\n",
      "Bag: 205\n",
      "Bag: 206\n",
      "Bag: 207\n",
      "Bag: 208\n",
      "Bag: 209\n",
      "Bag: 210\n",
      "Bag: 211\n",
      "Bag: 212\n",
      "Bag: 213\n",
      "Bag: 214\n",
      "Bag: 215\n",
      "Bag: 216\n",
      "Bag: 217\n",
      "Bag: 218\n",
      "Bag: 219\n",
      "Bag: 220\n",
      "Bag: 221\n",
      "Bag: 222\n",
      "Bag: 223\n",
      "Bag: 224\n",
      "Bag: 225\n",
      "Bag: 226\n",
      "Bag: 227\n",
      "Bag: 228\n",
      "Bag: 229\n",
      "Bag: 230\n",
      "Bag: 231\n",
      "Bag: 232\n",
      "Bag: 233\n",
      "Bag: 234\n",
      "Bag: 235\n",
      "Bag: 236\n",
      "Bag: 237\n",
      "Bag: 238\n",
      "Bag: 239\n",
      "Bag: 240\n",
      "Bag: 241\n",
      "Bag: 242\n",
      "Bag: 243\n",
      "Bag: 244\n",
      "Bag: 245\n",
      "Bag: 246\n",
      "Bag: 247\n",
      "Bag: 248\n",
      "Bag: 249\n",
      "Submission created successfully!\n"
     ]
    }
   ],
   "source": [
    "title = '03-09 - LGBM API - lgbm_02_02 hyperparams - 250 bags, 30 rounds'\n",
    "build_and_submit_bagged_lgbm(250, title)"
   ]
  },
  {
   "cell_type": "markdown",
   "id": "informal-england",
   "metadata": {
    "id": "informal-england"
   },
   "source": [
    "This got 0.7482\n",
    "Climbed from 132 --> 115 (17 place jump)"
   ]
  },
  {
   "cell_type": "markdown",
   "id": "perceived-period",
   "metadata": {
    "id": "perceived-period"
   },
   "source": [
    "# Bagging Multiple Models\n",
    "\n",
    "Since these were so good, let's make loads of different good models and bag them together"
   ]
  },
  {
   "cell_type": "code",
   "execution_count": 12,
   "id": "cellular-bulgarian",
   "metadata": {
    "ExecuteTime": {
     "end_time": "2021-03-12T06:40:38.303739Z",
     "start_time": "2021-03-12T06:40:38.296509Z"
    },
    "executionInfo": {
     "elapsed": 764,
     "status": "ok",
     "timestamp": 1615485574155,
     "user": {
      "displayName": "Adam Murphy",
      "photoUrl": "https://lh3.googleusercontent.com/a-/AOh14GhrEUWR1gM_kMZc1JaOXZTsyHAIY7wGzIWe3pircVE=s64",
      "userId": "08787610892899884155"
     },
     "user_tz": -120
    },
    "id": "cellular-bulgarian"
   },
   "outputs": [],
   "source": [
    "def calc_bagged_preds(param, num_bags):\n",
    "    bagged_prediction = np.zeros(X_test.shape[0])\n",
    "\n",
    "    for n in trange(num_bags):\n",
    "#         if n % 25 == 0:\n",
    "#             print(f'    Bag {n} complete')\n",
    "        param['seed'] += n\n",
    "        booster = lgb.train(param,\n",
    "                            train_data,\n",
    "                            30, # should tune this as well but need valid data \n",
    "                            categorical_feature=list(cat_cols_plus_geo),\n",
    "                            feval=lgb_f1_micro)\n",
    "\n",
    "        prob_preds = booster.predict(ct.transform(X_test))\n",
    "        preds = [np.argmax(p) + 1 for p in prob_preds]\n",
    "        bagged_prediction += preds\n",
    "\n",
    "    bagged_prediction /= num_bags\n",
    "    rounded_preds = [int(round(pred)) for pred in bagged_prediction]\n",
    "    return rounded_preds\n",
    "\n",
    "\n",
    "def submit_preds(preds, title):\n",
    "    sub_format = pd.read_csv(DOWNLOAD_DIR / 'submission_format.csv',\n",
    "                             index_col='building_id')\n",
    "\n",
    "    my_sub = pd.DataFrame(data=preds,\n",
    "                          columns=sub_format.columns,\n",
    "                          index=sub_format.index)\n",
    "\n",
    "    my_sub.to_csv(SUBMISSIONS_DIR / f'{title}.csv')"
   ]
  },
  {
   "cell_type": "code",
   "execution_count": 13,
   "id": "complimentary-doctrine",
   "metadata": {
    "ExecuteTime": {
     "end_time": "2021-03-12T06:40:38.749525Z",
     "start_time": "2021-03-12T06:40:38.744306Z"
    },
    "executionInfo": {
     "elapsed": 405,
     "status": "ok",
     "timestamp": 1615485574483,
     "user": {
      "displayName": "Adam Murphy",
      "photoUrl": "https://lh3.googleusercontent.com/a-/AOh14GhrEUWR1gM_kMZc1JaOXZTsyHAIY7wGzIWe3pircVE=s64",
      "userId": "08787610892899884155"
     },
     "user_tz": -120
    },
    "id": "complimentary-doctrine"
   },
   "outputs": [],
   "source": [
    "def build_and_submit_bagged_ensemble_lgbm(n_models, n_bags, title):\n",
    "    \"\"\"\n",
    "    We will now not just bag one model but bag multiple models, so 50 different\n",
    "    esimators all grouped together. Clever.\n",
    "    \"\"\"\n",
    "    # The major hyperparams we will tune\n",
    "    num_leaves = np.arange(100, 230, 10)\n",
    "    num_iterations = np.arange(100, 400, 10)\n",
    "    min_child_samples = np.arange(30, 80, 5)\n",
    "    lr = np.array([0.1, 0.15, 0.2])\n",
    "    boosting_type = ['goss', 'dart']\n",
    "    \n",
    "    ensemble_predictions = np.zeros(X_test.shape[0])\n",
    "    \n",
    "    for i in range(n_models):\n",
    "        print(f'Making preds for estimator #{i}')\n",
    "        # Create new estimator\n",
    "        param = {'num_leaves': np.random.choice(num_leaves),\n",
    "#                  'num_iterations': np.random.choice(num_iterations),\n",
    "#                  'min_child_samples': np.random.choice(min_child_samples),\n",
    "                 'learning_rate': np.random.choice(lr),\n",
    "                 'boosting_type': np.random.choice(boosting_type),\n",
    "                 'objective': 'multiclass',\n",
    "                 'num_class': 3,\n",
    "                 'verbosity': -1,\n",
    "                 'num_threads': 8,\n",
    "                 'seed': 1}\n",
    "#                  'device': 'gpu'}\n",
    "        \n",
    "        bagged_preds = calc_bagged_preds(param, n_bags)\n",
    "        ensemble_predictions += bagged_preds\n",
    "    \n",
    "    ensemble_predictions /= n_models\n",
    "    rounded_preds = [int(round(pred)) for pred in ensemble_predictions]\n",
    "\n",
    "    submit_preds(rounded_preds, title)\n",
    "    print('Submission created successfully!')"
   ]
  },
  {
   "cell_type": "code",
   "execution_count": 14,
   "id": "entertaining-mathematics",
   "metadata": {
    "ExecuteTime": {
     "end_time": "2021-03-12T10:02:49.471687Z",
     "start_time": "2021-03-12T06:40:39.571324Z"
    },
    "colab": {
     "base_uri": "https://localhost:8080/",
     "height": 307
    },
    "executionInfo": {
     "elapsed": 1302,
     "status": "error",
     "timestamp": 1615485576133,
     "user": {
      "displayName": "Adam Murphy",
      "photoUrl": "https://lh3.googleusercontent.com/a-/AOh14GhrEUWR1gM_kMZc1JaOXZTsyHAIY7wGzIWe3pircVE=s64",
      "userId": "08787610892899884155"
     },
     "user_tz": -120
    },
    "id": "entertaining-mathematics",
    "outputId": "5fc9f5a6-2a7e-47a7-eacc-3e13f4277639"
   },
   "outputs": [
    {
     "name": "stdout",
     "output_type": "stream",
     "text": [
      "Making preds for estimator #0\n"
     ]
    },
    {
     "data": {
      "application/vnd.jupyter.widget-view+json": {
       "model_id": "2e9001993f89488ebe46e5dd7e9754f5",
       "version_major": 2,
       "version_minor": 0
      },
      "text/plain": [
       "  0%|          | 0/100 [00:00<?, ?it/s]"
      ]
     },
     "metadata": {},
     "output_type": "display_data"
    },
    {
     "name": "stdout",
     "output_type": "stream",
     "text": [
      "Making preds for estimator #1\n"
     ]
    },
    {
     "data": {
      "application/vnd.jupyter.widget-view+json": {
       "model_id": "36a620d6658e4ca5a6b6e953e31c10d2",
       "version_major": 2,
       "version_minor": 0
      },
      "text/plain": [
       "  0%|          | 0/100 [00:00<?, ?it/s]"
      ]
     },
     "metadata": {},
     "output_type": "display_data"
    },
    {
     "name": "stdout",
     "output_type": "stream",
     "text": [
      "Making preds for estimator #2\n"
     ]
    },
    {
     "data": {
      "application/vnd.jupyter.widget-view+json": {
       "model_id": "d159d7c28bee44f18a4c82bc7fb92483",
       "version_major": 2,
       "version_minor": 0
      },
      "text/plain": [
       "  0%|          | 0/100 [00:00<?, ?it/s]"
      ]
     },
     "metadata": {},
     "output_type": "display_data"
    },
    {
     "name": "stdout",
     "output_type": "stream",
     "text": [
      "Making preds for estimator #3\n"
     ]
    },
    {
     "data": {
      "application/vnd.jupyter.widget-view+json": {
       "model_id": "74aefcc4c9364f2a8b1089b80af917e5",
       "version_major": 2,
       "version_minor": 0
      },
      "text/plain": [
       "  0%|          | 0/100 [00:00<?, ?it/s]"
      ]
     },
     "metadata": {},
     "output_type": "display_data"
    },
    {
     "name": "stdout",
     "output_type": "stream",
     "text": [
      "Making preds for estimator #4\n"
     ]
    },
    {
     "data": {
      "application/vnd.jupyter.widget-view+json": {
       "model_id": "71da04926e0d4207b6ddfad858e877b4",
       "version_major": 2,
       "version_minor": 0
      },
      "text/plain": [
       "  0%|          | 0/100 [00:00<?, ?it/s]"
      ]
     },
     "metadata": {},
     "output_type": "display_data"
    },
    {
     "name": "stdout",
     "output_type": "stream",
     "text": [
      "Making preds for estimator #5\n"
     ]
    },
    {
     "data": {
      "application/vnd.jupyter.widget-view+json": {
       "model_id": "c94e6798aa624c308ec5e81a0c894b01",
       "version_major": 2,
       "version_minor": 0
      },
      "text/plain": [
       "  0%|          | 0/100 [00:00<?, ?it/s]"
      ]
     },
     "metadata": {},
     "output_type": "display_data"
    },
    {
     "name": "stdout",
     "output_type": "stream",
     "text": [
      "Making preds for estimator #6\n"
     ]
    },
    {
     "data": {
      "application/vnd.jupyter.widget-view+json": {
       "model_id": "34e07b0f8b044517bbaad88ae973e690",
       "version_major": 2,
       "version_minor": 0
      },
      "text/plain": [
       "  0%|          | 0/100 [00:00<?, ?it/s]"
      ]
     },
     "metadata": {},
     "output_type": "display_data"
    },
    {
     "name": "stdout",
     "output_type": "stream",
     "text": [
      "Making preds for estimator #7\n"
     ]
    },
    {
     "data": {
      "application/vnd.jupyter.widget-view+json": {
       "model_id": "836e49ddcd86408ca0aac1379e844ca1",
       "version_major": 2,
       "version_minor": 0
      },
      "text/plain": [
       "  0%|          | 0/100 [00:00<?, ?it/s]"
      ]
     },
     "metadata": {},
     "output_type": "display_data"
    },
    {
     "name": "stdout",
     "output_type": "stream",
     "text": [
      "Making preds for estimator #8\n"
     ]
    },
    {
     "data": {
      "application/vnd.jupyter.widget-view+json": {
       "model_id": "1e6856c8210c4563a8b5d298a2427703",
       "version_major": 2,
       "version_minor": 0
      },
      "text/plain": [
       "  0%|          | 0/100 [00:00<?, ?it/s]"
      ]
     },
     "metadata": {},
     "output_type": "display_data"
    },
    {
     "name": "stdout",
     "output_type": "stream",
     "text": [
      "Making preds for estimator #9\n"
     ]
    },
    {
     "data": {
      "application/vnd.jupyter.widget-view+json": {
       "model_id": "3e8cb94003d44d0282a3aa244eb39c9c",
       "version_major": 2,
       "version_minor": 0
      },
      "text/plain": [
       "  0%|          | 0/100 [00:00<?, ?it/s]"
      ]
     },
     "metadata": {},
     "output_type": "display_data"
    },
    {
     "name": "stdout",
     "output_type": "stream",
     "text": [
      "Making preds for estimator #10\n"
     ]
    },
    {
     "data": {
      "application/vnd.jupyter.widget-view+json": {
       "model_id": "2c7df0d3b7e34f1faa25200a9222db0d",
       "version_major": 2,
       "version_minor": 0
      },
      "text/plain": [
       "  0%|          | 0/100 [00:00<?, ?it/s]"
      ]
     },
     "metadata": {},
     "output_type": "display_data"
    },
    {
     "name": "stdout",
     "output_type": "stream",
     "text": [
      "Making preds for estimator #11\n"
     ]
    },
    {
     "data": {
      "application/vnd.jupyter.widget-view+json": {
       "model_id": "b36587c098a4450e8a001441ca3cb9f5",
       "version_major": 2,
       "version_minor": 0
      },
      "text/plain": [
       "  0%|          | 0/100 [00:00<?, ?it/s]"
      ]
     },
     "metadata": {},
     "output_type": "display_data"
    },
    {
     "name": "stdout",
     "output_type": "stream",
     "text": [
      "Making preds for estimator #12\n"
     ]
    },
    {
     "data": {
      "application/vnd.jupyter.widget-view+json": {
       "model_id": "6dcdd26a5f2542eaa2444c5cade629bd",
       "version_major": 2,
       "version_minor": 0
      },
      "text/plain": [
       "  0%|          | 0/100 [00:00<?, ?it/s]"
      ]
     },
     "metadata": {},
     "output_type": "display_data"
    },
    {
     "name": "stdout",
     "output_type": "stream",
     "text": [
      "Making preds for estimator #13\n"
     ]
    },
    {
     "data": {
      "application/vnd.jupyter.widget-view+json": {
       "model_id": "97b6b4130c07464ebe20294605e9a99c",
       "version_major": 2,
       "version_minor": 0
      },
      "text/plain": [
       "  0%|          | 0/100 [00:00<?, ?it/s]"
      ]
     },
     "metadata": {},
     "output_type": "display_data"
    },
    {
     "name": "stdout",
     "output_type": "stream",
     "text": [
      "Making preds for estimator #14\n"
     ]
    },
    {
     "data": {
      "application/vnd.jupyter.widget-view+json": {
       "model_id": "c1a692f14be948deb7e564e1de9d6cb1",
       "version_major": 2,
       "version_minor": 0
      },
      "text/plain": [
       "  0%|          | 0/100 [00:00<?, ?it/s]"
      ]
     },
     "metadata": {},
     "output_type": "display_data"
    },
    {
     "name": "stdout",
     "output_type": "stream",
     "text": [
      "Making preds for estimator #15\n"
     ]
    },
    {
     "data": {
      "application/vnd.jupyter.widget-view+json": {
       "model_id": "d502181c14894557b9ef210b8ad394f0",
       "version_major": 2,
       "version_minor": 0
      },
      "text/plain": [
       "  0%|          | 0/100 [00:00<?, ?it/s]"
      ]
     },
     "metadata": {},
     "output_type": "display_data"
    },
    {
     "name": "stdout",
     "output_type": "stream",
     "text": [
      "Making preds for estimator #16\n"
     ]
    },
    {
     "data": {
      "application/vnd.jupyter.widget-view+json": {
       "model_id": "b93b8db8d26e4499883559f0036c34b0",
       "version_major": 2,
       "version_minor": 0
      },
      "text/plain": [
       "  0%|          | 0/100 [00:00<?, ?it/s]"
      ]
     },
     "metadata": {},
     "output_type": "display_data"
    },
    {
     "name": "stdout",
     "output_type": "stream",
     "text": [
      "Making preds for estimator #17\n"
     ]
    },
    {
     "data": {
      "application/vnd.jupyter.widget-view+json": {
       "model_id": "0747489af918428eb21cbe27cd9ca75a",
       "version_major": 2,
       "version_minor": 0
      },
      "text/plain": [
       "  0%|          | 0/100 [00:00<?, ?it/s]"
      ]
     },
     "metadata": {},
     "output_type": "display_data"
    },
    {
     "name": "stdout",
     "output_type": "stream",
     "text": [
      "Making preds for estimator #18\n"
     ]
    },
    {
     "data": {
      "application/vnd.jupyter.widget-view+json": {
       "model_id": "f818a3b10906457f84017ef999810531",
       "version_major": 2,
       "version_minor": 0
      },
      "text/plain": [
       "  0%|          | 0/100 [00:00<?, ?it/s]"
      ]
     },
     "metadata": {},
     "output_type": "display_data"
    },
    {
     "name": "stdout",
     "output_type": "stream",
     "text": [
      "Making preds for estimator #19\n"
     ]
    },
    {
     "data": {
      "application/vnd.jupyter.widget-view+json": {
       "model_id": "fbc04d28346640a69d83d6d5123bc89f",
       "version_major": 2,
       "version_minor": 0
      },
      "text/plain": [
       "  0%|          | 0/100 [00:00<?, ?it/s]"
      ]
     },
     "metadata": {},
     "output_type": "display_data"
    },
    {
     "name": "stdout",
     "output_type": "stream",
     "text": [
      "Submission created successfully!\n"
     ]
    }
   ],
   "source": [
    "n_models = 20\n",
    "n_bags = 100\n",
    "title = f'03-12 LGBM API ensemble - {n_models} models - {n_bags} bags - 30 num_boost_round'\n",
    "build_and_submit_bagged_ensemble_lgbm(n_models, n_bags, title)"
   ]
  },
  {
   "cell_type": "code",
   "execution_count": null,
   "id": "addressed-discovery",
   "metadata": {
    "id": "addressed-discovery"
   },
   "outputs": [],
   "source": []
  },
  {
   "cell_type": "code",
   "execution_count": null,
   "id": "graduate-workstation",
   "metadata": {
    "id": "graduate-workstation"
   },
   "outputs": [],
   "source": []
  },
  {
   "cell_type": "code",
   "execution_count": null,
   "id": "eastern-communication",
   "metadata": {
    "id": "eastern-communication"
   },
   "outputs": [],
   "source": []
  },
  {
   "cell_type": "code",
   "execution_count": null,
   "id": "agricultural-longer",
   "metadata": {
    "id": "agricultural-longer"
   },
   "outputs": [],
   "source": []
  },
  {
   "cell_type": "code",
   "execution_count": null,
   "id": "strong-connecticut",
   "metadata": {
    "id": "strong-connecticut"
   },
   "outputs": [],
   "source": []
  },
  {
   "cell_type": "code",
   "execution_count": null,
   "id": "terminal-dragon",
   "metadata": {
    "id": "terminal-dragon"
   },
   "outputs": [],
   "source": []
  },
  {
   "cell_type": "code",
   "execution_count": null,
   "id": "interracial-carnival",
   "metadata": {
    "id": "interracial-carnival"
   },
   "outputs": [],
   "source": []
  },
  {
   "cell_type": "code",
   "execution_count": null,
   "id": "passive-reminder",
   "metadata": {
    "id": "passive-reminder"
   },
   "outputs": [],
   "source": []
  }
 ],
 "metadata": {
  "accelerator": "GPU",
  "colab": {
   "collapsed_sections": [],
   "name": "bagging.ipynb",
   "provenance": [],
   "toc_visible": true
  },
  "kernelspec": {
   "display_name": "Python 3",
   "language": "python",
   "name": "python3"
  },
  "language_info": {
   "codemirror_mode": {
    "name": "ipython",
    "version": 3
   },
   "file_extension": ".py",
   "mimetype": "text/x-python",
   "name": "python",
   "nbconvert_exporter": "python",
   "pygments_lexer": "ipython3",
   "version": "3.7.9"
  },
  "toc": {
   "base_numbering": 1,
   "nav_menu": {},
   "number_sections": true,
   "sideBar": true,
   "skip_h1_title": false,
   "title_cell": "Table of Contents",
   "title_sidebar": "Contents",
   "toc_cell": false,
   "toc_position": {},
   "toc_section_display": true,
   "toc_window_display": false
  },
  "varInspector": {
   "cols": {
    "lenName": 16,
    "lenType": 16,
    "lenVar": 40
   },
   "kernels_config": {
    "python": {
     "delete_cmd_postfix": "",
     "delete_cmd_prefix": "del ",
     "library": "var_list.py",
     "varRefreshCmd": "print(var_dic_list())"
    },
    "r": {
     "delete_cmd_postfix": ") ",
     "delete_cmd_prefix": "rm(",
     "library": "var_list.r",
     "varRefreshCmd": "cat(var_dic_list()) "
    }
   },
   "types_to_exclude": [
    "module",
    "function",
    "builtin_function_or_method",
    "instance",
    "_Feature"
   ],
   "window_display": false
  }
 },
 "nbformat": 4,
 "nbformat_minor": 5
}
